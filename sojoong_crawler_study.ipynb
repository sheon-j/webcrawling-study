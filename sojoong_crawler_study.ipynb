{
  "cells": [
    {
      "cell_type": "markdown",
      "metadata": {
        "id": "view-in-github",
        "colab_type": "text"
      },
      "source": [
        "<a href=\"https://colab.research.google.com/github/sheon-j/webcrawling-study/blob/main/sojoong_crawler_study.ipynb\" target=\"_parent\"><img src=\"https://colab.research.google.com/assets/colab-badge.svg\" alt=\"Open In Colab\"/></a>"
      ]
    },
    {
      "cell_type": "code",
      "source": [
        "# !pip install selenium==3.14.0"
      ],
      "metadata": {
        "id": "YqfX1PNAaOdF"
      },
      "execution_count": null,
      "outputs": []
    },
    {
      "cell_type": "code",
      "source": [
        "# import requests\n",
        "# import re\n",
        "# from bs4 import BeautifulSoup\n",
        "# import selenium\n",
        "# # pip install selenium==3.14.0\n",
        "# from selenium import webdriver\n",
        "# from selenium.webdriver import ActionChains\n",
        "# from selenium.webdriver.support.wait import WebDriverWait\n",
        "# from selenium.webdriver.support import expected_conditions as EC\n",
        "# from selenium.webdriver.support.ui import Select\n",
        "# from selenium.webdriver.common.by import By\n",
        "# from selenium.webdriver.common.keys import Keys\n",
        "# import time\n",
        "\n",
        "# ## selenium 사용\n",
        "# options = webdriver.ChromeOptions()\n",
        "# # 창이 뜨지 않게 설정\n",
        "# # options.add_argument('headless')\n",
        "# options.headless = False\n",
        "# # 창 크기 조절 설정\n",
        "# options.add_argument('window-size=1920x1080')\n",
        "# # 그래픽 카드 기능 제거\n",
        "# options.add_argument(\"disable-gpu\")\n",
        "# # F11 전체 화면 설정\n",
        "# # options.add_argument('--start-fullscreen')\n",
        "# # user-agent 값 입력\n",
        "# options.add_argument(\"user-agent=Mozilla/5.0 (Windows NT 10.0; Win64; x64) AppleWebKit/537.36 (KHTML, like Gecko) Chrome/84.0.4147.89 Safari/537.36\")\n",
        "# # 해당 국가 언어값 입력\n",
        "# options.add_argument(\"lang=ko_KR\")\n",
        "\n",
        "# # directory = r'C:\\Users\\<username>\\Desktop\\Python\\CrawlingTest'\n",
        "\n",
        "# # options.add_experimental_option(\"prefs\", {\n",
        "# #   \"download.default_directory\": directory,\n",
        "# #   \"download.prompt_for_download\": False,\n",
        "# #   \"download.directory_upgrade\": True,\n",
        "# #   \"safebrowsing.enabled\": True\n",
        "# # })\n",
        "\n",
        "# # Driver & Web Load\n",
        "# url = \"https://sojoong.joins.com/archives/category/news\"\n",
        "# driver = webdriver.Chrome(executable_path=r\"C:\\Util\\chromedriver_win32\\chromedriver.exe\", chrome_options=options)\n",
        "\n",
        "# # driver = webdriver.Chrome(r\"C:\\Util\\chromedriver_win32\\chromedriver.exe\")\n",
        "\n",
        "# driver.get(url)\n",
        "# # driver.maximize_window()\n",
        "# for i in range(2):\n",
        "#     driver.execute_script(\"window.scrollTo(0, document.body.scrollHeight)\")\n",
        "#     driver.find_element_by_xpath(\"//tr[@class='btn_more']\").click()\n",
        "#     time.sleep(1)\n",
        "\n",
        "# # print(html)\n",
        "\n",
        "# html = driver.page_source\n",
        "# soup = BeautifulSoup(html, \"html.parser\")\n",
        "# items = soup.select('#list_mypost > table > tbody > tr')\n",
        "# for item in items:\n",
        "#     a_tag = item.select_one('td.title > h2 > a')\n",
        "#     if a_tag is not None:\n",
        "#         print(a_tag.text)"
      ],
      "metadata": {
        "id": "S9nbTL0Oc5Tn"
      },
      "execution_count": null,
      "outputs": []
    },
    {
      "cell_type": "markdown",
      "source": [
        "## full web crawling\n",
        "* BeautifulSoup\n",
        "* Crawling Target\n",
        "  1. url\n",
        "  2. title\n",
        "  3. author\n",
        "  4. date\n",
        "  5. article\n",
        "  6. img_path\n",
        "  7. source"
      ],
      "metadata": {
        "id": "vcaaVbx7SN1p"
      }
    },
    {
      "cell_type": "code",
      "source": [
        "# 소년중앙 크롤링\n",
        "\n",
        "%%time\n",
        "import requests\n",
        "import re\n",
        "from bs4 import BeautifulSoup\n",
        "\n",
        "url = \"https://sojoong.joins.com/archives/category/nie/issue\"\n",
        "req = requests.get(url)\n",
        "html = req.text\n",
        "soup = BeautifulSoup(html, \"html.parser\")\n",
        "\n",
        "news_list = soup.select(\"h2 > a\")\n",
        "news_list = [p.get(\"href\") for p in news_list]\n",
        "\n",
        "data = []\n",
        "for news in news_list:\n",
        "    json_data = {}\n",
        "    # sub crawling\n",
        "    sub_req = requests.get(news)\n",
        "    sub_html = sub_req.text\n",
        "    sub_soup = BeautifulSoup(sub_html, \"html.parser\")\n",
        "\n",
        "    # url: 기사 원문 URL\n",
        "    json_data[\"url\"] = news\n",
        "\n",
        "    # title: 제목\n",
        "    title = sub_soup.select_one(\"h1\").text\n",
        "    title = re.sub(\"[\\r\\n]\", \"\", title).strip()\n",
        "    json_data[\"title\"] = title\n",
        "\n",
        "    # author: 기자\n",
        "    # date: 날짜\n",
        "    meta = sub_soup.select_one(\"div.post-meta\").text.split(\"|\")\n",
        "    author = meta[0].strip()\n",
        "    date = meta[1].strip()\n",
        "\n",
        "    json_data[\"author\"] = author\n",
        "    json_data[\"date\"] = date\n",
        "\n",
        "    # article: 기사 내용\n",
        "    article = []\n",
        "    p_list = sub_soup.select(\"p\")\n",
        "    end_point = None\n",
        "    \n",
        "    for i, p in enumerate(p_list):\n",
        "        if p.get(\"class\"):\n",
        "            break\n",
        "        text = re.sub(\"[\\xa0\\u200b\\n\\r\\t]\", \"\",p.text).strip()\n",
        "        if text[-2:] == \"일자\":\n",
        "            end_point = i + 1\n",
        "        article.append(text)\n",
        "    \n",
        "    article = \" \".join(article[:end_point])\n",
        "    json_data[\"article\"] = article\n",
        "\n",
        "    # img_path: 기사 img 경로\n",
        "    img_path = sub_soup.select_one(\"figure\").a.get(\"href\")\n",
        "    json_data[\"img_path\"] = img_path\n",
        "\n",
        "    # source: 신문사\n",
        "    json_data[\"source\"] = \"소년중앙\"\n",
        "\n",
        "    data.append(json_data)"
      ],
      "metadata": {
        "colab": {
          "base_uri": "https://localhost:8080/"
        },
        "id": "MOlBzchfU8vi",
        "outputId": "ed98e569-7053-42cf-d0e2-98c50878208a"
      },
      "execution_count": 542,
      "outputs": [
        {
          "output_type": "stream",
          "name": "stdout",
          "text": [
            "CPU times: user 1.03 s, sys: 22.9 ms, total: 1.05 s\n",
            "Wall time: 12.2 s\n"
          ]
        }
      ]
    },
    {
      "cell_type": "code",
      "source": [
        "for key in data[0]:\n",
        "    print(f\"{key}: {data[0][key][:100]}\")"
      ],
      "metadata": {
        "colab": {
          "base_uri": "https://localhost:8080/"
        },
        "id": "8eVzj_d8KeoS",
        "outputId": "fb24b72b-63bd-48ab-fda0-8b8541a7225b"
      },
      "execution_count": 553,
      "outputs": [
        {
          "output_type": "stream",
          "name": "stdout",
          "text": [
            "url: https://sojoong.joins.com/archives/44661\n",
            "title: [뉴스레시피] 화산 폭발로 큰 피해를 입은  통가를 돕기 위해 힘을 모아봐요\n",
            "author: 한은정 기자\n",
            "date: 2022.01.24 08:02\n",
            "article: 대폭발로 사라진 화산섬···통가의 영웅 “조국 도와달라” “통가는 도움이 절실합니다.” 남태평양 섬나라 통가의 태권도 국가대표 선수인 피타 타우파토푸아(38)가 화산 폭발과 지진해\n",
            "img_path: https://sojoong.joins.com/wp-content/uploads/sites/4/2022/01/IM00007568_20220119-143142.jpg\n",
            "source: 소년중앙\n"
          ]
        }
      ]
    }
  ],
  "metadata": {
    "colab": {
      "collapsed_sections": [],
      "name": "소년중앙",
      "provenance": [],
      "include_colab_link": true
    },
    "kernelspec": {
      "display_name": "Python 3",
      "name": "python3"
    }
  },
  "nbformat": 4,
  "nbformat_minor": 0
}