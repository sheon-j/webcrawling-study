{
  "nbformat": 4,
  "nbformat_minor": 0,
  "metadata": {
    "colab": {
      "name": "어린이경제",
      "provenance": [],
      "authorship_tag": "ABX9TyPz2jxaFvYYoZUnhSiNvPi+",
      "include_colab_link": true
    },
    "kernelspec": {
      "name": "python3",
      "display_name": "Python 3"
    },
    "language_info": {
      "name": "python"
    }
  },
  "cells": [
    {
      "cell_type": "markdown",
      "metadata": {
        "id": "view-in-github",
        "colab_type": "text"
      },
      "source": [
        "<a href=\"https://colab.research.google.com/github/sheon-j/webcrawling-study/blob/main/econoi_crawler_study.ipynb\" target=\"_parent\"><img src=\"https://colab.research.google.com/assets/colab-badge.svg\" alt=\"Open In Colab\"/></a>"
      ]
    },
    {
      "cell_type": "markdown",
      "source": [
        "## 어린이 경제신문 full web crawling\n",
        "* BeautifulSoup\n",
        "* Crawling Target\n",
        "  1. url\n",
        "  2. title\n",
        "  3. sub title\n",
        "  4. author\n",
        "  5. date\n",
        "  6. article\n",
        "  7. img_path\n",
        "  8. source"
      ],
      "metadata": {
        "id": "1veEI3IKyyrg"
      }
    },
    {
      "cell_type": "code",
      "source": [
        "%%time\n",
        "import requests\n",
        "import re\n",
        "from bs4 import BeautifulSoup\n",
        "\n",
        "news_list = []\n",
        "start = 1\n",
        "end = 5\n",
        "pages = list(range(start, end+1))\n",
        "\n",
        "for num in pages:\n",
        "    url = f\"http://www.econoi.com/news/articleList.html?page={num}&total=928&box_idxno=&sc_section_code=S1N1&view_type=sm\"\n",
        "    req = requests.get(url)\n",
        "    html = req.text\n",
        "    soup = BeautifulSoup(html, \"html.parser\")\n",
        "    news_list += [\"http://www.econoi.com\"+p.get(\"href\") for p in soup.select(\"h4 > a\")][:20]\n",
        "\n",
        "data = []\n",
        "for news in news_list:\n",
        "    json_data = {}\n",
        "    # sub crawling\n",
        "    sub_req = requests.get(news)\n",
        "    sub_html = sub_req.text\n",
        "    sub_soup = BeautifulSoup(sub_html, \"html.parser\")\n",
        "\n",
        "    # url\n",
        "    json_data[\"url\"] = news\n",
        "\n",
        "    # title\n",
        "    title = sub_soup.select_one(\".heading\").text\n",
        "    json_data[\"title\"] = title\n",
        "\n",
        "    # sub_title\n",
        "    if sub_soup.select_one(\".subheading\"):\n",
        "        sub_title = sub_soup.select_one(\".subheading\").text\n",
        "    else:\n",
        "        sub_title = \"null\"    \n",
        "    json_data[\"sub_title\"] = sub_title\n",
        "\n",
        "    # author\n",
        "    # date\n",
        "    info = sub_soup.select(\".infomation > li\")\n",
        "    info = [i.text.strip() for i in info][:-1]\n",
        "    \n",
        "    author = re.sub(\"[기자명|\\\\r|\\\\n|\\\\t]\", \"\", info[0]).strip()\n",
        "    date = re.sub(\"[가-힣]\", \"\",info[-1]).strip()\n",
        "\n",
        "    json_data[\"author\"] = author\n",
        "    json_data[\"date\"] = date\n",
        "\n",
        "    # article\n",
        "    article = sub_soup.select(\"p\")\n",
        "    article = [re.sub(\"[\\xa0\\u200b\\n\\r\\t]\", \"\",p.text).strip() for p in article]\n",
        "    article = \" \".join(article)\n",
        "    json_data[\"article\"] = article\n",
        "\n",
        "    # img_path\n",
        "    if sub_soup.select(\"figure\"):\n",
        "        img_path = sub_soup.select_one(\"figure\").img.get(\"src\")\n",
        "    else:\n",
        "        img_path = \"null\"\n",
        "    json_data[\"img_path\"] = img_path\n",
        "\n",
        "    # source\n",
        "    json_data[\"source\"] = \"어린이 경제신문\"\n",
        "\n",
        "    data.append(json_data)"
      ],
      "metadata": {
        "colab": {
          "base_uri": "https://localhost:8080/"
        },
        "id": "dvlndtHbzT1P",
        "outputId": "c0d9b143-15f1-4e44-910d-8813964568d6"
      },
      "execution_count": 70,
      "outputs": [
        {
          "output_type": "stream",
          "name": "stdout",
          "text": [
            "CPU times: user 8.14 s, sys: 91 ms, total: 8.24 s\n",
            "Wall time: 1min 5s\n"
          ]
        }
      ]
    },
    {
      "cell_type": "code",
      "source": [
        "check = data[77]\n",
        "for key in check:\n",
        "    print(f\"{key}: {check[key][:70]}\")"
      ],
      "metadata": {
        "colab": {
          "base_uri": "https://localhost:8080/"
        },
        "id": "ww7UiKl80ySg",
        "outputId": "8e38ae3e-dba2-4808-da90-b57cfd8f3dab"
      },
      "execution_count": 83,
      "outputs": [
        {
          "output_type": "stream",
          "name": "stdout",
          "text": [
            "url: http://www.econoi.com/news/articleView.html?idxno=31499\n",
            "title: 우리가 아직 모르는 코로나 19!\n",
            "sub_title: 여러분은 코로나 19에 대해서 많이 알고 계신가요?\n",
            "author: 김나윤\n",
            "date: 2021.04.15 13:56\n",
            "article: 여러분 안녕하세요! 오늘은 우리가 모르는코로나 19에 대해서 알아보려 합니다! 1. 코로나는 땀으로도 전달된다고 아시는 분이 \n",
            "img_path: https://cdn.econoi.com/news/photo/202104/31499_11304_1718.jpg\n",
            "source: 어린이 경제신문\n"
          ]
        }
      ]
    },
    {
      "cell_type": "code",
      "source": [
        "# json 파일로 저장\n",
        "import json\n",
        "with open(\"econoi_crawling.json\", \"w\", encoding=\"utf-8\") as json_file:\n",
        "    json.dump(data, json_file,  ensure_ascii=False)"
      ],
      "metadata": {
        "id": "m253TjIK-abA"
      },
      "execution_count": 84,
      "outputs": []
    }
  ]
}