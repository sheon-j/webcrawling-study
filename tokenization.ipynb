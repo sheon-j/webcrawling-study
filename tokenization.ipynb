{
  "nbformat": 4,
  "nbformat_minor": 0,
  "metadata": {
    "colab": {
      "name": "tokenization.ipynb",
      "provenance": [],
      "collapsed_sections": [],
      "include_colab_link": true
    },
    "kernelspec": {
      "name": "python3",
      "display_name": "Python 3"
    },
    "language_info": {
      "name": "python"
    }
  },
  "cells": [
    {
      "cell_type": "markdown",
      "metadata": {
        "id": "view-in-github",
        "colab_type": "text"
      },
      "source": [
        "<a href=\"https://colab.research.google.com/github/sheon-j/webcrawling-study/blob/main/tokenization.ipynb\" target=\"_parent\"><img src=\"https://colab.research.google.com/assets/colab-badge.svg\" alt=\"Open In Colab\"/></a>"
      ]
    },
    {
      "cell_type": "markdown",
      "source": [
        "# Tokenizer"
      ],
      "metadata": {
        "id": "fh9x3qThbByU"
      }
    },
    {
      "cell_type": "markdown",
      "source": [
        "## Insatll Mecab"
      ],
      "metadata": {
        "id": "w5wsCqmogFge"
      }
    },
    {
      "cell_type": "code",
      "source": [
        "%%bash\n",
        "apt-get update\n",
        "apt-get install g++ openjdk-8-jdk python-dev python3-dev\n",
        "pip3 install JPype1\n",
        "pip3 install konlpy"
      ],
      "metadata": {
        "id": "8u8V14iYVimp"
      },
      "execution_count": null,
      "outputs": []
    },
    {
      "cell_type": "code",
      "source": [
        "%env JAVA_HOME \"/usr/lib/jvm/java-8-openjdk-amd64\""
      ],
      "metadata": {
        "colab": {
          "base_uri": "https://localhost:8080/"
        },
        "id": "FglPQ9JiVZ-r",
        "outputId": "0638d6fb-3408-4940-f806-3d110651b5ba"
      },
      "execution_count": 2,
      "outputs": [
        {
          "output_type": "stream",
          "name": "stdout",
          "text": [
            "env: JAVA_HOME=\"/usr/lib/jvm/java-8-openjdk-amd64\"\n"
          ]
        }
      ]
    },
    {
      "cell_type": "code",
      "source": [
        "%%bash\n",
        "bash <(curl -s https://raw.githubusercontent.com/konlpy/konlpy/master/scripts/mecab.sh)\n",
        "pip3 install /tmp/mecab-python-0.996"
      ],
      "metadata": {
        "id": "-3PKhy0hVq36"
      },
      "execution_count": null,
      "outputs": []
    },
    {
      "cell_type": "markdown",
      "source": [
        "## Import"
      ],
      "metadata": {
        "id": "zBXQwRw7gIrc"
      }
    },
    {
      "cell_type": "code",
      "source": [
        "import sys\n",
        "import pandas as pd\n",
        "\n",
        "import konlpy\n",
        "from konlpy.tag import Mecab, Kkma, Komoran, Hannanum, Okt\n",
        "from konlpy.utils import pprint"
      ],
      "metadata": {
        "id": "ZqcBh9EUVyRt"
      },
      "execution_count": 4,
      "outputs": []
    },
    {
      "cell_type": "markdown",
      "source": [
        "## Load Data"
      ],
      "metadata": {
        "id": "4Mi10ecKgQA2"
      }
    },
    {
      "cell_type": "code",
      "source": [
        "m = Mecab()\n",
        "sentence = \"안녕하세요 설치가 정상적으로 완료되었습니다.\"\n",
        "m.morphs(sentence)"
      ],
      "metadata": {
        "colab": {
          "base_uri": "https://localhost:8080/"
        },
        "id": "RC4LCtgyV2cH",
        "outputId": "f39a36a2-a3fa-42fb-bcc0-dc17f0875b70"
      },
      "execution_count": 5,
      "outputs": [
        {
          "output_type": "execute_result",
          "data": {
            "text/plain": [
              "['안녕', '하', '세요', '설치', '가', '정상', '적', '으로', '완료', '되', '었', '습니다', '.']"
            ]
          },
          "metadata": {},
          "execution_count": 5
        }
      ]
    },
    {
      "cell_type": "code",
      "source": [
        "# m = Mecab()\n",
        "# from google.colab import drive\n",
        "# drive.mount('/content/drive')\n",
        "\n",
        "filename = '/content/kidchosun.json'\n",
        "df = pd.read_json(filename, lines=True)\n",
        "df.head(2)"
      ],
      "metadata": {
        "colab": {
          "base_uri": "https://localhost:8080/",
          "height": 223
        },
        "id": "aZZtNIdbX5Ay",
        "outputId": "1130efe5-8b52-4ca0-b83f-a560445bdbf7"
      },
      "execution_count": 7,
      "outputs": [
        {
          "output_type": "execute_result",
          "data": {
            "text/html": [
              "\n",
              "  <div id=\"df-fc758a45-97da-4bbb-ab1c-b51ef74308a1\">\n",
              "    <div class=\"colab-df-container\">\n",
              "      <div>\n",
              "<style scoped>\n",
              "    .dataframe tbody tr th:only-of-type {\n",
              "        vertical-align: middle;\n",
              "    }\n",
              "\n",
              "    .dataframe tbody tr th {\n",
              "        vertical-align: top;\n",
              "    }\n",
              "\n",
              "    .dataframe thead th {\n",
              "        text-align: right;\n",
              "    }\n",
              "</style>\n",
              "<table border=\"1\" class=\"dataframe\">\n",
              "  <thead>\n",
              "    <tr style=\"text-align: right;\">\n",
              "      <th></th>\n",
              "      <th>_id</th>\n",
              "      <th>url</th>\n",
              "      <th>title</th>\n",
              "      <th>subtitle</th>\n",
              "      <th>author</th>\n",
              "      <th>date</th>\n",
              "      <th>article</th>\n",
              "      <th>img_path</th>\n",
              "      <th>source</th>\n",
              "    </tr>\n",
              "  </thead>\n",
              "  <tbody>\n",
              "    <tr>\n",
              "      <th>0</th>\n",
              "      <td>{'$oid': '61f8cea439e076716ad594ea'}</td>\n",
              "      <td>http://kid.chosun.com/site/data/html_dir/2022/...</td>\n",
              "      <td>[책 읽고 그려봤어요] 화가 났을 때 기분 좋아지는 비법 있을까?</td>\n",
              "      <td>—'나는 가끔 화가 나요!'를 읽고</td>\n",
              "      <td>최은서(경기 용인 신초 1)</td>\n",
              "      <td>2022-01-28 00:01:00</td>\n",
              "      <td>저는 이번에 '마음'과 관련된 책을 읽었어요. 책은 화가 날 때 어떻게 하면 화가 ...</td>\n",
              "      <td>http://kid.chosun.com/site/data/img_dir/2022/0...</td>\n",
              "      <td>어린이조선일보</td>\n",
              "    </tr>\n",
              "    <tr>\n",
              "      <th>1</th>\n",
              "      <td>{'$oid': '61f8cea439e076716ad594eb'}</td>\n",
              "      <td>http://kid.chosun.com/site/data/html_dir/2022/...</td>\n",
              "      <td>[오늘은 내가 뚱딴지 작가] 2022년 1월 18일자 3면 8737화 재구성</td>\n",
              "      <td>None</td>\n",
              "      <td>임가온(서울 신도초 3)</td>\n",
              "      <td>2022-01-28 00:01:00</td>\n",
              "      <td></td>\n",
              "      <td>http://kid.chosun.com/site/data/img_dir/2022/0...</td>\n",
              "      <td>어린이조선일보</td>\n",
              "    </tr>\n",
              "  </tbody>\n",
              "</table>\n",
              "</div>\n",
              "      <button class=\"colab-df-convert\" onclick=\"convertToInteractive('df-fc758a45-97da-4bbb-ab1c-b51ef74308a1')\"\n",
              "              title=\"Convert this dataframe to an interactive table.\"\n",
              "              style=\"display:none;\">\n",
              "        \n",
              "  <svg xmlns=\"http://www.w3.org/2000/svg\" height=\"24px\"viewBox=\"0 0 24 24\"\n",
              "       width=\"24px\">\n",
              "    <path d=\"M0 0h24v24H0V0z\" fill=\"none\"/>\n",
              "    <path d=\"M18.56 5.44l.94 2.06.94-2.06 2.06-.94-2.06-.94-.94-2.06-.94 2.06-2.06.94zm-11 1L8.5 8.5l.94-2.06 2.06-.94-2.06-.94L8.5 2.5l-.94 2.06-2.06.94zm10 10l.94 2.06.94-2.06 2.06-.94-2.06-.94-.94-2.06-.94 2.06-2.06.94z\"/><path d=\"M17.41 7.96l-1.37-1.37c-.4-.4-.92-.59-1.43-.59-.52 0-1.04.2-1.43.59L10.3 9.45l-7.72 7.72c-.78.78-.78 2.05 0 2.83L4 21.41c.39.39.9.59 1.41.59.51 0 1.02-.2 1.41-.59l7.78-7.78 2.81-2.81c.8-.78.8-2.07 0-2.86zM5.41 20L4 18.59l7.72-7.72 1.47 1.35L5.41 20z\"/>\n",
              "  </svg>\n",
              "      </button>\n",
              "      \n",
              "  <style>\n",
              "    .colab-df-container {\n",
              "      display:flex;\n",
              "      flex-wrap:wrap;\n",
              "      gap: 12px;\n",
              "    }\n",
              "\n",
              "    .colab-df-convert {\n",
              "      background-color: #E8F0FE;\n",
              "      border: none;\n",
              "      border-radius: 50%;\n",
              "      cursor: pointer;\n",
              "      display: none;\n",
              "      fill: #1967D2;\n",
              "      height: 32px;\n",
              "      padding: 0 0 0 0;\n",
              "      width: 32px;\n",
              "    }\n",
              "\n",
              "    .colab-df-convert:hover {\n",
              "      background-color: #E2EBFA;\n",
              "      box-shadow: 0px 1px 2px rgba(60, 64, 67, 0.3), 0px 1px 3px 1px rgba(60, 64, 67, 0.15);\n",
              "      fill: #174EA6;\n",
              "    }\n",
              "\n",
              "    [theme=dark] .colab-df-convert {\n",
              "      background-color: #3B4455;\n",
              "      fill: #D2E3FC;\n",
              "    }\n",
              "\n",
              "    [theme=dark] .colab-df-convert:hover {\n",
              "      background-color: #434B5C;\n",
              "      box-shadow: 0px 1px 3px 1px rgba(0, 0, 0, 0.15);\n",
              "      filter: drop-shadow(0px 1px 2px rgba(0, 0, 0, 0.3));\n",
              "      fill: #FFFFFF;\n",
              "    }\n",
              "  </style>\n",
              "\n",
              "      <script>\n",
              "        const buttonEl =\n",
              "          document.querySelector('#df-fc758a45-97da-4bbb-ab1c-b51ef74308a1 button.colab-df-convert');\n",
              "        buttonEl.style.display =\n",
              "          google.colab.kernel.accessAllowed ? 'block' : 'none';\n",
              "\n",
              "        async function convertToInteractive(key) {\n",
              "          const element = document.querySelector('#df-fc758a45-97da-4bbb-ab1c-b51ef74308a1');\n",
              "          const dataTable =\n",
              "            await google.colab.kernel.invokeFunction('convertToInteractive',\n",
              "                                                     [key], {});\n",
              "          if (!dataTable) return;\n",
              "\n",
              "          const docLinkHtml = 'Like what you see? Visit the ' +\n",
              "            '<a target=\"_blank\" href=https://colab.research.google.com/notebooks/data_table.ipynb>data table notebook</a>'\n",
              "            + ' to learn more about interactive tables.';\n",
              "          element.innerHTML = '';\n",
              "          dataTable['output_type'] = 'display_data';\n",
              "          await google.colab.output.renderOutput(dataTable, element);\n",
              "          const docLink = document.createElement('div');\n",
              "          docLink.innerHTML = docLinkHtml;\n",
              "          element.appendChild(docLink);\n",
              "        }\n",
              "      </script>\n",
              "    </div>\n",
              "  </div>\n",
              "  "
            ],
            "text/plain": [
              "                                    _id  ...   source\n",
              "0  {'$oid': '61f8cea439e076716ad594ea'}  ...  어린이조선일보\n",
              "1  {'$oid': '61f8cea439e076716ad594eb'}  ...  어린이조선일보\n",
              "\n",
              "[2 rows x 9 columns]"
            ]
          },
          "metadata": {},
          "execution_count": 7
        }
      ]
    },
    {
      "cell_type": "markdown",
      "source": [
        "## Define"
      ],
      "metadata": {
        "id": "WBQAMF7zRPmq"
      }
    },
    {
      "cell_type": "code",
      "source": [
        "# target pos set\n",
        "noun = {\"NNG\", \"NNP\", \"NP\"}\n",
        "verb_adj = {\"VV\", \"VA\"}\n",
        "\n",
        "def tokenizer(text):\n",
        "    # input/output object\n",
        "    token = m.pos(text)\n",
        "    result = \"\"\n",
        "    # processing\n",
        "    for word, tag in token:\n",
        "        if tag in verb_adj:\n",
        "            result += word + \"다 \"\n",
        "        elif tag in noun:\n",
        "            result += word + \" \"\n",
        "    # result\n",
        "    return result"
      ],
      "metadata": {
        "id": "WEdU3E1MMjBJ"
      },
      "execution_count": 25,
      "outputs": []
    },
    {
      "cell_type": "markdown",
      "source": [
        "## Process Data"
      ],
      "metadata": {
        "id": "rAFoBruiRS5a"
      }
    },
    {
      "cell_type": "code",
      "source": [
        "result = \"\"\n",
        "for title in titles:\n",
        "    result += tokenizer(title)\n",
        "\n",
        "result"
      ],
      "metadata": {
        "id": "gDKeLVM2RT7X",
        "outputId": "ee7b0b7f-49ea-45be-bbec-b7b604da7f30",
        "colab": {
          "base_uri": "https://localhost:8080/",
          "height": 71
        }
      },
      "execution_count": 26,
      "outputs": [
        {
          "output_type": "execute_result",
          "data": {
            "application/vnd.google.colaboratory.intrinsic+json": {
              "type": "string"
            },
            "text/plain": [
              "'책 읽다 화 때 기분 좋다 비법 있다 오늘 내 뚱딴지 작가 일자 면 구성 행시 짓다 곰돌이 푸 스텔스 오미크론 변종 영상 출동 명예 기자 화제 인물 글 쓰다 의사 남궁 만나다 원피스 대신 바지 입다 미니 마우스 신자영 영어 세계 기록 달성 기록 달인 탄생 이번 주 미션 美 포브스 한국 미국 최대 수출국 토스트 팬케이크 아침 먹다 초등 중학생 게임 시간 하루 평균 시간 프란치스코 교황 코로나 인포 믹 우려 위기 코알라 시사 낱말 퍼즐 우편 트럭 선물 받다 암투병 美 소년 겨울잠 자다 땅다람쥐 우주 여행 비법 설날 고기 사다 소라게 손가락 괜찮다 나 살다 곳 세계 문화유산 팔만대장경 기운 받다 새해 좋다 일 하다 '"
            ]
          },
          "metadata": {},
          "execution_count": 26
        }
      ]
    },
    {
      "cell_type": "markdown",
      "source": [
        "## Save File"
      ],
      "metadata": {
        "id": "VNhlFQz8Ra1h"
      }
    },
    {
      "cell_type": "code",
      "source": [
        "with open(\"mapper_result.txt\", \"w\", encoding=\"utf-8\") as text_file:\n",
        "    text_file.write(result)"
      ],
      "metadata": {
        "id": "x381b61rZLFC"
      },
      "execution_count": 20,
      "outputs": []
    }
  ]
}