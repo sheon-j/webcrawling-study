{
  "nbformat": 4,
  "nbformat_minor": 0,
  "metadata": {
    "colab": {
      "name": "tokenization.ipynb",
      "provenance": [],
      "collapsed_sections": []
    },
    "kernelspec": {
      "name": "python3",
      "display_name": "Python 3"
    },
    "language_info": {
      "name": "python"
    }
  },
  "cells": [
    {
      "cell_type": "markdown",
      "source": [
        "# Tokenizer"
      ],
      "metadata": {
        "id": "fh9x3qThbByU"
      }
    },
    {
      "cell_type": "markdown",
      "source": [
        "## Mecab 설치"
      ],
      "metadata": {
        "id": "w5wsCqmogFge"
      }
    },
    {
      "cell_type": "code",
      "source": [
        "%%bash\n",
        "apt-get update\n",
        "apt-get install g++ openjdk-8-jdk python-dev python3-dev\n",
        "pip3 install JPype1\n",
        "pip3 install konlpy"
      ],
      "metadata": {
        "id": "8u8V14iYVimp"
      },
      "execution_count": null,
      "outputs": []
    },
    {
      "cell_type": "code",
      "source": [
        "%env JAVA_HOME \"/usr/lib/jvm/java-8-openjdk-amd64\""
      ],
      "metadata": {
        "id": "FglPQ9JiVZ-r"
      },
      "execution_count": null,
      "outputs": []
    },
    {
      "cell_type": "code",
      "source": [
        "%%bash\n",
        "bash <(curl -s https://raw.githubusercontent.com/konlpy/konlpy/master/scripts/mecab.sh)\n",
        "pip3 install /tmp/mecab-python-0.996"
      ],
      "metadata": {
        "id": "-3PKhy0hVq36"
      },
      "execution_count": null,
      "outputs": []
    },
    {
      "cell_type": "markdown",
      "source": [
        "## Import"
      ],
      "metadata": {
        "id": "zBXQwRw7gIrc"
      }
    },
    {
      "cell_type": "code",
      "source": [
        "import sys\n",
        "import pandas as pd\n",
        "\n",
        "import konlpy\n",
        "from konlpy.tag import Mecab, Kkma, Komoran, Hannanum, Okt\n",
        "from konlpy.utils import pprint"
      ],
      "metadata": {
        "id": "ZqcBh9EUVyRt"
      },
      "execution_count": 2,
      "outputs": []
    },
    {
      "cell_type": "markdown",
      "source": [
        "## Tokenizing"
      ],
      "metadata": {
        "id": "4Mi10ecKgQA2"
      }
    },
    {
      "cell_type": "code",
      "source": [
        "m = Mecab()\n",
        "sentence = \"안녕하세요 설치가 정상적으로 완료되었습니다.\"\n",
        "m.morphs(sentence)"
      ],
      "metadata": {
        "colab": {
          "base_uri": "https://localhost:8080/"
        },
        "id": "RC4LCtgyV2cH",
        "outputId": "f707f093-0280-4478-f733-d340f0089ffb"
      },
      "execution_count": 3,
      "outputs": [
        {
          "output_type": "execute_result",
          "data": {
            "text/plain": [
              "['안녕', '하', '세요', '설치', '가', '정상', '적', '으로', '완료', '되', '었', '습니다', '.']"
            ]
          },
          "metadata": {},
          "execution_count": 3
        }
      ]
    },
    {
      "cell_type": "code",
      "source": [
        "# m = Mecab()\n",
        "# from google.colab import drive\n",
        "# drive.mount('/content/drive')\n",
        "filename = '/content/kidchosun (1).json'\n",
        "df = pd.read_json(filename, lines=True)\n",
        "df.head(2)"
      ],
      "metadata": {
        "colab": {
          "base_uri": "https://localhost:8080/",
          "height": 308
        },
        "id": "aZZtNIdbX5Ay",
        "outputId": "e6cd1abf-e3d1-4b8a-95ca-b11515594561"
      },
      "execution_count": 4,
      "outputs": [
        {
          "output_type": "execute_result",
          "data": {
            "text/html": [
              "\n",
              "  <div id=\"df-84299f06-3150-416c-99b3-04c118cf62ad\">\n",
              "    <div class=\"colab-df-container\">\n",
              "      <div>\n",
              "<style scoped>\n",
              "    .dataframe tbody tr th:only-of-type {\n",
              "        vertical-align: middle;\n",
              "    }\n",
              "\n",
              "    .dataframe tbody tr th {\n",
              "        vertical-align: top;\n",
              "    }\n",
              "\n",
              "    .dataframe thead th {\n",
              "        text-align: right;\n",
              "    }\n",
              "</style>\n",
              "<table border=\"1\" class=\"dataframe\">\n",
              "  <thead>\n",
              "    <tr style=\"text-align: right;\">\n",
              "      <th></th>\n",
              "      <th>_id</th>\n",
              "      <th>url</th>\n",
              "      <th>title</th>\n",
              "      <th>subtitle</th>\n",
              "      <th>author</th>\n",
              "      <th>date</th>\n",
              "      <th>article</th>\n",
              "      <th>img_path</th>\n",
              "      <th>source</th>\n",
              "    </tr>\n",
              "  </thead>\n",
              "  <tbody>\n",
              "    <tr>\n",
              "      <th>0</th>\n",
              "      <td>{'$oid': '61fc7fc7e1791fc0544944ba'}</td>\n",
              "      <td>http://kid.chosun.com/site/data/html_dir/2022/...</td>\n",
              "      <td>[교과서 한자어] 樹液(수액)</td>\n",
              "      <td>None</td>\n",
              "      <td>어린이조선일보</td>\n",
              "      <td>2022-02-03 00:01:00</td>\n",
              "      <td></td>\n",
              "      <td>http://kid.chosun.com/site/data/img_dir/2022/0...</td>\n",
              "      <td>어린이조선일보</td>\n",
              "    </tr>\n",
              "    <tr>\n",
              "      <th>1</th>\n",
              "      <td>{'$oid': '61fc7fc7e1791fc0544944bb'}</td>\n",
              "      <td>http://kid.chosun.com/site/data/html_dir/2022/...</td>\n",
              "      <td>‘우편 트럭’ 선물받은 암투병 美 소년</td>\n",
              "      <td>신장암 앓고 있는 제이콥 “우체부가 돼 세계일주 할 거예요”</td>\n",
              "      <td>신자영 기자</td>\n",
              "      <td>2022-01-31 11:40:00</td>\n",
              "      <td>2년 간 암과 싸우던 미국의 소년이 7번째 생일을 맞아 최고의 선물을 받았다. 최근...</td>\n",
              "      <td>http://kid.chosun.com/site/data/img_dir/2022/0...</td>\n",
              "      <td>어린이조선일보</td>\n",
              "    </tr>\n",
              "  </tbody>\n",
              "</table>\n",
              "</div>\n",
              "      <button class=\"colab-df-convert\" onclick=\"convertToInteractive('df-84299f06-3150-416c-99b3-04c118cf62ad')\"\n",
              "              title=\"Convert this dataframe to an interactive table.\"\n",
              "              style=\"display:none;\">\n",
              "        \n",
              "  <svg xmlns=\"http://www.w3.org/2000/svg\" height=\"24px\"viewBox=\"0 0 24 24\"\n",
              "       width=\"24px\">\n",
              "    <path d=\"M0 0h24v24H0V0z\" fill=\"none\"/>\n",
              "    <path d=\"M18.56 5.44l.94 2.06.94-2.06 2.06-.94-2.06-.94-.94-2.06-.94 2.06-2.06.94zm-11 1L8.5 8.5l.94-2.06 2.06-.94-2.06-.94L8.5 2.5l-.94 2.06-2.06.94zm10 10l.94 2.06.94-2.06 2.06-.94-2.06-.94-.94-2.06-.94 2.06-2.06.94z\"/><path d=\"M17.41 7.96l-1.37-1.37c-.4-.4-.92-.59-1.43-.59-.52 0-1.04.2-1.43.59L10.3 9.45l-7.72 7.72c-.78.78-.78 2.05 0 2.83L4 21.41c.39.39.9.59 1.41.59.51 0 1.02-.2 1.41-.59l7.78-7.78 2.81-2.81c.8-.78.8-2.07 0-2.86zM5.41 20L4 18.59l7.72-7.72 1.47 1.35L5.41 20z\"/>\n",
              "  </svg>\n",
              "      </button>\n",
              "      \n",
              "  <style>\n",
              "    .colab-df-container {\n",
              "      display:flex;\n",
              "      flex-wrap:wrap;\n",
              "      gap: 12px;\n",
              "    }\n",
              "\n",
              "    .colab-df-convert {\n",
              "      background-color: #E8F0FE;\n",
              "      border: none;\n",
              "      border-radius: 50%;\n",
              "      cursor: pointer;\n",
              "      display: none;\n",
              "      fill: #1967D2;\n",
              "      height: 32px;\n",
              "      padding: 0 0 0 0;\n",
              "      width: 32px;\n",
              "    }\n",
              "\n",
              "    .colab-df-convert:hover {\n",
              "      background-color: #E2EBFA;\n",
              "      box-shadow: 0px 1px 2px rgba(60, 64, 67, 0.3), 0px 1px 3px 1px rgba(60, 64, 67, 0.15);\n",
              "      fill: #174EA6;\n",
              "    }\n",
              "\n",
              "    [theme=dark] .colab-df-convert {\n",
              "      background-color: #3B4455;\n",
              "      fill: #D2E3FC;\n",
              "    }\n",
              "\n",
              "    [theme=dark] .colab-df-convert:hover {\n",
              "      background-color: #434B5C;\n",
              "      box-shadow: 0px 1px 3px 1px rgba(0, 0, 0, 0.15);\n",
              "      filter: drop-shadow(0px 1px 2px rgba(0, 0, 0, 0.3));\n",
              "      fill: #FFFFFF;\n",
              "    }\n",
              "  </style>\n",
              "\n",
              "      <script>\n",
              "        const buttonEl =\n",
              "          document.querySelector('#df-84299f06-3150-416c-99b3-04c118cf62ad button.colab-df-convert');\n",
              "        buttonEl.style.display =\n",
              "          google.colab.kernel.accessAllowed ? 'block' : 'none';\n",
              "\n",
              "        async function convertToInteractive(key) {\n",
              "          const element = document.querySelector('#df-84299f06-3150-416c-99b3-04c118cf62ad');\n",
              "          const dataTable =\n",
              "            await google.colab.kernel.invokeFunction('convertToInteractive',\n",
              "                                                     [key], {});\n",
              "          if (!dataTable) return;\n",
              "\n",
              "          const docLinkHtml = 'Like what you see? Visit the ' +\n",
              "            '<a target=\"_blank\" href=https://colab.research.google.com/notebooks/data_table.ipynb>data table notebook</a>'\n",
              "            + ' to learn more about interactive tables.';\n",
              "          element.innerHTML = '';\n",
              "          dataTable['output_type'] = 'display_data';\n",
              "          await google.colab.output.renderOutput(dataTable, element);\n",
              "          const docLink = document.createElement('div');\n",
              "          docLink.innerHTML = docLinkHtml;\n",
              "          element.appendChild(docLink);\n",
              "        }\n",
              "      </script>\n",
              "    </div>\n",
              "  </div>\n",
              "  "
            ],
            "text/plain": [
              "                                    _id  ...   source\n",
              "0  {'$oid': '61fc7fc7e1791fc0544944ba'}  ...  어린이조선일보\n",
              "1  {'$oid': '61fc7fc7e1791fc0544944bb'}  ...  어린이조선일보\n",
              "\n",
              "[2 rows x 9 columns]"
            ]
          },
          "metadata": {},
          "execution_count": 4
        }
      ]
    },
    {
      "cell_type": "code",
      "source": [
        "titles = df[\"title\"].to_list()\n",
        "titles[:3]"
      ],
      "metadata": {
        "id": "06sOYJ-vX4RL",
        "outputId": "23d1e97a-3158-4447-de3e-53ad43b483a7",
        "colab": {
          "base_uri": "https://localhost:8080/"
        }
      },
      "execution_count": 5,
      "outputs": [
        {
          "output_type": "execute_result",
          "data": {
            "text/plain": [
              "['[교과서 한자어] 樹液(수액)', '‘우편 트럭’ 선물받은 암투병 美 소년', '프란치스코 교황 ‘코로나 인포데믹’ 우려']"
            ]
          },
          "metadata": {},
          "execution_count": 5
        }
      ]
    },
    {
      "cell_type": "code",
      "source": [
        "noun = set([\"NNG\", \"NNP\", \"NP\"])\n",
        "verb_adject = set([\"VV\", \"VA\"])\n",
        "\n",
        "for title in titles:\n",
        "    for word, tag in m.pos(title):\n",
        "        if tag in verb_adject:\n",
        "            print(word+\"다\", end=\" \")\n",
        "        elif tag in noun:\n",
        "            print(word, end=\" \")"
      ],
      "metadata": {
        "id": "V-IkNs1AZITJ"
      },
      "execution_count": 12,
      "outputs": []
    },
    {
      "cell_type": "code",
      "source": [
        "# open('mapper_result.txt', 'w')"
      ],
      "metadata": {
        "id": "x381b61rZLFC"
      },
      "execution_count": 13,
      "outputs": []
    }
  ]
}