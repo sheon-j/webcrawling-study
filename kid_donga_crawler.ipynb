{
  "cells": [
    {
      "cell_type": "markdown",
      "metadata": {
        "id": "view-in-github",
        "colab_type": "text"
      },
      "source": [
        "<a href=\"https://colab.research.google.com/github/sheon-j/webcrawling-study/blob/main/kid_donga_crawler.ipynb\" target=\"_parent\"><img src=\"https://colab.research.google.com/assets/colab-badge.svg\" alt=\"Open In Colab\"/></a>"
      ]
    },
    {
      "cell_type": "markdown",
      "source": [
        "# Web Crawling 어린이 동아"
      ],
      "metadata": {
        "id": "DCgA48oYOlDL"
      }
    },
    {
      "cell_type": "code",
      "source": [
        "import requests\n",
        "from bs4 import BeautifulSoup\n",
        "import re\n",
        "from datetime import datetime\n",
        "import json"
      ],
      "metadata": {
        "id": "nxWWrXCKOp8v"
      },
      "execution_count": 188,
      "outputs": []
    },
    {
      "cell_type": "code",
      "source": [
        "def crawl_href_list(page):\n",
        "    url = f\"http://kids.donga.com/?page_no={page}&ptype=article&psub=news&gbn=01\"\n",
        "    req = requests.get(url)\n",
        "    html = req.text\n",
        "    soup = BeautifulSoup(html, \"html.parser\")\n",
        "    href_list = [a.get(\"href\") for a in soup.select(\"dt > a\")]\n",
        "    return href_list\n",
        "\n",
        "def to_json_data(href):\n",
        "    pattern = re.compile(\"[\\xa0\\u200b\\n\\r\\t]\")\n",
        "    json_data = {}\n",
        "\n",
        "    # sub_soup\n",
        "    sub_req = requests.get(href)\n",
        "    sub_html = sub_req.text\n",
        "    sub_soup = BeautifulSoup(sub_html, \"html.parser\")\n",
        "\n",
        "    # news_url\n",
        "    news_url = href\n",
        "    json_data[\"news_url\"] = news_url\n",
        "\n",
        "    # news_title\n",
        "    news_title = sub_soup.select_one(\"li.title\").text\n",
        "    news_title = re.sub(pattern, \"\", news_title).strip()\n",
        "    json_data[\"news_title\"] = news_title\n",
        "\n",
        "    # news_subtitle\n",
        "    news_subtitle = \"\"\n",
        "    json_data[\"news_subtitle\"] = news_subtitle\n",
        "\n",
        "    # news_writer\n",
        "    news_writer = sub_soup.select_one(\"li.writer\").text\n",
        "    news_writer = re.sub(pattern, \"\", news_writer.split(\" \")[0]).strip()\n",
        "    json_data[\"news_writer\"] = news_writer\n",
        "\n",
        "    # news_date\n",
        "    news_date = sub_soup.select_one(\"li.upload_date\").text.strip()\n",
        "    json_data[\"news_date\"] = news_date\n",
        "\n",
        "    # news_article\n",
        "    news_article = sub_soup.select(\"div.at_content > p\")\n",
        "    news_article = [\n",
        "        p.text.strip() for p in news_article \n",
        "        if not p.img \n",
        "        if not \"위 기사의 법적인 책임과 권한은\" in p.text \n",
        "        if not \"< 저작권자 ⓒ 어린이동아\" in p.text \n",
        "        if not (\"▶어린이동아\" and \"기자\") in p.text\n",
        "    ]\n",
        "    news_article = \" \".join(news_article)\n",
        "    news_article = re.sub(pattern, \"\", news_article).strip()\n",
        "    json_data[\"news_article\"] = news_article\n",
        "\n",
        "    # news_img\n",
        "    news_img = sub_soup.select_one(\"div.at_content img\").get(\"src\")\n",
        "    news_img = \"\" if len(news_img) >= 200 else news_img\n",
        "    json_data[\"news_img\"] = news_img\n",
        "\n",
        "    # news_source\n",
        "    news_source = \"어린이동아\"\n",
        "    json_data[\"news_source\"] = news_source\n",
        "\n",
        "    return json_data"
      ],
      "metadata": {
        "id": "uhNa4X6mP2hi"
      },
      "execution_count": 189,
      "outputs": []
    },
    {
      "cell_type": "code",
      "source": [
        "page = 1\n",
        "data = []\n",
        "date_pivot = \"2022-02-20\"\n",
        "date_pivot = datetime.strptime(date_pivot, \"%Y-%m-%d\")\n",
        "\n",
        "while True:\n",
        "    href_list = crawl_href_list(page)\n",
        "    for href in href_list:\n",
        "        json_data = to_json_data(href)\n",
        "        date_obj = json_data[\"news_date\"].split(\" \")[0]\n",
        "        date_obj = datetime.strptime(date_obj, \"%Y-%m-%d\")\n",
        "        if date_pivot > date_obj:\n",
        "            break\n",
        "        data.append(json_data)\n",
        "    \n",
        "    print(page, \"done!\")\n",
        "    if date_pivot > date_obj:\n",
        "            break\n",
        "    page += 1\n",
        "\n",
        "print(\"total data: \", len(data))"
      ],
      "metadata": {
        "id": "CTzLRcz8iEOT",
        "outputId": "2b5588bd-b9fd-49ac-f30d-77a714aa6e85",
        "colab": {
          "base_uri": "https://localhost:8080/"
        }
      },
      "execution_count": 195,
      "outputs": [
        {
          "output_type": "stream",
          "name": "stdout",
          "text": [
            "1 done!\n",
            "2 done!\n",
            "3 done!\n",
            "total data:  27\n"
          ]
        }
      ]
    },
    {
      "cell_type": "code",
      "source": [
        "data"
      ],
      "metadata": {
        "id": "WWbKEcokGXvE"
      },
      "execution_count": null,
      "outputs": []
    },
    {
      "cell_type": "code",
      "source": [
        "# json 파일로 저장\n",
        "with open(\"kids_donga.json\", \"w\", encoding=\"utf-8\") as json_file:\n",
        "    json.dump(data, json_file,  ensure_ascii=False)"
      ],
      "metadata": {
        "id": "yXFawgtknTBe"
      },
      "execution_count": 183,
      "outputs": []
    }
  ],
  "metadata": {
    "colab": {
      "collapsed_sections": [],
      "name": "Colaboratory에 오신 것을 환영합니다",
      "provenance": [],
      "include_colab_link": true
    },
    "kernelspec": {
      "display_name": "Python 3",
      "name": "python3"
    }
  },
  "nbformat": 4,
  "nbformat_minor": 0
}