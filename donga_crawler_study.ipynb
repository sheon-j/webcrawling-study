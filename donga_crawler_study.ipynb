{
  "cells": [
    {
      "cell_type": "markdown",
      "metadata": {
        "id": "view-in-github",
        "colab_type": "text"
      },
      "source": [
        "<a href=\"https://colab.research.google.com/github/sheon-j/webcrawling-study/blob/main/donga_crawler_study.ipynb\" target=\"_parent\"><img src=\"https://colab.research.google.com/assets/colab-badge.svg\" alt=\"Open In Colab\"/></a>"
      ]
    },
    {
      "cell_type": "markdown",
      "source": [
        "# Webcrawling Study\n",
        "* 참고: [나만의 웹 크롤러 만들기 시리즈](https://beomi.github.io/gb-crawling/)\n",
        "* 타겟: [어린이동아](http://kids.donga.com)"
      ],
      "metadata": {
        "id": "-XUBlXXymrTQ"
      }
    },
    {
      "cell_type": "markdown",
      "source": [
        "## Requests\n",
        "html의 request를 python으로 받아온다."
      ],
      "metadata": {
        "id": "EHhcAsvtm2PG"
      }
    },
    {
      "cell_type": "code",
      "source": [
        "# !pip install requests\n",
        "import requests\n",
        "\n",
        "# HTTP GET Request\n",
        "## 어린이 동아 뉴스 리스트\n",
        "req = requests.get(\"http://kids.donga.com/?ptype=article&psub=news\")\n",
        "\n",
        "html = req.text           # HTML (use this source!)\n",
        "header = req.headers      # header\n",
        "status = req.status_code  # status\n",
        "is_ok = req.ok            # status boolean"
      ],
      "metadata": {
        "id": "sMK7zNDEm1zx"
      },
      "execution_count": 1,
      "outputs": []
    },
    {
      "cell_type": "code",
      "source": [
        "print(\"done:\", is_ok)\n",
        "print(\"status:\", status)\n",
        "print(\"header:\", header)"
      ],
      "metadata": {
        "id": "GrPl6D5qZ1te",
        "outputId": "31cafaaf-d3e6-4354-9d63-ac63745ca91e",
        "colab": {
          "base_uri": "https://localhost:8080/"
        }
      },
      "execution_count": 11,
      "outputs": [
        {
          "output_type": "stream",
          "name": "stdout",
          "text": [
            "done: True\n",
            "status: 200\n",
            "header: {'Date': 'Wed, 02 Feb 2022 12:23:55 GMT', 'Server': 'Apache', 'Set-Cookie': 'PHPSESSID=hjqbttc0j40na15oeog2jhi716; path=/; domain=http://kids.donga.com, kd_visit_ip=34.125.249.32; expires=Thu, 03-Feb-2022 12:23:55 GMT; path=/', 'Keep-Alive': 'timeout=5, max=100', 'Connection': 'Keep-Alive', 'Transfer-Encoding': 'chunked', 'Content-Type': 'text/html; charset=UTF-8'}\n"
          ]
        }
      ]
    },
    {
      "cell_type": "markdown",
      "source": [
        "## BeautifulSoup\n",
        "\n",
        "받아온 데이터는 거대한 String 뭉치이다. 이것을 html의 객체처럼 처리할 수 있게하는 parsing 라이브러리가 **BeautifulSoup**이다."
      ],
      "metadata": {
        "id": "Dig-PGIWnbBs"
      }
    },
    {
      "cell_type": "code",
      "source": [
        "# !pip install bs4\n",
        "from bs4 import BeautifulSoup\n",
        "\n",
        "# convert HTML source to pythob object\n",
        "## BeautifulSoup({html}, {parser})\n",
        "soup = BeautifulSoup(html, \"html.parser\")"
      ],
      "metadata": {
        "id": "qQZFthGCnjJO"
      },
      "execution_count": 12,
      "outputs": []
    },
    {
      "cell_type": "markdown",
      "source": [
        "CSS 선택자를 통해 crawling 할 요소를 설정한다.\n",
        "\n",
        "**CSS Selector**\n",
        "\n",
        "* **full selector**: \n",
        "body > div.wrap_all > div.content > div.page_area > div.article_list > ul > li:nth-child(1) > dl > dt > a\n",
        "\n",
        "* **target selector**: \n",
        "dt > a"
      ],
      "metadata": {
        "id": "Wpm9G3k5oHuj"
      }
    },
    {
      "cell_type": "code",
      "source": [
        "# CSS Selector\n",
        "article_titles = soup.select(\"dt > a\")\n",
        "article_titles"
      ],
      "metadata": {
        "colab": {
          "base_uri": "https://localhost:8080/"
        },
        "id": "cTwjzQnroRqe",
        "outputId": "9ac80c78-40af-423e-c54e-1c1e407421a5"
      },
      "execution_count": 44,
      "outputs": [
        {
          "output_type": "execute_result",
          "data": {
            "text/plain": [
              "[<a href=\"https://kids.donga.com?ptype=article&amp;no=20220202124700920857&amp;psub=news&amp;gbn=01\">2022 베이징 올림픽의 타임키퍼 ‘오메가’의 기술은?...</a>,\n",
              " <a href=\"https://kids.donga.com?ptype=article&amp;no=20220202123848709079&amp;psub=news&amp;gbn=01\">[뉴스쏙 시사쑥] 영국에서 SNS 사진 ‘보정 유무 표기’ 법안...</a>,\n",
              " <a href=\"https://kids.donga.com?ptype=article&amp;no=20220202123358514117&amp;psub=news&amp;gbn=01\">[뉴스 브리핑] 일본, ‘사도광산’ 세계유산 추천 결정</a>,\n",
              " <a href=\"https://kids.donga.com?ptype=article&amp;no=20220202120934178503&amp;psub=news&amp;gbn=01\">[오늘의 뉴스] 한국 축구, 10회 연속 월드컵 본선 진출 위...</a>,\n",
              " <a href=\"https://kids.donga.com?ptype=article&amp;no=20220202120612605158&amp;psub=news&amp;gbn=01\">[월드 뉴스] 미얀마 쿠데타 1년… 여전히 이어지는 시위</a>,\n",
              " <a href=\"https://kids.donga.com?ptype=article&amp;no=20220202120507717054&amp;psub=news&amp;gbn=01\">[한자뉴스] 하늘을 나는 요트… 약 7465억 원</a>,\n",
              " <a href=\"https://kids.donga.com?ptype=article&amp;no=20220127140638502004&amp;psub=news&amp;gbn=01\">[오늘의 뉴스] 낙서한다고 혼났던 영국 소년, 나이키 디자이너...</a>,\n",
              " <a href=\"https://kids.donga.com?ptype=article&amp;no=20220127140401622425&amp;psub=news&amp;gbn=01\">‘띵동~!’ 세뱃돈도 메시지로… 코로나가 바꾼 ‘세뱃돈...</a>,\n",
              " <a href=\"https://kids.donga.com?ptype=article&amp;no=20220127124809984229&amp;psub=news&amp;gbn=01\">[월드 뉴스] 인도 공화국의 날, 코로나 종식 기원 퍼포먼스</a>,\n",
              " <a href=\"https://kids.donga.com?ptype=article&amp;no=20220127124637361652&amp;psub=news&amp;gbn=01\">[뉴스 브리핑] 곰 사육, 40년 만에 끝… 2026년부터 금...</a>]"
            ]
          },
          "metadata": {},
          "execution_count": 44
        }
      ]
    },
    {
      "cell_type": "markdown",
      "source": [
        "최종적으로 원하는 객체 값을 parsing한다"
      ],
      "metadata": {
        "id": "pyB0S9bTcElm"
      }
    },
    {
      "cell_type": "code",
      "source": [
        "# selector elements\n",
        "print(\"text: \", article_titles[0].text)\n",
        "print(\"href: \", article_titles[0].get(\"href\"))"
      ],
      "metadata": {
        "colab": {
          "base_uri": "https://localhost:8080/"
        },
        "id": "Ialmw14_qLO-",
        "outputId": "2e818c7c-20fa-4e9e-e6ac-cb7af73aa688"
      },
      "execution_count": 57,
      "outputs": [
        {
          "output_type": "stream",
          "name": "stdout",
          "text": [
            "text:  2022 베이징 올림픽의 타임키퍼 ‘오메가’의 기술은?...\n",
            "href:  https://kids.donga.com?ptype=article&no=20220202124700920857&psub=news&gbn=01\n"
          ]
        }
      ]
    },
    {
      "cell_type": "markdown",
      "source": [
        "**Sub Crawling**\n",
        "\n",
        "```\n",
        "url: 기사 원문 URL\n",
        "title: 제목\n",
        "subtitle: 부제목(어린이동아는 부제 없음!)\n",
        "author: 기자\n",
        "date: 날짜\n",
        "article: 기사 내용\n",
        "img_path: 기사 img 경로\n",
        "source: 신문사\n",
        "```\n",
        "* **title**: body > div.wrap_all > div.content > div.page_area > div.at_cont > div.at_cont_title > div.at_info > ul > **li.title**\n",
        "\n",
        "* **author**: \n",
        "body > div.wrap_all > div.content > div.page_area > div.at_cont > div.at_cont_title > div.at_info > ul > **li.writer**\n",
        "\n",
        "* **date**: \n",
        "body > div.wrap_all > div.content > div.page_area > div.at_cont > div.at_cont_title > div.at_info > ul > **li.upload_date**\n",
        "\n",
        "* **article**:\n",
        "body > div.wrap_all > div.content > div.page_area > div.at_cont > **div.cont_view** > div > p:nth-child(4) > span\n",
        "\n",
        "* **img_path**: body > div.wrap_all > div.content > div.page_area > div.at_cont > div.cont_view > div > p:nth-child(1) > span > **img**"
      ],
      "metadata": {
        "id": "xDAboqC4vcEm"
      }
    },
    {
      "cell_type": "code",
      "source": [
        "# sub crawling\n",
        "href = article_titles[4].get(\"href\")\n",
        "sub_req = requests.get(href)\n",
        "sub_html = sub_req.text\n",
        "sub_soup = BeautifulSoup(sub_html, \"html.parser\")"
      ],
      "metadata": {
        "id": "ct0MDbfBuu3E"
      },
      "execution_count": 269,
      "outputs": []
    },
    {
      "cell_type": "code",
      "source": [
        "# title\n",
        "\n",
        "## title = sub_soup.select_one(\"li.title\").text\n",
        "title = \"\\xa02022 베이징 올림픽의 타임키퍼 ‘오메가’의 기술은? 생동감 넘치는 경기 전달해요!\"  # 유니코드 공백문자\n",
        "print(\"처리 전:\", title)\n",
        "\n",
        "## regex\n",
        "pattern = re.compile(\"[\\xa0\\u200b\\n\\r\\t]\")  # regex 패턴 설정 \n",
        "title = re.sub(pattern, \"\", title)\n",
        "print(\"처리 후:\", title)"
      ],
      "metadata": {
        "id": "5bPHQCCkhnqt",
        "outputId": "3903a7cd-e6de-4af0-9fab-46aa87892036",
        "colab": {
          "base_uri": "https://localhost:8080/"
        }
      },
      "execution_count": 71,
      "outputs": [
        {
          "output_type": "stream",
          "name": "stdout",
          "text": [
            "처리 전:  2022 베이징 올림픽의 타임키퍼 ‘오메가’의 기술은? 생동감 넘치는 경기 전달해요!\n",
            "처리 후: 2022 베이징 올림픽의 타임키퍼 ‘오메가’의 기술은? 생동감 넘치는 경기 전달해요!\n"
          ]
        }
      ]
    },
    {
      "cell_type": "code",
      "source": [
        "# author\n",
        "\n",
        "## author = sub_soup.select_one(\"li.writer\").text\n",
        "writer = \"\\r\\n\\t\\t\\t\\t\\t김철수 기자\\t\\t\\t\\t\\t\"\n",
        "print(\"처리 전:\", writer)\n",
        "\n",
        "## regex\n",
        "import re\n",
        "writer = re.sub(pattern, \"\", writer.split(\" \")[0])\n",
        "print(\"처리 후:\", writer)"
      ],
      "metadata": {
        "colab": {
          "base_uri": "https://localhost:8080/"
        },
        "id": "f7IGXOd-yANQ",
        "outputId": "9517a082-aa58-4c5a-caaf-f4a66bba0190"
      },
      "execution_count": 72,
      "outputs": [
        {
          "output_type": "stream",
          "name": "stdout",
          "text": [
            "처리 전: \r\n",
            "\t\t\t\t\t김철수 기자\t\t\t\t\t\n",
            "처리 후: 김철수\n"
          ]
        }
      ]
    },
    {
      "cell_type": "code",
      "source": [
        "# date\n",
        "date = sub_soup.select_one(\"li.upload_date\").text\n",
        "date"
      ],
      "metadata": {
        "colab": {
          "base_uri": "https://localhost:8080/",
          "height": 37
        },
        "id": "uKgQv5wnvkN4",
        "outputId": "51a88d01-a0d0-4e40-a149-3acfdd544af5"
      },
      "execution_count": 74,
      "outputs": [
        {
          "output_type": "execute_result",
          "data": {
            "application/vnd.google.colaboratory.intrinsic+json": {
              "type": "string"
            },
            "text/plain": [
              "'2022-02-02 12:47:00'"
            ]
          },
          "metadata": {},
          "execution_count": 74
        }
      ]
    },
    {
      "cell_type": "code",
      "source": [
        "# article             \n",
        "article = sub_soup.select(\"div.at_content > p\")   # 파싱\n",
        "article = [\n",
        "    p.text for p in article \n",
        "    if not p.img                                  # img 태그 제거\n",
        "    if not \"위 기사의 법적인 책임과 권한은\" in p.text    # 법적 고지 제거\n",
        "    if not \"< 저작권자 ⓒ 어린이동아\" in p.text        # 법적 고지 제거\n",
        "    if not (\"▶어린이동아\" and \"기자\") in p.text      # 기자 제거\n",
        "]\n",
        "article = \" \".join(article)\n",
        "article = re.sub(pattern, \"\", article)\n",
        "article"
      ],
      "metadata": {
        "colab": {
          "base_uri": "https://localhost:8080/",
          "height": 157
        },
        "id": "-_KoUzAEAnGG",
        "outputId": "1d8f14a1-cdd7-47f5-c4f0-8dd90a46e5ed"
      },
      "execution_count": 214,
      "outputs": [
        {
          "output_type": "execute_result",
          "data": {
            "application/vnd.google.colaboratory.intrinsic+json": {
              "type": "string"
            },
            "text/plain": [
              "'올림픽 경기 중계를 유심히 보다 보면 곳곳에서 ‘OMEGA(Ω)’라는 글자와 로고를 찾아볼 수 있다. 0.001초 차이로 승부가 결정되곤 하는 올림픽의 세계에서 오메가는 90년간 정밀한 시계 기술로 선수들의 기록을 측정해왔다. 이제 오메가는 단순히 기록을 재는 것을 넘어 경기력까지 분석하는 스마트 시스템을 갖췄다. 2022 베이징 올림픽에서도 타임키퍼로 나서는 오메가는 어떤 기술을 선보일까. 고난도의 점프 기술과 섬세한 연기력을 모두 갖춰야 높은 점수를 받는 스포츠인 피겨스케이팅은 겨울올림픽의 ‘꽃’으로 불린다. 베이징 올림픽에서는 피겨스케이팅 선수들의 점프 기술을 낱낱이 뜯어 볼 수 있게 됐다. 오메가는 선수들의 움직임과 위치를 파악하는 ‘모션 센서 및 포지셔닝 감지 시스템’을 피겨스케이팅에도 도입한다고 최근 밝혔다. 2018 평창 겨울올림픽에서 공식적으로 처음 도입된 모션 센서 및 포지셔닝 감지 시스템은 선수의 몸이나 운동기기 등에 부착해 움직임을 데이터화하는 기술을 말한다. 이와 더불어 오메가는 빙상 경기장 주변에 설치한 6대의 카메라로 피겨스케이팅 싱글 경기 중 선수들의 점프 높이와 비거리, 체공(공중에 머물러 있음) 시간 같은 데이터를 실시간으로 측정한다. 데이터를 바탕으로 선수들은 자신의 경기방식을 다른 선수와 비교·분석할 수 있게 되고, 시청자들도 선수들의 동작을 자세히 이해하게 될 것으로 보인다. 아이스하키는 빙판 위에서 긴 스틱으로 ‘퍽’이라고 불리는 고무로 된 납작한 원판을 쳐서 상대방의 골문에 넣어 점수를 올리는 종목이다. 최대 시속 170㎞로 빠르게 날아가는 퍽은 보는 이에게 박진감(생동감 있고 활기차서 현실적으로 느껴지는 것)을 선사한다. 베이징 올림픽의 아이스하키 경기장에는 그동안 볼 수 없었던 한 면이 투명한 특수 디스플레이가 설치된다. 오메가는 링크 주변에 발광다이오드(LED)로 빛나는 디스플레이를 설치해 선수들이 경기 중에 경과 시간 및 페널티(심판이 규칙을 어긴 선수에 내리는 벌칙) 시간을 확인하게 한다고 밝혔다. 디스플레이는 두 개의 페널티 박스(아이스하키에서 반칙한 선수들의 대기 장소) 사이에 적용될 예정이다. 오메가는 2022 베이징 대회를 포함하여 총 30회의 올림픽에 타임키퍼로 참여해왔다. 300여 명의 타임키퍼와 200t(톤)에 달하는 최첨단 장비를 중국 베이징으로 보낸 것으로 알려졌다. 지난해 도쿄 올림픽에서 오메가는 체조 선수의 관절의 움직임까지 포착할 수 있는 포즈 감지 기술을 도입했다. 심사위원들이 빠르게 지나가 놓쳤던 선수들의 동작과 기술을 빠짐없이 화면을 통해 다시 볼 수 있어 객관적 평가를 가능하게 했다는 평가를 받는다. 이처럼 인간의 눈이 아니라 발전한 과학 기술로 선수들의 기록을 측정하는 오메가는 2032년까지 타임키퍼로 활동하기로 국제올림픽위원회(IOC)와 계약했다. 향후 10년간 오메가가 보다 정확한 올림픽을 만들기 위해 어떤 신기술을 내놓을지 기대를 모은다. 2022 베이징 겨울올림픽의 개막이 하루 앞으로 다가왔다. 세계인이 주목하는 스포츠 축제인 올림픽에서는 각국의 선수들이 뛰어난 기량을 겨룰 뿐 아니라 개최국과 참가국이 기술력을 과시하기도 한다.'"
            ]
          },
          "metadata": {},
          "execution_count": 214
        }
      ]
    },
    {
      "cell_type": "code",
      "source": [
        "# image path (두 가지 경우의 수)\n",
        "try: \n",
        "    img_path = sub_soup.select_one(\"div.at_content > p > img\").get(\"src\")\n",
        "except:\n",
        "    img_path = sub_soup.select_one(\"div.at_content > p > span > img\").get(\"src\")\n",
        "img_path"
      ],
      "metadata": {
        "id": "Snmw0jwvjskh",
        "outputId": "96d4eaab-4fe0-4a71-d778-eb1434c4bf4a",
        "colab": {
          "base_uri": "https://localhost:8080/",
          "height": 37
        }
      },
      "execution_count": 170,
      "outputs": [
        {
          "output_type": "execute_result",
          "data": {
            "application/vnd.google.colaboratory.intrinsic+json": {
              "type": "string"
            },
            "text/plain": [
              "'http://kids.donga.com/www/data/article/202202/2819e89f3d3bf24e29d5163f47290123_1643773091_0741.jpg'"
            ]
          },
          "metadata": {},
          "execution_count": 170
        }
      ]
    },
    {
      "cell_type": "markdown",
      "source": [
        "## Full Web Crawler"
      ],
      "metadata": {
        "id": "U7SHSPRRDUju"
      }
    },
    {
      "cell_type": "code",
      "source": [
        "# 크롤링 타겟 설정\n",
        "%%time\n",
        "news_titles = []\n",
        "pages = list(range(1, 11))\n",
        "\n",
        "for num in pages: \n",
        "    url = f\"https://kids.donga.com/?page_no={num}&ptype=article&psub=news&gbn=01\"\n",
        "    req = requests.get(url)\n",
        "    html = req.text\n",
        "    soup = BeautifulSoup(html, \"html.parser\")\n",
        "    news_titles += soup.select(\"dt > a\")\n",
        "\n",
        "print(\"크롤링 타겟 수:\", len(news_titles))"
      ],
      "metadata": {
        "id": "eYZmDYGu47SQ",
        "outputId": "518d8609-7b85-40d2-d048-cfd76fe06c6d",
        "colab": {
          "base_uri": "https://localhost:8080/"
        }
      },
      "execution_count": 275,
      "outputs": [
        {
          "output_type": "stream",
          "name": "stdout",
          "text": [
            "크롤링 타겟 수: 100\n",
            "CPU times: user 470 ms, sys: 6.85 ms, total: 477 ms\n",
            "Wall time: 12.3 s\n"
          ]
        }
      ]
    },
    {
      "cell_type": "code",
      "source": [
        "%%time\n",
        "\n",
        "import requests\n",
        "from bs4 import BeautifulSoup\n",
        "import re\n",
        "\n",
        "pattern = re.compile(\"[\\xa0\\u200b\\n\\r\\t]\") # regex pattern\n",
        "data = []\n",
        "for title in news_titles:\n",
        "    json_data = {}\n",
        "    \n",
        "    # sub crawling\n",
        "    sub_url = title.get(\"href\")\n",
        "    sub_req = requests.get(sub_url)\n",
        "    sub_html = sub_req.text\n",
        "    sub_soup = BeautifulSoup(sub_html, \"html.parser\")\n",
        "    \n",
        "    # url\n",
        "    json_data[\"url\"] = sub_url\n",
        "    \n",
        "    # title\n",
        "    title = sub_soup.select_one(\"li.title\").text\n",
        "    title = re.sub(pattern, \"\", title)\n",
        "    json_data[\"title\"] = title\n",
        "\n",
        "    # author\n",
        "    author = sub_soup.select_one(\"li.writer\").text\n",
        "    author = re.sub(pattern, \"\", author.split(\" \")[0])\n",
        "    json_data[\"author\"] = author\n",
        "\n",
        "    # date\n",
        "    date = sub_soup.select_one(\"li.upload_date\").text\n",
        "    json_data[\"date\"] = date\n",
        "\n",
        "    # article\n",
        "    article = sub_soup.select(\"div.at_content > p\")\n",
        "    article = [\n",
        "        p.text for p in article \n",
        "        if not p.img \n",
        "        if not \"위 기사의 법적인 책임과 권한은\" in p.text \n",
        "        if not \"< 저작권자 ⓒ 어린이동아\" in p.text \n",
        "        if not (\"▶어린이동아\" and \"기자\") in p.text\n",
        "    ]\n",
        "    article = \" \".join(article)\n",
        "    article = re.sub(pattern, \"\", article)\n",
        "    article\n",
        "    json_data[\"article\"] = article\n",
        "\n",
        "    # img_path\n",
        "    img_path = sub_soup.select_one(\"div.at_content img\").get(\"src\")\n",
        "    json_data[\"img_path\"] = img_path\n",
        "\n",
        "    # source\n",
        "    json_data[\"source\"] = \"어린이동아\"\n",
        "    \n",
        "    data.append(json_data)\n",
        "print(\"크롤링 데이터 수:\", len(data))"
      ],
      "metadata": {
        "colab": {
          "base_uri": "https://localhost:8080/"
        },
        "id": "AkleIF3EDXvo",
        "outputId": "3b1bc47b-eb59-4103-fc30-107dd7459b60"
      },
      "execution_count": 276,
      "outputs": [
        {
          "output_type": "stream",
          "name": "stdout",
          "text": [
            "크롤링 데이터 수: 100\n",
            "CPU times: user 4.08 s, sys: 126 ms, total: 4.2 s\n",
            "Wall time: 1min 46s\n"
          ]
        }
      ]
    },
    {
      "cell_type": "code",
      "source": [
        "data"
      ],
      "metadata": {
        "colab": {
          "base_uri": "https://localhost:8080/"
        },
        "id": "LPtlL6XWHIg4",
        "outputId": "ca5485cc-c27f-4872-ccbc-68328710c94e"
      },
      "execution_count": 277,
      "outputs": [
        {
          "output_type": "execute_result",
          "data": {
            "text/plain": [
              "[{'article': '올림픽 경기 중계를 유심히 보다 보면 곳곳에서 ‘OMEGA(Ω)’라는 글자와 로고를 찾아볼 수 있다. 0.001초 차이로 승부가 결정되곤 하는 올림픽의 세계에서 오메가는 90년간 정밀한 시계 기술로 선수들의 기록을 측정해왔다. 이제 오메가는 단순히 기록을 재는 것을 넘어 경기력까지 분석하는 스마트 시스템을 갖췄다. 2022 베이징 올림픽에서도 타임키퍼로 나서는 오메가는 어떤 기술을 선보일까. 고난도의 점프 기술과 섬세한 연기력을 모두 갖춰야 높은 점수를 받는 스포츠인 피겨스케이팅은 겨울올림픽의 ‘꽃’으로 불린다. 베이징 올림픽에서는 피겨스케이팅 선수들의 점프 기술을 낱낱이 뜯어 볼 수 있게 됐다. 오메가는 선수들의 움직임과 위치를 파악하는 ‘모션 센서 및 포지셔닝 감지 시스템’을 피겨스케이팅에도 도입한다고 최근 밝혔다. 2018 평창 겨울올림픽에서 공식적으로 처음 도입된 모션 센서 및 포지셔닝 감지 시스템은 선수의 몸이나 운동기기 등에 부착해 움직임을 데이터화하는 기술을 말한다. 이와 더불어 오메가는 빙상 경기장 주변에 설치한 6대의 카메라로 피겨스케이팅 싱글 경기 중 선수들의 점프 높이와 비거리, 체공(공중에 머물러 있음) 시간 같은 데이터를 실시간으로 측정한다. 데이터를 바탕으로 선수들은 자신의 경기방식을 다른 선수와 비교·분석할 수 있게 되고, 시청자들도 선수들의 동작을 자세히 이해하게 될 것으로 보인다. 아이스하키는 빙판 위에서 긴 스틱으로 ‘퍽’이라고 불리는 고무로 된 납작한 원판을 쳐서 상대방의 골문에 넣어 점수를 올리는 종목이다. 최대 시속 170㎞로 빠르게 날아가는 퍽은 보는 이에게 박진감(생동감 있고 활기차서 현실적으로 느껴지는 것)을 선사한다. 베이징 올림픽의 아이스하키 경기장에는 그동안 볼 수 없었던 한 면이 투명한 특수 디스플레이가 설치된다. 오메가는 링크 주변에 발광다이오드(LED)로 빛나는 디스플레이를 설치해 선수들이 경기 중에 경과 시간 및 페널티(심판이 규칙을 어긴 선수에 내리는 벌칙) 시간을 확인하게 한다고 밝혔다. 디스플레이는 두 개의 페널티 박스(아이스하키에서 반칙한 선수들의 대기 장소) 사이에 적용될 예정이다. 오메가는 2022 베이징 대회를 포함하여 총 30회의 올림픽에 타임키퍼로 참여해왔다. 300여 명의 타임키퍼와 200t(톤)에 달하는 최첨단 장비를 중국 베이징으로 보낸 것으로 알려졌다. 지난해 도쿄 올림픽에서 오메가는 체조 선수의 관절의 움직임까지 포착할 수 있는 포즈 감지 기술을 도입했다. 심사위원들이 빠르게 지나가 놓쳤던 선수들의 동작과 기술을 빠짐없이 화면을 통해 다시 볼 수 있어 객관적 평가를 가능하게 했다는 평가를 받는다. 이처럼 인간의 눈이 아니라 발전한 과학 기술로 선수들의 기록을 측정하는 오메가는 2032년까지 타임키퍼로 활동하기로 국제올림픽위원회(IOC)와 계약했다. 향후 10년간 오메가가 보다 정확한 올림픽을 만들기 위해 어떤 신기술을 내놓을지 기대를 모은다. 2022 베이징 겨울올림픽의 개막이 하루 앞으로 다가왔다. 세계인이 주목하는 스포츠 축제인 올림픽에서는 각국의 선수들이 뛰어난 기량을 겨룰 뿐 아니라 개최국과 참가국이 기술력을 과시하기도 한다.',\n",
              "  'author': '장진희',\n",
              "  'date': '2022-02-02 12:47:00',\n",
              "  'img_path': 'http://kids.donga.com/www/data/article/202202/2819e89f3d3bf24e29d5163f47290123_1643773437_274.jpg',\n",
              "  'source': '어린이동아',\n",
              "  'title': '2022 베이징 올림픽의 타임키퍼 ‘오메가’의 기술은? 생동감 넘치는 경기 전달해요!',\n",
              "  'url': 'https://kids.donga.com?ptype=article&no=20220202124700920857&psub=news&gbn=01'},\n",
              " {'article': '[오늘의 키워드] 소셜네트워크서비스(SNS) 인터넷상에서 이용자들이 인적 네트워크를 형성해 서로 소통할 수 있도록 하는 서비스를 뜻한다. 트위터, 페이스북, 인스타그램이 대표적이다. 최근에는 SNS를 통해 자신의 일상을 공유하고 다른 이들과 원활한 소통을 하며 사회적 관계를 맺는 이들이 많다. 영국에서 소셜네트워크서비스(SNS)에 신체 사진을 올릴 때 보정한 사진일 경우 보정 유무를 의무적으로 고지하는 법안이 발의됐다. 영국 BBC 등 외신은 루크 에반스 영국 보수당 하원 의원이 ‘디지털상 변형된 신체 이미지(Digitally Altered Images Bill)’ 법안을 발의했다고 최근 보도했다. 이 법안은 인플루언서(SNS에서 대중에게 영향을 미치는 이들)들이 SNS에 게재하는 광고 사진 가운데 신체가 드러나는 사진에 적용된다. 신체가 보이는 사진에 보정 애플리케이션(앱) 등을 이용해 사진 보정을 했다면 SNS에 올릴 때 보정 사실을 의무적으로 알려야 한다는 것이 핵심이다. 의사 출신인 루크 에반스 의원은 “비현실적인 몸을 원하고 이에 이르지 못하면 불안과 우울을 겪는 젊은이들이 많다”면서 “보정된 사진 등을 보며 섭식 장애(비정상적으로 음식을 섭취하는 증상)를 겪는 이들도 늘어나고 있어 이를 막기 위해 법안을 마련했다”고 밝혔다. 외모지상주의(외모에 가치의 중심을 두는 사고방식) 등을 제재할 조치가 필요하다는 것. 앞서 지난해 노르웨이에서도 인플루언서들의 광고글에는 보정 사실을 알려야 한다는 내용을 담은 마케팅법 개정안이 통과된 바 있다. 해당 법안이 발의된 것을 두고 찬반 의견이 나온다. 이 법안을 찬성하는 측은 SNS 상에서 보이는 완벽한 외모를 기준으로 하는 이들의 외모 강박(심리적으로 심하게 압박을 느낌)을 해소하는 데 법안이 도움이 된다는 주장이다. 보정 유무를 표시하면 허위 광고 등을 잡아낼 수 있다는 것이다. 반면 이 법안에 반대하는 이들은 개인이 운영하는 SNS에서 보정 유무를 의무적으로 고지하는 것은 개인의 자유를 해친다고 지적한다. 보정 유무의 판단 기준 역시 명확한 기준이 없어 법의 실효성(실제로 효과를 나타내는 성질)도 떨어진다는 지적이다.  ▶어동이 나는 ‘디지털상 변형된 신체 이미지’ 법에 찬성해. 최근에는 SNS를 이용하는 사람들이 많고 이를 통해 필요한 물건 등을 구매하는 이들도 많아. 상황이 이런 만큼 SNS에서 유명한 인플루언서들은 영향력도 엄청나지. 그런데 이들이 과하게 보정된 신체 사진으로 어떠한 물건을 광고하게 되면 이들을 선망하는 사람들은 그 물건을 무분별하게 구매하게 될 거야. 또 비현실적인 외모에 대한 환상이 커져 무리한 다이어트를 할 가능성도 높아져. 보정 유무를 의무적으로 알리면 합리적인 소비를 도울 뿐만 아니라 외모에 대한 강박도 줄어들 것으로 보여. ▶어솜이 나는 ‘디지털상 변형된 신체 이미지’ 법에 반대해. SNS는 개인이 원하는 사진을 자유롭게 올릴 수 있는 공간이야. 어떤 사진을 올리든 그건 올리는 사람의 자유 아닐까? 이를 제재하는 법안을 만드는 것은 개인의 자유를 해치는 행위와 같아. 그리고 모든 사람들은 자신의 모습을 아름답게 보이게 하고 싶은 욕구가 있는데, 이를 막는 것은 바람직하지 못하다고 생각해. 또 보정을 했는지, 하지 않았는지 확인할 수 있는 기준이 모호해. 이 법이 시행되면 혼란을 불러일으킬 가능성이 커. ※ 어동이와 어솜이의 주장 중 누구의 주장에 동의하나요? 내 생각을 2월 17일(목)까지 어린이동아 온라인 카페(cafe.naver.com/kidsdonga)의 ‘어동 찬반토론’ 게시판에 올려주세요. 가장 논리적으로 주장을 편 어린이들의 의견을 뽑아 지면에 소개합니다.',\n",
              "  'author': '권세희',\n",
              "  'date': '2022-02-02 12:38:00',\n",
              "  'img_path': 'http://kids.donga.com/www/data/article/202202/2819e89f3d3bf24e29d5163f47290123_1643773091_0741.jpg',\n",
              "  'source': '어린이동아',\n",
              "  'title': '[뉴스쏙 시사쑥]영국에서 SNS 사진 ‘보정 유무 표기’ 법안 발의 “외모에 대한 강박 줄일 수 있어” vs “개인의 자유 존중해야”',\n",
              "  'url': 'https://kids.donga.com?ptype=article&no=20220202123848709079&psub=news&gbn=01'},\n",
              " {'article': '일본 정부가 일제강점기(일제가 1910년 우리나라의 국권을 강탈한 이후 1945년 우리나라가 해방되기까지 35년간의 시대) 조선인 강제 노역(몹시 괴롭고 힘들게 일함) 현장이었던 ‘사도광산’을 유네스코(UNESCO) 세계문화유산으로 추천하기로 결정하면서 우리나라와 일본 사이에 격렬한 갈등이 이어질 것으로 보인다. 사도광산은 일본 중부 니가타현 사도시에 있는 광산으로 과거 일본의 대표적인 금 생산지였다. 교도통신 등 외신은 일본 정부가 1일 열린 각의(내각회의)에서 사도광산을 유네스코 세계문화유산으로 추천한다는 방침을 결정했다고 최근 보도했다. 앞서 기시다 후미오 일본 총리는 사도광산을 2023년 유네스코 세계문화유산에 등재(일정한 사항을 장부나 대장에 올림)하는 것을 목표로 사도광산을 세계유산으로 추천한다는 방침을 지난달 28일 발표한 바 있다. 일본이 사도광산을 세계유산으로 추천하면서 이를 둘러싸고 우리나라와의 역사 논쟁이 벌어질 것으로 보인다. 사도광산은 일제강점기 다수의 조선인 노동자가 동원돼 가혹한 노역을 하도록 강요받은 곳이기 때문. 일본은 이 사실을 인정하지 않고 일제강점기 역사를 제외하고 ‘에도시대(1603년∼1867년)’로만 한정해 세계유산으로 등재하려 하고 있다. 이에 우리나라 외교부는 “강제 노역 피해 현장인 ‘사도광산’을 유네스코 세계유산으로 등재하고 추진키로 결정한 데 대해 강한 유감을 표명한다”면서 “이러한 시도를 중단할 것을 엄중히 촉구한다”고 밝혔다. 사도광산의 세계유산 등재 여부는 유네스코 자문기관인 국제기념물유적회의(ICOMOS) 등이 현지 조사 등을 실시하고 심사를 거쳐 내년 6∼7월 결정될 예정이다.',\n",
              "  'author': '권세희',\n",
              "  'date': '2022-02-02 12:33:00',\n",
              "  'img_path': 'http://kids.donga.com/www/data/article/202202/2819e89f3d3bf24e29d5163f47290123_1643772810_0669.jpg',\n",
              "  'source': '어린이동아',\n",
              "  'title': '[뉴스 브리핑]일본, ‘사도광산’ 세계유산 추천 결정',\n",
              "  'url': 'https://kids.donga.com?ptype=article&no=20220202123358514117&psub=news&gbn=01'},\n",
              " {'article': ' 우리나라 축구가 10회 연속 월드컵 본선 진출이라는 위업(위대한 업적)을 달성했다. 올해로 22회째를 맞는 월드컵에서 10회 연속으로 월드컵 본선 진출을 이룬 나라는 우리나라를 포함해 세계에서 6개 나라뿐이다.  파울루 벤투(포르투갈) 감독이 이끄는 우리나라 축구대표팀은 1일(현지시간) 아랍에미리트(UAE) 두바이의 라시드 스타디움에서 열린 2022 국제축구연맹(FIFA) 카타르 월드컵 아시아 지역 최종예선 8차전 시리아와의 경기에서 김진수(30·전북 현대)와 권창훈(28·김천 상무)의 연속골에 힘입어 2대0으로 승리했다. 이로써 최종예선에서 패배 없이 6승 2무를 기록한 우리나라는 남은 예선 2경기 결과에 상관없이 월드컵 본선 진출을 확정지었다. 2개조로 나뉘어 치러지는 아시아 지역 최종예선에선 각 조의 1, 2위 국가가 본선에 직행(바로 감)하는데, 우리나라는 현재 A조 2위에 올라있다.  우리나라는 1986년 멕시코에서 열린 월드컵 본선 대회부터 시작해 올해 카타르에서 열릴 월드컵까지 10회 연속으로 본선 무대를 밟는다. 월드컵 본선 대회에 10회 연속 이상 진출한 나라는 우리나라를 제외하고 전 세계에서 브라질, 독일, 이탈리아, 아르헨티나, 스페인뿐이다.  아울러 우리나라는 카타르 월드컵 본선 진출을 확정한 15번째 국가가 됐다. 개최국 카타르를 비롯해 스페인, 프랑스, 네덜란드, 잉글랜드, 독일, 브라질, 아르헨티나 등이 우리나라보다 앞서 카타르 월드컵 본선 진출을 확정지었다.  [한 뼘 더] 11월, 카타르를 달굴 축구 열기! 2022 FIFA 카타르 월드컵은 아랍권에서 처음 열리는 월드컵! 올해 11월 21일부터 12월 18일까지 카타르의 수도 도하를 비롯한 5개 도시에서 열려요. 월드컵이 11월에 개막하는 것은 이번이 처음. 과거엔 6월에 열렸지만 이 시기 카타르의 기온이 40도를 넘어 11월로 개최 시기가 변경됐지요. 본선에는 전 세계 32개국이 참가해 실력을 겨루는데요. 본선 조 추첨은 4월 1일 카타르 도하에서 진행될 예정이랍니다.',\n",
              "  'author': '김재성',\n",
              "  'date': '2022-02-02 12:09:00',\n",
              "  'img_path': 'http://kids.donga.com/www/data/article/202202/581bb2e612f7c805926d035f6f8222e7_1643771330_7855.jpg',\n",
              "  'source': '어린이동아',\n",
              "  'title': '[오늘의 뉴스]한국 축구, 10회 연속 월드컵 본선 진출 위업 달성',\n",
              "  'url': 'https://kids.donga.com?ptype=article&no=20220202120934178503&psub=news&gbn=01'},\n",
              " {'article': ' >> 1일 *미얀마 만달레이. 청년 활동가와 불교 승려들이 “누가 감히 민중의 뜻에 반대하는 편에 설 수 있는가”라고 버마어로 적힌 현수막을 들고 군부 정부에 반대하는 시위에 참가하고 있다.  *미얀마 쿠데타(무력으로 정권을 빼앗는 일)가 발발(큰 사건이 갑자기 일어남) 1년을 맞았다. 지난해 2월 1일 미얀마 군부(군사에 관한 일을 총괄하는 군의 핵심 세력)는 쿠데타를 일으키고, 미얀마의 민주화를 이끈 인물인 아웅산 수지 국가고문을 감금했다. 미얀마 국민들은 이에 굴하지 않고 민주화를 열망하며 쿠데타에 저항하는 시위를 목숨을 걸고 1년째 이어가고 있다.  이날 미얀마 쿠데타 발발 1주년을 맞아 미얀마 곳곳에서는 기습적인 반 군정(국가의 실권을 장악한 군부) 시위가 진행됐고, 국제사회는 폭력을 중단하라고 미얀마 군정에 촉구했다.',\n",
              "  'author': '김재성',\n",
              "  'date': '2022-02-02 12:06:00',\n",
              "  'img_path': 'http://kids.donga.com/www/data/article/202202/581bb2e612f7c805926d035f6f8222e7_1643771144_3703.jpg',\n",
              "  'source': '어린이동아',\n",
              "  'title': '[월드 뉴스]미얀마 쿠데타 1년… 여전히 이어지는 시위',\n",
              "  'url': 'https://kids.donga.com?ptype=article&no=20220202120612605158&psub=news&gbn=01'},\n",
              " {'article': ' 바다에 둥둥 떠다니다가 하늘을 향해 날아오를 수 있는 요트. 영화에서나 볼 법한 요트를 현실에서 볼 수 있을지도 모른다.  최근 미국 CNN 방송 등 외신은 “이탈리아의 라자리니 디자인 스튜디오가 하늘을 나는 요트인 ‘에어요트(Air Yacht)’의 이미지를 공개했다”고 보도했다. 가벼우면서도 튼튼한 탄소 섬유 소재로 만들어진 에어요트는 가운데 船體가 있고, 80m 길이의 船體 양쪽에 방망이 모양의 150m 길이 구조물을 갖춘 모습이 특징. 양쪽 구조물에는 공기보다 가벼운 가스인 헬륨이 압축돼 있어 거대한 船體 가 뜰 수 있도록 돕는다. CNN은 “태양광 에너지와 초경량 배터리를 동력으로 삼아 비행선은 시속 약 110㎞로 48시간 동안 하늘을 날 수 있고, 물 위에서는 시속 약 10㎞로 이동한다”고 밝혔다.  비행선 중앙 船體 에 식당, 수영장 등의 시설이 있으며 승객들은 船體 와 양쪽의 구조물 사이를 연결하는 4개의 다리를 통해 내부를 자유롭게 오갈 수 있다. ',\n",
              "  'author': '김재성',\n",
              "  'date': '2022-02-02 12:05:00',\n",
              "  'img_path': 'http://kids.donga.com/www/data/article/202202/581bb2e612f7c805926d035f6f8222e7_1643771081_393.jpg',\n",
              "  'source': '어린이동아',\n",
              "  'title': '[한자뉴스]하늘을 나는 요트… 약 7465억 원',\n",
              "  'url': 'https://kids.donga.com?ptype=article&no=20220202120507717054&psub=news&gbn=01'},\n",
              " {'article': '수업 시간에 낙서를 한다고 선생님께 혼났던 영국의 어린이가 세계적 스포츠 브랜드인 나이키의 디자이너가 됐다. 영국 BBC, 미국 CNN 등에 따르면 라인 드로잉 작품을 소셜네트워크서비스(SNS)에서 선보여 온 12세 영국 소년인 조 웨일이 최근 나이키와 계약을 맺고 공동 크리에이터로 활동하게 됐다. 라인 드로잉은 주로 선을 이용해 형태를 표현하는 기법을 말한다. 웨일은 온라인에서 나이키를 홍보하며 어린이의 창의적인 활동을 격려할 예정이다. 웨일은 ‘the doodle boy(낙서하는 소년)’이라는 인스타그램 계정을 통해 자신의 작품을 게시해왔다. 주로 외계인, 괴물, 음식을 주제로 한 그림을 그린다고 웨일은 밝혔다. 현재 12만 명가량의 팔로워를 가진 웨일은 지난해 그가 태어나고 자란 마을인 영국의 슈루즈베리에 있는 미술관에서 첫 개인전을 열기도 했다. 올해 말에는 어린이를 위한 그림책도 출간한다. 어엿한 작가로 활발히 활동 중인 웨일이 처음부터 칭찬을 받은 것은 아니었다. 수업에 집중하지 못하고 낙서를 많이 한다고 꾸중을 듣기도 했던 것. 방과 후 교실에서 만난 선생님의 제안으로 온라인에 그림을 올리며 관심을 모으기 시작한 웨일은 영국 윌리엄 왕자 부부의 기차 여행을 그림으로 기록해 인정받았다. 웨일은 나이키와의 계약에 대해 “내 꿈 중 하나가 이뤄졌다”면서 “이제껏 스스로에게 좋아하는 일을 하라고 말해왔는데 그게 낙서였다”고 말했다.[한 뼘 더] 운동화 디자이너가 돼보자!웨일은 나이키 운동화에 그림을 그려 세상에 하나뿐인 자신만의 신발을 만들어 주목받았어요. 내가 운동화 디자이너라면 어떤 신발을 만들고 싶은지 아래에 그려보아요. ',\n",
              "  'author': '장진희',\n",
              "  'date': '2022-01-27 14:06:00',\n",
              "  'img_path': 'http://kids.donga.com/www/data/article/202201/48bd2a04679fa1ee49e90f9413d3c73f_1643259958_2001.jpg',\n",
              "  'source': '어린이동아',\n",
              "  'title': '[오늘의 뉴스]낙서한다고 혼났던 영국 소년, 나이키 디자이너 됐다',\n",
              "  'url': 'https://kids.donga.com?ptype=article&no=20220127140638502004&psub=news&gbn=01'},\n",
              " {'article': '경기 하남시에 거주하는 초등 3학년 A 양은 설 연휴를 앞두고 외숙모에게 세뱃돈을 비대면 방식으로 송금 받았다. A 양은 “용돈 말고도 외숙모가 온라인 쇼핑몰에서 주문하신 선물을 배송받기도 했다”며 “코로나19 확산으로 친척들을 만나지 못하는 것은 아쉽지만 새해 인사를 전하고 간편하게 세뱃돈을 받을 수 있어서 다행”이라고 말했다. 전파력이 높은 코로나19 오미크론 변이의 유행으로 일일 신규 확진자가 급증하면서 올해 설 연휴도 가족 모임 및 고향 방문을 자제해야 하는 분위기다. 만날 순 없지만 계좌 이체 또는 모바일 애플리케이션(앱)을 통한 간편 송금 등의 방식으로 세뱃돈을 주고받는 문화가 활성화되고 있다.만날 순 없어도 세뱃돈은 ‘간편 송금’ 설날 아침, 설빔(설에 입는 새 옷)을 차려 입은 어린이들이 어른에 세배를 한 뒤 세뱃돈을 받는 문화는 약 100년 전부터 시작됐다. ‘세배에 대한 답례로 돈을 줬다’는 기록은 최영년의 시집 ‘해동죽지’(1925)에 처음 나온다. 코로나19 확산으로 세뱃돈을 주고받는 풍경도 바뀌었다. 직접 만나긴 어렵지만 필요한 물건을 사거나 저축하라고 세뱃돈을 송금하는 경우가 늘고 있는 것. 카카오톡 채팅방에서 메시지를 보내듯 간편하게 현금을 주고받는 송금 서비스를 운영하는 카카오페이에 따르면 지난해 설 연휴 기간(2월 10일~2월 14일) 카카오페이 송금 서비스 이용량은 코로나19 이전과 비교해 급증했다. 지난해 2월 10일~2월 14일 ‘설날’ 송금봉투로 송금된 금액은 코로나19 확산 전인 2019년 설 연휴(2월 2일~2월 6일) 대비 442.4% 증가했고, ‘설날’ 송금봉투 이용량은 271% 증가했다. 코로나19로 화폐공급 감소 전망 설날이나 추석 같은 명절에는 세뱃돈 지급 등으로 현금 사용량이 늘어난다. 이에 우리나라의 중앙은행인 한국은행은 일반적으로 명절 전에 평소보다 더 많은 화폐를 금융기관에 공급해왔다. 하지만 코로나19 확산 이후 대면해서 세뱃돈을 받는 경우보다 계좌이체나 간편 송금으로 받는 사례가 늘어나는 추세다. 25일 한국은행 발권기획팀에 따르면 올해 설 연휴 전에는 화폐공급 규모가 코로나19 확산 전에 비해 줄어들 것으로 보인다. 화폐를 한꺼번에 많이 공급하기 위해 한국은행은 신권을 추가로 발행하거나 회수된 화폐 중 지저분한 것을 세척하고 훼손된 것은 폐기하는 과정을 거친다. 그런데 돈을 만들기 위해서도 돈이 든다. 한국은행에 따르면 2016~2020년 새로운 지폐를 제조하는 데 매년 평균 800억 원 이상이 들었다. 빳빳한 신권을 세뱃돈으로 주고받기를 선호하는 사람이 많을수록 사회적 비용이 증가하게 되는 것. 지난해 상반기에 폐기된 2억2310만 장의 화폐를 쌓아 올리면 에베레스트 산의 11배 높이에 이른다. 세뱃돈을 현금으로 받았다면 꼬깃꼬깃 접거나 구기지 말고 지갑에 넣어 보관해야 하고, 지폐에 낙서를 해서도 안 된다.주식 투자 한다면, 장기적으로 손주나 자녀에 세뱃돈을 주는 대신 주식을 선물하는 방식에 관심을 갖는 부모님과 조부모님이 늘어나는 추세다. 주식 투자를 교육하기 위한 목적이 크다. A 양은 “외할머니께 주식을 받기 위해 부모님의 동의를 받아 최근에 주식 계좌를 개설했다”며 “주식을 보유하면 주주가 되어 특정 회사의 주인이 되는 것이라고 배웠다”고 말했다. 이창민 KB증권 WM스타자문단 차장은 세뱃돈으로 주식 구매를 하려는 어린이들에게 “적은 돈으로 큰 돈을 만들겠다는 생각으로 접근하기보다는 장기적으로 투자해 ‘복리효과’를 노려보는 것이 바람직하다”고 조언했다. 복리효과란 투자 기간이 늘수록 작은 투자금에 가속도가 생겨 빠르게 돈이 불어나는 효과를 말한다. 미성년자는 부모님과 함께 증권사 지점에 직접 방문해야 주식 계좌를 개설할 수 있다. 증권사들은 만 19세 미만의 경우 △부모님 신분증 △가족관계증명서 △기본증명서 △본인 도장을 모두 갖춰 영업점에 방문해야 주식 계좌를 개설할 수 있다고 안내한다.',\n",
              "  'author': '장진희',\n",
              "  'date': '2022-01-27 14:04:00',\n",
              "  'img_path': 'http://kids.donga.com/www/data/article/202201/48bd2a04679fa1ee49e90f9413d3c73f_1643259528_4108.jpg',\n",
              "  'source': '어린이동아',\n",
              "  'title': '‘띵동~!’ 세뱃돈도 메시지로… 코로나가 바꾼 ‘세뱃돈’ 문화',\n",
              "  'url': 'https://kids.donga.com?ptype=article&no=20220127140401622425&psub=news&gbn=01'},\n",
              " {'article': ' >> 26일 인도 잠무. *인도 공화국의 날 기념 행사가 진행되는 동안 학교 아이들이 코로나바이러스 모형과 함께 공연하고 있다. 이 날은 1950년 국가의 헌법이 채택된 것을 기념한다.  *인도의 헌법을 채택하고 공화국이 된 1950년 1월 26일을 기념하는 날로 인도 최대의 국경일이다. 이날 인도에선 대규모 행진이 벌어지는 등 축하 행사가 열린다. 군인들이 행진하고, 첨단 무기가 선보이는 한편 인도 내 문화와 역사를 상징하는 다양한 군무(무리지어 추는 춤)도 펼쳐진다.',\n",
              "  'author': '김재성',\n",
              "  'date': '2022-01-27 12:48:00',\n",
              "  'img_path': 'http://kids.donga.com/www/data/article/202201/b35215289c0253af9161335ed66afdf3_1643255271_2647.jpg',\n",
              "  'source': '어린이동아',\n",
              "  'title': '[월드 뉴스]인도 공화국의 날, 코로나 종식 기원 퍼포먼스',\n",
              "  'url': 'https://kids.donga.com?ptype=article&no=20220127124809984229&psub=news&gbn=01'},\n",
              " {'article': ' 1980년대부터 熊膽 채취 등을 목적으로 국내에서 행해지던 ‘곰 사육’이 2026년부터 전면 금지된다. 환경부는 사육곰협회, 4개 시민단체, 전남 구례군, 충남 서천군과 함께 2026년부터 곰 사육을 전면 금지하는 협약을 체결했다고 26일 밝혔다. 곰 사육 종식(끝나거나 없어짐)은 우리나라가 국제적인 멸종위기  종 보호에 책임과 역할을 다한다는 점에서 의미가 크다. 환경부는 이날 협약을 바탕으로 국회와 협의해 ‘곰 사육 금지 및 보호에 관한 특별법(가칭)’ 제정도 추진한다.  사육 곰은 1981년부터 1985년까지 농가 소득을 높일 목적으로 수입되기 시작했다. 지난 40년간 국제적 멸종위기종인 곰의 熊膽을 채취하기 위해 곰을 열악한 사육환경에서 방치하는 등의 행위로 국제동물보호단체 등의 비난이 끊이지 않았다.  그간 사육 곰을 불법으로 증식(늘어서 많아짐)하는 행위에 대한 처벌을 강화하는 등의 노력에도 불구하고, 사육 곰이 사유재산인 관계로 정부의 개입을 통한 문제 해결에는 한계가 있었다. 지난해 12월 31일 기준으로 총 24개 농가에서 곰 360마리가 사육되고 있는 것으로 파악됐다. 이에 환경부는 지난해 8월부터 정부, 농가, 시민사회, 전문가가 참여하는 민관협의체를 구성해 곰 사육을 끝내는 방안에 대해 논의했으며 결국 종식에 합의한 것. ',\n",
              "  'author': '김재성',\n",
              "  'date': '2022-01-27 12:46:00',\n",
              "  'img_path': 'http://kids.donga.com/www/data/article/202201/b35215289c0253af9161335ed66afdf3_1643255151_8338.jpg',\n",
              "  'source': '어린이동아',\n",
              "  'title': '[뉴스 브리핑]곰 사육, 40년 만에 끝… 2026년부터 금지',\n",
              "  'url': 'https://kids.donga.com?ptype=article&no=20220127124637361652&psub=news&gbn=01'},\n",
              " {'article': '날쌘 스포츠카가 도로를 쌩쌩 달리다가 날개를 활짝 펼쳐 하늘로 날아오른다. 동유럽 국가 슬로바키아의 스타트업 클라인비전(Klein Vision)이 개발한 플라잉카(하늘을 나는 자동차) ‘에어카(AirCar)’의 모습이다. 미국 CNN 등 외신 보도에 따르면 최근 에어카가 슬로바키아에서 비행 안전 테스트를 통과해 비행 허가를 받았다. 클라인비전은 “70시간의 엄격한 비행 테스트와 200회 이상의 이착륙(비행기 등이 뜨고 내림)을 거친 끝에 슬로바키아 당국으로부터 공식 감항(항공기가 비행하기에 적합한 안전성과 신뢰성을 갖추는 것) 인증서를 받았다”면서 “1년 이내에 에어카가 상용화(일상적으로 쓰임) 될 수 있기를 희망한다”고 밝혔다.  독일의 자동차 회사 BMW가 제작한 엔진을 탑재한 에어카는 약 3분 만에 자동차에서 비행기 모드로 전환해 고도 약 5.5㎞까지 날아오를 수 있다. 지난해 6월에도 슬로바키아의 수도 브라티슬라바에서 니트라 공항까지 35분간의 비행을 마친 뒤 자동차로 변신해 도심을 주행한 바 있다. 일반 자동차의 기름을 넣는 주유소에서 연료를 보충할 수 있지만 에어카로 비행을 하려면 조종사 면허가 필요하다.  회사 측은 “에어카가 공식 감항 인증을 받으면서 플라잉카의 대량 생산을 위한 문이 열렸다”고 밝혔다. 전문가들은 “에어카와 같은 차량이 언젠가는 헬리콥터를 대체할 수 있을 것”이라고 평가했다.',\n",
              "  'author': '김재성',\n",
              "  'date': '2022-01-27 16:59:00',\n",
              "  'img_path': 'http://kids.donga.com/www/data/article/202201/b35215289c0253af9161335ed66afdf3_1643255031_9879.jpg',\n",
              "  'source': '어린이동아',\n",
              "  'title': '[뉴스 브리핑]플라잉카 ‘에어카’, 슬로바키아에서 비행 허가 받았다',\n",
              "  'url': 'https://kids.donga.com?ptype=article&no=20220127124424314962&psub=news&gbn=01'},\n",
              " {'article': ' >> 25일 싱가포르. *나이트 사파리에서 열린 중국 음력 새해를 축하하는 행사의 일환으로 한 말레이 호랑이가 영어로 운과 행운을 의미하는 중국어 ‘푸(福·복 복)’라고 쓰인 용기에서 음식을 얻으려고 시도한다.  *싱가포르에 있는 동물원. 해가 질 때인 오후 7시경 문을 여는 동물원으로 야행성(낮에는 쉬고 밤에 활동하는 동물의 습성) 동물들의 생태를 관찰할 수 있다.',\n",
              "  'author': '김재성',\n",
              "  'date': '2022-01-26 16:18:00',\n",
              "  'img_path': 'http://kids.donga.com/www/data/article/202201/3a658e7d5f46b214db34776f3c786033_1643181478_0444.jpg',\n",
              "  'source': '어린이동아',\n",
              "  'title': '[월드 뉴스]“어흥∼” 복을 잡아라!',\n",
              "  'url': 'https://kids.donga.com?ptype=article&no=20220126161817975611&psub=news&gbn=01'},\n",
              " {'article': ' 러시아의 우크라이나 침공 우려로 미국·영국 등 서방국과 러시아 간의 긴장도 높아지는 가운데 우크라이나에서 전쟁이 발발(전쟁 같은 큰 사건이 일어남)하면 세계적 식량 위기가 발생할 것이라는 전망이 나왔다.  미국의 외교전문매체 포린폴리시(FP)는 최근 “우크라이나에서 전쟁이 나면 식품 가격이 급등(갑자기 오름)할 수 있다”면서 “우크라이나에는 수세기 동안 유럽의 곡식 창고 역할을 한 비옥한 곡창지대(곡식이 많이 나는 지대)가 있기 때문”이라고 보도했다. 전쟁으로 인해 이 지역에서 나는 곡물 생산에 차질이 빚어지면 식량 가격이 폭등해 유럽뿐 아니라 아시아 등 우크라이나에서 식량을 수입하는 국가들의 위기로 이어질 수 있다는 분석이다. 특히 러시아와 국경을 맞대고 있는 우크라이나 동부 지역은 주요 곡물 생산의 중심지대라 우려가 크다.  우크라이나는 옥수수, 보리, 밀 등을 생산해 수출하는데, 세계 식량안보(국민의 식량을 위협하는 외부 요인에서 국민을 지키는 일)에 가장 큰 영향을 미치는 것은 밀이다. 2020년 기준으로 우크라이나는 세계 5위의 밀 수출국으로 2020년에만 약 1800만t(톤)의 밀을 다른 나라에 수출했다. 중국과 유럽연합(EU)을 비롯해 방글라데시, 예멘과 같은 개발도상국(경제 개발이 뒤떨어진 나라)들도 우크라이나의 밀을 수입한다. 리비아는 자국 내 밀 소비량의 43%를 우크라이나에 의존하고 있는 상황.  포린폴리시는 “오랜 내전으로 정치적으로 불안한 리비아 같은 국가에서 식량 가격이 급등하면 ‘아랍의 봄’(2010년 튀니지에서 시작돼 중동 국가 및 북아프리카로 확산된 반정부 시위 운동) 같은 사태가 발생할 수도 있어 우려된다”고 밝혔다.',\n",
              "  'author': '김재성',\n",
              "  'date': '2022-01-26 16:17:00',\n",
              "  'img_path': 'http://kids.donga.com/www/data/article/202201/3a658e7d5f46b214db34776f3c786033_1643181421_5214.jpg',\n",
              "  'source': '어린이동아',\n",
              "  'title': '[뉴스 브리핑]‘유럽의 식량 창고’ 우크라이나에서 전쟁 나면 식량 가격↑',\n",
              "  'url': 'https://kids.donga.com?ptype=article&no=20220126161723928201&psub=news&gbn=01'},\n",
              " {'article': '하마가 다른 하마의 울음소리만 듣고도 자신의 무리인지 다른 무리의 하마인지 구별할 수 있다는 연구결과가 나왔다. 미국 과학전문매체인 사이언스데일리 등 외신은 니콜라 마테붕 프랑스 생테티엔대 동물행동학부 교수 연구진이 하마의 울음소리를 연구한 결과 하마들이 자신의 무리와 다른 무리의 하마를 울음소리만으로도 구분할 수 있다는 사실을 알아냈다고 24일(현지시간) 보도했다. 연구결과는 국제학술지 ‘커런트 바이올로지’에 최근 발표됐다. 연구진은 하마가 무리를 지어 지내는 습성(습관이 되어 버린 성질)이 있고, 울음소리가 매우 큰 동물이라는 점에 주목했다. 울음소리가 하마의 사회 집단을 유지하는 데 영향을 끼치는지 확인하고자 연구를 실시한 것. 연구진은 먼저 아프리카 국가인 모잠비크의 마푸토 특별 보호구역 내 호수에 서식하는 하마 A의 울음소리를 녹음했다. 녹음한 하마의 울음소리를 B, C 두 그룹에게 들려줬다. B 그룹은 A와 같은 호수에 살지만 같은 무리에 속하지 않는 이웃 무리의 하마, C 그룹은 A와 다른 호수에 살며 같은 무리에 속하지 않는 하마 그룹이다.',\n",
              "  'author': '권세희',\n",
              "  'date': '2022-01-26 13:11:00',\n",
              "  'img_path': 'http://kids.donga.com/www/data/article/202201/c4594691c562b0bec20bc793e7e0f7cd_1643170227_7402.jpg',\n",
              "  'source': '어린이동아',\n",
              "  'title': '[한자뉴스]하마, 울음소리 듣고 이웃 하마 구분한다',\n",
              "  'url': 'https://kids.donga.com?ptype=article&no=20220126131100552825&psub=news&gbn=01'},\n",
              " {'article': '미국에서 세계 최초로 돼지의 심장을 사람에게 이식하는 데 성공한 지 얼마 지나지 않아 최근에는 돼지의 신장(소변을 만들어내는 비뇨 기관과 연관된 장기로 ‘콩팥’이라고도 함)을 사람에게 이식하는 수술도 성공했다. 돼지의 장기를 사람에게 이식하는 것처럼 다른 종의 생물의 장기를 비롯해 조직 혹은 세포를 이식하는 것을 ‘이종 장기 이식’이라고 한다. 이종 장기 이식은 무엇인지, 어떻게 다른 동물의 장기를 사람에게 이식할 수 있는 것인지 어동이와 나척척 박사의 대화를 통해 알아보자. 어동이: 돼지의 심장에 이어 신장까지! 박사님, 너무 놀라워요! 돼지 신장은 어떤 사람에게 이식됐나요? 나척척: 이번에 신장을 이식받은 사람은 교통사고로 뇌사(뇌의 기능이 완전히 멈춘 상태) 판정을 받은 미국인 짐 파슨스야. 미국 앨라배마대 버밍엄(UAB) 의료진들은 그에게 유전자를 조작한 돼지의 신장을 이식했단다. 돼지의 유전자를 조작한 것은 면역거부 반응 등 부작용을 일으키는 유전자를 제거하기 위해서야. 어동이: 유전자를 조작한 돼지의 장기를 사용했기 때문에 이식받은 사람의 거부 반응을 줄일 수 있었던 거군요. 돼지 신장을 이식받은 환자의 신장은 정상적으로 기능했나요? 나척척: 그렇단다. 수술한 뒤 23분 만에 돼지 신장을 통해 소변이 생성되기 시작했는데, 소변이 나왔다는 건 신장이 제 기능을 했다는 거야. 신장은 우리 몸에서 마치 정수기처럼 불필요한 노폐물을 제거하고 필요한 부분만 남기는 장기이거든. 환자에게 이식된 신장은 사흘 동안 정상적으로 기능했단다. 바이러스는 물론 환자의 혈액에서 돼지 세포도 발견되지 않아 이종 장기 이식을 기다리는 이들에게 기쁜 소식이라는 평가가 나오지. 우리나라에선? 어동이: 많은 동물 가운데 돼지를 선택한 특별한 이유가 있나요? 나척척: 전문가들에 따르면 돼지의 장기는 사람의 장기와 크기가 비슷하고, 해부학(생물체 내부의 구조와 기구를 연구하는 학문)적인 구조도 비슷해. 전 세계적으로 장기 이식을 기다리고 있는 사람은 많지만 이식할 장기가 부족한 것이 문제인데, 돼지의 장기가 사람의 장기와 비슷하다보니 이런 문제를 해결할 방법으로 주목받는 거지. 어동이: 미국처럼 우리나라도 이종 장기 이식이 가능한가요? 나척척: 우리나라는 2020년 8월 ‘첨단재생의료법’이 제정되면서 이종 장기 이식을 허용했어. 다만 생명윤리법에서는 인간의 배아(태아가 되기 전의 초기 단계)를 동물 자궁에 착상(수정란을 자궁벽에 접착하는 것)시키거나 동물의 배아를 인간의 자궁에 착상시키는 것을 금지하고 있지. 최근 국내의 이종 장기 개발 기업 제넨바이오는 바이러스가 없는 돼지에서 추출(전체 속에서 어떤 요소를 뽑아냄)한 췌도 세포(우리 몸에서 인슐린(탄수화물 대사를 조절하는 호르몬 단백질)을 합성하는 세포)를 사람에게 이식하는 이종 이식 임상시험(의학적인 효과와 안전성을 알아보기 위해 사람을 대상으로 행하는 시험) 계획을 식품의약품안전처에 제출하고 승인을 기다리고 있는 상황이야. “환자 안전, 면밀히 따져봐야” 지적도 어동이: 박사님, 동물의 장기를 사람에게 이식하는 행위가 윤리적으로 문제가 될 수도 있지 않을까요? 나척척: 좋은 지적이야. 영국 BBC에 따르면 일부에선 환자의 안전과 동물의 권리 등에 대해 면밀히 검토해야 한다는 주장이 나와. 이종 장기 이식은 장기 이식을 기다리며 고통 받는 전 세계 환자들의 삶을 바꿀 수 있는 의학적 돌파구로 제시되지만 아직 안정성이 완벽하게 확보되지 않은 만큼 환자의 생명에 위협을 줄 수 있다는 거지. 사람 간의 장기 이식 수술도 거부 반응을 일으키는 경우가 있는데, 다른 종의 동물의 장기를 이식하는 것은 위험하다는 거야.',\n",
              "  'author': '권세희',\n",
              "  'date': '2022-01-26 13:09:00',\n",
              "  'img_path': 'http://kids.donga.com/www/data/article/202201/c4594691c562b0bec20bc793e7e0f7cd_1643170013_4842.jpg',\n",
              "  'source': '어린이동아',\n",
              "  'title': '다른 종의 생물 장기 이식하는 ‘이종 장기 이식’… 사람 몸에 들어간 돼지 장기?',\n",
              "  'url': 'https://kids.donga.com?ptype=article&no=20220126130908250645&psub=news&gbn=01'},\n",
              " {'article': '[오늘의 키워드]셰익스피어 영국 잉글랜드 출신의 극작가. 윌리엄 셰익스피어(1564~1616)가 정식 이름이다. ‘셰익스피어는 인도와도 바꾸지 않겠다’고 말할 정도로 영국인이 사랑하는 문호(뛰어난 작품을 많이 써서 알려진 사람)다. 대표작은 4대 비극인 ‘햄릿’ ‘오셀로’ ‘리어왕’ ‘맥베스’. 미국 할리우드에서 원작의 백인 주인공을 흑인 등 비백인 배우가 연기하는 사례가 잇따르고 있다. 인종적 다양성을 추구하는 움직임이라며 환영하는 목소리가 있지만, 역사적 의미가 있는 작품의 경우에는 원작의 설정을 충실히 따라야 한다는 지적도 나온다. 셰익스피어의 4대 비극 가운데 하나인 ‘맥베스’를 원작으로 하는 애플TV+의 영화인 ‘맥베스의 비극’이 최근 공개됐다. 애플TV+는 미국의 정보기술(IT) 기업인 애플이 선보인 온라인동영상서비스(OTT)다. 이 작품에서 흑인 배우인 덴절 워싱턴이 주인공인 맥베스를 연기해 화제가 됐다. 17세기에 제작된 원작 맥베스의 배경은 11세기 영국 스코틀랜드다. 전쟁에서 혁혁한 공을 세운 장군인 맥베스가 그릇된 욕망 때문에 스코틀랜드의 왕을 살해하고 왕좌(임금이 앉는 자리)에 오른 뒤 죄책감 때문에 괴로워하다 몰락하는 내용을 다뤘다. 원작에서 스코틀랜드의 왕족인 맥베스는 백인이며 현대에 나온 관련 연극, 영화에서도 맥베스를 비롯한 맥베스의 아내 등 주요 배역을 백인이 연기하는 것이 일반적이었다. 최근 공개된 영화 맥베스의 비극에서 맥베스를 맡은 덴절 워싱턴은 “다양성이 더 이상 특별한 것처럼 언급되지 않는 환경이 갖춰져야 한다”며 “(피부색이) 까맣든, 하얗든 모든 사람들은 자격이 있어서 그 자리에 있게 된 것”이라고 미국 NBC 방송과의 인터뷰에서 밝혔다. 인종 다양성을 보장하기 위해 맥베스를 흑인이 연기하는 등의 상황이 당연하게 받아들여져야 한다는 것이다. 그러나 맥베스가 영국을 대표하는 극작가인 셰익스피어가 창작했다는 역사적 의미가 있는 고전 작품이기 때문에 교육적 기능을 고려해 현대에 제작하는 영화 등은 원작을 충실히 반영해야 한다는 주장도 나온다. 미국의 인터넷 매체 버즈피드는 “고등학생들이 숙제를 할 때는 ‘맥베스의 비극’을 감상하는 것을 피해야 한다”고 전했다. 최근 제작된 영화에서는 원작과 달리 흑인이 스코틀랜드의 왕족으로 등장하는데 이 같은 점 때문에 학생들이 혼란을 겪는 일이 없어야 한다는 것이다. ▶어동이:흑인 배우가 맥베스를 연기한 것에 찬성해. 할리우드 작품 중에는 백인 배우가 주축이 되고 흑인이나 아시아계, 남미 출신의 배우들은 주변인으로 등장하는 경우가 많아. 그리고 원작에서 흑인이 주인공으로 등장했다고 할지라도 영화화하며 흑인 역할을 백인 배우로 교체하는 관행(오래전부터 해 오는 대로 함)도 있었어. 이 같은 문화를 개선하기 위해서는 원작에 구애 받지 말고 다양한 배경을 가진 배우들을 캐스팅(배역을 정함)하는 것이 적절하다고 생각해. 백인 중심적인 할리우드에서 균형을 맞추기 위한 긍정적인 시도야. 어솜이:맥베스 같은 작품을 영화화할 때는 백인 배우를 고용하는 것이 맞아. 고전 영문학 작품인 맥베스를 공부하는 학생들은 이해를 돕기 위해 관련 영화를 찾아보는 경우가 있을 거야. 그런데 역사적 사실과 달리 흑인이 스코틀랜드의 왕족을 연기하는 것을 보면 혼란을 겪게 될 가능성이 있어. 11세기 영국은 지금과 같이 다인종 사회가 아니었는데 흑인이 왕족으로 등장하는 영화를 보게 되면 잘못된 정보를 학습하게 될까봐 걱정돼.[어동 찬반토론]어동이와 어솜이의 주장 중 누구의 주장에 동의하나요? 내 생각을2월 15일(화)까지 어린이동아 온라인 카페의 ‘어동 찬반토론’ 게시판에 올려주세요. 가장 논리적으로 주장을 편 어린이들의 의견을 뽑아 지면에 소개합니다.  ',\n",
              "  'author': '장진희',\n",
              "  'date': '2022-01-26 13:03:00',\n",
              "  'img_path': 'http://kids.donga.com/www/data/article/202201/ff1d01b09845de15d3e19346f7d8bada_1643169746_0722.jpg',\n",
              "  'source': '어린이동아',\n",
              "  'title': '[뉴스쏙 시사쑥]흑인 배우가 맥베스로 등장하는 영화 공개… “다양성 추구” vs “원작 충실해야”',\n",
              "  'url': 'https://kids.donga.com?ptype=article&no=20220126130347268127&psub=news&gbn=01'},\n",
              " {'article': '오는 8월 발사되는 한국형 달 탐사선(KPLO)의 이름을 정하는 공모전이 2월 28일까지 실시된다. 과학기술정보통신부(과기정통부)와 한국항공우주연구원은 한국 최초의 달 탐사선의 명칭을 홈페이지에서 공모한다고 최근 밝혔다. 모바일 또는 PC를 통해 응모할 수 있으며 제출 기한은 다음달 28일 오후 6시까지다. KPLO의 이름을 지은 대상 수상자에게는 탐사선을 발사하는 미국 플로리다 주의 현장에 참석하는 기회가 주어진다. 또는 상금 300만 원을 받을 수도 있다. 결과는 오는 4월 말 홈페이지를 통해 발표된다. 2016년부터 개발하기 시작한 KPLO는 현재 우주환경시험을 거치고 있다. 올해 8월 미국 민간우주기업인 스페이스X의 발사체인 팰컨9에 실려 우주로 향한다. 4개월간의 비행을 거쳐 오는 12월 달 상공(높은 하늘) 100㎞에 도착한 뒤 궤도를 돌면서 관측 임무를 수행한다. KPLO에는 한국의 연구기관과 대학이 개발한 탑재체가 실린다. △고해상도 카메라 △감마선분광기(감마선의 에너지를 측정하는 기기) △광시야 편광 카메라(달 표면의 입자 크기, 종류를 파악하는 카메라) △우주 인터넷 장비 △자기장 측정기 등이다. 미국 항공우주국(NASA·나사)의 섀도우캠(달의 영구음영지역(빛이 닿지 않는 지역)을 촬영하는 기기)도 장착된다. KPLO는 2030년까지 발사될 한국형 달 착륙선이 어디에 도착하면 좋을지 후보지를 찾는 역할을 한다. 또 달에 있는 자원을 탐사하는 데 기여할 예정이다. 권현준 과기정통부 거대공공연구정책관은 “KPLO가 성공적으로 발사되면 우리나라는 세계 7번째 달 탐사 국가가 된다”며 “이번 명칭 공모전에 큰 관심과 참여를 부탁한다”고 말했다.[한 뼘 더] 한국형 달 탐사선의 이름은?내가 생각한 한국형 달 탐사선의 이름은 무엇인가요? 공모전에 제출하기 전, KPLO의 명칭 후보를 아래에 적어보아요. 그 이유도 함께 써보세요. ',\n",
              "  'author': '장진희',\n",
              "  'date': '2022-01-26 12:56:00',\n",
              "  'img_path': 'http://kids.donga.com/www/data/article/202201/ff1d01b09845de15d3e19346f7d8bada_1643169299_2459.jpg',\n",
              "  'source': '어린이동아',\n",
              "  'title': '[오늘의 뉴스]한국형 달 탐사선 이름, 내가 직접 지어볼까?… 2월 28일까지 공모',\n",
              "  'url': 'https://kids.donga.com?ptype=article&no=20220126125622904536&psub=news&gbn=01'},\n",
              " {'article': '서울 강남의 하늘에서 2022년을 상징하는 동물인 호랑이가 뛰어다니는 영상이 화제다. 새해 첫날, 현대자동차가 공개한 유튜브 영상에는 발광다이오드(LED)를 장착한 드론(무인기) 600대가 밤하늘을 누비며 만든 몸길이 150m의 호랑이가 등장해 시선을 사로잡는다. 드론은 민들레의 홀씨가 퍼졌다가 꽃이 되어 피어나는 장면을 연출하며 숫자 ‘2022’와 영어 ‘Happy New Year(새해 복 많이 받으세요)’ 같은 문구를 자유자재로 표현하기도 한다. 스크린으로 변한 밤하늘에서 드론 한 대가 픽셀 한 개의 역할을 하는 것. “서울 도심 한복판인 코엑스의 상공(높은 하늘)에서 드론 쇼를 여는 것이 부담이 안됐다고 하면 거짓말이죠. 성공리에 마쳐서 뿌듯합니다.” 2019년부터 이미 약 60차례의 드론 라이트 쇼를 개최한 경험이 있는 임 대표에게도 2022년 새해맞이 행사는 새로운 도전이었다. 임 대표는 “공터 위의 하늘이 아니라 빽빽한 빌딩숲의 대도시 하늘에 600대의 드론을 띄워 쇼를 연출하기 위해 치밀하고 철저하게 비행경로를 계산했다”면서도 “현장에서 순발력을 발휘하는 것이 관건이었다”고 밝혔다. 유비파이는 드론을 자체적으로 제작하는 기술뿐 아니라 수백 대의 드론이 서로 부딪치지 않고 일사불란하게 움직일 수 있도록 인공지능(AI)을 바탕으로 비행경로를 계산하는 기술을 보유한 회사다. 라이트 쇼에 동원되는 ‘IFO’는 가로와 세로의 길이 35㎝, 무게 950g인 드론. 최근 행사에서는 풍등을 매달고 날기 위해 기존의 모델보다 더 큰 날개와 안테나가 적용됐다. “어린 시절 ‘파일럿’(1993)이라는 드라마를 보고 비행기 조종사가 되고 싶었어요. 제가 만든 드론이 대신 하늘을 날고 있으니 꿈을 이룬 것과 마찬가지죠.” 파일럿이 되기 위해 공군사관학교에 입학하는 것은 적성에 맞지 않겠다고 생각한 임 대표는 또 다른 관심사였던 로봇을 공부하기 위해 전자전기공학과를 선택했다. 그는 인하대 전자전기공학과에서 학사와 석사 과정을 거쳤고, 이후 서울대 기계항공공학과 박사 과정을 밟으면서 본격적으로 드론에 대해 연구했다. 임 대표는 “대학과 석·박사 과정 내내 편식해서 공부하는 것을 꺼렸다”고 했다. 그는 “드론은 로봇, 스마트폰, 항공기 등에 적용되는 최첨단 기술의 집약체”라면서 “학문간 융합이 강조되는 시대이기 때문에 한 분야만 파는 식의 공부는 오히려 독이 될 수도 있다”고 지적했다. 사람 태우는 드론도 개발 중 미국의 반도체 기업 인텔이 2018년 평창 겨울올림픽에서 선보인 드론 쇼를 보고 감명을 받은 임 대표. 그는 “비슷한 행사를 기획한다고 했을 때 ‘지금 시작해서 되겠느냐?’는 냉랭한 반응이 많았지만, 보란 듯이 다음해인 2019년 한·아세안 특별정상회의에서 국내 기업 최초로 드론 라이트 쇼를 성공시켰다”며 “다음 목표는 자율주행(차량 스스로 달리게 함) 드론 택시 개발”이라고 밝혔다. “드론 택시는 헬리콥터와 달리 조종사가 필요 없어요. 유비파이는 이미 장애물을 피해 스스로 하늘을 날며 특정 물체를 인식하는 드론을 개발하는 데 성공했어요. 앞으로는 사람이 탑승하는 자율주행 드론을 개발하는 데 집중할 계획입니다. 수백, 수천 대의 드론 택시가 하늘을 나는 시대를 기대하세요!”',\n",
              "  'author': '장진희',\n",
              "  'date': '2022-01-25 16:07:00',\n",
              "  'img_path': 'http://kids.donga.com/www/data/article/202201/810388d1fbb9feed6bf3a7fa16bb27ef_1643094230_2611.jpg',\n",
              "  'source': '어린이동아',\n",
              "  'title': '밤하늘을 수놓은 ‘드론’ 호랑이 쇼 개최한 유비파이 임현 대표',\n",
              "  'url': 'https://kids.donga.com?ptype=article&no=20220125160704516198&psub=news&gbn=01'},\n",
              " {'article': '우주 관측 임무를 지니고, 드넓은 우주로 향한 차세대 우주망원경인 ‘제임스 웹 우주망원경(JWST)’이 최종 목적지에 성공적으로 도착했다. 미국 항공우주국(NASA·나사)은 제임스 웹 우주망원경이 24일(현지시간) 자체 추력기(물체를 운동 방향으로 밀어붙이는 힘을 가진 기기)를 가동해 지구로부터 150만㎞ 떨어진 최종 목적지인 라그랑주 L2 지점에 안착(어떤 곳에 무사하게 잘 도착함)했다고 밝혔다. 라그랑주 L2 지점은 지구와 태양의 중력이 서로 균형을 이뤄 안정적인 공전(한 천체가 다른 천체의 둘레를 주기적으로 도는 일)이 가능한 지점이다. 이곳은 빛의 왜곡이 없고 태양이 항상 지구 뒤에 가려져 햇빛의 방해도 받지 않아 우주를 관측하기 좋은 위치다. 이 지점에서 제임스 웹 우주망원경은 5개월 동안 우주 관측에 필요한 장비들을 미세 조정한 뒤 이르면 오는 6월 첫 관측을 시작할 예정이다. 제임스 웹 우주망원경은 허블 우주망원경을 뒤이어 지난해 12월 우주로 발사됐다. 지난 5일에는 가로 14.2m, 세로 21.2m 크기의 차양막(햇빛을 가리기 위해 설치하는 막)을 펼쳤으며, 이어 8일에는 망원경 좌우 날개의 거울도 성공적으로 펼쳤다. 제임스 웹 우주망원경은 가시광선(사람의 눈으로 볼 수 있는 빛)을 감지하는 허블 우주망원경과 달리 적외선(태양이 방출하는 빛을 프리즘으로 분산시켜 봤을 때 적색선의 끝보다 더 바깥쪽에 있는 전자기파) 관측에 뛰어난 성능을 갖고 있다. 이에 허블 우주망원경보다 더 먼 거리를 정확하게 관측할 수 있는 것. 전문가들은 제임스 웹 우주망원경이 우주 초기의 별에서 방출돼 지금은 미세해진 빛까지 포착할 수 있어 빅뱅(우주의 탄생을 가져온 거대한 폭발)이 일어난 뒤 생긴 최초의 별도 관측할 수 있을 것으로 기대하고 있다. ',\n",
              "  'author': '권세희',\n",
              "  'date': '2022-01-25 14:56:00',\n",
              "  'img_path': 'http://kids.donga.com/www/data/article/202201/bfd832db03f6dbb9bb3b6b0c9cbe1e4d_1643090157_3556.jpg',\n",
              "  'source': '어린이동아',\n",
              "  'title': '[오늘의 뉴스]‘인류의 눈’ 제임스 웹 우주망원경, 최종 목적지 도착',\n",
              "  'url': 'https://kids.donga.com?ptype=article&no=20220125145657256231&psub=news&gbn=01'},\n",
              " {'article': \" Runners take part in the International World's coldest marathon at minus 53 degrees near Oymyakon, the republic of Sakha, also known as Yakutia, Russian Far East, Saturday, Jan. 22, 2022. Oymyakon=AP뉴시스  >> 22일 러시아 극동의 야쿠티아라고도 알려진 사하공화국의 *오이먀콘 인근. 달리는 사람들이 영하 53도의 세계에서 가장 추운 국제 마라톤에 참가하고 있다.  *러시아 극동(동쪽의 맨 끝) 사하공화국(러시아 연방을 구성하는 공화국 중 하나)에 있는 마을로 세계에서 가장 추운 마을로 꼽히는 지역이다. 이곳에선 해마다 영하 50도의 기온에서 달리기를 하는 이색 마라톤 대회가 열린다. 참가자들은 추위에 대비하기 위해 방한 용품으로 온 몸을 무장한 채 달리기를 한다. 극한의 추위를 경험하고 싶은 관광객들을 유치하기 위해 이런 대회를 여는데, 이번에는 미국, 아랍에미리트(UAE) 등에서 온 65명의 참가자가 마라톤에 참가했다.\",\n",
              "  'author': '김재성',\n",
              "  'date': '2022-01-25 13:05:00',\n",
              "  'img_path': 'http://kids.donga.com/www/data/article/202201/b7de417dc0e865763b67bcfc1a81b1e4_1643083504_8388.jpg',\n",
              "  'source': '어린이동아',\n",
              "  'title': '[월드 뉴스]영하 53도 추위에서 마라톤',\n",
              "  'url': 'https://kids.donga.com?ptype=article&no=20220125130519712738&psub=news&gbn=01'},\n",
              " {'article': ' 지난 2016년, 밀렵꾼들에 의해 뿔이 잘린 후 30회의 수술을 받으며 상처 부위를 치료해왔던 남아프리카공화국의 수컷 흰코뿔소 ‘세하우켈레’가 6년 만에 야생으로 돌아갔다. 영국 가디언 등 외신은 “상처를 잘 치료한 세하우켈레가 24일(현지시간) 야생으로 돌아갔다”고 최근 보도했다.  세하우켈레는 밀렵꾼들에 의해 코의 뿔이 무참히 잘린 채 지난 2016년 야생동물 구조단체 ‘세이빙 더 서바이버스(Saving The Survivors)’에 발견됐다. 구조 단체는 당시 뿔이 잘린 얼굴 주변의 뼈가 훤히 보일 정도의 상처를 입은 코뿔소에게 ‘하느님이 우리에게 자비를 베푸소서’라는 뜻의 ‘세하우켈레’라는 이름을 지어주고, 모금(기부금 등을 모음)을 통해 약 30번의 수술을 진행하며 세하우켈레를 치료해왔다.  세하우켈레의 상처 부위는 아직 완전히 낫지 않아 감염의 위험이 있다. 하지만 현지 관계자들은 줄어들고 있는 코뿔소 개체 수를 늘리기 위해 세하우켈레를 야생으로 돌려보내기로 결정했다. 세하우켈레가 放生된 20㎢ 면적의 보호구역에는 성체(다 자란 몸) 암컷 코뿔소 2마리가 있다. 세이빙 더 서바이버스는 세하우켈레가 야생에 잘 적응하고 있는지 꾸준히 관찰하며 필요시에 추가 치료도 진행할 계획이다. ',\n",
              "  'author': '김재성',\n",
              "  'date': '2022-01-25 13:04:00',\n",
              "  'img_path': 'http://kids.donga.com/www/data/article/202201/b7de417dc0e865763b67bcfc1a81b1e4_1643083428_9811.jpg',\n",
              "  'source': '어린이동아',\n",
              "  'title': '[한자뉴스]밀렵꾼에 의해 뿔 잘렸던 코뿔소, 야생으로',\n",
              "  'url': 'https://kids.donga.com?ptype=article&no=20220125130415269826&psub=news&gbn=01'},\n",
              " {'article': ' 25일 0시 기준 코로나19 일일 확진자가 8571명으로 집계되면서 역대 최다(가장 많음)를 기록했다. 지난달 15일 발표된 일일 신규 확진자 최다 기록인 7848명을 훌쩍 뛰어넘는 수치로 전파력이 높은 오미크론 변이 바이러스가 우세종이 되는 등 변이 바이러스 확산에 따른 것이다. 정부는 오미크론 변이 확산에 대응하기 위해 새로운 ‘오미크론 대응 방역체계’를 순차적으로 가동한다.  중앙방역대책본부에 따르면 ‘오미크론 대응 방역체계’의 핵심은 고위험군 위주로 확진자를 관리하고 위중증 환자의 피해를 최소화하는 것. 오미크론이 많이 퍼진 광주, 전남, 경기 평택, 경기 안성 총 4개 지역에선 26일부터 검사와 진료 체계가 개편된다. 60세 이상 고령층, 밀접접촉자 등 고위험군 대상으로만 유전자증폭(PCR) 검사를 실시한다. 고위험군이 아닌 사람은 선별진료소나 호흡기전담클리닉으로 지정된 인근 병원에서 신속항원검사 등을 받고 양성이 나올 경우에만 PCR 검사를 받을 수 있다. 광주 등 4개 지역을 제외한 나머지 지역은 이달 말 또는 다음달 초에 이런 방침이 적용될 전망이다.  26일부터는 전국 모든 지역에서 자가격리 기간도 조정된다. 백신접종을 2차 이상 완료한 사람이 확진자와 밀접 접촉했다면 격리를 면제받는다. 코로나19 확진자의 경우 기존에는 10일 간 격리를 해야 했는데, 확진자가 백신접종자일 경우 7일만 격리하면 된다. 다만 백신 미접종자 등은 10일간 격리해야 한다.  김부겸 국무총리는 24일 대국민 담화를 통해 “설 연휴에 많은 사람이 이동하고 서로 만나게 된다면 타오르는 불길에 기름을 붓는 격”이라면서 “모두의 안전과 건강을 위해 고향 방문을 자제해 주길 바란다”고 당부했다.',\n",
              "  'author': '김재성',\n",
              "  'date': '2022-01-25 13:02:00',\n",
              "  'img_path': 'http://kids.donga.com/www/data/article/202201/b7de417dc0e865763b67bcfc1a81b1e4_1643083351_5873.jpg',\n",
              "  'source': '어린이동아',\n",
              "  'title': '[뉴스 브리핑]일일 확진자, 첫 8000명대… 정부, “오미크론 방역체계 가동”',\n",
              "  'url': 'https://kids.donga.com?ptype=article&no=20220125130250757818&psub=news&gbn=01'},\n",
              " {'article': ' >> 23일 중국 북서부 산시성의 *시안. 시민들이 쇼핑몰에서 쇼핑을 하고 있다. 중국 북서부 도시 시안은 특별한 상황이 발생하지 않으면 1월 25일에 코로나19 고위험 및 중위험으로 분류된 모든 지역을 해제할 것으로 예상된다고 정부 관리가 토요일에 말했다.  *중국 산시성의 성도(성의 중심 도시)다. 중국 시안시가 봉쇄 한달여 만인 오는 25일 봉쇄를 해제할 것으로 예상된다. 시안시에서 코로나19 확진자가 많이 발생하자 당국은 지난달 23일부터 1300만 명의 주민이 외출을 금지하도록 하는 봉쇄 조치를 시행한 바 있다. 당국의 봉쇄 해제를 앞두고 시안시의 각 지역에선 전체 주민을 상대로 한 코로나19 검사가 진행 중이다.',\n",
              "  'author': '김재성',\n",
              "  'date': '2022-01-24 13:04:00',\n",
              "  'img_path': 'http://kids.donga.com/www/data/article/202201/1097c9d2d489737478d68c0558284579_1642997070_6285.jpg',\n",
              "  'source': '어린이동아',\n",
              "  'title': '[월드 뉴스]중국 시안, 한 달여 만에 전면 봉쇄 해제 예상',\n",
              "  'url': 'https://kids.donga.com?ptype=article&no=20220124130450284536&psub=news&gbn=01'},\n",
              " {'article': '프랑스 프로축구 리그앙의 FC 지롱댕 드 보르도(이하 보르도)에서 활약하는 우리나라의 축구 선수 황의조(30)가 리그앙 진출 이후 처음으로 해트트릭을 기록했다. 해트트릭은 축구 경기에서 한 선수가 1경기에서 3득점을 하는 것을 말한다. 황의조는 이로써 리그앙에서 통산 27골을 넣어 아시아 선수 最多 골 기록도 세웠다. 황의조는 23일(현지시간) 프랑스 보르도의 누보 스타드 드 보르도에서 열린 2021-2022 리그앙 22라운드 스트라스부르와의 경기에 나서 세 골을 넣었다. 보르도는 황의조의 활약으로 스트라스부르를 4대3으로 제압했다. 해트트릭을 기록한 황의조는 리그앙에서 활약한 아시아 선수 통산 最多 골 기록도 세우는 쾌거(통쾌하고 장한 행위)도 이뤄냈다. 종전 기록은 박주영(37·울산 현대)이 AS모나코 FC에서 활약하며 달성한 25골이었는데, 우리나라 대표팀 선배의 기록을 황의조가 뛰어넘은 것. 이날 경기에서 황의조는 세 번째 골을 넣은 뒤 손가락으로 해트트릭을 뜻하는 ‘3’을 표현하며 기쁨을 드러냈고 보르도 홈팬들 역시 황의조에게 큰 응원을 보냈다. 황의조의 활약으로 보르도는 최근 4연패의 부진에서 벗어났다. 축구 전문 통계 사이트인 후스코어드닷컴은 이날 황의조에게 평점 9.51을 줬다. ',\n",
              "  'author': '권세희',\n",
              "  'date': '2022-01-24 12:51:00',\n",
              "  'img_path': 'http://kids.donga.com/www/data/article/202201/41ce7c687992d915a2c147036c7f29f5_1642996242_4702.jpg',\n",
              "  'source': '어린이동아',\n",
              "  'title': '[한자뉴스]황의조, 리그앙 첫 해트트릭… 아시아 선수 최다 골',\n",
              "  'url': 'https://kids.donga.com?ptype=article&no=20220124125114361408&psub=news&gbn=01'},\n",
              " {'article': '멸종위기 동물인 반달가슴곰이 비무장지대(DMZ)에서 2년 연속 발견됐다. 환경부와 국립생태원은 지난해 실시한 DMZ 동부지역 생태조사에서 무인카메라를 통해 멸종위기 야생생물 Ⅰ급인 반달가슴곰의 서식을 2년 연속 확인했다고 23일 밝혔다. 국립생태원은 2014년부터 군부대와 협력해 DMZ 내에 무인카메라를 설치하고 야생동물을 관찰하고 있다. 2020년부터 지난해 10월까지 무인카메라에 찍힌 자료를 최근 분석해 반달가슴곰이 이 지역에 서식하고 있음을 확인한 것이다. 2020년 4월 16일 한 지역에서 반달가슴곰 성체(다 자란 몸) 1마리가 포착됐고, 같은 해 5월 29일 다른 지역에서 성체 1마리가 무인카메라에 찍혔다. 지난해 4월 21일 또 다른 지역에서도 성체 1마리가 포착됐으며, 지난해 8월 21일 같은 장소에서 동일한 개체로 추정되는 반달가슴곰이 찍혔다. 지난해에 반달가슴곰이 포착된 장소는 2018년 10월 12일, 당시 8∼9개월 정도로 추정됐던 어린 새끼 반달가슴곰이 처음 포착된 장소에서 6.2㎞ 정도 떨어진 지역. 국립생태원은 “2018년도에 발견됐던 어린 개체와 2021년도의 성체가 동일한 반달가슴곰인지는 확인할 수 없으나 반달가슴곰들이 DMZ 내부의 구역들을 넘나들며 서식하는 것으로 추정하고 있다”고 밝혔다. 환경부는 전문가와 군 관계자 등과의 논의를 거쳐 DMZ에서 포착한 반달가슴곰이 야생 개체인지에 대해 정밀하게 확인할 계획이다.',\n",
              "  'author': '권세희',\n",
              "  'date': '2022-01-24 12:49:00',\n",
              "  'img_path': 'http://kids.donga.com/www/data/article/202201/41ce7c687992d915a2c147036c7f29f5_1642996161_1366.jpg',\n",
              "  'source': '어린이동아',\n",
              "  'title': '[뉴스 브리핑]비무장지대에서 반달가슴곰 포착, 2년 째 서식 확인',\n",
              "  'url': 'https://kids.donga.com?ptype=article&no=20220124124943514722&psub=news&gbn=01'},\n",
              " {'article': '‘마기꾼’이라는 단어를 아는지? 이 단어는 코로나19 사태 이후 우리 삶의 필수품이 된 ‘마스크’에 ‘사기꾼’을 합쳐 만든 신조어(새로 만든 말)다. 남을 속이는 ‘사기’처럼 마스크를 착용하면 자신의 인상을 다르게 보이도록 할 수 있다는 의미로 사용된다. 영국 일간 가디언은 최근 마스크를 착용하면 호감도에 어떤 변화가 생기는지에 관한 연구를 소개하면서 한국에서는 ‘마기꾼’이라는 신조어가 사용된다고 설명했다. 마스크와 관련된 신조어는 이뿐만이 아니다. 마스크를 장시간 착용해 발생하는 피부 질환을 일컫는 ‘마스크네(maskne)’라는 신조어도 있다. 마스크(mask)와 여드름을 뜻하는 아크네(acne)를 합성한 것이다. 신조어만큼 흥미로운 마스크와 관련된 연구결과들도 살펴보자.  ‘마스크 속 얼굴은 어떤 모습일까?’ 마스크를 착용하면 나를 향한 다른 사람의 호감도가 높아질까? 마스크를 쓰면 쓰지 않았을 때보다 더 큰 호감을 느낀다는 연구결과가 최근 나왔다. 영국 카디프대 심리학부의 마이클 루이스 박사 연구진은 마스크를 쓴 사람들에 대한 호감도가 어떻게 변하는지, 어떤 마스크가 호감도에 영향을 미치는지 알아내기 위해 연구를 수행했다. 연구진은 43명의 여성에게 다양한 인종의 남성 사진을 제공하고, 남성에 대한 호감도를 1점부터 10점까지 매기도록 했다. △얼굴 전체를 드러내고 정면에서 촬영한 사진 △검은색 책으로 눈 아래를 가리고 촬영한 사진 △일반 천 마스크를 착용 모습의 사진 △푸른색 계열의 의료용 마스크를 착용한 모습의 사진 등 한 명의 남성당 4가지 유형의 사진이 피실험 여성들에게 제공됐다. 여성들이 각 사진을 보고 호감도를 평가하게 한 결과 마스크를 쓰지 않거나 책으로 얼굴을 가릴 때보다 마스크를 쓴 경우에 더 큰 호감을 느끼는 것으로 나타났다. 특히 푸른색 계열 의료용 마스크의 호감도가 가장 높았다. 왜 이런 결과가 나왔을까? 연구진은 마스크가 사람의 상상력을 자극하기 때문이라고 설명했다. 연구진은 “마스크로 가려진 부분을 마음대로 상상하면서 호감도를 상승시키는 것”이라면서 “특히 의료용 마스크를 쓴 사람을 매력적으로 받아들이는 것은 코로나19 상황에서 고군분투(많은 수의 적군과 용감하게 잘 싸운다는 뜻)하는 의료진을 떠올리게 하기 때문”이라고 밝혔다. “마스크 계속 착용할래!” 얼굴을 가리는 갑갑한 마스크. “얼른 벗어 던지고 싶다”고 말하는 사람들이 많다. 하지만 “코로나19가 종식돼도 마스크를 계속 착용하고 싶다”고 말하는 이들이 일부 국가에선 적지 않다. 일본 주코쿠 신문은 젊은층 사이에서 마스크를 벗고 싶지 않아 하는 이들이 많아졌다고 최근 보도했다. 보도에 따르면 일본의 한 민간업체가 수행한 설문조사에서 약 70%에 이르는 이들이 “코로나19 상황이 끝난 이후에도 마스크를 계속 착용하고 싶다”고 응답했다. 얼굴을 가려주는 마스크의 기능으로 인해 대인(다른 사람을 상대함) 관계의 불안이 일정 부분 해소되기 때문이라는 것이 응답자들의 설명이다. 매체는 또 “타인이 마스크를 쓰면 20%가량 더 아름다워 보인다”는 현지 여성의 인터뷰를 인용해 마스크 착용을 긍정적으로 보는 여론이 잇따른다고 전했다. 멋진 옷을 입고 장신구(몸치장을 하는데 쓰는 물건으로 목걸이, 귀걸이, 넥타이핀 등)를 착용하면 타인에 대한 호감이 커지는 것처럼 마스크를 쓰면 더 아름다워 보인다는 것. 반면 매체는 이와 상반되게 마스크 착용이 타인과의 원활한 의사소통을 저해(막아서 못 하도록 해침)한다는 의견도 일각에서 나온다고 소개하기도 했다.  ',\n",
              "  'author': '권세희',\n",
              "  'date': '2022-01-24 12:48:00',\n",
              "  'img_path': 'http://kids.donga.com/www/data/article/202201/41ce7c687992d915a2c147036c7f29f5_1642996081_7848.jpg',\n",
              "  'source': '어린이동아',\n",
              "  'title': '팬데믹 시대 필수품 ‘마스크’ 관련 연구… 마스크 쓰면 호감도 쑥?',\n",
              "  'url': 'https://kids.donga.com?ptype=article&no=20220124124822988138&psub=news&gbn=01'},\n",
              " {'article': '[오늘의 키워드] BBC1922년 설립한 영국의 방송사. 1927년 영국 국왕의 칙령(임금이 내린 명령)으로 공영방송사(이윤 추구보다 공익에 기여하는 방송사)가 됐다. BBC는 국민들이 내는 수신료를 바탕으로 운영된다. 영국 국민들은 BBC가 공익(사회 전체의 이익)에 도움이 되는 보도와 프로그램을 제작하기를 기대하며 가구당 연간 159파운드(약 25만7000원)의 수신료를 내고 있다. 영국에서 공영방송인 BBC의 수신료를 폐지하는 방안이 논의돼 논란이 인다. 영국 파이낸셜타임스 등 외신은 “네이딘 도리스 영국 문화부 장관이 BBC 수신료를 2년간 동결(변동이 금지됨)하고 2028년부터는 폐지하는 계획안을 마련했다”고 최근 보도했다. 도리스 장관은 “BBC 수신료 관련 발표는 이번이 마지막”이라며 “영국의 훌륭한 콘텐츠를 지원하고 판매할 새로운 방법을 논의할 때”라고 트위터를 통해 밝혔다. 영국에서는 가구당 연간 159파운드의 BBC 수신료를 내고 있다. 수신료는 2024년 4월까지 2년간 동결된 뒤 2027년까지 약간 인상됐다가 2028년부터는 아예 폐지될 것으로 보인다. 영국 가디언에 따르면 BBC는 수신료를 바탕으로 매년 32억 파운드(약 5조1780억 원)에 달하는 수입을 벌어들인다. 수신료가 전체 수입 가운데 70%가량을 차지한다. 수신료를 받아 운영되지만 BBC는 최근 유튜브, 넷플릭스 같은 온라인동영상서비스(OTT)와의 경쟁에서 밀리고 있다는 지적을 받아왔다. 영국 정부는 BBC가 수신료를 강제로 징수(나라가 돈, 물품 등을 거둬들임)할 것이 아니라 다른 플랫폼처럼 구독 서비스 체제로 바뀌어야 한다는 주장을 받아들일 것으로 보인다. 도리스 장관 측근은 “주로 유튜브, 넷플릭스 콘텐츠를 소비하는 젊은층에게 더는 BBC 수신료를 강요할 수 없다”고 했다. 그러나 BBC가 지난 100년간 공익성을 중시하며 사회적 책임을 다하는 방송을 할 수 있었던 배경에는 수신료가 있었는데, 이를 폐지하면 지나치게 상업적인 방송만 보도될 것이라는 우려(걱정)의 목소리가 나온다.수신료가 폐지되면 BBC가 시청률을 높여 광고료를 많이 받기 위해 자극적이고 선정적인 프로그램을 더 많이 만들어낼 것이라는 주장이다. 사회·경제적 권력을 가진 계층을 감시하는 비판적 뉴스나 교육적 가치가 높은 프로그램을 찾아보기 어렵게 될 수 있다는 지적이 나온다. ▶어동이:나는 BBC 수신료 폐지에 찬성하는 입장이야. 최근 넷플릭스나 유튜브와 같이 온라인 기반 콘텐츠 플랫폼이 많아졌어. 젊은층일수록 TV를 시청하지 않는 추세지. TV 방송을 보지 않는 세대에게 수신료를 내라고 강제하는 것은 시대의 흐름에 어긋나는 방법이라고 생각해. BBC의 수신료를 폐지하고 원하는 사람만 구독해서 볼 수 있는 방식을 도입하는 것이 적절해. 그동안 수신료를 믿고 나태하게 일했던 사람들도 다른 매체와 경쟁을 하게 되면 좀 더 나은 콘텐츠를 만들려고 노력하게 될 거야. 어솜이: BBC 수신료를 폐지하면 안 된다고 생각해. 세계 최초의 공영방송인 BBC는 영국 국민뿐 아니라 세계인의 신뢰를 받는 언론이야. BBC는 기업의 광고에 의존하지 않기 때문에 부자들의 눈치를 볼 필요가 없었어. 그래서 기업을 비판하는 보도를 내보내는 데 거리낌이 없었을 거야. 또 시청률을 끌어올려야 한다는 압박으로부터 자유로웠기 때문에 많은 사람들의 관심을 끌만한 자극적인 콘텐츠보다는 소외된 계층을 위한 프로그램을 제작해 공익적 가치에 더욱 신경쓸 수 있었지. 수신료가 폐지되면 BBC도 선정적 콘텐츠를 경쟁적으로 내보내는 방송사가 될 우려가 있어.[어동 찬반토론] 어동이와 어솜이의 주장 중 누구의 주장에 동의하나요? 내 생각을2월 8일(화)까지 어린이동아 온라인 카페의 ‘어동 찬반토론’ 게시판에 올려주세요. 가장 논리적으로 주장을 편 어린이들의 의견을 뽑아 지면에 소개합니다.',\n",
              "  'author': '장진희',\n",
              "  'date': '2022-01-24 12:12:00',\n",
              "  'img_path': 'http://kids.donga.com/www/data/article/202201/98309791198366824b438aecc96b8a16_1642993850_5909.jpg',\n",
              "  'source': '어린이동아',\n",
              "  'title': '[뉴스쏙 시사쑥]영국 정부 “2028년 BBC 수신료 폐지 논의”에 논란… “경쟁해야” vs “공익성 사라져”',\n",
              "  'url': 'https://kids.donga.com?ptype=article&no=20220124121227402804&psub=news&gbn=01'},\n",
              " {'article': '2022 베이징 겨울올림픽에 출전하는 차준환은 최근 에스토니아의 수도인 탈린에서 열린 ISU 4대륙 피겨스케이팅 선수권대회 남자 싱글 프리스케이팅 경기에서 174.26점을 받아 1위에 올랐다. 21일 열린 쇼트프로그램에서도 98.96점으로 1위를 기록한 차준환은 총점 273.22점으로 우승을 차지했다. 유럽을 제외하고 아메리카, 아시아, 아프리카, 오세아니아 등 4개 대륙 출신의 선수들이 참가하는 4대륙 대회는 지난 1999년부터 매년 열리고 있다. 이 대회에서 한국 남자 선수가 메달을 딴 것은 차준환이 처음이다. 2020년 서울에서 열린 4대륙 대회에서 당시 한국 남자 선수 역대 최고인 5위에 올랐던 차준환은 2년 만에 자신을 뛰어넘는 성과를 보였다. 이날 차준환은 프리스케이팅 첫 점프 과제인 쿼드러플(4회전) 토루프를 뛰다 넘어졌지만, 곧바로 자신의 주특기인 쿼드러플 살코를 성공시켰다. 이후 그는 트리플(3회전) 러츠-트리플 루프 콤비네이션 점프 등을 안정적으로 처리하며 경기를 이어나갔다. [한 뼘 더] 응원의 메시지를 보내요!2022 베이징 겨울올림픽이 다음 주 금요일(2월 4일) 시작합니다. 한국 피겨스케이팅의 간판스타(어떤 분야를 대표할 만한 최고 수준의 기량을 갖춘 사람)인 차준환도 베이징 올림픽에 출전하는데요. 차준환 선수가 자신을 뛰어넘는 기록을 또 한 번 세울 수 있도록 응원해보아요. 그에게 전하고 싶은 메시지를 아래의 빈칸에 적어보세요. ',\n",
              "  'author': '장진희',\n",
              "  'date': '2022-01-24 12:08:00',\n",
              "  'img_path': 'http://kids.donga.com/www/data/article/202201/98309791198366824b438aecc96b8a16_1642993569_7881.jpg',\n",
              "  'source': '어린이동아',\n",
              "  'title': '[오늘의 뉴스]‘피겨 간판’ 차준환, 한국 남자 최초 4대륙 대회 금메달 ',\n",
              "  'url': 'https://kids.donga.com?ptype=article&no=20220124120834939839&psub=news&gbn=01'},\n",
              " {'article': '초경량(매우 가벼운 무게) 비행기를 타고 세계일주에 도전한 벨기에·영국 국적의 19세 소녀 자라 러더포드가 마침내 ‘경비행기로 세계일주’라는 목표를 이뤘다. 미국 CNN 등 외신은 “러더포드가 탄 경비행기가 20일(현지시간) 벨기에 서부의 코르트리크베벨겜 공항에 무사히 도착하면서 러더포드가 여성 최연소 경비행기 세계일주에 성공했다”고 보도했다. 러더포드는 경비행기 ‘샤크 아에로’를 조종해 199일간 총 41개국, 5만2000㎞에 달하는 거리를 날아 꿈을 이뤘다. 공항에 도착한 러더포드는 그를 축하하기 위해 모인 인파(수많은 사람을 이르는 말)에게 박수갈채를 받으며 “내가 해냈다, 멋진 모험이었다”라고 소감을 밝혔다. 러더포드는 비행기 조종사였던 아버지의 영향을 받아 어릴 때부터 비행기에 큰 관심을 가져왔다. 14세 때 비행을 처음 배운 러더포드는 2020년 조종사 면허를 취득하고 소녀들에게 용기를 주고 싶은 마음에 세계일주를 시작했다. 그는 “전 세계 민간 비행사의 5%만이 여성이고, 컴퓨터 과학자의 15%만이 여성”이라면서 “또래의 소녀들이 더 많이 과학·기술·공학·수학 분야에 진출하면 좋겠다”고 밝힌 바 있다. 러더포드는 지난해 8월 벨기에에서 출발해 영국과 그린란드를 지나 미국을 거쳤다. 이후 중남미 국가를 지나 캐나다 해안선을 따라 북상해 러시아를 거쳐 지난해 12월에는 우리나라에도 2박3일간 머물렀다. 이후 대만과 인도네시아 등을 지나 다시 벨기에로 귀환했다. 러더포드는 이번 비행으로 두 개의 기네스 기록도 달성했다. 2017년 홀로 세계일주에 성공한 여성인 미국 비행사 샤에스타 와이즈(30)를 제치고 세계일주에 성공한 최연소 여성이 됐으며, 초경량 비행기를 타고 세계일주에 성공했다는 기록도 세웠다. 목표하던 세계일주를 이룬 러더포드는 오는 9월 대학 입학을 앞두고 있으며 컴퓨터엔지니어링을 전공할 계획이다. [나는 토론왕] 세계일주에 성공한 러더포드에게 전하고 싶은 말은?어린 나이에도 원하는 목표를 위해 거침없이 도전한 러더포드. 마침내 꿈을 이룬 그에게 어떤 메시지를 전하고 싶은가요? 러더포드에게 하고 싶은 말을 자유롭게 써보세요! ※자신의 의견을 어린이동아 온라인 카페(cafe.naver.com/kidsdonga) ‘나는 토론왕’ 게시판에 댓글로 달아 주세요. 논리적인 댓글은 지면에 소개됩니다.',\n",
              "  'author': '권세희',\n",
              "  'date': '2022-01-23 12:17:00',\n",
              "  'img_path': 'http://kids.donga.com/www/data/article/202201/cf431ba18c29f9274e969db7d50f39cf_1642907721_1943.jpg',\n",
              "  'source': '어린이동아',\n",
              "  'title': '[오늘의 뉴스]19세 소녀 비행사 러더포드, 마침내 세계일주 성공',\n",
              "  'url': 'https://kids.donga.com?ptype=article&no=20220123121711975051&psub=news&gbn=01'},\n",
              " {'article': '한파(겨울철에 기온이 갑자기 내려가는 현상)가 이어지면서 방한(추위를 막음) 용품에 대한 관심이 높아지고 있다. 두꺼운 패딩이나 목도리를 착용해도 추위를 피할 수 없을 땐? 좌우로 흔들면 뜨끈뜨끈한 온기를 내뿜어 꽁꽁 언 손을 사르르 녹여주는 핫팩까지 동원된다. 그런데 흔히 사용하는 이 핫팩이 환경에 부정적이라는 사실을 아는지? 핫팩의 주재료는 철가루와 활성탄(어떤 물질에 달라붙는 성질을 지닌 탄소질 물질), 규조토(규조가 바다 밑이나 호수 밑에 쌓여서 이루어진 흙) 등인데, 핫팩 내부의 철가루가 모두 산화(어떤 물질이 산소와 결합하는 일)되면 다시 재사용할 수 없는 것들이 대부분이다. 쓰레기가 된 핫팩은 쓰레기장에서 소각(불에 태워 없애 버림)되면서 환경에 유해한 물질을 배출하기도 한다. 나만의 핫팩을 만들어보면 어떨까? 귤껍질, 곡물 등 주변에서 쉽게 구할 수 있는 재료로 친환경 DIY(do-it-yourself·소비자가 직접 만드는 상품) 핫팩을 만드는 법을 소개한다. 귤껍질, 버리지 말고 뜨∼끈하게! 겨울철 대표 별미인 귤을 먹고 난 뒤 남은 귤껍질을 활용해 친환경 핫팩을 만들 수 있다. 방법은 간단하다. 완전히 마르지 않은 귤껍질을 준비한다. 3개 정도의 귤에서 나온 귤껍질이면 충분하다. 귤껍질을 랩으로 감싼 뒤 전자레인지에 40초 정도 돌려준다. 뜨거워진 귤껍질을 미리 준비한 천 주머니 등에 넣으면 완성! 다만 전자레인지에서 갓 꺼낸 귤껍질은 매우 뜨거우니 주의해야 한다. 국가환경교육센터에 따르면 귤껍질 핫팩은 40∼80℃의 온도를 1∼2시간 유지한다. 귤껍질의 수분이 모두 날아갔다면? 새로운 귤껍질로 교체해 또 사용하면 된다. 기존의 핫팩보다 열기가 오랫동안 유지되지는 않지만 짧은 거리를 오갈 때는 유용하다. 귤에서 나는 새콤한 향기도 귤 핫팩의 재미있는 특징 중 하나. 더불어 무게가 가벼워 쉽게 들고 다닐 수 있다는 것도 장점이다. 게다가 귤껍질은 기존의 핫팩에 비해 쓰레기 처리도 쉬워 일석이조. 귤껍질이 이처럼 따뜻함을 유지할 수 있는 이유는 무엇일까. 비밀은 바로 귤껍질에 붙어 있는 하얀 그물 모양의 ‘귤락’ 때문이다. 귤락이 열을 빠져나가지 못하게 하는 기능을 하면서 따뜻한 온도를 유지하도록 돕는 것이다. 내 취향 200% 만족시키는 곡물로 꽉꽉! 팥, 현미, 콩 등 곡물을 이용해서도 나만의 핫팩을 만들 수 있다. 팥 핫팩을 만들기 위해 한주먹 분량의 팥을 준비한다. 이후 천으로 팥을 감싼 뒤 전자레인지에 1분 내외로 돌리면 된다. 전자레인지에서 뜨거워진 팥을 꺼내 준비해둔 주머니에 넣고 팥이 새지 않도록 주머니의 입구를 실로 묶어주면 완성. 별도의 주머니를 구매하기보단 사용하지 않는 손수건이나 양말, 헝겊 등을 이용해 주머니를 만들어도 된다. 곡물 핫팩은 귤껍질 핫팩에 비해 초기 온도가 뜨거운 편은 아니지만 팥 등의 곡물은 열 전도율이 낮아 열기를 오래 유지할 수 있다. 적당히 따뜻한 온도가 2시간가량 지속되는 것. 곡물은 전자레인지에서 데워지면 고소한 냄새가 나는데, 취향에 따라 자신이 좋아하는 향을 내는 곡물을 선택하면 된다.',\n",
              "  'author': '권세희',\n",
              "  'date': '2022-01-23 12:14:00',\n",
              "  'img_path': 'http://kids.donga.com/www/data/article/202201/cf431ba18c29f9274e969db7d50f39cf_1642907529_9842.jpg',\n",
              "  'source': '어린이동아',\n",
              "  'title': '추위 녹여주는 친환경 ‘귤·곡물 핫팩’ 새콤하고 고~소한 냄새 솔솔 나는 핫팩? ',\n",
              "  'url': 'https://kids.donga.com?ptype=article&no=20220123121424823852&psub=news&gbn=01'},\n",
              " {'article': ' Workers clean oil on Cavero Beach in the Ventanilla district of Callao, Peru, Saturday, Jan. 22, 2022. The oil spill on the Peruvian coast was caused by the waves from an eruption of an undersea volcano in the South Pacific nation of Tonga. Callao=AP뉴시스  >> 22일 *페루 칼라오 벤타니야 지역의 카베로 해변. 작업자들이 기름을 청소하고 있다. 페루 해안의 기름 유출은 남태평양 국가 통가의 해저 화산 분화로 인한 파도로 발생했다.  *통가 해저 화산 분화의 여파로 남미에 있는 국가 페루의 해안이 기름으로 오염됐다. 통가의 화산 폭발로 페루 해안에도 높은 파도가 쳤고, 인근 정유시설에서 작업을 하고 있는 유조선에서 기름이 유출되는 사고가 발생한 데 따른 것이다. 해변에 검은 기름띠가 생기면서 바닷새 등 해양 동물들의 사체도 해변에서 발견됐다. 페루 정부는 비상사태를 선포하고 수습 작업을 벌이고 있다.',\n",
              "  'author': '김재성',\n",
              "  'date': '2022-01-23 12:09:00',\n",
              "  'img_path': 'http://kids.donga.com/www/data/article/202201/3a9fa5234666b6f1c5bb976184a08303_1642907342_3334.jpg',\n",
              "  'source': '어린이동아',\n",
              "  'title': '[월드 뉴스]통가 화산 분화의 여파가 페루까지',\n",
              "  'url': 'https://kids.donga.com?ptype=article&no=20220123120916787713&psub=news&gbn=01'},\n",
              " {'article': ' 아프리카 국가 케냐에서 최근 쌍둥이 코끼리가 태어났다. 코끼리의 경우 쌍둥이가 태어날 확률이 1% 정도여서 매우 희귀한 일이다.  미국 CNN, 뉴욕포스트 등 외신은 “케냐 북부 삼부루 국립보호구역에 있는 코끼리 ‘보라’가 최근 쌍둥이 코끼리를 낳았다”면서 “코끼리 보호 단체 ‘세이브 디 엘리펀츠(Save The Elephants·STE)’에 따르면 이 지역에서 쌍둥이 코끼리가 태어난 것은 2006년 이후 처음”이라고 보도했다.  최근 STE 소속 가이드들이 이 지역에서 쌍둥이 코끼리를 처음 발견하면서 쌍둥이 코끼리의 탄생 소식이 알려졌다. STE 관계자는 “갓 태어난 쌍둥이 코끼리들은 어미 코끼리 보라가 과거에 낳은 형제들과 함께 지내고 있다”고 밝혔다.  아프리카 코끼리는 임신 기간이 총 22개월로 포유류 중 가장 길다. 약 4년마다 새끼를 낳는데, 쌍둥이 코끼리가 태어날 확률은 1%에 불과하다. STE 측은 “어미 코끼리는 쌍둥이들을 돌볼 만큼 충분한 젖을 생산할 수 없어 앞으로 쌍둥이들이 잘 살아남을 수 있도록 지켜봐야 한다”면서 “슬프게도 지난 2006년 태어난 쌍둥이 코끼리들은 출생 후 얼마 지나지 않아 모두 숨을 거뒀다”고 밝혔다.  한편 케냐를 비롯해 아프리카 지역에 사는 아프리카 코끼리들은 밀렵꾼들에 의해 희생되며 개체수가 급감해 멸종위기종으로 지정돼 있다. 하지만 케냐 정부 등이 밀렵 방지를 위해 꾸준히 노력하면서 1989년 1만6000마리에 불과했던 케냐의 코끼리 수는 2018년 3만4000마리로 증가했다. ',\n",
              "  'author': '김재성',\n",
              "  'date': '2022-01-23 12:07:00',\n",
              "  'img_path': 'http://kids.donga.com/www/data/article/202201/3a9fa5234666b6f1c5bb976184a08303_1642907234_9508.jpg',\n",
              "  'source': '어린이동아',\n",
              "  'title': '[뉴스 브리핑]‘1% 확률’… 케냐에서 쌍둥이 코끼리 탄생',\n",
              "  'url': 'https://kids.donga.com?ptype=article&no=20220123120743198715&psub=news&gbn=01'},\n",
              " {'article': ' 세계적인 불교 지도자이자 평화운동가인 틱낫한 스님이 향년(죽은 사람의 나이) 95세의 나이로 別世했다. 그는 티베트의 불교 지도자인 달라이 라마와 함께 ‘살아있는 부처’로 평가받는 인물이다.  미국 CNN 등 외신은 “베트남의 승려이자 베트남 전쟁에 반대했던 평화운동가인 틱낫한 스님이 베트남 중부에 있는 도시인 후에의 뚜 히에우 사원에서 22일(현지시간) 숨을 거뒀다”고 보도했다.  1926년 베트남에서 태어나 16세 때 불가(승려가 불도를 닦는 집)에 들어간 고인은 1960년대 미국 프린스턴대와 컬럼비아대에서 비교종교학을 공부했다. 이후 베트남 전쟁(1960∼1975년 베트남의 통일 과정에서 미국과 벌인 전쟁)이 발발(사건이 일어남)하자 틱낫한 스님은 전 세계를 돌며 전쟁을 반대하는 연설과 법회를 열었다. 1967년에는 미국의 흑인 운동 지도자인 마틴 루서 킹 목사가 그를 노벨평화상 후보로 추천해 후보에 오르기도 했다. ',\n",
              "  'author': '김재성',\n",
              "  'date': '2022-01-23 12:09:00',\n",
              "  'img_path': 'http://kids.donga.com/www/data/article/202201/3a9fa5234666b6f1c5bb976184a08303_1642907176_541.jpg',\n",
              "  'source': '어린이동아',\n",
              "  'title': '[한자뉴스]세계적 불교 지도자, 틱낫한 스님 별세',\n",
              "  'url': 'https://kids.donga.com?ptype=article&no=20220123120633876313&psub=news&gbn=01'},\n",
              " {'article': '대나무를 먹이로 하는 판다. 육식을 하지 않고도 어떻게 통통하고 건강한 몸을 유지할 수 있을까. 미국 과학전문 사이언스데일리 등 외신은 판다가 대나무만 섭취하고도 건강하게 생존할 수 있는 이유는 판다의 장내 미생물(눈으로는 볼 수 없는 아주 작은 생물)군에 있다는 사실을 중국과학원 동물학연구소 연구진이 밝혀냈다고 최근 보도했다. 연구결과는 생물학 저널 ‘셀 리포트’ 최신호에 실렸다. 영양가 있는 대나무가 자라는 계절에 판다의 장내에서는 ‘클로스트리듐 부티리쿰(Clostridium butyricum)’이라는 세균이 많이 생성되는데, 이 같은 장내 미생물군이 판다가 건강을 유지하도록 돕는다는 것이다. 판다는 1년 내내 대나무를 섭취하지만 시기에 따라 먹는 부위가 다르다. 8월부터 다음 해 4월까지는 대나무 잎을 주로 섭취하고, 4월 말에는 영양가가 있는 새로 자란 어린 대나무 순을 섭취한다. 먹이를 섭취하는 시기에 따라 판다의 장내 미생물군이 변화한다는 것이 연구진의 설명이다. 영양가가 높은 대나무를 섭취할 때는 클로스트리듐 부티리쿰이 활성화돼 체중을 최대한으로 늘리고 지방을 많이 저장한다. 이후 상대적으로 영양가가 적은 대나무 잎을 먹어야 하는 계절에 판다는 앞서 비축해둔 단백질이나 지방 등으로 체중을 유지한다는 것. 연구진은 이 같은 사실을 입증하기 위해 멸종위기에 처해있는 판다 대신 생쥐를 이용해 실험에 나섰다. 한 집단의 생쥐들에게는 영양가 있는 대나무를 먹는 때의 판다 분변(동물이 먹은 음식물을 소화해 내보낸 찌꺼기)을, 다른 생쥐집단에게는 대나무 잎만 먹는 계절의 판다 분변을 이식했다. 그 결과 같은 먹이를 먹더라도 영양가 있는 대나무를 먹을 때의 판다 분변을 이식한 생쥐들의 체중과 지방이 크게 늘어난 것으로 나타났다.',\n",
              "  'author': '권세희',\n",
              "  'date': '2022-01-20 13:09:00',\n",
              "  'img_path': 'http://kids.donga.com/www/data/article/202201/3c5afd8fdec618cfdbd87496924a9964_1642651709_703.jpg',\n",
              "  'source': '어린이동아',\n",
              "  'title': '[오늘의 뉴스]대나무만 먹고도 몸집 유지하는 판다, 비결은 ‘장내 미생물’',\n",
              "  'url': 'https://kids.donga.com?ptype=article&no=20220120130915805131&psub=news&gbn=01'},\n",
              " {'article': '국산 품종의 딸기 보급률이 96.3%에 달해 ‘종자 독립’을 이룩했다는 평가가 나온다. 기온이 낮을수록 당 함량이 높고 단단해져 겨울을 대표하는 과일이 된 딸기. 우리나라에서 판매되는 딸기 중에서 국산 품종이 차지하는 비율이 96.3%(2021년 9월 기준)로 기록돼 역대 최고치를 달성했다고 농촌진흥청이 최근 발표했다. 효자 딸기 ‘설향’ 새로운 딸기를 만드는 데는 보통 8 ~10년이 걸린다. 딸기 하나에 보통 씨앗이 200 ~ 250개가 달려있는데 각각 조금씩 다른 특성을 가진다. 200여 개의 씨앗을 뽑아서 파종(논밭에 씨를 뿌림)한 뒤 다른 종과 교배를 시키고 그 중에서 뛰어난 맛과 향을 가진 품종을 가려내는 데 약 5년이 걸린다. 개발된 신품종을 농가에서 직접 재배하게 하며 수확량은 충분한지, 병충해에 취약하지는 않은지 등을 점검하는 데에도 약 3년이 소요된다.',\n",
              "  'author': '장진희',\n",
              "  'date': '2022-01-20 12:52:00',\n",
              "  'img_path': 'http://kids.donga.com/www/data/article/202201/a1d7e92889319f3aa68d33860421c229_1642650543_9378.jpg',\n",
              "  'source': '어린이동아',\n",
              "  'title': '토종 딸기, 보급률 96% 기록… ‘설향’ 비롯한 K-딸기는?',\n",
              "  'url': 'https://kids.donga.com?ptype=article&no=20220120125229884924&psub=news&gbn=01'},\n",
              " {'article': ' >> 19일 러시아 모스크바에서 북쪽으로 150㎞ 떨어진 야로슬라블 지역의 쿠판스코예 마을. *주현절에 한 남자와 그의 아이가 벡사강의 얼음같이 차가운 물에서 몸을 씻고 있다.  *러시아 정교회의 신자들이 지내는 기독교 명절이다. 매년 1월 19일로 신자들은 1월 18일 밤부터 성수(종교적인 의식에 쓰기 위한 물)에 손을 담그거나 꽁꽁 언 강 또는 저수지의 얼음을 깨고 찬 물에 들어가 몸을 씻는 의식을 치른다.',\n",
              "  'author': '김재성',\n",
              "  'date': '2022-01-20 11:30:00',\n",
              "  'img_path': 'http://kids.donga.com/www/data/article/202201/eb360eb97d31730c1db3546625136755_1642645803_1941.jpg',\n",
              "  'source': '어린이동아',\n",
              "  'title': '[월드 뉴스]“으~ 차가워!”… 얼음물에 몸 담그는 러시아인들',\n",
              "  'url': 'https://kids.donga.com?ptype=article&no=20220120113022888364&psub=news&gbn=01'},\n",
              " {'article': ' 창덕궁 인정전(국보 제225호) 일월오봉도의 보존처리가 완료된 가운데 일월오봉도 뒷면에서 조선시대 과거시험(관리를 뽑을 때 실시하던 시험) 탈락자들의 답안지가 무더기로 발견돼 화제다. 일월오봉도는 조선시대 궁궐 정전(임금이 신하들에게 국가 운영에 관한 일을 보고 받는 ‘조회’를 하던 궁전)의 御座 뒤편에 놓았던 병풍(장식용으로 방 안에 치는 물건)으로 다섯 개의 산봉우리와 해, 달, 소나무 등을 그린 그림이다.  인정전 일월오봉도는 4폭의 병풍으로 인정전이 일반에 공개된 뒤 바깥 공기가 들어오는 환경에 노출되면서 그림의 색이 들뜨고, 병풍이 틀어지는 등의 손상을 입은 바 있다. 이에 문화재청 국립문화재연구소 문화재보존과학센터는 2016년부터 일월오봉도를 전면 해체한 뒤 보존처리를 시작해 지난해 말 작업을 완료했다. ',\n",
              "  'author': '김재성',\n",
              "  'date': '2022-01-20 11:29:00',\n",
              "  'img_path': 'http://kids.donga.com/www/data/article/202201/eb360eb97d31730c1db3546625136755_1642645722_1667.jpg',\n",
              "  'source': '어린이동아',\n",
              "  'title': '[뉴스 브리핑]창덕궁 병풍 뒷면에서 과거시험 답안지가?',\n",
              "  'url': 'https://kids.donga.com?ptype=article&no=20220120112930743552&psub=news&gbn=01'},\n",
              " {'article': ' 사람이 많이 모여 있는 실내 다중 이용시설에서도 방역을 수행하는 인공지능(AI) 기반 스마트 방역로봇을 국내 연구진이 개발했다. 사람과 로봇이 함께 있는 공간에서 로봇이 사람을 인식하고 방역을 하는 것이 특징이다.  한국기계연구원은 “인공지능기계연구실 김창현 실장 연구팀이 실시간 바이러스 분석 알고리즘을 탑재한 AI 기반 스마트 방역로봇을 개발했다”면서 “카페, 식당 등 많은 사람이 이용하는 시설에 적용할 수 있어 감염병 확산 위험을 낮추는 데 도움이 될 것”이라고 밝혔다.  방역로봇은 AI를 기반으로 실내 공간에 머무는 사람을 인식하고 이를 바탕으로 바이러스 분포를 분석한다. 실내 공간에 설치된 폐쇄회로(CC)TV로 사람들이 머무는 위치, 머문 시간 등의 데이터를 확보하고, 바이러스가 밀집된 지역을 추정하는 것. 이를 통해 최적화된 동선을 따라 스스로 이동하며 방역이 필요한 지점에 살균 등의 방역을 실시한다.  김창현 실장은 “개발된 기술은 AI로 주변 환경을 인식하는 지능형 로봇 기술”이라면서 “팬데믹 위기 상황에서 어려움을 겪고 있는 자영업자들을 도와 다중 이용시설에 바로 활용할 수 있을 것으로 기대된다”고 말했다.',\n",
              "  'author': '김재성',\n",
              "  'date': '2022-01-20 11:28:00',\n",
              "  'img_path': 'http://kids.donga.com/www/data/article/202201/eb360eb97d31730c1db3546625136755_1642645657_7577.jpg',\n",
              "  'source': '어린이동아',\n",
              "  'title': '[뉴스 브리핑]사람 있는 곳에서도 방역 척척… AI 기반 스마트 방역로봇',\n",
              "  'url': 'https://kids.donga.com?ptype=article&no=20220120112802491367&psub=news&gbn=01'},\n",
              " {'article': ' >> 18일 (중국) 베이징(수도). *베이징 겨울올림픽 메인 미디어 센터에 있는 상품 매장 내부에서 한 직원이 선반을 만들고 있다.  *2월 4일부터 20일까지 중국 베이징에서 열리는 제24회 겨울올림픽이다. 올림픽 개막을 약 2주 앞둔 17일, 베이징 겨울올림픽 조직위원회는 해외 관중은 물론 중국 국내 관중에게도 올림픽 경기 입장권을 판매하지 않기로 했다고 밝혔다. 최근 중국 베이징 내에서 코로나19 변이 바이러스인 오미크론 변이에 감염된 환자들이 연이어 발생하는 데 따른 조치다. 올림픽 조직위원회는 사전에 초청된 관중에 한해서만 경기장 입장을 허용한다는 계획이다.',\n",
              "  'author': '김재성',\n",
              "  'date': '2022-01-19 18:06:00',\n",
              "  'img_path': 'http://kids.donga.com/www/data/article/202201/c61304ad9f3564b3137a731a6790cf76_1642583152_2214.jpg',\n",
              "  'source': '어린이동아',\n",
              "  'title': '[월드 뉴스]베이징 올림픽, 일반 관중에 입장권 안 판다',\n",
              "  'url': 'https://kids.donga.com?ptype=article&no=20220119180609960982&psub=news&gbn=01'},\n",
              " {'article': '우주에서 온 것으로 추정되는 희귀한 검은 다이아몬드가 경매에 나온다. AP통신 등 외신은 경매회사 소더비가 ‘디 에니그마(The Enigma·수수께끼)’라는 이름이 붙은 검은 다이아몬드를 다음달 영국 런던 소더비 경매에 올릴 예정이라고 최근 보도했다. 짙은 검은색을 띠는 다이아몬드는 ‘카르보나도(carbonado)’라고도 불리는데, 기원(사물이 처음으로 생김)이 명확히 밝혀진 바는 없으나 지구와 유성 간의 衝突로 만들어지는 것으로 알려져 있다고 AP는 전했다. 특히 이번 경매에 나오는 다이아몬드가 주목받는 것은 세계에서 가장 큰 크기의 555.55캐럿(보석의 무게를 잴 때 쓰는 단위. 1캐럿은 약 200㎎)에 달하는 다이아몬드이기 때문. 이 다이아몬드는 세공(정밀하게 만듦)된 다이아몬드 가운데 가장 큰 크기를 가진 것으로 2006년 기네스북에 오른 바 있다. 소더비 관계자는 “이 다이아몬드는 55개 면을 가지고 있고, 555.55캐럿으로 만들어진 것에서 볼 수 있듯 ‘5’라는 주제를 갖고 있다”면서 “이는 중동 지역의 부적인 ‘함사(hamsa)’와 연관이 있는데, 힘과 보호를 의미하는 함사는 손가락 5개가 있는 손바닥 모양의 부적이다. 이것에서 영감을 받아 다이아몬드를 세공한 것으로 추정된다”고 밝혔다.',\n",
              "  'author': '권세희',\n",
              "  'date': '2022-01-19 16:14:00',\n",
              "  'img_path': 'http://kids.donga.com/www/data/article/202201/ef251e3bb26ea1ff67300693c8721d7e_1642576436_2342.jpg',\n",
              "  'source': '어린이동아',\n",
              "  'title': '[한자뉴스]555.55캐럿의 검은 다이아몬드, 경매 나온다',\n",
              "  'url': 'https://kids.donga.com?ptype=article&no=20220119161433829033&psub=news&gbn=01'},\n",
              " {'article': '서울 송파구 몽촌토성에서 고구려 때의 목간이 출토됐다. 목간은 종이가 없거나 귀하던 고대에 문자를 기록하기 위해 일정한 모양으로 깎아 만든 나뭇조각을 말한다. 이 목간은 우리나라에서 발견된 목간 중 처음으로 발굴된 고구려 목간이며 그간 나온 목간 중 가장 오래된 것으로 추정된다. 한성백제박물관은 백제 유적인 몽촌토성 집수지(물을 저장하는 공간)에서 묵서명(먹물로 쓰인 글자)이 있는 목간이 발견됐다고 18일 밝혔다. 목간이 출토된 집수지는 분석 결과 고구려가 축조(쌓아서 만듦)하고 사용한 것으로 밝혀져 이곳에서 발견된 목간은 551년 이전 고구려가 한강 유역을 차지하고 있을 때 만들어진 고구려 목간일 것으로 추정하고 있는 것이다. 이 목간은 길이 15.6㎝, 너비 2.5∼2.6㎝, 최대 두께 0.4㎝이며 묵서명은 한쪽 면에 한 줄로 큰 글자 6∼8자 정도, 오른쪽 아래에 4자 정도의 작은 글자가 남아있다. 목간에 쓰인 글자는 기초조사를 거친 바 있으나 아직 정확한 글자를 판독(고문서의 뜻을 헤아리며 읽음)하기는 어려운 것으로 확인됐다. 한성백제박물관은 “몽촌토성 내에서 목간이 출토된 것은 이번이 처음”이라면서 “이번 목간 자료가 삼국시대 목간 연구 발전에 기여할 수 있을 것으로 기대한다”고 밝혔다. 한성백제박물관은 이 목간을 오는 21일 한국목간학회가 개최하는 학술회의에서 발표하고 학계에 연구 자료를 제공할 예정이다. 추후 박물관의 전시와 교육 자료로 활용할 계획이다. ',\n",
              "  'author': '권세희',\n",
              "  'date': '2022-01-19 16:08:00',\n",
              "  'img_path': 'http://kids.donga.com/www/data/article/202201/ef251e3bb26ea1ff67300693c8721d7e_1642576069_4963.jpg',\n",
              "  'source': '어린이동아',\n",
              "  'title': '[뉴스 브리핑]몽촌토성에서 고구려 목간 출토… 가장 오래된 목간으로 추정',\n",
              "  'url': 'https://kids.donga.com?ptype=article&no=20220119160810777288&psub=news&gbn=01'},\n",
              " {'article': '지구의 환경을 해치는 쓰레기를 하나도 배출하지 않으면 좋겠지만 일상생활 중 피할 수 없는 쓰레기가 발생하기 마련이다. 식품을 포장하는 포장재가 대표적. 우리 입으로 직접 들어가는 제품을 아무렇게 포장할 수는 없다 보니 플라스틱 쓰레기가 많이 발생한다. 하지만 이런 쓰레기를 줄일 방법이 전혀 없는 것도 아니다. 조금만 비틀어 생각하는 ‘생각의 전환’을 하면 무릎을 ‘탁’ 칠만한 방법이 ‘짠’하고 나오는 것. 플라스틱 대신 재활용이 쉬운 소재를 활용하는 방식으로 변화를 꾀하는 식품업계의 친환경 움직임을 살펴보자. 묶음 라면? 투명한 비닐과 띠지로 쏙 대형마트나 슈퍼마켓의 라면 진열 코너. 형형색색의 포장지로 묶음 포장된 다양한 브랜드의 라면을 쉽게 만나볼 수 있다. 이처럼 색이 들어간 비닐 포장지는 소비자의 눈에는 쉽게 띄지만 무색 비닐에 비해 화학물질이 많이 들어가 재활용이 어렵다는 단점이 있다. 이에 농심은 최근 ‘무파마탕면’의 묶음 포장을 기존 빨간색 비닐에서 투명한 비닐로 교체했다. 앞면과 옆면에 브랜드 디자인과 표기사항 등 꼭 들어가야 할 내용만을 삽입했을 뿐 그 어떤 색도 넣지 않았다. 포장재를 투명 비닐로 바꾸면 인쇄에 사용하는 잉크 사용량을 줄일 수 있고 재활용 효율성도 높아진다는 것이 농심의 설명. 농심은 이 같은 투명 비닐 포장을 이용하면 연간 잉크 사용량을 5t(톤) 이상 줄일 수 있을 것으로 내다보고 있다. 앞서 지난해 농심은 ‘생생우동’ 묶음 포장을 띠지(밴드)로 감싸는 방식으로 바꾸기도 했다. 띠지 포장으로 대체해 연간 약 10t의 플라스틱 사용량을 줄이는 것이 목표다. 같은 포장법이지만 소재를 달리해 환경에 도움이 된 셈이다. 플라스틱 완충재는 가라! 비닐 포장을 뜯으면 과자가 플라스틱 용기 안에 고이 담긴 경우가 적지 않다. 이런 플라스틱들은 대부분 식품의 모양이 망가지지 않도록 하는 완충재 역할을 하는데, 최근 이것도 플라스틱보다 환경에 부담을 덜 주는 종이 소재로 제작되고 있다. 롯데제과는 지난해 파이 제품 ‘카스타드’ 등에 사용되는 플라스틱 완충재를 종이로 변경했다. 약 6개월의 연구를 통해 롯데제과는 납작한 종이 형태의 완충재를 카스타드 포장에 도입했고 카스타드뿐 아니라 엄마손파이, 칸초(대용량) 등에도 이 같은 종이 완충재가 적용됐다. 동원F&B는 친환경 조미김 ‘양반 들기름김 에코패키지’를 통해 플라스틱 용기를 과감하게 없앤 바 있다. 플라스틱 용기를 없애는 대신 제품을 뜯는 과정에서 안에 든 김이 찢어지는 문제를 해결하기 위해 ‘레이저 컷팅 필름’ 포장지를 도입했다. 겉면에 작은 구멍이 난 필름으로 소비자가 포장재를 뜯을 때 쉽게 찢어지도록 해 김의 손상을 최소화했다. 동원F&B 측은 “이 패키지를 통해 연간 약 27t의 플라스틱을 줄일 수 있었다”고 밝혔다. “피자 세이버, 꼭 플라스틱이어야 할까?” 배달 온 피자 가운데에 꽂혀 있는 삼발이(발이 세 개 달린 기구) 모양의 ‘피자 세이버’. 피자 세이버는 피자의 토핑 등이 피자 용기에 달라붙는 것을 방지하기 위해 사용하는데, 플라스틱으로 만들어진 것이 대부분이다. 피자 세이버는 꼭 플라스틱으로만 만들어야 할까? 이 같은 ‘생각의 전환’으로 해외에서는 플라스틱 피자 세이버 대신 나무로 만든 피자 세이버가 각광받는다. 가운데 홈이 나 있는 나무 조각을 서로 겹쳐 피자 세이버로 사용하는 것. 기능은 플라스틱 피자 세이버와 같지만 플라스틱과는 달리 쉽게 분해 되는 재질이라 친환경적이다. 나무 피자 세이버를 만드는 체코 업체 ‘WOODPS’는 소셜네트워크서비스(SNS) 등을 통해 다양한 국가에 친환경 피자 세이버를 판매하고 있으며 이 같은 피자 세이버는 100개를 제작하는 데 7분도 채 걸리지 않아 경제적이라고 밝혔다.',\n",
              "  'author': '권세희',\n",
              "  'date': '2022-01-19 16:05:00',\n",
              "  'img_path': 'http://kids.donga.com/www/data/article/202201/ef251e3bb26ea1ff67300693c8721d7e_1642575752_952.jpg',\n",
              "  'source': '어린이동아',\n",
              "  'title': '식품업계 친환경 키워드는 ‘생각의 전환’, 비틀어 생각했더니 환경보호 방법이 ‘짠’ ',\n",
              "  'url': 'https://kids.donga.com?ptype=article&no=20220119160555915302&psub=news&gbn=01'},\n",
              " {'article': '캐나다 퀘벡 주가 코로나19 백신을 접종하지 않은 주민에게 세금을 부과하기로 결정해 찬반 논란이 일고 있다. 영국 일간신문 가디언에 따르면 프랑수아 르고 퀘벡 주 총리는 “백신 접종을 원하지 않는 모든 성인에 보건 분담금(나눠 부담하는 돈)을 부과한다”고 최근 밝혔다. 그는 퀘벡 주에서 백신을 한 번도 맞지 않은 사람은 전체 주민의 10%이지만, 중환자실 입원 환자의 50%는 백신 미접종자인 상황을 고려해 이 같은 결정을 내렸다고 말했다. 백신을 맞지 않은 사람들이 병원의 중환자실에 입원해 의료진의 업무량을 늘리고 주민들의 재정 부담에도 영향을 미친다는 것이다. 르고 총리는 “미접종자들에게 얼마나 많은 세금을 걷을지 결정되지 않았다”면서도 “꽤 많은 금액이 될 것”이라고 말했다. 퀘벡 주의 이 같은 결정에 대해 코로나19 백신을 맞지 않는 사람에게 세금을 내게 하는 것은 과도한 조치라는 목소리가 나온다. 퀘벡 현지 매체인 라 프레세는 “코로나19 백신 미접종자에 세금을 부과하면 소외된 계층이 그 대상이 될 수도 있다”고 경고했다. 코로나19 백신의 효과나 접종 절차에 대해 알지 못하는 주민 중에는 사회·경제적으로 취약(무르고 약함)한 계층도 포함돼있을 것이라는 분석이다. 또 백신 접종 여부는 개인의 선택인데 세금을 내게 하면 접종을 사실상 강제하는 것이라는 의견도 있다. 캐나다 시민자유연합은 “정부가 권고하는 의료 치료를 따르지 않은 이들에게 벌금을 부과하는 것은 문제”라고 주장했다.▶어동이:미접종자에 세금을 걷는 퀘벡 주의 결정에 찬성해. 코로나19의 확산을 막기 위해서는 백신의 접종률을 높이는 게 우선이야. 세금을 걷겠다고 발표했으니 돈을 내고 싶지 않은 주민들은 백신을 맞겠지. 퀘벡 병원의 중환자실은 백신을 맞지 않아 코로나19에 감염된 사람들로 붐비고 있어. 중환자실에 근무하는 의료진의 업무량이 많아져 피로도가 높아질 것으로 보여. 백신을 맞지 않는 사람들에게 돈을 거둬들여 의료진에 적절한 보상을 제공하고 의료 서비스에 필요한 각종 비용을 충당(모자라는 것을 채워 메움)해야 한다고 생각해. 어솜이:미접종자에 세금을 걷는 퀘벡 주의 결정에 반대하는 입장이야. 코로나19 백신 미접종자 중에는 교육의 수준이 낮아서 백신의 과학적 효과에 대해 제대로 이해하지 못하는 사람들이 있을 수도 있어. 또 스마트폰 같은 정보기술(IT) 기기가 없어서 백신을 맞는 방법을 모를 수도 있잖아. 이런 사람들에게 세금을 걷어 부담을 주면 안 된다고 생각해. 취약 계층이 아니더라도 백신 접종에 따른 부작용 등이 걱정돼서 맞고 싶지 않은 사람들이 있을 수도 있어. 세금을 걷는 방식으로 불이익을 주면 백신 접종 여부를 선택할 자유를 침해하는 것이라고 생각해. [어동 찬반토론]어동이와 어솜이의 주장 중 누구의 주장에 동의하나요? 내 생각을2월 3일(목)까지 어린이동아 온라인 카페의 ‘어동 찬반토론’ 게시판에 올려주세요. 가장 논리적으로 주장을 편 어린이들의 의견을 뽑아 지면에 소개합니다. ',\n",
              "  'author': '장진희',\n",
              "  'date': '2022-01-19 15:37:00',\n",
              "  'img_path': 'http://kids.donga.com/www/data/article/202201/974b17e3f5817770c1fdc6487f2f2b6f_1642574152_6036.jpg',\n",
              "  'source': '어린이동아',\n",
              "  'title': '[뉴스쏙 시사쑥]캐나다 퀘벡 백신 미접종자 과세 논란… “의료진 부담 줄여” vs “자유 침해”',\n",
              "  'url': 'https://kids.donga.com?ptype=article&no=20220119153738467021&psub=news&gbn=01'},\n",
              " {'article': '고대 인류가 4500년 전 교배(생물의 암수를 인위적으로 수정시켜 다음 세대를 얻는 일)를 통해 탄생한 잡종 당나귀를 길렀다는 연구결과가 나왔다. 프랑스 국립과학연구원 자크모노연구소의 연구팀은 시리아 북부의 움엘마라라는 도시의 왕족 무덤에서 발굴된 25마리의 동물 유골(무덤에서 나온 뼈)의 유전자를 분석한 결과 잡종 당나귀인 것으로 확인됐다고 국제학술지 ‘사이언스 어드밴시스’에 최근 발표했다. 중동의 나라인 시리아는 고대 메소포타미아 문명의 발상지(역사적인 일이 처음 나타난 곳)에 속한다. 기원전 3500년경 시작한 메소포타미아 문명을 일군 수메르인들은 네 개의 바퀴가 달린 수레를 이동할 때 사용하고 전쟁에 필요한 물건을 옮겼다는 기록이 전해진다. 4500년 전 제작된 설형문자(메소포타미아 지역에서 사용됐던 쐐기 모양의 문자) 점토판에는 수레를 끈 동물이 ‘쿤가(kunga)’라고 남아있다. 자크모노연구소 연구팀은 쿤가의 정체가 가축으로 기르던 당나귀와 야생 당나귀를 교배시켜 만든 잡종 당나귀라는 사실을 밝혀냈다. 쿤가는 약 4000년 전 메소포타미아 지역에 가축화된 말이 수입되면서 자취를 감춘 것으로 보인다. 교배를 통해서만 얻을 수 있었던 쿤가와 달리 말은 쉽게 번식시킬 수 있었기 때문이다.[한 뼘 더] 메소포타미아 문명의 특징은?세계 4대 고대 문명 중 하나인 메소포타미아 문명은 기원전 3500년경에 시작해 기원전 330년경까지 지속된 것으로 추정됩니다. 메소포타미아는 ‘강 사이’라는 뜻으로 오늘날 이라크의 수도인 바그다드 근처의 티그리스 강과 유프라테스 강 지역에서 발생한 데서 유래한 이름이지요. 메소포타미아 문명을 일구는 데 기여한 것은 수메르인들이에요. 이들은 비옥한 메소포타미아 지역에서 농사를 짓기 위해 저수지와 농기구를 만들고 고유의 언어를 만들어 문명을 발전시켰지요.',\n",
              "  'author': '장진희',\n",
              "  'date': '2022-01-19 15:34:00',\n",
              "  'img_path': 'http://kids.donga.com/www/data/article/202201/974b17e3f5817770c1fdc6487f2f2b6f_1642573992_6027.jpg',\n",
              "  'source': '어린이동아',\n",
              "  'title': '[오늘의 뉴스]4500년 전 고대 인류, 수레 끄는 ‘잡종’ 당나귀 만들어',\n",
              "  'url': 'https://kids.donga.com?ptype=article&no=20220119153405427935&psub=news&gbn=01'},\n",
              " {'article': ' >> 17일 호주 멜버른. 대한민국의 *권순우가 *호주 오픈 테니스 선수권 대회 그들의 1라운드 경기가 진행되는 동안 덴마크의 홀게르 루네에게 백핸드 리턴을 하고 있다.  *우리나라 테니스의 간판으로 17일 열린 호주 오픈 남자 단식 1회전에서 승리했다. 권순우는 덴마크의 홀게르 루네와 풀세트 접전 끝에 세트스코어 3대2로 역전승했다. 그는 지난해까지 세 차례에 걸쳐 호주 오픈 본선 무대를 밟았지만 모두 1회전에서 탈락했는데, 이번에 4번째 도전 만에 승리를 맛봤다. 이로써 권순우는 세계 4대 테니스 대회에서 모두 승리를 기록하게 됐다.  *매년 1월 호주 멜버른에서 개최되는 테니스 대회. 영국의 윔블던 테니스 대회, 미국의 US오픈, 프랑스오픈과 함께 세계 4대 테니스 대회로 꼽힌다.',\n",
              "  'author': '김재성',\n",
              "  'date': '2022-01-18 15:14:00',\n",
              "  'img_path': 'http://kids.donga.com/www/data/article/202201/6d3c50ec30e4ad678d94de23e991b9d7_1642486450_9748.jpg',\n",
              "  'source': '어린이동아',\n",
              "  'title': '[월드 뉴스]권순우, 호주 오픈 첫 승… 4대 대회 모두 승리 기록',\n",
              "  'url': 'https://kids.donga.com?ptype=article&no=20220118151427699719&psub=news&gbn=01'},\n",
              " {'article': '호주에서 알록달록한 막을 펼치며 헤엄치는 담요 문어가 최근 포착됐다. 영국 가디언에 따르면 해양생물학자인 재신타 섀클런이 호주의 산호초 지대인 그레이트 베리어 리프에 위치한 레이디 엘리엇 섬의 바닷가에서 희귀종인 담요 문어를 발견하고 동영상을 촬영했다. 영상 속 담요 문어는 다리 사이에 있는 주황빛의 얇은 막을 펼치며 마치 춤을 추듯 헤엄치는 모습이다. 이번에 발견된 담요 문어는 암컷으로 추정된다. 수컷 문어는 담요 같은 막을 가지지 않고 크기는 2.4㎝를 넘지 못하는 것으로 알려졌다. 반면 암컷 문어는 최대 2m까지 자랄 수 있다. 암컷이 클수록 많은 알을 낳아 종을 보존하기가 유리하기 때문인 것으로 보인다.',\n",
              "  'author': '장진희',\n",
              "  'date': '2022-01-18 13:43:00',\n",
              "  'img_path': 'http://kids.donga.com/www/data/article/202201/866cc95e1914f9b542c00a797d28b29c_1642480962_9061.jpg',\n",
              "  'source': '어린이동아',\n",
              "  'title': '[뉴스 브리핑]너풀너풀 막 펼치며 헤엄치는 ‘담요 문어’ 포착',\n",
              "  'url': 'https://kids.donga.com?ptype=article&no=20220118134347808009&psub=news&gbn=01'},\n",
              " {'article': '지하철이 달릴 때 발생하는 소음과 미세먼지를 동시에 줄이는 장치가 개발됐다. 한국철도기술연구원(철도연)은 지하철의 선로(열차가 굴러가도록 레일을 깔아놓은 길) 옆쪽에 설치하여 소음을 줄이고 공기의 질을 개선하는 ‘소음 저감형 팬리스 집진(먼지를 한곳에 모음)장치’를 개발했다고 최근 밝혔다. 철도의 지하 구간에서는 지하철 바퀴와 레일이 마찰을 일으키면서 소음이 발생한다. 또 지하철이 운행하며 금속성의 미세먼지가 나와 승강장과 차량 실내로 유입돼 승객과 직원의 건강에 좋지 않은 영향을 미쳤다. 철도연은 팬(선풍기 같은 회전형 기계 장치) 없이 공기 분자를 충돌시키는 원리로 바람을 발생시켜 미세먼지를 한곳에 달라붙게 하는 집진장치와 고강도의 흡음재(소리를 흡수하는 재료)를 결합하고 선로 주변에 설치할 수 있도록 두께를 얇게 만들었다. 실제로 서울도시철도 5호선에서 한 달간 현장시험을 진행한 결과 미세먼지와 초미세먼지에 대한 집진성능(질량농도 기준)이 평균 90% 이상이라는 것이 확인됐다.',\n",
              "  'author': '장진희',\n",
              "  'date': '2022-01-18 13:39:00',\n",
              "  'img_path': 'http://kids.donga.com/www/data/article/202201/866cc95e1914f9b542c00a797d28b29c_1642480725_2768.jpg',\n",
              "  'source': '어린이동아',\n",
              "  'title': '[뉴스 브리핑]지하철 소음·미세먼지 동시에 줄이는 장치 개발',\n",
              "  'url': 'https://kids.donga.com?ptype=article&no=20220118133934138986&psub=news&gbn=01'},\n",
              " {'article': '아프리카에서 새롭게 발견된 나무가 미국 출신의 할리우드 배우인 리어나도 디캐프리오의 이름을 얻게 됐다. 미국 CNN 방송 등은 영국 런던의 큐왕립식물원이 신종 나무가 서식하는 숲을 보호하는 데 앞장선 디캐프리오의 업적을 기리기 위해 나무의 명칭에 그의 이름을 붙였다고 최근 보도했다. 신종 나무에 할리우드 배우 이름이? 우바리옵시스 디캐프리오는 줄기에서 노란 꽃이 피는 것이 특징인 상록수(사계절 내내 잎의 색깔이 푸른 나무)다. 아프리카 중부 나라인 카메룬의 에보숲에서 처음 발견됐다. 원래 신종 나무에는 연구자의 이름을 붙이는 것이 일반적이다. 그러나 연구진은 “디캐프리오가 지난 2020년 에보숲의 벌목(숲의 나무를 벰)을 막기 위해 환경운동을 벌인 것을 기리기 위해 이 숲에서만 발견되는 독특한 식물의 명칭에 그의 이름을 붙이게 됐다”고 설명했다. 디캐프리오는 카메룬 정부가 멸종위기 동식물이 사는 열대우림인 에보숲을 개발하려고 하자 이를 막기 위해 소셜네트워크서비스(SNS)에서 ‘#에보숲을구하자(#SaveEboForest)’라는 해시태그 캠페인을 벌였다. 이후 세계적으로 지적이 이어지자 카메룬 정부는 벌목 계획을 취소했다. 밤에만 피어나는 ‘유령’ 같은 꽃 꽃이 피어난 모양새가 마치 폭죽놀이를 할 때 불꽃이 터지는 모습과 닮은 앵초과의 식물은 동남아시아 보르네오 섬에서 포착됐다. 열대우림이 한창 덥고 습할 때인 7월에 아름다운 하얀 꽃잎을 피우는 것이 특징이라고 일본 가고시마대의 연구원인 슈이치로 타가네가 설명했다. 이 식물은 최대 4m까지 자라는 것으로 분석됐다. 팜유(식용유나 비누 등의 원료로 쓰는 기름)를 생산하는 농장이 늘어나면서멸종 위기에 처했다. 호주에서는 곤충을 죽이는 담배과의 식물이 발견됐다. 줄기와 잎 등 모든 표면에서 끈적끈적한 점액을 분비하는 이 식물에 모기, 파리, 진딧물이 달라붙으면 죽음에 이르게 된다. 그러나 이 식물이 끈끈이주걱처럼 달라붙은 곤충을 잡아먹는지에 대해서는 추가적인 연구가 필요하다. ',\n",
              "  'author': '장진희',\n",
              "  'date': '2022-01-18 13:35:00',\n",
              "  'img_path': 'http://kids.donga.com/www/data/article/202201/866cc95e1914f9b542c00a797d28b29c_1642480277_0724.jpg',\n",
              "  'source': '어린이동아',\n",
              "  'title': '신종 나무에 디캐프리오 이름 붙은 이유는?',\n",
              "  'url': 'https://kids.donga.com?ptype=article&no=20220118133552355758&psub=news&gbn=01'},\n",
              " {'article': '유럽 주요 국가에서 처음으로 전기차 판매량이 디젤차(경유차) 판매량을 앞질렀다. 영국 파이낸셜타임스(FT)는 지난해 12월 유럽에서 전기차 판매가 사상 처음으로 디젤차 판매를 넘어섰다고 16일(현지시간) 보도했다. 친환경에 대한 관심이 높아지면서 디젤차를 찾는 소비자는 줄고, 전기차 수요는 늘어난 데 따른 것이다. 보도에 따르면 지난해 12월 영국을 포함한 18개 유럽 국가에서 판매된 신차의 20%(약 17만6000대) 이상이 순수 전기차인 것으로 나타났다. 하이브리드차(일반 차량에 비해 유해가스 배출량을 획기적으로 줄인 차)를 포함한 디젤차는 전체의 19% 미만(약 16만대)을 차지해 처음으로 유럽 주요 국가에서 전기차 판매량이 디젤차 판매량을 앞선 것이다. FT는 유럽에서 전기차가 디젤차를 앞선 계기로 2015년 일어난 ‘폭스바겐 디젤 사태’를 꼽았다. 당시 폭스바겐은 대기오염 물질 배출 검사를 통과하기 위해 디젤차 배기가스 시험 장치에 불법 소프트웨어를 사용해 논란이 일어난 바 있다. 이 사태로 디젤차에 대한 이미지가 하락됐고, 이후 전기차 생산에 주력한 폭스바겐이 유럽의 전기차 시장을 이끌고 있다는 분석이다. 폭스바겐은 지난해에만 31만여 대의 전기차를 생산한 바 있다. FT는 또 유럽 국가들이 탄소배출량을 줄이기 위해 전기차 구매자들에게 다양한 혜택을 제공하면서 전기차의 판매량이 높아졌다고 밝혔다. 유럽연합(EU)은 2030년 탄소 배출량을 1990년과 대비해 55% 줄인다는 목표로 강력한 친환경 정책을 추진 중이다. 독일 등 유럽 국가가 전기차를 구입하는 소비자들에게 보조금을 지원하는 등의 혜택을 제공하면서 전기차 구매율이 가파르게 상승했다는 것이다. [한 뼘 더] 전기차, 우리나라에서도 판매량 쑥! 우리나라에서도 전기차 시장이 빠르게 성장하고 있어요. 지난해 전기차 등록 대수가 처음으로 10만 대를 넘어섰답니다. 카이즈유데이터연구소와 한국수입자동차협회에 따르면 지난해 디젤차의 신규 등록 대수는 전년 대비 27.8% 감소했지만, 전기차의 신규 등록 대수는 10만402대로 전년 대비 115.1%나 높아졌다고 합니다.',\n",
              "  'author': '권세희',\n",
              "  'date': '2022-01-18 13:02:00',\n",
              "  'img_path': 'http://kids.donga.com/www/data/article/202201/18890a2ff99915415a00671da0c68e49_1642478547_5022.jpg',\n",
              "  'source': '어린이동아',\n",
              "  'title': '[오늘의 뉴스]유럽 전기차 판매량, 사상 처음으로 디젤차 판매량 넘었다',\n",
              "  'url': 'https://kids.donga.com?ptype=article&no=20220118130259959988&psub=news&gbn=01'},\n",
              " {'article': ' Serbian tennis player Novak Djokovic rides in car as he leaves a government detention facility before attending a court hearing at his lawyers office in Melbourne, Australia, Sunday, Jan. 16, 2022. Melbourne=AP뉴시스  >> 16일 호주 멜버른. 세르비아의 테니스 선수인 *노박 조코비치가 그의 변호사 사무실에서 열린 법원 심리에 참석하기 전에 정부 구금 시설을 나서면서 차를 타고 있다.  *남자 테니스 단식 세계랭킹 1위 선수인 조코비치의 2022 호주 오픈 테니스대회 출전이 결국 무산( 취소됨)됐다. 16일(현지시간) 호주 법원은 코로나19 백신 미접종을 이유로 호주 정부가 입국 비자(외국인에 대한 출입국 허가 증명)를 취소한 결정에 불복(남의 명령이나 결정에 복종하지 않음)해 조코비치가 제기한 소송을 기각(법원이 소송을 종료하는 일)했다. 이에 따라 조코비치는 호주 오픈에 참가하지 못하고 격리 시설에 머물다가 호주에서 추방될 가능성이 커졌다.  호주 법은 비자 취소로 호주에서 추방되면 3년간 호주 입국이 금지된다고 규정한다. 조코비치가 추방되면 그는 앞으로 3년간 호주에서 열리는 테니스 대회에 출전할 수 없게 되는 것.  앞서 조코비치는 호주 정부의 입국 비자 취소 결정에 불복해 호주 정부를 상대로 소송을 제기해 지난 10일 승소(소송에서 이김)했지만 호주 정부는 14일 이민부 장관 직권(직무상의 권한)으로 그의 입국 비자를 다시 취소한 바 있다.',\n",
              "  'author': '김재성',\n",
              "  'date': '2022-01-17 13:42:00',\n",
              "  'img_path': 'http://kids.donga.com/www/data/article/202201/1da46ca3083467186141630075022781_1642394508_9881.jpg',\n",
              "  'source': '어린이동아',\n",
              "  'title': '[월드 뉴스]조코비치의 호주 오픈 출전, 결국 무산',\n",
              "  'url': 'https://kids.donga.com?ptype=article&no=20220117134203582265&psub=news&gbn=01'},\n",
              " {'article': '[오늘의 키워드] 펀슈머(funsumer) 펀슈머는 재미를 뜻하는 영어단어 ‘펀(fun)’과 소비자를 뜻하는 ‘컨슈머(consumer)’를 합성한 단어로 물건을 구매할 때 상품에 대한 재미를 소비하는 것을 중요하게 생각하는 소비자를 의미한다. 특히 펀슈머는 소셜네트워크서비스(SNS)나 유튜브 등에 자신이 소비한 제품에 대한 내용을 공유하는 등 소비 경험을 재생산하는 것이 특징이다. 펀슈머들이 공유한 제품 소비경험은 SNS를 타고 빠르게 전파돼 소비 업계에 큰 영향을 주고 있다.  말랑말랑한 젤리처럼 생긴 세제, 마카롱처럼 생긴 방향제…. 시중에 나온 식품들과 겉모습만으로는 구별하기 어려운 제품이 소비자들에게 혼동을 준다는 지적이 나온다. 이에 소비자가 오용(잘못 사용함)할 우려가 있는 생활화학제 품의 안전·표시 기준을 마련해야 한다는 권고가 나왔다.  소비자정책위원회는 최근 회의를 열고 ‘소비자 지향적 제도개선 과제’ 등 6개 안건(토의해야 할 사항)을 최근 심의(심사하고 토의함)하고 의결(의논해 결정함)했다. 특히 식품을 모방(다른 것을 본뜨거나 본받음)한 생활화학제품에 대한 안전·표시 기준을 마련해야 한다며 환경부에 권고한 내용도 담겼다. 소비자정책위원회에 따르면 식품을 모방한 생활화학제품을 오인(잘못 보거나 잘못 생각함)해 섭취하는 사례는 매년 증가하는 추세다. 유아(만 1세~ 6세 어린이)가 섭취해 신고한 사례는 전체 사례 중 절반이 넘는다. 상황이 이렇지만 이런 제품에 대한 안전관리 규정은 없는 상황. 이에 소비자정책위원회는 소비자가 잘못 사용할 우려가 있는 제품의 제 조와 유통에 대한 적절한 표시 기준을 정해야 한다고 권고한 것이다.  식품을 모방한 제품들은 실제 식품과 닮은 겉모습으로 관심을 끌어 ‘펀슈머’들이 소비하는 경우가 많다. 하지만 일 반 소비자 중 어린이나 노약자 등은 실제 식품과 이를 모방해 만든 제품을 쉽게 구분할 수 없어 제품을 식품으로 오인해 섭취할 가능성이 높은 게 문제. 특히 세제 등을 오인해 섭취하면 건강에 문제를 일으킬 수 있어 각별한 주의가 필요하다는 것이 전문가들의 의견이다.  ▶지난해에는 우리가 흔히 먹는 우유의 겉모습과 똑닮은 포장지의 바디워시가 시중에 등장해 논란이 되기도 했어요. 제품의 겉면은 식품인데, 실제로는 화장품인 제품은 많은 소비자들의 혼동을 불러올 수 있어요. 실제로 이런 제품에 대해 “식품인 줄 알고 구매했는데, 알고 보니 먹을 수 없는 화장품이었다”는 소비자들의 의견이 소셜네트워크서비스(SNS)에 올라오기도 했지요. 이 같은 여론이 확산되자 식품의약품안전처는 화장품을 식품으로 오해해 섭취하는 안전사고가 발생하지 않도록 식품 모양을 모방한 화장품의 판매를 제한하는 내용을 담은 ‘화장품법’을 지난해 8월 개정·공포(일반 대중에게 널리 알림)했어요. 식품의 형태나 용기 포장 등을 모방한 화장품의 △제조 △수입 △진열 △판매 등을 금지해 안전사고를 줄이고자 한 것입니다.재미있는 제품을 만들고 이를 구매하는 것은 자유지만 위험한 상황을 불러일으킬 수 있는 제품을 만들고 소비하는 것은 지양해야 하지 않을까요? [나는 토론왕] 식품 모방 제품에 대한 내 생각은? 식품을 모방한 제품들이 속속 등장하고 있지요. 이 제품들은 마치 먹을 수 있는 것처럼 생겨 흥미를 끌지만 이를 오인해 섭취하는 일도 종종 발생해 문제가 되고 있습니다. 이 같은 식품 모방 제품에 대해서 어떻게 생각하나요? 논리적인 근거를 바탕으로 자신의 의견을 써보세요. ※ 자신의 의견을 어린이동아 온라인 카페(cafe.naver.com/kidsdonga) ‘나는 토론왕’ 게시판에 댓글로 달아 주세요. 논리적인 댓글은 지면 소개됩니다.  ',\n",
              "  'author': '권세희',\n",
              "  'date': '2022-01-17 13:29:00',\n",
              "  'img_path': 'http://kids.donga.com/www/data/article/202201/beb2d0b96919199c04a6bc9f4813d593_1642393732_0055.jpg',\n",
              "  'source': '어린이동아',\n",
              "  'title': '[뉴스쏙 시사쑥]혼동 일으키는 식품 모방 제품들… 알록달록 젤리, 자세히 보니 세제? ',\n",
              "  'url': 'https://kids.donga.com?ptype=article&no=20220117132949976933&psub=news&gbn=01'},\n",
              " {'article': '‘배구 여제’라 불리는 우리나라의 배구 선수 김연경(34)이 세계에서 가장 뛰어난 여자 배구 선수로 選定됐다. 발리볼월드닷컴은 16일(현지시간) 지난해 가장 훌륭한 경기력을 보여준 여자 배구 선수로 김연경을 뽑았다. 국제배구연맹(FIVB)과 제휴를 맺은 이 매체는 2021 FIVB 발리볼네이션스리그, 2020 도쿄올림픽 등 국제대회에서 활약을 펼친 세계 남녀 선수 12명을 選定해 지난 10일부터 공개하고 있다. 選定 된 선수 가운데 김연경이 최고의 여자 배구 선수로 꼽힌 것이다. 발리볼월드닷컴은 이날 남녀 1위를 발표하기 전 여자 1위의 힌트로 ‘1988’이라는 숫자를 공개했다. 이 숫자는 김연경이 태어난 해와 같아 주목받았다. 이 매체는 “2021년은 김연경에게 획기적인 해였다. 지난해 김연경은 한국 여자 배구 대표팀을 올림픽 본선으로 이끌었다”면서 “2012년 런던 대회에 이어 두 번째로 팀을 4강에 올리고 17년 간 활동해온 한국 대표팀에서 은퇴했다”고 김연경의 이력에 대해 설명했다. 이어 김연경이 2020-2021시즌 프로배구 V리그에서 흥국생명을 챔피언결정전 준우승으로 이끌었으며 발리볼네이션스리그에서도 196점을 얻었다고 덧붙였다. 발리볼월드닷컴은 소셜네트워크서비스(SNS)에서 김연경의 영향력도 꼽았다. 김연경은 지난해 SNS에서 가장 많이 언급된 선수이며 배구 선수 최초로 유튜브 구독자 100만 명을 넘겼다고 매체는 전했다.',\n",
              "  'author': '권세희',\n",
              "  'date': '2022-01-17 13:27:00',\n",
              "  'img_path': 'http://kids.donga.com/www/data/article/202201/beb2d0b96919199c04a6bc9f4813d593_1642393641_7493.jpg',\n",
              "  'source': '어린이동아',\n",
              "  'title': '[한자뉴스]김연경, 발리볼월드 선정 2021년 세계 최고 여자 배구선수',\n",
              "  'url': 'https://kids.donga.com?ptype=article&no=20220117132751980122&psub=news&gbn=01'},\n",
              " {'article': '소음을 막기 위해 도로에 설치하는 방음벽이 진화하고 있다. 방음 기능을 갖췄을 뿐만 아니라 태양열을 이용해 전기와 열을 생산해내는 방음벽 기술이 국내 연구진에 의해 개발됐다. 한국에너지기술연구원은 강은철 박사 연구진이 다기능 태양광-열(PVT) 방음벽 기술을 개발했다고 최근 밝혔다. 이 기술은 새롭게 설치되는 방음벽에도 활용할 수 있고, 기존에 설치된 노후한 방음벽에도 대체 적용이 가능하다. 연구진은 태양광 패널과 태양열 집열기(열을 한데 모으는 기능을 하는 기계), 흡음재(소리를 잘 흡수하는 재료) 등을 활용해 방음 성능을 높이면서도 동시에 온열을 생산하는 기술을 개발해냈다. 하나의 방음벽에서 소음도 막고 전기와 열을 생산할 수 있어 일석이조인 것. 이 기술은 교통 소음을 줄여주면서도 친환경 재생에너지의 활용성을 크게 높인다는 것이 장점이다. 최근 온실가스 감축 필요성이 높아지며 태양광 시장은 성장하고 있지만 태양광 패널을 설치할 공간이 부족해 주로 건물 지붕, 산, 논밭에 설치되고 있다. 방음벽은 도로나 철로 등 다양한 곳에 설치할 수 있어 기술이 적용되면 태양광 설치 장소가 부족한 문제점을 해결할 수 있다는 것이 한국에너지기술연구원의 설명이다. 연구진은 “교통 소음 등으로 방음벽의 수요는 계속 증가할 것으로 보인다”면서 “기존 설비를 활용한 다양한 재생에너지 융합 기술이 개발되어야 하며 이번 방음벽 기술은 좋은 대안이 될 것”이라고 밝혔다.',\n",
              "  'author': '권세희',\n",
              "  'date': '2022-01-17 13:26:00',\n",
              "  'img_path': 'http://kids.donga.com/www/data/article/202201/beb2d0b96919199c04a6bc9f4813d593_1642393550_3207.jpg',\n",
              "  'source': '어린이동아',\n",
              "  'title': '[뉴스 브리핑]소음도 막고 전기도 생산하는 ‘일석이조’ 방음벽',\n",
              "  'url': 'https://kids.donga.com?ptype=article&no=20220117132625877425&psub=news&gbn=01'},\n",
              " {'article': '지금 이 시간에도 지구의 주위를 공전(한 천체가 다른 천체의 둘레를 주기적으로 도는 일)하고 있는 인공위성. 각국이 지구 상공으로 쏘아올린 통신위성, 과학위성, 방송위성 등 수많은 인공위성들은 지구를 시시각각 내려다보며 다양한 임무를 수행하고 있다. 최근의 인공위성들은 그 기능이 정교화 되면서 전통적인 관측 임무 외에도 바다 위에 떠 있는 쓰레기를 추적하고, 남극의 해빙을 관찰하기도 하는 등 다채로운 임무를 척척 수행해낸다. 또 커다란 몸집을 확 줄여 10㎏ 내외의 작은 크기로 우주로 향하는 인공위성도 있다. 바다 위 쓰레기 추적 해볼까? 인공위성이 해양 생태계를 위협하는 쓰레기를 관리하는 구원투수로 떠올랐다. 인천시와 인천 옹진군은 최근 해양수산부가 공모한 ‘지역 밀착형 탄소중립 오션 뉴딜’ 사업을 유치해 추진하는데, 인공위성 등을 활용해 해류(일정한 방향과 속도로 이동하는 바닷물의 흐름)를 따라 쓸려 다니는 해양쓰레기의 이동 경로를 파악할 예정이다. 해양쓰레기 등 해양환경 문제의 해결은 인천시의 오랜 과제였다. 수도권 해양의 대부분은 인천시가 담당하는데, 인천시가 담당하는 바다 중 강화도와 영종도 주변 일부를 제외하면 대부분의 해양 면적은 옹진군이 관할하고 있다. 이곳에서 수거되는 해양쓰레기만 연간 2000t(톤), 이 쓰레기 처리에 들어가는 비용만 수십억 원에 이를 정도. 그간 해양쓰레기 처리는 사람이 직접 눈으로 발견하고 수거하는 방식으로 이뤄졌다. 이에 사람이 보지 못하는 광활한 바다 곳곳의 무인도, 해안절벽 등에 방치된 해양쓰레기를 찾는 것이 어려운 문제로 꼽혔다. 인공위성과 함께 드론, 해저 음파탐지 장비 등을 활용하면 해양쓰레기의 분포를 파악하기가 보다 쉬워질 것으로 시와 군은 보고 있다. 바다에 퍼져있는 쓰레기 위치 등의 데이터를 효과적으로 공유하고 체계적으로 관리할 수 있다는 것이다. 얼음 얼마나 녹는지 보기 위해 시력 높였지! 인공위성은 ‘시력’을 높여 북극 해빙(바닷물이 얼어 만들어진 덩어리)의 변화도 추적한다. 현재 우리나라가 운용하는 대부분의 인공위성은 해빙 관측용으로 제작된 것이 아니어서 해빙이 얼마나 녹고 있는지 정확하게 관측하는 것이 어려웠는데, 이를 극복할 기술이 개발된 것. 극지연구소 김현철 박사 연구팀은 해빙의 실제 변화를 인공위성으로 관찰하는 기술을 개발하는 데 성공했다. 극지연구소는 “북극 해빙에서 반사된 전자기파(공간에서 전기장과 자기장이 주기적으로 변화하면서 전달되는 파동)를 분석해 해빙의 움직임과 해빙 가장자리에서 나타나는 변화를 확인했다”고 최근 밝혔다. 이 기술을 활용하면 바람이 불어오는 방향과 속도에 따라 해빙 표면의 두께와 거칠기가 어떻게 변하는지, 즉 해빙이 얼마나 녹고 있는지 면밀히 파악할 수 있다. 북극 해빙을 관찰하는 것은 왜 중요할까. 지구의 지붕이라고도 불리는 북극 해빙은 현재 지구온난화 등으로 빠른 속도로 녹고 있다. 해빙이 녹으면 해수면 상승이 일어나 지구 환경에도 커다란 영향을 주기에 지속적인 관찰이 필요하다. 뿐만 아니라 해빙이 움직이거나 쪼개지면 선박 등의 항해를 방해할 수 있어 배들의 안전한 항해를 위해서도 정확한 관측이 뒷받침돼야 한다. 작지만 높이 나는 새처럼 책가방만한 크기의 작은 위성도 속속 등장하고 있다. 한국천문연구원은 우주 날씨 관측 업무를 수행할 초소형 위성인 ‘도요샛’의 실제 모델을 지난달 공개했다. 도요샛은 ‘작지만 높이 나는 새’라는 의미로 2017년 개발에 착수해 약 5년간의 연구기간을 거쳐 완성됐다. 무게 10㎏ 이하의 위성 4기로 구성된 도요샛은 올해 상반기 카자흐스탄의 발사장에서 러시아의 ‘소유즈-2’ 로켓에 실려 우주로 날아갈 예정이다. 그간의 인공위성들은 커다란 크기로 인해 우주로 이동하는 데 많은 시간과 비용이 들었다. 그런데 도요샛과 같은 초소형 위성은 크기가 작아 발사와 개발 비용이 획기적으로 줄어든다는 것이 가장 큰 장점. 몸집은 작아도 성능은 뛰어나다. 한국천문연구원은 도요샛을 고도 500㎞에 띄운 뒤 초소형 위성으로는 세계 최초로 편대비행(일정한 거리와 간격을 유지하는 비행)을 수행한다. 위성 간격을 조절하며 앞뒤 또는 양옆으로 체계적으로 줄을 맞춰 날면서 우주의 미세한 변화를 속속들이 관찰한다는 것. 도요샛은 태양풍과 지구 자기장의 상호 작용, 우주환경 실시간 예보 등의 임무에 나설 예정이다.',\n",
              "  'author': '권세희',\n",
              "  'date': '2022-01-17 13:24:00',\n",
              "  'img_path': 'http://kids.donga.com/www/data/article/202201/beb2d0b96919199c04a6bc9f4813d593_1642393449_8853.jpg',\n",
              "  'source': '어린이동아',\n",
              "  'title': '나날이 진화하는 인공위성들… 쓰레기 ‘콕’ 찾아내고, 몸집 ‘쑥’ 줄이고!  ',\n",
              "  'url': 'https://kids.donga.com?ptype=article&no=20220117132449206439&psub=news&gbn=01'},\n",
              " {'article': \"남태평양 섬나라인 통가의 ‘통가 훙가 하아파이’ 해저화산(바다 밑에 생긴 화산)이 14일(현지시간) 분화(화산재, 용암 등이 지구 내부에서 표면으로 방출됨)한 가운데 폭발 당시의 위성 영상이 최근 공개됐다. 화산 폭발로 쓰나미(지진, 화산 폭발로 발생하는 해일)가 발생하면서 통가의 통신이 끊겨 피해 상황은 구체적으로 확인되지 않고 있다. 통가의 수도인 누쿠알로파에서 북쪽으로 65㎞ 떨어진 통가 훙가 하아파이 해저화산은 현지시간 14일과 15일 이틀에 걸쳐 두 차례 분화했다. 14일 폭발 당시의 위성 영상에는 화산이 분화하는 순간 260㎞ 반경에 화산재와 연기가 퍼져나가는 장면이 담겼다. 미국 국립해양대기국(NOAA)은 ‘GOES West’ 위성이 촬영한 영상을 공개하고 화산재가 20㎞ 상공(높은 하늘)까지 치솟았다고 설명했다. 해저화산의 폭발로 누쿠알로파의 해안에서는 30㎝ 높이의 쓰나미가 발생한 것으로 측정됐다. 이튿날인 15일 하아파이 해저화산이 또 다시 분화하며 화산재와 가스로 이뤄진 폭 5㎞의 구름이 20㎞ 높이로 치솟았다. 누쿠알로파는 1.2m 높이의 쓰나미에 휩쓸렸다고 AFP 통신 등 외신이 보도했다. 당시 화산 분출은 뉴질랜드와 일본, 미국, 칠레 등 태평양 인접 국가에도 영향을 끼쳤다. 일본에서는 1m 높이의 쓰나미가 목격됐고, 남미의 칠레 해변에는 높은 파도가 발생하며 사망자가 나오기도 했다. 한편 영국 BBC 방송에 따르면 국제적십자연맹(IFRC)은 15일 해저화산의 폭발로 통가에 거주하는 주민 10만 명 중 약 8만 명이 피해를 입었을 것이라는 분석을 내놓았다. 현지에서 화산재 분출에 따른 주민 피해가 발생했을 것이며 쓰나미로 인한 침수(물에 잠김) 피해도 클 것으로 예상된다는 것이다. [한 뼘 더] '국왕' 있는 나라, 통가통가는 태평양 한가운데 폴리네시아 지역에 위치한 섬나라. 약 10만 명의 인구가 거주하는 작은 나라에요. 영국 같은 나라와 마찬가지로 입헌군주제를 채택해 국왕이 국가원수를 맡고 총리가 정치를 다스려요. 통가의 면적은 747㎢로 제주도 면적의 절반 정도에 불과하지요. \",\n",
              "  'author': '장진희',\n",
              "  'date': '2022-01-17 17:09:00',\n",
              "  'img_path': 'http://kids.donga.com/www/data/article/202201/448995b161f28b78bd4d4d85fb80d6f8_1642392451_0305.JPG',\n",
              "  'source': '어린이동아',\n",
              "  'title': '[오늘의 뉴스]남태평양 통가 인근에서 대규모 화산 폭발 이어져',\n",
              "  'url': 'https://kids.donga.com?ptype=article&no=20220117130845984436&psub=news&gbn=01'},\n",
              " {'article': ' 스리랑카의 굶주린 코끼리들이 쓰레기 매립지에서 먹이를 찾다 플라스틱을 먹고 폐사(주로 짐승 등이 갑자기 죽음)하는 일이 발생하고 있다. 영국 가디언 등 외신은 스리랑카 암파라 지역 팔라카두 마을에 있는 쓰레기 매립지에서 코끼리 2마리가 최근 목숨을 잃은 채 발견됐다고 14일(현지시간) 보도했다. 숨진 코끼리의 사체를 조사한 결과 코끼리는 음식물을 찾기 위해 쓰레기를 헤집으며 플라스틱 쓰레기를 다량으로 삼킨 것으로 나타났다. 코끼리의 사체를 살핀 전문가에 따르면 코끼리의 몸에서 비닐봉지, 포장지, 플라스틱 등이 쏟아져 나왔고 정상적으로 섭취할 수 있는 음식물은 없었다. 플라스틱 등 인간이 배출한 쓰레기를 먹고 목숨을 잃은 코끼리의 사례는 이번이 처음은 아니다. 보도에 따르면 지난 8년간 스리랑카 동부지역에서 플라스틱을 먹고 숨진 코끼리는 약 20마리에 이른다는 것. 스리랑카는 전통적으로 코끼리를 숭상(높여 소중히 여김)하는 국가지만 스리랑카에서도 코끼리 멸종은 가파르게 이어지고 있다. 한 조사에 따르면 19세기에는 현지의 코끼리 수가 1만6000마리에 달했지만 2011년에는 6000마리까지 급격하게 줄어들었다. 코끼리의 멸종 위기가 심화된 것은 환경 파괴로 이들이 거주하던 자연 서식지를 잃으면서 생명 유지가 어려워졌기 때문. 게다가 먹이까지 부족해지는 현상이 나타나면서 마을의 사람이 사는 곳까지 접근한 코끼리들이 상아 밀렵꾼 등에게 해를 입는 일도 발생하고 있다. 또 이번 사례처럼 코끼리들이 음식물을 찾다 플라스틱 등을 삼켜 사망하는 경우도 잇따라 발생하고 있다.',\n",
              "  'author': '권세희',\n",
              "  'date': '2022-01-16 13:30:00',\n",
              "  'img_path': 'http://kids.donga.com/www/data/article/202201/b45fb6b4741c1d050c1493f449a27091_1642307316_9715.jpg',\n",
              "  'source': '어린이동아',\n",
              "  'title': '[오늘의 뉴스]쓰레기장에서 먹이 찾는 스리랑카 코끼리들, 잇따라 사망',\n",
              "  'url': 'https://kids.donga.com?ptype=article&no=20220116133007365197&psub=news&gbn=01'},\n",
              " {'article': '커다랗고 튼튼한 앞니로 나무를 갉아 집을 지어 ‘자연의 목수’라 불리는 비버가 최근 북극권에서 포착되고 있어 비상이 걸렸다. 지구온난화로 북극의 기온이 올라가면서 비버가 알래스카 지역까지 진출한 것이다. 비버의 출현에 과학자들은 긴장하고 있는데, 비버가 북극 지역의 얼음을 녹이며 기후변화를 가속화시킬 수 있기 때문. 비버는 어쩌다 골칫덩이 신세가 된 걸까. 우리가 잘 몰랐던 비버의 생태에 대해 알아보자.  생태계에 도움 주는 비버 주로 하천이나 늪 같이 습기가 많은 지역에 사는 비버의 주특기는 ‘나무 갉기’. 위아래로 난 앞니는 평생 자라기 때문에 이빨이 닳아 없어질 걱정도 없다. 지름 30㎝인 나무도 10분이면 갉아서 쓰러뜨리는 비버는 하천에 나무와 나뭇가지를 잔뜩 엮어 집을 짓고 그 안에 들어가 산다. 비버의 집은 물길을 틀어막는 댐의 역할을 하기 때문에 주변에는 습지가 생긴다. 비버가 만든 습지 주변으로는 유속(물이 흐르는 속도)이 느려지며 새로운 생태계가 형성되는 효과가 있다. 습지가 양서류 동물이나 수달 같은 동물의 서식지로서의 기능을 한다는 것이다. 그래서 비버는 ‘생태계 엔지니어’라는 별명을 갖고 있다.  북극 향하는 비버가 만드는 악순환 비버의 습지가 극지방에서는 꽝꽝 얼어있어야 할 땅을 녹이는 역할을 해서 문제다. 비버의 댐으로 만들어진 연못은 열을 잘 흡수해 겨울의 찬 공기가 땅으로 스며드는 것을 막는 것으로 나타났다. 그래서 북극의 비버가 골칫거리 취급을 받게 된 것. 최근 북극권의 날씨가 따뜻해지며 알래스카 같이 추운 지방의 하천에서도 비버가 발견되고 있다. 영국 일간신문 가디언에 따르면 미국 알래스카대 생태학자를 비롯한 국제 연구진은 북극권 알래스카에서 비버가 증가하는 현상에 대해 연구한 결과를 최근 발표했다. 극지방 비버 관측 네트워크에 참여하는 국제 연구진은 1949년까지 촬영된 항공 및 위성사진을 분석했다. 그 결과 당시 알래스카 지역에 비버가 만든 습지는 약 1만2000개였는데 지난 20년간 그 숫자는 2배로 늘어난 것으로 나타났다. 비버에게도 사정이 있다. 북극의 날씨가 점점 따뜻해져 겨울이 짧아지자 비버들은 포식자와 경쟁자가 적은 북극 근처로 이주하고 있는 것으로 보인다. 알래스카 북부와 서부에 서식하는 비버의 수는 5만∼10만 마리로 추정된다.  수중 생활도 문제 없지! 비버는 땅과 물속에서 모두 활동이 가능한 동물. 곰이나 늑대 같은 포식자를 피해 물속에서 생활하는 시간이 많다. 발에 달린 물갈퀴, 넓적한 모양의 꼬리와 항문 근처에 있는 기름샘이 비버가 물속에서 자유자재로 활동할 수 있게 돕는다. 비버의 뒷발에는 물갈퀴가 있어서 물속에서 헤엄을 잘 친다. 몸통과 달리 꼬리에는 털이 없고 넓고 평평한 모양이다. 수영할 때 비버의 꼬리는 마치 노와 같이 추진력을 내는 역할을 한다. 또 적이 나타나면 꼬리로 물 표면을 강하게 내리쳐 상대를 위협하고 동료에 위험신호를 보낸다. 비버의 몸통에 난 빽빽한 털이 젖으면 체온이 떨어져 쉽게 지칠 수 있다. 이를 방지하기 위해 비버의 항문 근처에는 기름이 분비되는 기름샘이 있다. 기름을 수시로 털에 발라서 방수 기능을 높이고 몸의 온도가 떨어지지 않게 하는 것. 과거에는 비버의 기름샘에서 나오는 ‘카스토리움’이라는 성분이 바닐라의 향과 비슷해 천연향료로 쓰이기도 했다. 최근에는 동물 학대라는 지적을 받아 합성향료로 대체됐다.',\n",
              "  'author': '장진희',\n",
              "  'date': '2022-01-16 13:27:00',\n",
              "  'img_path': 'http://kids.donga.com/www/data/article/202201/b45fb6b4741c1d050c1493f449a27091_1642307188_6574.jpg',\n",
              "  'source': '어린이동아',\n",
              "  'title': '‘자연의 목수’ 비버, 골칫덩이 된 이유? “우리도 사정이 있다고요!”',\n",
              "  'url': 'https://kids.donga.com?ptype=article&no=20220116132701648517&psub=news&gbn=01'},\n",
              " {'article': ' >> 14일 아르헨티나 부에노스아이레스(수도). 여름 무더위 속에서 사람들이 *리오 데 라 플라타에서 더위를 식히고 있다.  *아르헨티나와 우루과이 사이를 흐르는 강. 우리나라가 속한 북반구(적도를 경계로 지구를 둘로 나누었을 때 북쪽 부분)는 현재 겨울이지만 아르헨티나 등 남반구(적도를 경계로 지구를 둘로 나누었을 때 남쪽 부분)는 여름이다. 최근 아르헨티나는 40도를 넘는 폭염(매우 심한 더위)이 기승을 부리고 있다. 아르헨티나의 수도 부에노스아이레스의 11일(현지시간) 기온은 41.1도까지 치솟아 115년 관측 역사상 두 번째로 높은 기온을 기록했다. 더위가 계속되자 전력 수요가 늘어 정전 사태도 잇따르고 있다.  한편 또 다른 남반구 나라인 호주에서도 13일(현지시간) 서부 온슬로 지역의 기온이 50도를 넘는 등 폭염이 발생하고 있다.',\n",
              "  'author': '김재성',\n",
              "  'date': '2022-01-16 12:17:00',\n",
              "  'img_path': 'http://kids.donga.com/www/data/article/202201/4f37a9369545177ab2d504558012390c_1642303003_1905.jpg',\n",
              "  'source': '어린이동아',\n",
              "  'title': '[월드 뉴스]남반구 아르헨티나는 ‘폭염’',\n",
              "  'url': 'https://kids.donga.com?ptype=article&no=20220116121701646043&psub=news&gbn=01'},\n",
              " {'article': ' 지난해 우리나라 국민의 讀書량은 2년 전에 비해 감소한 것으로 확인됐는데, 초중고교생의 연간 종합 讀書량은 이전 조사와 비교해 6.6권 감소한 것으로 나타났다. 문화체육관광부는 만 19세 이상 성인 6000명과 초등학생(4학년 이상) 및 중고교생 3320명을 대상으로 ‘2021년 국민 讀書 실태’를 조사하고 그 결과를 최근 발표했다.  조사 결과에 따르면 지난 1년 간(2020년 9월 1일∼2021년 8월 31일) 초중고교생의 연간 종합 讀書율(1년 간 종이책, 전자책, 소리책 등의 도서를 1권 이상 읽거나 들은 사람의 비율)은 91.4%, 연간 종합 讀書량(1년 간 읽거나 들은 종이책, 전자책, 소리책 등의 도서 권수)은 34.4권으로 2019년과 비교하면 讀書율은 0.7%포인트, 讀書량은 6.6권 감소했다. 성인의 연간 종합 讀書율은 47.5%, 연간 종합 讀書량은 4.5권으로 나타나 2년 전에 비해 각각 8.2%포인트, 3권 줄어든 것으로 나타났다.  성인의 경우 讀書하기 어려운 가장 큰 이유로 ‘일 때문에 시간이 없어서’(26.5%)를 꼽았다. 학생들은 ‘스마트폰, TV, 인터넷 게임 등을 이용해서’(23.7%)가 가장 큰 讀書 장애 요인이라고 응답했다. 학생들의 디지털 매체 이용이 讀書율 하락에 영향을 주고 있는 것이다. ',\n",
              "  'author': '김재성',\n",
              "  'date': '2022-01-16 12:16:00',\n",
              "  'img_path': 'http://kids.donga.com/www/data/article/202201/4f37a9369545177ab2d504558012390c_1642302943_3542.jpg',\n",
              "  'source': '어린이동아',\n",
              "  'title': '[한자뉴스]지난해 초중고교생 독서량, 2년 전보다 6.6권 감소',\n",
              "  'url': 'https://kids.donga.com?ptype=article&no=20220116121610803962&psub=news&gbn=01'},\n",
              " {'article': ' 미국의 마블 코믹스가 발간한 만화책에서 스파이더맨이 등장하는 한 페이지가 약 40억 원에 낙찰돼 화제다.  미국 워싱턴포스트 등 외신은 “미국 댈러스에 있는 경매업체 헤리티지 옥션(Heritage Auction)이 최근 주관한 한 경매에서 스파이더맨이 등장하는 만화책 한 페이지가 336만 달러(약 40억 원)에 낙찰됐다”면서 “2014년 65만7250달러(약 7억8000만 원)에 팔렸던 인크레더블 헐크 1974년 호의 기록을 깨뜨린 사상 최고가 기록”이라고 보도했다.  이번에 최고가 기록을 쓴 만화책의 페이지는 1984년 마블 코믹스가 발간한 ‘시크릿 워즈(Secret Wars)’ 8호의 25쪽. 시크릿 워즈는 마블의 한정판 시리즈로 마블 히어로들이 배틀 월드라는 행성에서 악당과 맞서 싸우는 내용을 그린다.  원래 스파이더맨은 붉은색과 파란색이 조합된 슈트를 착용하지만 시크릿 워즈의 25쪽에선 스파이더맨이 처음으로 검은색 슈트를 입은 장면이 나온다. 스파이더맨이 외계 생명체 심비오트와 대결한 뒤 심비오트가 스파이더맨에 달라붙으면서 블랙 슈트 스파이더맨이 처음으로 탄생하는 과정이 담긴 것. 이런 이유로 해당 페이지는 경매 시작가인 33만 달러(약 4억 원)의 10배에 달하는 높은 금액으로 낙찰됐다.  헤리티지 옥션은 “만화책에 그려진 그림은 캔버스에 그려진 어떤 것보다 사랑받고 가치가 있다”고 밝혔다.',\n",
              "  'author': '김재성',\n",
              "  'date': '2022-01-16 12:14:00',\n",
              "  'img_path': 'http://kids.donga.com/www/data/article/202201/4f37a9369545177ab2d504558012390c_1642302872_1689.jpg',\n",
              "  'source': '어린이동아',\n",
              "  'title': '[뉴스 브리핑]스파이더맨 등장 만화책 한 페이지, 약 40억 원',\n",
              "  'url': 'https://kids.donga.com?ptype=article&no=20220116121452382025&psub=news&gbn=01'},\n",
              " {'article': ' >> 12일 (미국) *뉴저지 주의 해켄색에 있는 ‘타겟’ 매장. 한 표지판(당신이 좋아하는 더 많은 것이 곧 도착 예정입니다)이 고객들에게 상품이 주문 중이라는 것을 말하고 있다.  *미국 북동부 대서양 연안에 있는 주로 해켄색은 뉴저지 주 버겐카운티에 있는 도시다.  최근 미국 주요 도시의 마트에 식료품과 생필품 등이 제때 공급되지 못하면서 매장의 상품 진열대가 텅텅 비어있는 모습이 포착되고 있다. 미국의 농장과 식품 가공업체, 배송업체, 식료품점 근로자들이 코로나19 변이 바이러스인 오미크론 변이에 감염되는 사례가 늘어 이들이 자가격리 등을 하면서 식료품과 생필품을 제때 공급할 인력이 부족해진 데 따른 것이다. 미국 언론들은 “유통업에 종사하는 인력 유출(밖으로 흘러 나감)이 가속화(속도를 더하게 됨)되며 미국의 공급망(물품의 생산부터 소비까지 이뤄지는 연결망)이 흔들리고 있다”고 분석했다.',\n",
              "  'author': '김재성',\n",
              "  'date': '2022-01-13 15:45:00',\n",
              "  'img_path': 'http://kids.donga.com/www/data/article/202201/71e81c45ce103445e1c87e4cf84b61de_1642056282_0085.jpg',\n",
              "  'source': '어린이동아',\n",
              "  'title': '[월드 뉴스]텅텅 비어있는 마트 상품 진열대',\n",
              "  'url': 'https://kids.donga.com?ptype=article&no=20220113154501657395&psub=news&gbn=01'},\n",
              " {'article': '중국이 달과 비슷한 환경을 갖춰 각종 실험을 수행할 수 있는 연구시설을 만들었다. 홍콩 일간신문 사우스차이나모닝포스트(SCMP)에 따르면 중국광업기술대 연구진이 동부 장쑤성 쉬저우에 ‘인공 달’이 포함된 실험실을 구축하는 데 성공했다. 진공 상태로 유지되는 실험실에는 지름이 60㎝인 인공 달이 포함됐다. 인공 달의 표면에는 실제 달에 있는 것과 비슷한 먼지와 암석이 있다. 자기장을 이용해 인공 달의 중력을 지구의 6분의 1 수준으로 설정했다. 중력이 약하기 때문에 개구리 등이 이 시설에서 떠오른다고 SCMP는 전했다. 달에서는 대기가 약해 기온이 극단적으로 변한다. 최고 온도가 섭씨 120도에 달했다가 최저 영하 180도로 떨어지기도 한다. 연구진은 이 같은 환경도 구현한 것으로 알려졌다. 연구진은 인공 달을 이용해 3D(입체) 프린터로 달 표면에 건물을 올리는 것이 가능할지 등을 실험할 계획이라고 밝혔다. 중국은 달에서 자원을 확보하기 위해 2027년까지 연구기지를 건설한다는 계획을 갖고 있다. 이에 중국은 적극적으로 달 탐사에 나서는 모습이다. 2019년 무인탐사선 ‘창어 4호’를 달 뒷면에 착륙시키는 데 성공했고, 2020년에는 ‘창어 5호’를 발사했다. 창어 5호는 달에서 흙과 암석 표면을 채취해 지구로 돌아왔다.[한 뼘 더] 달에서 로켓 발사가 더 쉽다!지구에서 로켓을 쏘아 올리려면 어마어마한 추진력이 필요해요. 로켓을 우주로 보내기 위해서는 중력을 거슬러야하기 때문이지요. 엔진의 크기도 커질 수밖에 없고 연료도 많이 필요해요. 그런데 달에서 작용하는 중력은 지구의 6분의 1 수준 밖에 되지 않아요. 적은 힘으로도 로켓을 쏘아 올릴 수 있는 것이지요. 달에서 로켓을 발사한다면 로켓의 크기와 무기를 줄일 수 있어서 비용을 절감할 수 있지요. 달에 우주기지가 건설되면 달에서 로켓을 쏘아 올리는 장면을 목격하게 될지도 몰라요!',\n",
              "  'author': '장진희',\n",
              "  'date': '2022-01-13 15:44:00',\n",
              "  'img_path': 'http://kids.donga.com/www/data/article/202201/6270655ae3f07e62a1b935b58ddc1ac4_1642054261_9294.jpg',\n",
              "  'source': '어린이동아',\n",
              "  'title': '[오늘의 뉴스]중국, 중력 약하고 일교차 심한 ‘인공 달’ 만들어',\n",
              "  'url': 'https://kids.donga.com?ptype=article&no=20220113151238945348&psub=news&gbn=01'},\n",
              " {'article': '생 양파를 자를 때면 눈이 매워 눈물을 흘리는 경우가 많다. 영국에서 썰어도 눈이 맵지 않은 양파가 처음으로 판매될 예정이라 주목된다. 영국 일간 가디언 등 외신은 눈이 맵지 않은 양파 품종인 ‘수니온(Sunion)’을 영국 대형 식료품 매장인 웨이트로즈에서 판매할 예정이라고 11일(현지시간) 보도했다. 수니온은 유전자 조작 작물이 아니라 자극적이지 않은 품종끼리 교배(생물의 암수를 인위적으로 수분시켜 다음 세대를 얻는 일)시켜 나온 품종으로 개발에만 30년 이상이 걸렸다. 이 같은 양파를 개발한 것은 양파에서 나오는 매운 맛과 향 때문에 양파를 썰 때 고글을 착용하는 이들도 있을 정도로 요리를 하며 불편을 겪는 이들이 많기 때문. 실제로 영국에서 양파용 고글은 약 23파운드(약 3만7000원)에 판매되고 있다. 웨이트로즈는 “수니온을 사용하면 눈이 예민한 사람들도 양파용 고글 없이도 요리를 쉽게 할 수 있다”고 밝혔다. 다만 이 양파는 세 묶음에 1.5파운드(약 2400원)의 價格으로 판매되는데, 다른 일반 양파 3배에 이를 정도의 비싼 價格이 단점이다.',\n",
              "  'author': '권세희',\n",
              "  'date': '2022-01-13 13:24:00',\n",
              "  'img_path': 'http://kids.donga.com/www/data/article/202201/3243a4c507ed78edf8bca0396743478e_1642047770_866.JPG',\n",
              "  'source': '어린이동아',\n",
              "  'title': '[한자뉴스]썰어도 눈 맵지 않은 양파?',\n",
              "  'url': 'https://kids.donga.com?ptype=article&no=20220113132452985231&psub=news&gbn=01'},\n",
              " {'article': '중세 기사(말을 탄 무사)들이 전쟁에서 탔던 말이 현재의 조랑말과 크기가 비슷했다는 연구결과가 나왔다. 중세를 배경으로 하는 전쟁 영화에서 병사들이 타는 말은 성인의 키를 훌쩍 뛰어넘는 것으로 묘사되지만 실제는 달랐던 것이다. 영국 일간 가디언 등 외신은 영국 엑서터대 연구진이 중세 영국 전쟁에서 쓰인 군마(군대에서 쓰는 말)의 평균 키가 144㎝라는 연구결과를 발표했다고 최근 보도했다. 이는 오늘날 조랑말과 거의 비슷한 크기다. 연구진은 4∼17세기에 살았던 말 2000여 마리의 유해를 분석하고 이 시대를 나타내는 여러 문헌을 참고해 말의 크기를 추정했다. 연구결과 13∼14세기에는 왕실의 말도 153㎝를 넘는 경우가 드물었으며 노르만 왕조(1066년에 노르망디 공 윌리엄 1세가 영국을 정복하고 세운 왕조) 때의 가장 큰 말 역시 비슷한 크기에 그쳤다. 오늘날 흔히 보는 커다란 말이 일상화된 것은 중세 이후라고 연구진은 밝혔다. 연구진은 “중세 군마는 놀랍도록 작았다. 영화나 드라마에 나오는 큰 크기의 군마는 사실 몇 마리 없었을 것”이라면서 “다만 말의 크기가 중세의 기사들에게 중시되는 요소는 아니었을 수 있다. 장거리 공격과 장비를 수송하는 등의 임무를 위해 작은 말이 필요했을 가능성도 있다”고 말했다. 연구진은 농사에 사용된 말과 달리 전쟁 등에 사용된 말은 제대로 매장된 경우가 드물어 유적 조사, 말 갑옷과 유전자 분석 등 추가적인 연구가 더 필요하다고 덧붙였다.  ',\n",
              "  'author': '권세희',\n",
              "  'date': '2022-01-13 13:21:00',\n",
              "  'img_path': 'http://kids.donga.com/www/data/article/202201/3243a4c507ed78edf8bca0396743478e_1642047700_454.JPG',\n",
              "  'source': '어린이동아',\n",
              "  'title': '[뉴스 브리핑]중세 기사들이 탔던 말, 현재 조랑말 크기와 비슷',\n",
              "  'url': 'https://kids.donga.com?ptype=article&no=20220113132157969894&psub=news&gbn=01'},\n",
              " {'article': '캐나다 정부가 원주민들을 위해 400억 캐나다 달러(약 37조 원)에 달하는 보상금을 내놓겠다고 최근 밝혔다. 과거 원주민을 대상으로 문화 말살(없애 버림)식 교육을 했던 역사에 대한 책임을 느끼고 큰 금액을 내놓겠다고 밝힌 것. 캐나다 외에도 과거에 저지른 잘못에 책임지고 사과하는 나라들이 전 세계에는 적지 않다. 소수민족을 학대하거나 전쟁을 일으켜 반인륜적(인간관계나 질서에 어긋나는)인 행위 등을 행했던 나라들이 과거 역사에 대해 사죄하는 모습으로 국제사회의 주목을 받는다. 원주민 마음 어루만지기 위해 19∼20세기 캐나다 정부는 15만 명이 넘는 캐나다 본토 원주민과 알래스카 출신 이누이트족 등의 어린이들을 캐나다 사회에 동화(서로 같게 됨)시키겠다는 목적으로 130곳이 넘는 기숙학교에 강제 수용했다. 부모와 생이별을 하며 이곳에 수용된 어린이들은 캐나다에서 공식적으로 사용하는 언어인 영어·프랑스어만 사용하도록 강요받았으며 영양실조(영양소 부족으로 일어나는 이상 상태)에도 시달린 것으로 확인됐다. 지난해 캐나다 내 기숙학교 부지 곳곳에선 1000여 구에 이르는 어린이 유해가 발견돼 국제사회가 큰 충격에 빠지기도 했다. 당시 쥐스탱 트뤼도 캐나다 총리는 “이 상처를 진정으로 치유하려면 먼저 진실을 인정해야 한다”며 공식 사과했다. 이번 캐나다 정부의 보상금 지급 결정은 원주민 단체와의 긴 논의 끝에 나온 결과. 2007년 캐나다 원주민 단체는 원주민 어린이 인권 침해 등으로 캐나다 정부를 상대로 소송을 제기했다. 당시 캐나다 정부는 일부 잘못은 인정하면서도 구체적인 보상 등에는 합의하지 않아 법적 공방(서로 공격하고 방어함)이 이어졌다. 그런데 지난해 기숙학교 부지에서 원주민 어린이들의 유해가 발견되면서 캐나다 정부는 과거의 잘못을 인정하고 사과하게 됐고, 최근 그 결실이 맺어진 것. 미국 워싱턴포스트 등 외신에 따르면 캐나다가 지급하기로 한 보상금 가운데 200억 캐나다 달러는 20만 명에 이르는 원주민들에게, 나머지 200억 캐나다 달러는 5년 동안 원주민 보육 체계를 개선하는데 쓰일 예정이다. 전범 행위로 상처 입은 이들에게 독일은 제2차 세계대전 전범(전쟁 범죄) 국가로 과거사에 대해 꾸준히 사과하는 모습을 보이는 대표적인 국가다. 제2차 세계대전은 1939∼1945년 독일, 이탈리아, 일본을 중심으로 한 국가와 영국, 프랑스, 미국, 소련을 중심으로 한 연합국이 벌인 세계적인 전쟁. 당시 아돌프 히틀러(1889∼1945)를 중심으로 한 나치 독일은 ‘홀로코스트’라 불리는 유대인 대학살을 자행했고, 이로 인해 약 600만 명에 이르는 유대인들이 목숨을 잃었다. 앙겔라 메르켈 전 독일 총리는 2008년 당시 독일 총리로는 처음으로 이스라엘 국회를 찾아 “홀로코스트는 수치스러운 기억”이라고 공식 사과했다. 일회성 방문은 아니었다. 그는 재임기간이었던 16년 내내 꾸준히 사과했으며 퇴임을 앞둔 2021년 10월에도 이스라엘 예루살렘 야드바· 홀로코스트 기념박물관을 찾아 희생된 유대인들을 추모했다. 전쟁이 끝난 지 77년이 지났지만 독일은 과거의 역사를 되풀이하지 않겠다는 의지를 국제사회에 보이며 국가 차원에서 나치 전범에 대한 재판을 이어오고 있다. 이민자 차별 역사 ‘반성’ 멕시코 정부는 멕시코 중북부에 있는 도시 토레온에서 벌어진 학살로 중국계 이민자 303명이 사망한 사건에 대해 고개 숙여 사과했다. 300명이 넘는 중국계 이민자가 목숨을 잃은 이 사건은 멕시코 혁명(멕시코에서 독재 정권을 타도하고 외국 자본에 의한 경제 지배에서 벗어나기 위해 1910∼1917년 벌어진 혁명) 초반에 발생했다. 토레온에 진입한 혁명군이 이곳에 거주하던 중국계 이민자들의 상점과 외곽 거주지에 들이닥쳤고, 중국인 소유 기업과 은행을 약탈하며 이민자들을 공격했다. 영국 일간 가디언은 토레온에서 벌어진 학살을 두고 19∼20세기 초 북미 전역을 휩쓴 차별의 모습이라고 분석했다. 안드레스 마누엘 로페스 오브라도르 멕시코 대통령은 지난해 5월 이 사건을 언급하며 “차별은 가장 사악하고 공격적인 고정 관념에 근거한다”면서 “인종주의와 차별, 외국인 혐오를 용납하지 않을 것”이라고 공식 사과했다.',\n",
              "  'author': '권세희',\n",
              "  'date': '2022-01-13 13:19:00',\n",
              "  'img_path': 'http://kids.donga.com/www/data/article/202201/3243a4c507ed78edf8bca0396743478e_1642047478_189.jpg',\n",
              "  'source': '어린이동아',\n",
              "  'title': '얼룩진 과거사 사과하는 나라들… “과거 역사, 깊이 반성합니다”',\n",
              "  'url': 'https://kids.donga.com?ptype=article&no=20220113131925442989&psub=news&gbn=01'},\n",
              " {'article': '아이폰 탄생 15주년을 맞은 미국의 기업 애플의 시가총액(시장에서 평가 받은 특정 회사의 전체 가치)이 세계 최초로 3조 달러(약 3570조 원)를 돌파하는 기록을 세웠다. 지난 3일(현지시간) 미국 뉴욕 증권시장에서 애플의 주가(주식의 가격)는 한때 1주당 182.88달러까지 치솟았고 시가총액은 3조 달러 선을 살짝 넘었다가 다시 밑으로 떨어졌다. 11일(현지시간) 기준 애플의 시가 총액은 약 2조8598억 달러(약 3404조 원)다. 세계 굴지(매우 뛰어나 수많은 가운데서 손꼽힘)의 정보기술(IT) 기업이 된 애플도 그 시작은 벤처기업(전문 지식과 기술을 갖고 모험적 경영을 하는 중소기업)이었다. 게임회사를 다니다 퇴사한 스티브 잡스(1955∼2011)는 1976년 친구인 스티브 워즈니악과 함께 ‘애플(Apple)’이라는 이름의 컴퓨터 회사를 세웠다. 이들은 캘리포니아 주의 주택 차고에서 개인용 컴퓨터를 조립해 팔았다. 2000년대부터 애플의 반전이 시작됐다. 2001년 애플은 손가락으로 문질러서 조작하는 바퀴 모양의 버튼이 달린 MP3 플레이어 ‘아이팟’을 출시했다. 아이팟은 불티나게 팔려 나갔다. 2007년에는 ‘아이폰’을 선보이면서 애플은 세계 스마트폰 시장에서 혁신을 이끌기 시작했다. 휴대전화에 카메라, MP3 플레이어의 기능을 탑재한 것은 물론이고 무선인터넷 기능까지 포함됐다. 이밖에도 애플은 아이폰에 손가락의 전기를 인식하는 방식의 ‘정전식 터치스크린’을 최초로 장착했고, 독자적인 모바일 운영체제를 탑재해 누구나 쉽게 조작이 가능하게 했다. 애플의 질주, 계속될까? 애플은 설립한지 42년 만인 지난 2018년 8월 시가 총액 1조 달러를 넘겼고, 2020년 8월 미국 상장기업 중 처음으로 2조 달러의 벽을 깼다. 코로나19의 확산에 따른 수혜(혜택을 받음)로 최근 3조 달러 돌파를 달성했다는 분석이 나온다. 비대면 서비스가 증가하면서 스마트폰, 컴퓨터의 수요가 크게 늘었다는 것이다. 잡스가 세상을 떠난 뒤 팀 쿡 최고경영자(CEO)가 이끄는 애플은 무선 이어폰 ‘에어팟’과 웨어러블 기기인 ‘애플워치’같은 제품을 시장에 내놓았다. 온라인동영상서비스(OTT)인 ‘애플TV플러스’, 클라우드 서비스인 ‘아이클라우드’, 음악 서비스 ‘애플뮤직’ 등 유료 서비스 플랫폼을 확장한 것도 애플의 고공행진(어떤 수치가 계속하여 오르는 현상)에 기여했다는 평가다. IT 제품 기업인 애플이 앞으로 ‘애플카’를 출시하며 전기차 시장에 뛰어들 것이라는 전망이 나온다. 미국 CNBC 방송은 증권가에서 애플카가 시장에 나오면 애플의 시가총액은 4조 달러를 넘길 것이라는 분석도 나왔다고 최근 보도했다. ',\n",
              "  'author': '장진희',\n",
              "  'date': '2022-01-12 13:53:00',\n",
              "  'img_path': 'http://kids.donga.com/www/data/article/202201/3ce1cda1e62a706f5f430181e0e653d4_1641962914_7111.jpg',\n",
              "  'source': '어린이동아',\n",
              "  'title': '애플 시가총액, 세계 최초 3조 달러 돌파… 혁신은 언제부터?',\n",
              "  'url': 'https://kids.donga.com?ptype=article&no=20220112135204268769&psub=news&gbn=01'},\n",
              " {'article': '[오늘의 키워드] 북대서양조약기구(NATO) 미국, 캐나다와 유럽 10개국 등이 참가해 발족시킨 집단방위기구이다. 미국과 서유럽의 여러 나라가 소련(지금의 러시아) 등 공산권 세력에 대항하기 위해 1949년 미국 워싱턴에서 체결한 북대서양조약을 수행하기 위한 기구다. NATO는 냉전(미국을 중심으로 한 자본주의와 소련을 중심으로 한 공산주의의 대립) 체제에서 소련을 중심으로 한 동구권(과거 동유럽과 중앙유럽의 공산주의 국가들을 일컫는 말)의 위협에 대항하기 위해 만들어졌다. 러시아가 우크라이나 국경(나라의 영역을 가르는 경계) 주변에 병력을 대거 배치하면서 미국과 서방국(서유럽의 자유주의 국가들)들이 러시아의 우크라이나 침공을 우려하는 가운데 사태 해결을 위해 미국과 러시아가 회담을 진행했지만 별다른 합의점을 찾지 못했다. 미국 뉴욕타임스 등 외신에 따르면 웬디 셔먼 미국 국무부 부장관과 세르게이 랴브코프 러시아 외무차관을 중심으로 한 양국 대표단은 10일(현지시간) 스위스 제네바에서 만나 우크라이나 사태를 비롯해 서방국과 러시아 간의 안전 보장 문서 채택 등을 논의하는 전략안정대화(SSD)를 가졌다. 러시아의 우크라이나 침공 가능성이 제기되는 가운데 열린 회담이어서 국제사회의 주목을 받았지만 긴 회담에도 불구하고 양측은 서로의 입장차만을 확인한 채 회담이 종료됐다. 랴브코프 외무차관은 셔먼 부장관에게 우크라이나에 대한 침공 우려는 근거가 없는 것이라는 입장을 밝히며 우크라이나 등 옛 소련권 국가들의 북대서양조약기구(NATO·나토) 가입을 금지한다는 보장이 필요하다고 밝혔다. 셔먼 부장관은 우크라이나 국경에서의 군사 행동을 중단할 것을 러시아 측에 요구했다. 이어 우크라이나의 나토 가입은 국가의 주권 문제라고 일축(제안이나 부탁을 거절하거나 물리침)했다. 미국과 러시아가 우크라이나를 두고 대립하는 이유는 우크라이나의 나토 가입 가능성 때문이다. 우크라이나는 지리적으로 러시아와 유럽을 연결하는 요충지(군사적으로 아주 중요한 곳)에 자리하고 있다. 1991년 소련이 붕괴되면서 독립한 우크라이나는 러시아가 아니라 미국과 서유럽 등 서방국과 긴밀한 관계를 맺으려는 시도를 하며 나토 가입을 추진해왔다. 러시아는 자국과 가까운 곳에 있는 우크라이나가 나토에 가입하면 러시아 안보에 위협을 줄 것으로 판단해 최근 우크라이나 접경 지역에 병력을 배치해 우크라이나를 압박한 것. 반면 러시아를 견제하는 미국은 우크라이나를 지지하는 입장이다. 우크라이나가 러시아의 영향력에서 벗어나 나토에 가입하게 되면 우크라이나를 통해 러시아를 견제할 수 있다고 판단하는 것이다. ▶러시아는 우크라이나를 비롯한 옛 소련권 국가들에 대한 영향력을 행사하려고 하고, 이들 국가에 대해 자국이 갖는 영향력을 국제사회에 계속해서 드러내고 있습니다. 최근 러시아는 중앙아시아 최대 산유국(원유를 생산하는 나라)인 카자흐스탄에서 벌어진 대규모 반정부 시위 사태 진압을 위해 군사 병력을 파견하는 모습을 보였는데요. 러시아는 옛 소련권 안보 협의체인 집단안보조약기구(CSTO)를 통해 2500명 규모의 군인을 카자흐스탄에 파견했습니다. 당시 미국의 월스트리트저널(WSJ) 등의 외신은 블라디미르 푸틴 러시아 대통령이 카자흐스탄의 시위에 개입하면서 옛 소련권 국가들에 대한 영향력을 공고히 할 기회를 잡았다고 분석하기도 했지요.',\n",
              "  'author': '권세희',\n",
              "  'date': '2022-01-12 13:08:00',\n",
              "  'img_path': 'http://kids.donga.com/www/data/article/202201/63d97fabc61585b4d3bf8bca4420dd1b_1641960469_8289.jpg',\n",
              "  'source': '어린이동아',\n",
              "  'title': '[뉴스쏙 시사쑥]미국-러시아, 우크라이나 두고 대립하는 이유는? 한 치 양보 없는 팽팽한 국제관계 줄다리기',\n",
              "  'url': 'https://kids.donga.com?ptype=article&no=20220112130831823715&psub=news&gbn=01'},\n",
              " {'article': '캄보디아에서 100개가 넘는 지뢰(땅속에 묻어 그 위를 지나가면 폭발하도록 만든 폭약)를 찾아낸 대형 쥐 마가와의 죽음에 애도의 물결이 이어지고 있다. 미국 뉴욕타임스 등 외신은 아프리카 큰주머니쥐 마가와가 11일(현지시간) 사망했다고 보도했다. 전 세계에서 지뢰 제거 활동을 벌이는 벨기에의 비정부기구 ‘대인지뢰탐지개발기구(APOPO·아포포)’는 “마가와는 평소와 같이 지내던 중 지난 주말부터 움직임이 둔해지고 낮잠을 더 많이 잤다. 이후 마가와는 평화롭게 세상을 떠났다”고 밝혔다. 2013년 아프리카 동부 탄자니아에서 태어난 마가와는 아포포에서 약 1년간 훈련을 받은 뒤 2016년부터 캄포디아에 배치돼 수많은 지뢰를 찾아냈다. 마가와와 같은 쥐는 후각이 인간의 1억 배 이상 뛰어나 땅속 지뢰의 냄새를 맡아 빠른 시간 안에 지뢰를 탐색해낸다. 사람이 금속 탐지기 등을 이용해 테니스 코트 크기의 땅에서 지뢰를 탐색하려면 나흘 정도가 걸리지만 마가와와 같은 쥐들은 약 30분이면 탐색을 끝낼 수 있는 것. 또 몸무게가 가벼워 지뢰를 밟더라도 지뢰가 터지지 않아 탐지 작업에 적합하다. 마가와는 평생 14만1000㎡에 이르는 땅을 수색하며 100개 이상의 지뢰를 찾아냈다. 지뢰 탐지를 하는 동물 가운데 가장 많은 지뢰를 찾아낸 것. 이에 영국 동물보호단체 PDSA는 2020년 마가와에게 ‘용감한 동물상’을 수여하기도 했다. 지뢰 찾기에 큰 역할을 한 마가와는 나이가 들면서 움직임이 느려져 지난해 현장을 떠나 은퇴했다. 아포포는 “캄보디아 곳곳의 지뢰를 찾으며 수많은 생명을 살린 마가와는 진정한 용기와 헌신을 보여줬다”고 밝혔다.',\n",
              "  'author': '권세희',\n",
              "  'date': '2022-01-12 13:06:00',\n",
              "  'img_path': 'http://kids.donga.com/www/data/article/202201/63d97fabc61585b4d3bf8bca4420dd1b_1641960349_8908.jpg',\n",
              "  'source': '어린이동아',\n",
              "  'title': '[오늘의 뉴스]지뢰 탐지한 영웅 쥐 ‘마가와’ 죽음에 애도 물결',\n",
              "  'url': 'https://kids.donga.com?ptype=article&no=20220112130630578515&psub=news&gbn=01'},\n",
              " {'article': 'LG전자가 개발한假想인간인 김래아의 가수 데뷔 프로젝트에 윤종신이 참여한다. 윤종신은 연예 기획사 미스틱스토리의 대표 프로듀서(기획·제작을 책임지는 사람)이자 가수 겸 작곡가로 활동 중인 방송인이다. LG전자는 김래아의 가수 데뷔를 위한 업무협약을 미스틱스토리와 체결했다고 최근 밝혔다. 윤종신은 김래아의 노래를 제작하고 목소리 설정에도 참여한다. 김래아는 최근 폐막한 가전 박람회인 CES 2022에서 올해 가수로 데뷔할 것이라는 계획을 밝혔다. ‘미래에서 온 아이’라는 뜻의 이름을 가진 김래아는 LG전자가 모션캡처(사람·사물의 움직임을 센서를 이용해 디지털로 옮기는 기술)와 딥러닝(컴퓨터가 사람처럼 생각하고 배울 수 있게 하는 기술) 등을 통해 구현한假想인간이다.',\n",
              "  'author': '장진희',\n",
              "  'date': '2022-01-12 12:34:00',\n",
              "  'img_path': 'http://kids.donga.com/www/data/article/202201/c168d4eaddb156fb1db44bf4911d29e1_1641958393_2387.jpg',\n",
              "  'source': '어린이동아',\n",
              "  'title': '[뉴스 브리핑]가상인간 ‘김래아’ 올해 가수 데뷔한다',\n",
              "  'url': 'https://kids.donga.com?ptype=article&no=20220112123447554760&psub=news&gbn=01'},\n",
              " {'article': '미국에서 가장 많이 쓰이는 25센트 동전에 처음으로 흑인 여성을 본뜬 그림이 새겨졌다. 뉴욕타임스는 미국 조폐국이 인권운동가이자 시인으로 활동했던 마야 안젤루(1928 ~2014)의 얼굴이 새겨진 쿼터(25센트짜리 동전)를 제작·발행했다고 최근 보도했다. 동전에는 좌우로 팔을 뻗은 채 하늘을 응시하는 안젤루의 모습이 담겼다. 안젤루의 뒤로는 새 한 마리가 날개를 펼치고 날아오르는 장면이 보인다. 그가 1969년 발표한 자전적 소설인 ‘새장에 갇힌 새가 왜 노래하는지 나는 아네’를 떠오르게 한다. 안젤루는 이 책에서 인종차별과 성폭력을 겪는 10대 흑인 소녀의 삶에 대해 다뤘는데 자신의 어린 시절 경험이 녹아있다. 안젤루는 흑인이자 여성으로서 소수자의 인권 문제를 해결하기 위해 평생을 바쳤다. 이 같은 문제의식을 바탕으로 제작한 자서전과 수필, 시집을 출간해 주목을 받았다. 2010년 버락 오바마 당시 미국 대통령은 안젤루의 업적을 기리기 위해 대통령 자유메달을 수여하기도 했다. 미국 조폐국은 안젤루 외에도 미국의 역사에서 주목할 만한 업적을 세운 여성을 기리기 위해 앞으로 4년간 20종류 이상의 쿼터를 제작해 발행할 예정이다. 미국 최초의 여성 우주비행사, 여성 참정권(정치에 참여하는 권리) 확대를 이끈 운동가 등이 쿼터에 담길 것으로 보인다.',\n",
              "  'author': '장진희',\n",
              "  'date': '2022-01-12 12:32:00',\n",
              "  'img_path': 'http://kids.donga.com/www/data/article/202201/c168d4eaddb156fb1db44bf4911d29e1_1641958235_9575.jpg',\n",
              "  'source': '어린이동아',\n",
              "  'title': '[뉴스 브리핑]흑인 여성 인권운동가, 미국 25센트 동전에 새겨져',\n",
              "  'url': 'https://kids.donga.com?ptype=article&no=20220112123211274976&psub=news&gbn=01'},\n",
              " {'article': ' >> 11일 (미국) 뉴욕의 브롱크스 자치구. 자원봉사자들이 30년 만에 도시의 가장 치명적인 *화재로 고통받고 있는 건물 주민들을 위해 기부된 물품을 분류하고 있다.  *9일(현지시간) 미국 뉴욕 브롱크스에 있는 19층 아파트에서 화재가 발생해 17명이 목숨을 잃었다. 지난 30년 간 뉴욕에서 발생한 화재 중 최악의 화재로 기록된 이번 화재는 아파트 3층 한 가정집의 고장난 전기 히터에서 시작된 것으로 소방당국은 보고 있다. 화재가 시작된 집의 문이 열려있어 유독성 연기가 건물에 빠르게 퍼져 인명 피해가 컸다. 조 바이든 미국 대통령은 에릭 애덤스 뉴욕 시장에게 “화재 참사와 관련해 연방정부 차원에서 필요한 모든 지원을 하겠다”고 밝혔다.  한편 화재가 발생한 이 아파트에는 아프리카 감비아에서 온 이슬람교 신자들이 많이 거주했다. 이에 감비아 청년 자원봉사단체 등이 피해 주민들을 위한 봉사활동을 펼치고 있다.',\n",
              "  'author': '김재성',\n",
              "  'date': '2022-01-12 11:59:00',\n",
              "  'img_path': 'http://kids.donga.com/www/data/article/202201/5e3e6650cee949eb68b745d108472e2f_1641956358_9125.jpg',\n",
              "  'source': '어린이동아',\n",
              "  'title': '[월드 뉴스]뉴욕 화재 피해자 돕기 위한 구호물품들',\n",
              "  'url': 'https://kids.donga.com?ptype=article&no=20220112115935937319&psub=news&gbn=01'},\n",
              " {'article': ' >> 10일 호주 멜버른. 세르비아 테니스 스타인 *노박 조코비치의 팬들이 그의 법정 승리 소식에 반응하면서 호주 오픈을 앞두고 페더레이션 스퀘어를 향해 행진하고 있다.  *백신 미접종을 이유로 호주 입국 비자(외국인에 대한 출입국 허가 증명)가 취소됐던 노박 조코비치가 호주 정부의 결정에 불복(결정 등에 복종하지 않음)해 제기한 소송에서 승리했다. 조코비치는 남자 테니스 단식 세계랭킹 1위의 선수로 17일부터 열릴 2022 호주 오픈 테니스대회 출전을 위해 호주에 입국했지만 비자가 취소돼 현재 멜버른의 한 호텔에 격리돼 있다. 조코비치 측은 입국 전 대회조직위 등으로부터 백신 접종 면제 허가를 받아 관련 서류를 제출했지만 호주 출입국 관리소가 비자를 취소했다고 주장한다.  10일(현지시간) 호주 법원은 호주 정부의 결정을 취소해달라는 조코비치 측의 주장을 받아들였고, 조코비치의 격리 조치 해제 등을 결정했다. 법원의 이런 결정에도 불구하고 호주 정부는 조코비치의 비자를 취소하는 다른 방안을 검토하겠다고 밝혀 그의 대회 참가 여부는 여전히 불투명하다는 관측이 나온다. 호주는 코로나19 사태 이후 해외 입국자에게 강력한 방역 정책을 적용해온 바 있다. 만약 호주 정부가 조코비치의 비자를 취소하면 그는 추방되고, 3년 간 호주 입국이 금지된다.',\n",
              "  'author': '김재성',\n",
              "  'date': '2022-01-11 17:13:00',\n",
              "  'img_path': 'http://kids.donga.com/www/data/article/202201/b2cd1d3d0b0023efbeda4d5b3a5f1b57_1641888790_5385.jpg',\n",
              "  'source': '어린이동아',\n",
              "  'title': '[월드 뉴스]“조코비치 비자 취소 불합리” 법원 결정에 환호하는 팬들',\n",
              "  'url': 'https://kids.donga.com?ptype=article&no=20220111171328765961&psub=news&gbn=01'},\n",
              " {'article': '코로나19로 배달음식과 택배 같은 비대면 소비가 늘면서 쓰레기 처리가 심각한 문제로 떠올랐다. 그러나 다회용 도시락 쓰기, 천 장바구니 사용 등으로 쓰레기 배출량을 줄일 수 있다는 것이 시민들의 참여로 확인됐다. 서울시는 ‘쓰레기 다이어트’ 사업에 참가한 서울 시민들이 1인당 평균 생활쓰레기(종량제 봉투에 넣어 버리는 폐기물) 배출량을 40.8% 줄인 것으로 집계됐다고 최근 밝혔다. 서울시는 지난해 9∼11월 164가구를 대상으로 자발적으로 쓰레기 감량 계획을 세운 뒤 배출량을 얼마나 줄였는지를 측정하는 ‘쓰레기 다이어트’ 프로그램을 실시했다. 참가자들은 프로그램 기간 동안 저울로 생활쓰레기의 무게를 측정하고 활동 노트를 작성하며 쓰레기 배출량을 줄였다. 시작한 달(지난해 9월)과 마지막 달(지난해 11월)을 비교한 결과 1인당 한 달 평균 생활쓰레기 배출량이 5.81㎏에서 3.44㎏까지 줄어들었다. 무심코 종량제 봉투에 버렸던 쓰레기를 재활용품으로 분리·배출해 생활쓰레기의 양을 줄인 것으로 보인다. 1인당 재활용품(종이·플라스틱·비닐·스티로폼) 분리배출량도 31.41% 줄었다. 1인당 종이 배출량은 3.55㎏에서 2.35㎏로 1.2㎏이 줄었다. 플라스틱 배출량은 1.73㎏에서 1.09㎏로 줄었고 비닐은 640g에서 560g으로 줄었다. [한 뼘 더]쓰레기 다이어트에 동참하자쓰레기 배출량을 줄이기 위해 나는 어떤 노력을 할 수 있을까요? 구체적 실천 방법을 아래에 적어보아요.',\n",
              "  'author': '장진희',\n",
              "  'date': '2022-01-11 16:09:00',\n",
              "  'img_path': 'http://kids.donga.com/www/data/article/202201/5e3e438abcef4aa68b9a09966a8d499d_1641884863_4022.jpg',\n",
              "  'source': '어린이동아',\n",
              "  'title': '[오늘의 뉴스]‘쓰레기 다이어트’ 했더니… 배출량 40% 줄어',\n",
              "  'url': 'https://kids.donga.com?ptype=article&no=20220111160937632614&psub=news&gbn=01'},\n",
              " {'article': '교통 체증 해결하는 지하 터널과 색이 바뀌는 자동차…. 뻥뻥 뚫린 도로, 스트레스 날려요 신호등이 없고 차선은 하나뿐이라 목적지까지 직진만 가능한 도로가 있다면 등굣길이 얼마나 쾌적할까. CES 2022에서 이 같은 상상이 현실이 됐다. 전기차 회사 테슬라의 최고경영자(CEO)인 일론 머스크가 세운 보링컴퍼니는 CES 2022가 열린 미국 라스베이거스 컨벤션센터(LVCC)의 지하에 ‘베이거스 루프(Vega Loop)’라는 터널을 조성해 화제를 모았다. 지하 12m 깊이에 만들어진 이 터널의 폭은 자동차 한 대가 이동할 수 있을 정도다. 루프를 이용하면 걸어서 15분 걸리는 거리를 1분 만에 이동할 수 있는 것으로 알려졌다. 그러나 일부 외신은 한꺼번에 여러 대의 차가 주행하다보니 터널 안에서 막히는 현상이 나타났다고 지적하기도 했다.  미래 먹거리 된 전기차 산업  더운 날엔 흰색, 추운 날엔 검은색! 기분에 따라 차의 외장(바깥쪽의 장식) 색깔을 바꿀 수 있는 시대가 왔다. 독일의 자동차 기업인 BMW는 CES 2022에서 운전자의 취향 또는 주변 상황에 따라 자동차의 외관 색깔을 바꿀 수 있는 전기차인 ‘iX 플로우’를 공개했다. BMW가 공개한 영상을 보면 칠흑같이 어두운 검은색이었던 자동차의 색은 마치 카멜레온이 색깔을 바꾸듯 저절로 흰색으로 변했다가 다시 검은색으로 바뀌기를 반복한다. iX 플로우에는 전자잉크 기술이 적용됐다. 자동차의 겉면을 감싼 필름에는 지름이 사람 머리카락 굵기인 마이크로캡슐 수백만 개가 장착됐다. 운전자가 색상 변경을 선택하면 전기장(전기의 작용이 미치는 공간)에 의한 자극이 일어나면서 흰색 또는 검은색 안료(물질에 색깔은 내게 하는 미세한 분말)가 캡슐의 표면에 모이고 이에 따라 자동차의 색깔이 변하는 원리다. ',\n",
              "  'author': '장진희',\n",
              "  'date': '2022-01-11 16:06:00',\n",
              "  'img_path': 'http://kids.donga.com/www/data/article/202201/5e3e438abcef4aa68b9a09966a8d499d_1641884555_4648.jpg',\n",
              "  'source': '어린이동아',\n",
              "  'title': '교통체증 없는 지하터널·카멜레온 전기차… CES 2022에 선보인 미래형 이동수단',\n",
              "  'url': 'https://kids.donga.com?ptype=article&no=20220111160624602131&psub=news&gbn=01'},\n",
              " {'article': '태권도를 배운 어린이가 다른 어린이들에 비해 자기조절력이 높고 문제 행동은 낮게 나타난다는 연구결과가 나왔다. 자기조절력은 자신의 행동과 감정 등을 관리할 수 있는 能力으로 이는 긍정적인 정신건강과 학업성취도와도 관련돼 있다. 뉴스메디컬 등 외신은 7∼11세 어린이 240명을 대상으로 태권도 수업을 받은 후 나타난 행동을 분석한 연구결과를 영국 서리대 연구진이 미국심리학회 저널 ‘발달심리학’에 발표했다고 최근 보도했다. 연구진은 영국 초등학교 4개 학년 8개 학급 어린이를 대상으로 이 같은 연구결과를 얻었다. 연구진은 어린이들을 두 그룹으로 나눠 11주 동안 한 그룹은 일주일에 2번씩 태권도 수업을 받게 했고 나머지 그룹은 일반 체육수업을 받게 했다. 11주의 수업을 모두 마친 후 어린이들을 대상으로 자기조절력과 관한 설문조사를 진행했으며 어린이들의 자기조절력을 측정하는 실행기능검사도 시행했다. 아울러 어린이들의 행동 패턴을 교사가 관찰하도록 했다. 그 결과 태권도 수업을 받은 학생들이 다른 체육 수업을 받은 학생들보다 문제 행동이 낮게 나타났으며 충동이나 주의력 통제 등에서도 더 나은 행동을 보였다.',\n",
              "  'author': '권세희',\n",
              "  'date': '2022-01-11 13:11:00',\n",
              "  'img_path': 'http://kids.donga.com/www/data/article/202201/ac600ea246d28c7dc82725e34d82882d_1641874231_3586.jpg',\n",
              "  'source': '어린이동아',\n",
              "  'title': '[한자뉴스]영국 연구진 “태권도 배운 어린이, 자기조절력 높아”',\n",
              "  'url': 'https://kids.donga.com?ptype=article&no=20220111131102895599&psub=news&gbn=01'},\n",
              " {'article': '영국에서 머리 2m, 전체 길이 10m에 이르는 초대형 어룡 화석이 발견됐다. 영국 BBC 등 외신은 영국 러틀랜드에서 1억8000만 년 전에 존재했던 것으로 추정되는 어룡 화석을 발견했다고 최근 보도했다. 영국에서 발견된 어룡 화석 가운데 가장 큰 크기를 자랑하는 이 화석은 산호초 섬의 경관을 재정비하는 작업을 하던 중 발견됐다. 현재 발굴을 끝마친 상태이며 어룡 화석에 대한 연구와 보존 작업을 진행 중이다. 이번에 발견된 어룡 화석은 중생대 백악기(약 1억4500만 년 전부터 6500만 년 전까지의 시기)까지 번성했던 템노돈토사우루스 트리고노돈의 것으로 추정된다. 돌고래와 모양이 비슷한 템노돈토사우루스 트리고노돈은 최소 1m에서 최대 25m까지 자랄 수 있어 거대한 크기를 자랑한다. 날카로운 이빨을 가진 이 어룡은 쥐라기(중생대를 3기로 나눌 때 두 번째 시기)의 최상위 포식자(다른 동물을 먹이로 하는 동물)로 알려졌으며 물고기와 소형 어룡 등을 먹이로 삼았다. 고생물학자인 딘 로맥스 박사는 “영국은 어룡의 발상지(어떤 사물이 처음 나타난난 곳)로 어룡 화석이 계속해서 발굴되고 있지만, 이번에 발견된 어룡 화석은 커다란 크기는 물론 보존상태가 완벽에 가까워 전례(이전부터 있었던 사례)가 없는 영국 고생물학 역사상 유의미한 발견”이라고 밝혔다.',\n",
              "  'author': '권세희',\n",
              "  'date': '2022-01-11 13:09:00',\n",
              "  'img_path': 'http://kids.donga.com/www/data/article/202201/ac600ea246d28c7dc82725e34d82882d_1641874132_6962.jpg',\n",
              "  'source': '어린이동아',\n",
              "  'title': '[뉴스 브리핑]영국서 10m 크기의 거대한 ‘어룡 화석’ 발견',\n",
              "  'url': 'https://kids.donga.com?ptype=article&no=20220111130928498749&psub=news&gbn=01'},\n",
              " {'article': '만 나이는 태어난 때를 기점으로 매해 생일마다 1씩 더하는 셈법으로 구해진 나이를 뜻한다. 우리나라는 1962년부터 법적으로 ‘만 나이’를 기준으로 사용하도록 명시돼 공문서나 법조문 등에는 만 나이를 사용한다. 그러나 일상생활에서는 만 나이가 아닌 우리나라식 ‘세는 나이(출생할 때 한 살이 되고 새해가 되면 한 살씩 늘어나는 나이)’를 사용해 혼란이 빚어지기도 한다. 새해가 되면서 한국식 나이 셈법을 폐지하고 만 나이를 적용하자는 주장이 나온다. 특히 최근에는 코로나19 방역패스가 도입되면서 정부가 방역 지침을 알릴 때 나이가 등장하는 경우가 많은데, 이것이 일상에서 관습적으로 사용하는 ‘세는 나이’와 차이가 있어 혼란을 불러일으킨다는 주장이 나온다. 우리나라에는 총 3가지 나이 셈법이 있다. △태어난 순간을 ‘0세’로 하고 매해 생일을 지날 때마다 1씩 더해지는 ‘만 나이’ △현재 연도에서 태어난 연도를 뺀 나이인 ‘연 나이’ △태어난 순간에 ‘1세’로 시작해 매해가 시작될 때마다 1씩 더 하는 ‘세는 나이’가 그것. 세는 나이는 ‘한국식 나이’로도 불린다. 이처럼 나이 셈법이 3가지나 되다 보니 최근 소셜네트워크서비스(SNS) 등에서는 나이 셈법을 통일하자는 목소리가 나오고 있다. 현재 우리나라는 관공서와 병원, 각종 공문서에는 ‘만 나이’를, 병역법이나 청소년 보호법 등 일부 법에서는 ‘연 나이’를 사용하지만 일상생활에서는 ‘세는 나이’를 사용한다. 이처럼 공식적으로 사용하는 나이와 국민들이 일상적으로 사용하는 나이가 달라 정부와 국민들 간의 원활한 의사소통을 막고 있다는 것. 나이 셈법을 만 나이 등 하나로 통일하자는 주장이 나오는 가운데 나이 셈법을 갑자기 바꾸는 것은 사회에 큰 혼란을 불러일으킨다는 의견도 있다. 우리나라는 오랜 시간 관습적으로 세는 나이를 써왔기 때문. 사람들은 세는 나이를 기준으로 소통하기에 새로운 나이 기준을 정립(정하여 세움)하는 것은 현실적으로 어렵다는 것이다. 섣불리 나이 셈법을 바꾸기보다 지금과 같은 한국식 나이 셈법을 유지하자는 의견이다.  ▶어동이 나는 나이 셈법을 하나로 통일하는 것에 찬성해. 지금은 세계 각국이 하나로 연결된 글로벌 시대야. 다양한 국가와 소통하며 관계를 맺는데, 우리나라도 국제적인 흐름에 맞춰 ‘만 나이’를 사용하는 것이 좋다고 생각해. 게다가 관공서와 병원 등에서도 만 나이를 쓰고 있잖아. 여러 셈법을 혼재(뒤섞여 있음)해 쓰는 것보다는 하나를 선택해 일관성 있게 사용하는 것이 좋아. 처음에는 어색할 수 있지만 함께 통일된 나이 셈법을 사용하다 보면 익숙해질 거야. ▶어솜이 나는 나이 셈법을 하나로 통일하는 것에 반대해. 우리가 지금까지 사용해온 일반적인 나이 셈법을 바꾼다면 큰 혼란이 초래될 거야. 가령 친구 관계에서도 나이를 새로 구분 짓는 등 신경 쓸 것이 많아지잖아. 나이 셈법을 하나로 통일하는 것보다는 원래 사용하던 세는 나이를 일상적으로 그대로 사용하는 것이 좋아. 만 나이와 연 나이 등으로 헷갈릴 수 있는 상황에선 세는 나이를 추가 기재하는 방법으로 보완하면 되지 않을까? ※ 어동이와 어솜이의 주장 중 누구의 주장에 동의하나요? 내 생각을 1월 25일(화)까지 어린이동아 온라인 카페(cafe.naver.com/kidsdonga)의 ‘어동 찬반토론’ 게시판에 올려주세요. 가장 논리적으로 주장을 편 어린이들의 의견을 뽑아 지면에 소개합니다.',\n",
              "  'author': '권세희',\n",
              "  'date': '2022-01-10 13:26:00',\n",
              "  'img_path': 'http://kids.donga.com/www/data/article/202201/d4c11a3fc62f0f07efcd973c7ab24354_1641788686_1404.jpg',\n",
              "  'source': '어린이동아',\n",
              "  'title': '[뉴스쏙 시사쑥]한국식 ‘K-나이’ 논란 “나이 셈법, 하나로 통일해야” vs “지금 바꾸면 혼란 가중돼”',\n",
              "  'url': 'https://kids.donga.com?ptype=article&no=20220110132623701821&psub=news&gbn=01'},\n",
              " {'article': '논문에 따르면 지난 2020년 12월 달에 착륙한 창어 5호가 광물학 분광계(빛을 파장에 따라 나누어 스펙트럼으로 만드는 장치)를 이용해 달 표면의 흙과 암석 샘플의 성분을 분석한 결과 흙과 암석 내 물 함유 비율이 각각 120ppm, 180ppm인 것으로 확인됐다. 흙 속 물의 함유 비율이 120ppm이라면 흙 1t(톤)에 약 120g의 물이 포함됐다는 뜻이다. 세계 과학계는 앞서 달에 물이 존재한다는 사실을 2007년 원거리 관측을 통해 밝혀냈다. 미국 항공우주국(NASA·나사)도 2018년 달의 극지방 주변 그늘진 분화구에서 얼음이 존재한다는 사실을 발견하기도 했다. 다만 이번 창어 5호의 사례처럼 현장 조사를 통해 밝혀낸 것은 세계 최초라고 SCMP은 보도했다. 무인 탐사선인 창어 5호는 달에서 토양과 암석 등의 표본을 채취해 지구로 가져오는 임무를 맡고 지난 2020년 11월 우주로 떠났다. 같은 해 12월 달에 착륙한 뒤 2㎏에 달하는 달의 흙과 암석 표본을 채취해 지구로 귀환한 바 있다.  [한 뼘 더] 달 표면의 ‘신비한 집’ 정체는?  창어 5호가 달 표면에서 이륙하는 모습을 담은 가상 이미지. 스페이스 홈페이지 캡처 중국은 달을 탐사하는 연구를 활발히 진행하고 있지요. 지난 2020년에는 중국의 달 탐사로버인 ‘위투(옥토끼) 2호’가 달의 뒷면에서 마치 웅크린 토끼의 모양처럼 생긴 육면체 물체를 발견했어요. 이는 ‘신비한 작은집’ 혹은 ‘달 토끼의 집’ 등으로 불렸지요.',\n",
              "  'author': '권세희',\n",
              "  'date': '2022-01-10 13:23:00',\n",
              "  'img_path': 'http://kids.donga.com/www/data/article/202201/d4c11a3fc62f0f07efcd973c7ab24354_1641788523_1112.jpg',\n",
              "  'source': '어린이동아',\n",
              "  'title': '[오늘의 뉴스]중국 ‘창어 5호’, 달 표면에서 물 존재 현장 증거 발견',\n",
              "  'url': 'https://kids.donga.com?ptype=article&no=20220110132324122475&psub=news&gbn=01'},\n",
              " {'article': '컨베이어 벨트(물건을 이동·운반하는 띠 모양의 장치) 위에서 분주하게 오가며 제품을 조립하는 거대한 손부터 바리스타 못지않게 맛있는 커피를 타는 손까지. ‘로봇손’은 다양한 산업현장에서 활용되는 것은 물론 우리 일상에도 쑥 들어와 있다. 생산라인이 자동화되고, 로봇 기술이 발전하면서 로봇손을 개발하고 연구하는 분야도 각광받는다. 로봇손의 궁극적인 목표는 사람의 손처럼 자유로운 움직임을 갖는 것. 김의겸 아주대 기계공학과 교수가 최근 개발한 로봇손은 강한 힘을 갖는 동시에 핀셋으로 작은 칩을 옮길 수 있을 만큼 정교한 움직임도 수행할 수 있어 주목받는다. 힘과 정교함 중 하나에만 집중한 다른 로봇손과 달리 김 교수가 최근 내놓은 로봇손은 두 마리 토끼를 모두 잡은 셈. 그가 개발한 로봇손은 국제 학술지 ‘네이처 커뮤니케이션즈’에 최근 게재돼 그 성과를 인정받았다. 김 교수는 어떻게 다재다능한 로봇손을 만들었을까. 이 로봇손은 어떤 분야에 활용될 수 있을까. 그에게 직접 물었다. 사람 손과 똑같네! “영화 속 로봇들은 어떤 모습인가요? 힘도 무척 세고 다재다능하죠. 사람처럼 손도 자유롭게 움직일 수 있고요. 저는 단순한 작업만을 하는 로봇손이 아니라 실제 사람 손처럼 움직이는 로봇의 손을 만들고 싶었습니다.” 사람의 손을 떠올려보자. 힘을 세게 줘 음료수 캔도 찌그러뜨릴 수 있는 한편 바늘에 실을 꿰는 등의 섬세한 작업을 할 수도 있다. 이처럼 상황에 따라 힘을 다르게 쓰는 사람 손에 주목해 김 교수는 강한 악력(손아귀로 무엇을 쥐는 힘)도 갖고 있고, 미세한 작업도 가능한 로봇손을 개발했다. 우선 힘. 김 교수가 개발한 로봇손이 들 수 있는 무게는 18㎏. 쌀 한 포대가 10㎏인 점을 감안하면 한 손으로도 쌀 한 포대는 거뜬히 들 수 있다. 김 교수는 “미국 항공우주국(NASA·나사)이 개발한 ‘로보너트2 핸드(Robonaut II hand)’가 들 수 있는 무게가 9㎏인데, 이와 비교하면 큰 힘을 갖고 있는 것”이라고 말했다. 정교함은 어떨까. 김 교수가 개발한 로봇손은 가위로 종이를 자르거나 달걀처럼 깨지기 쉬운 물체를 잡는 일도 할 수 있다. 로봇손에는 ‘링크’라는 단단한 손가락 마디들이 관절 조인트로 연결되어 있는데, 이를 ‘링크 구조’라고 한다. 김 교수는 이 링크 구조를 바탕으로 마치 사람의 손처럼 부드럽고도 자유로운 움직임을 만들어내는 기술을 접목시켰다. 구동 장치들, 손 안에 쏙 사람의 손과 닮은 로봇손이지만 김 교수가 만들어낸 로봇손은 팔뚝이 없어도 손가락을 움직일 수 있다. 손만으로도 완벽하게 기능하도록 개발된 것. 그가 만든 로봇손에는 △촉각 센서 △구동기(전기모터) △제어기 등의 장치가 모두 내장됐다. 일반적인 로봇손은 이 같은 구성요소들을 손이 아니라 사람의 팔뚝 형태와 비슷한 로봇 팔뚝에 탑재하는 경우가 많다. 로봇손을 움직이기 위해서는 많은 장치가 필요한 탓에 손안에 모든 구성 요소들을 내장하는 것이 쉽지 않아 구성 요소들을 나눠 배치하기 때문이다. “손안에 각종 장치들이 모두 들어간 로봇손은 다른 로봇과 결합하기가 쉬워요. 예를 들어 기존에 개발된 로봇팔이 있다면 거기에 로봇손만 부착하면 되는 식이지요. 산업현장에서 활용되는 기계와 결합하거나 의수(인공으로 만들어 붙이는 손)로도 활용도가 높을 것으로 보고 있답니다.” 일상 속에 숨은 힌트 로봇손, 개발 과정은 어땠을까. 김 교수는 “순탄치만은 않았다. 부품을 구하기 위해 인터넷 사이트를 뒤지는 것은 물론 공구 상가, 장난감 가게까지 바쁘게 뛰어다녔다”고 말했다. 특히 일상에서 마주치는 모든 것에서 아이디어를 얻기 위해 노력했다고. “헬스장에서 큰 힘을 안전하게 견디는 기구들을 보며 아이디어를 얻고, 연구에 참고하기도 했지요. 문제 해결을 가로막는 벽을 만난다면 일상 속에 숨은 ‘힌트’를 찾아보세요. 의외로 쉽게 정답을 찾을 수 있답니다.”',\n",
              "  'author': '권세희',\n",
              "  'date': '2022-01-10 13:21:00',\n",
              "  'img_path': 'http://kids.donga.com/www/data/article/202201/d4c11a3fc62f0f07efcd973c7ab24354_1641788309_0612.jpg',\n",
              "  'source': '어린이동아',\n",
              "  'title': '만능 ‘로봇손’ 개발한 아주대 기계공학과 김의겸 교수… “힘과 섬세함 두루 갖췄죠”',\n",
              "  'url': 'https://kids.donga.com?ptype=article&no=20220110132101669243&psub=news&gbn=01'},\n",
              " {'article': '거친 파도가 치는 바다에서 승객이 뱃멀미를 느끼지 않게 하는 요트의 이미지가 공개됐다.인도의 기술 전문 매체인 인셉티브 마인드에 따르면 미국의 기업인 서보 요트가 파도의 충격을 흡수하는 기술을 적용한 요트인 ‘마티니 7.0’의 제품 도안을 최근 공개했다. 영국 디자인 회사와의 협업으로 설계된 마티니 7.0은 길이 50m의 대형 요트이며 승객 10명과 승무원 11명을 태울 수 있다.마티니 7.0에는 다양한 높이와 각도의 파도를 실시간으로 감지해 대처할 수 있도록 ‘서스펜션’이라는 장치가 장착된다. 자동차에도 서스펜션이 탑재되는데 울퉁불퉁한 길 위를 달릴 때 충격을 완화하는 역할을 하는 장치다.좌우 대칭으로 하나씩 달려 있는 서스펜션은 파도의 흐름에 따라 위아래로 움직이며 충격을 흡수한다. 이때 승객과 승무원이 머무는 선체는 거의 흔들리지 않는다. 마티니 7.0은 최대 3.6m까지 오르내리도록 설계될 예정이다.서보 요트는 5m와 13m 길이의 축소판 시제품(시험 삼아 만드는 제품)을 제작해 미국 샌프란시스코 만에서 실험 운행하며 기술을 발전시키고 있다.',\n",
              "  'author': '장진희',\n",
              "  'date': '2022-01-10 13:20:00',\n",
              "  'img_path': 'http://kids.donga.com/www/data/article/202201/9645b88137d2c7a75f48f790ce250777_1641788314_301.jpg',\n",
              "  'source': '어린이동아',\n",
              "  'title': '[뉴스 브리핑]높은 파도 충격 흡수하는 요트 공개… 뱃멀미 NO!',\n",
              "  'url': 'https://kids.donga.com?ptype=article&no=20220110132034497737&psub=news&gbn=01'},\n",
              " {'article': \"A crane loads a military truck, which was burned during clashes onto the platform in Almaty, Kazakhstan, Sunday, Jan. 9, 2022. Kazakhstan's health ministry says at least 164 people have been killed in protests that have rocked the country over the past week. Almaty=AP뉴시스  >> 9일 *카자흐스탄 알마티. 충돌 중 불에 탄 군용 트럭을 한 크레인이 플랫폼에 싣고 있다. 카자흐스탄 보건부는 지난주 국가를 뒤흔든 시위로 최소 164명이 사망했다고 말했다.  *지난 2일 카자흐스탄에서 시작된 대규모 반정부 시위에 따른 유혈(피를 흘림) 사태가 진정 국면에 접어들었다. 이번 유혈 사태는 연료비 인상 등 물가 폭등에 항의하는 시위에서 촉발됐다. 시위대가 경찰서를 공격하고 군용 트럭을 불태우는 등의 사태가 발생했고, 카자흐스탄 정부는 이를 진압하기 위해 국가 비상사태를 선포하고 군 병력을 투입했다. 이번 사태로 6000명 이상이 체포되고, 164명의 사망자가 발생했다.\",\n",
              "  'author': '김재성',\n",
              "  'date': '2022-01-10 13:15:00',\n",
              "  'img_path': 'http://kids.donga.com/www/data/article/202201/c175df6ae16f3bce574f8d71e68d1ff1_1641788090_8723.jpg',\n",
              "  'source': '어린이동아',\n",
              "  'title': '[월드 뉴스]카자흐스탄 반정부 시위의 흔적',\n",
              "  'url': 'https://kids.donga.com?ptype=article&no=20220110131511890401&psub=news&gbn=01'},\n",
              " {'article': ' 호주프로야구(ABL) 역사상 처음으로 여성 선수가 탄생했다. 주인공은 멜버른 에이시스의 왼손 투수인 제네비브 비컴(17). 야구는 성별 제한이 없는 종목이지만 미국 메이저리그(MLB), 한국과 일본의 프로야구에서도 여성 선수가 활약한 경우는 없었다.  영국 가디언 등 외신은 8일(현지시간) 호주 멜버른 볼파크에서 열린 멜버른 에이시스와 애들레이드 자이언츠와의 경기에서 에이시스 소속 투수인 제네비브 비컴이 여성 선수로는 처음으로 프로 경기에 출전했다고 보도했다.  비컴이 이날 경기 마운드(야구에서 투수가 공을 던질 때 서는 약간 높은 곳)에 오른 것은 자신의 소속팀이 0대4로 뒤지고 있던 6회. 비컴은 1이닝(야구에서 양 팀이 공격과 수비를 한 번씩 끝내는 동안을 이르는 한 회) 동안 공을 던져 볼넷을 내주긴 했지만 안타를 맞지 않고, 실점도 하지 않는 好投를 보여줬다. 이날 경기에선 에이시스가 자이언츠에 1대7로 패했지만 비컴은 최고 시속 135㎞의 공을 던지며 큰 화제가 됐다.  비컴은 지난 2일 멜버른 에이시스와 계약을 체결한 신인 선수. 2018년 16세 이하 호주 야구 리그에서 활약했고, 2020년에는 ABL의 하위 리그에서도 경기에 나선 바 있다. ',\n",
              "  'author': '김재성',\n",
              "  'date': '2022-01-10 13:14:00',\n",
              "  'img_path': 'http://kids.donga.com/www/data/article/202201/c175df6ae16f3bce574f8d71e68d1ff1_1641788010_6916.jpg',\n",
              "  'source': '어린이동아',\n",
              "  'title': '[한자뉴스]호주프로야구 역사상 첫 여성 선수 탄생',\n",
              "  'url': 'https://kids.donga.com?ptype=article&no=20220110131400668610&psub=news&gbn=01'},\n",
              " {'article': ' >> 7일 에콰도르 *갈라파고스 제도의 이사벨라 섬. 갈라파고스 국립공원 통신 사무소가 공개한 이 사진은 울프 화산 분화로부터 나온 용암을 위에서 보여준다.  *남아메리카 대륙에서 1000㎞가량 떨어진 동태평양에 있는 제도(여러 섬)로 20여 개의 크고 작은 섬과 100여 개의 암초로 이뤄져 있다. 육지에서 멀리 떨어져 독특한 생태계를 지니고 있어 ‘생태계의 보고’(귀중한 것이 많이 있는 곳을 비유적으로 이르는 말)로 불린다. 유네스코 세계자연유산으로 지정된 곳으로 19세기 영국의 생물학자 찰스 다윈이 이곳에서 진화론(생물은 진화하는 것이라는 주장)의 영감을 얻었다.  에콰도르 갈라파고스 국립공원 측은 7일 이사벨라 섬 북쪽 울프 화산에서 분화(화산성 물질이 지구 내부에서 표면으로 방출됨)가 발생했다고 밝혔다. 해발 1707m의 울프 화산은 멸종위기종인 분홍 이구아나의 유일한 서식지. 다행히 이구아나 서식지는 화산 분화지역에서 다소 떨어져 있는 것으로 알려졌다. ',\n",
              "  'author': '김재성',\n",
              "  'date': '2022-01-09 15:07:00',\n",
              "  'img_path': 'http://kids.donga.com/www/data/article/202201/dc7ddc166e743f83759166832bbc8ce5_1641708406_633.jpg',\n",
              "  'source': '어린이동아',\n",
              "  'title': '[월드 뉴스]갈라파고스 이사벨라 섬에서 화산 분화',\n",
              "  'url': 'https://kids.donga.com?ptype=article&no=20220109150703922413&psub=news&gbn=01'},\n",
              " {'article': ' 앉아, 이리와, 기다려 등 사람이 하는 말을 척척 알아듣는 강아지들. 이런 강아지가 모국어(자기 나라의 말)와 외국어도 구분할 수 있다는 연구결과가 나왔다.  미국 CNN 방송의 최근 보도에 따르면 헝가리 부다페스트에 있는 외트뵈시 롤란드대 연구진은 강아지 18마리를 대상으로 실험을 진행해 이 같은 결과를 얻었다. 실험 대상 강아지 중 16마리는 헝가리어에 익숙하고 스페인어는 들어본 적 없는 강아지였고, 나머지 2마리는 스페인어에 익숙하고 헝가리어는 들어본 적 없는 강아지였다.  연구진은 실험 대상 강아지들에게 “마음으로 봐야 정확히 볼 수 있어. 가장 중요한 것은 눈에 보이지 않는 법이야”라는 동화 어린왕자의 명대사를 처음에는 스페인어로, 그 다음에는 헝가리어로 들려줬다. 친숙한 언어와 친숙하지 않은 언어를 들었을 때 강아지 뇌의 활동이 어떻게 변하는지 살펴보기 위해 기능적 자기공명영상(fMRI)을 통해 뇌 반응을 관찰했다.  그 결과 자신에게 익숙하지 않은 언어를 들을 때 강아지의 뇌는 다른 활동 패턴을 보이는 것으로 나타났다. 외국어를 들을 때 강아지 뇌의 측두엽 활동이 모국어를 들을 때의 활동 양상과 다르게 나타난 것. 측두엽은 뇌에서 청각 정보 처리를 담당하는 것으로 알려졌다.  연구를 이끈 아틸라 앤딕스 교수는 “개가 친숙한 언어, 친숙하지 않은 언어를 받아들일 때 두뇌가 다르게 반응하는 것이 확인됐다”면서 “영장류 이외의 동물에서 이 같은 언어 능력을 발견한 것은 처음”이라고 밝혔다. ',\n",
              "  'author': '김재성',\n",
              "  'date': '2022-01-09 15:06:00',\n",
              "  'img_path': 'http://kids.donga.com/www/data/article/202201/dc7ddc166e743f83759166832bbc8ce5_1641708355_0737.jpg',\n",
              "  'source': '어린이동아',\n",
              "  'title': '[뉴스 브리핑]강아지, 모국어와 외국어도 척척 구분한다',\n",
              "  'url': 'https://kids.donga.com?ptype=article&no=20220109150612899923&psub=news&gbn=01'},\n",
              " {'article': '8일 오전 경기 평택시 이충문화체육센터에서 순직한 소방공무원들의 합동 영결식이 엄수되고 있다. 평택=뉴시스  경기 평택시의 한 냉동창고 공사장 화재 현장에서 진화(불을 끔)에 나섰다가 순직(직무를 다하다가 목숨을 잃음)한 소방관 3명의 영결식(죽은 사람을 영원히 떠나보낸다는 뜻으로 행하는 의식)이 8일 오전 엄수(의식을 엄숙하게 치름)됐다. 끝까지 책임을 다하다가 숨진 소방관 3명은 국립대전현충원 소방공무원 묘역에 영면(영원히 잠듦)했다. 순직 소방관들에게는 1계급 특진(뛰어난 공로를 세워 특별히 진급함)과 옥조근정훈장(공적이 뚜렷한 공무원에게 수여하는 훈장)이 추서(죽은 뒤에 훈장을 줌)됐다.  이번 화재는 경기 평택시 청북읍의 한 냉동창고 신축 공사장에서 지난 5일 늦은 밤 처음 발생했다. 소방당국은 6일 오전 6시 반 경 큰 불을 끄고, 화재 대응 단계를 해제했다. 하지만 내부 잔불 정리를 하던 중 불길이 다시 확산했고, 현장에 고립된 이형석 소방경(51), 박수동 소방장(32), 조우찬 소방교(26)가 비극을 맞은 것. 8일 오전 거행된 영결식에는 유족과 동료 소방관 등 200여 명이 참석해 순직 소방관들의 마지막을 배웅했다. 평택역 광장에 마련된 시민분향소에는 소방관들의 고귀한 희생을 기억하고, 그들의 안타까운 죽음을 추모하기 위한 시민들의 발걸음이 이어지기도 했다.  한편 지난해 6월 경기 이천 쿠팡 물류센터 화재 때 소방관 한 명이 고립돼 숨졌던 비극이 반년 만에 재현된 것을 두고 화재 현장에 출동하는 소방관의 안전을 보장하는 시스템이 더 체계적으로 마련되어야 한다는 지적도 나온다. 영결식에서 오병권 경기도지사 권한대행은 영결사를 통해 “또다시 발생한 소방관들의 희생 앞에 마음이 무너진다”면서 “세 분의 숭고한 희생이 헛되지 않도록 소방관의 안전을 위해 최선을 다해 노력하겠다”고 밝혔다.',\n",
              "  'author': '김재성',\n",
              "  'date': '2022-01-09 15:05:00',\n",
              "  'img_path': 'http://kids.donga.com/www/data/article/202201/dc7ddc166e743f83759166832bbc8ce5_1641708289_5724.jpg',\n",
              "  'source': '어린이동아',\n",
              "  'title': '[뉴스 브리핑]평택 화재 현장에서 순직한 소방관들, 대전현충원에 영면',\n",
              "  'url': 'https://kids.donga.com?ptype=article&no=20220109150513104956&psub=news&gbn=01'},\n",
              " {'article': '심장충격기(심정지 상태의 환자에게 전기 충격을 주어 심장이 정상적으로 뛰도록 해주 는 응급 도구)를 달고 출동한 드론(무인기) 덕분에 심장마비로 쓰러진 환자가 목숨을 구했다. 영국 BBC 등 외신은 스웨덴 트롤하탄에 거주하는 70대 남성이 심장마비로 쓰러졌으나 드론이 3분 만에 심장충격기를 전달해 남성의 목숨을 살렸다고 최근 보도했다.  드론이 생명을 구해준 이 남성은 집 앞 차 도에 깔린 눈을 치우던 중 급작스럽게 심장마비 증세를 보였다. 남성은 정신을 잃고 길가에 쓰러졌고, 거리를 지나던 의사 무스타바 알리는 쓰러진 남성을 목격했다. 알리는 곧바로 쓰러진 남성의 상태를 살펴 맥박이 없다는 것을 알게 됐다. 이에 심폐소생술(심장의 박동과 호흡이 멎은 상태를 정상으로 회복시키는 처치 방법)을 하기 시작했다.  주변을 지나는 사람들에게 112에 신고해 달라고 부탁했으며 신고를 한지 3분도 채 되지 않아 심장충격기를 부착한 드론이 현장으로 날아왔다. 알리는 드론이 전달한 심장충격기를 통해 남성에게 응급처치를 진행했다. 곧 구급차가 도착해 남성은 병원으로 이송됐다. 보도에 따르면 병원으로 이송된 남성은 심장충격기로 빠른 응급처치를 받아 생명에는 지장이 없는 것으로 확 인됐다. 드론을 이용한 심장충격기 배달 기술은 스웨덴 카를린스카 연구소, 스웨덴 국가응급콜센터, 드론 업체 에버드론 등이 협업(여러 사람이 분담하여 일을 완성함)한 결과물. 이들은 2020년부터 응급 상황에서 사용할 수 있는 드론 기술을 연구했고 심장마비 환자가 발생한 지역 14곳 중 12곳에 무인 드론을 출동시켰다. 그 결과 무인 드론은 구급차보다 빠른 속도로 응급 환자가 발생한 지역에 심장충격기를 전달했다. 에버드론은 “응급 상황 발생이 발생하면 빠른 시간에 응급처치를 하는 것이 매우 중요하다”면서 “사람의 생명을 구하는 과정에서 이 같은 드론 기술이 중요한 역할을 한다”고 밝혔다.',\n",
              "  'author': '권세희',\n",
              "  'date': '2022-01-09 14:22:00',\n",
              "  'img_path': 'http://kids.donga.com/www/data/article/202201/94f8afc944ebf0d26a0770504956ce74_1641705642_6519.jpg',\n",
              "  'source': '어린이동아',\n",
              "  'title': '[오늘의 뉴스]3분 만에 심장충격기 달고 나타난 드론, 심장마비 환자 목숨 구해',\n",
              "  'url': 'https://kids.donga.com?ptype=article&no=20220109142238993880&psub=news&gbn=01'},\n",
              " {'article': '이번 겨울 임윤아, 장원영, 제니 같은 연예인들이 일상과 화보에서 착용한 모자가 화제다. ‘발라클라바(balaclava)’라 불리는 이 겨울 소품은 잠수 모자처럼 머리와 목, 귀 등을 덮는 디자인의 방한(추위를 막음) 모자다. 발라클라바를 착용하면 눈, 코, 입만 밖으로 드러나게 된다. 목만 감싸도 체온이 3도가량 오르기 때문에 발라클라바를 쓰면 추운 겨울을 따뜻하게 날 수 있는 것. 발라클라바라는 독특한 이름은 1850년대 ‘발라클라바 전투’에서 유래됐다. 갑자기 웬 전쟁 이야기냐고? 당시 발라클라바 전투에 참가한 영국군이 추위를 견디기 위해 착용한 모자가 바로 발라클라바이기 때문. 오늘날 유행하는 의류 중에는 전쟁에서 활약한 군인들이 착용한 군복에서 유래된 것이 많다. 군인 모자, 거리와 런웨이 사로잡다 이탈리아 패션 브랜드인 ‘미우미우’는 2021 FW(가을·겨울) 패션쇼에서 초록색, 노란색, 분홍색, 줄무늬 등 다양한 색깔과 패턴의 발라클라바를 선보였다. 설원(눈 덮인 벌판)을 배경으로 펼쳐진 쇼에서 모델들은 따뜻한 니트 소재의 발라클라바를 착용한 모습이었다. 미우미우 같은 명품 패션계가 아니라 대중적인 SPA(제조·유통 일괄형) 패션 브랜드도 발라클라바를 출시해 겨울철 인싸템(유행에 앞서가는 아이템이라는 의미의 신조어)으로 등극했다. 발라클라바는 1850년대 영국군이 크림전쟁 당시 추위로부터 몸을 지키기 위해 착용한 모자다. 크림전쟁은 영국이 프랑스와 오스만 제국 등 연합군과 함께 러시아를 상대로 흑해(유럽 남동부와 아시아 사이에 있는 바다)와 크림반도(우크라이나 남쪽으로 흑해를 향해 나온 반도)에서 벌인 전쟁. 오늘날 크림반도에 위치한 도시인 발라클라바에서 큰 전투가 벌어져 영국군은 머리와 목을 따뜻하게 해 체온을 높이는 모자를 착용한 채 승리를 거뒀다. 그 뒤로 이 같은 형태의 모자를 발라클라바라 부르게 됐고 현대에는 패션 아이템으로 자리 잡았다. 독특한 장식에 남은 군복의 흔적 봄, 가을 같은 계절에 길거리에서 자주 보이는 트렌치 코트(trench coat)도 군복이 일상복으로 된 경우다. 트렌치는 ‘참호’라는 뜻을 가진 영어 단어. 제1차 세계대전 당시 연합군과 동맹국은 사람 키와 비슷한 높이의 구덩이인 참호를 파고 그 안에 들어가 싸웠다. 배수 시설이 제대로 갖춰지지 않아 군인들은 항상 습한 환경에서 지내야 했다. 영국의 패션 디자이너였던 토마스 버버리는 자신이 개발한 발수(물의 흡수를 막음)가 가능하면서도 내구성이 뛰어난 개버딘이라는 소재로 트렌치 코트를 제작해 영국군에 납품했다. 어깨 부분의 장식은 계급장을 달거나 수류탄, 탄약통 같은 물품을 고정하기 위해 추가됐다. 가슴 쪽의 덮개는 바람을 막는 효과가 있고 총을 메고 다닐 때 옷이 마모되는 것을 방지하기도 한다. 소매 부분의 끈도 바람과 추위를 막기 위한 용도다. 전쟁 영웅도 떡볶이 코트를? 일명 ‘떡볶이 코트’라 불리는 ‘더플 코트(duffle coat)’가 뉴트로(유행이 지난 것을 새롭게 즐기는 문화) 열풍을 타고 유행 중이다. 토글이라는 단추의 모양이 긴 떡볶이 떡과 비슷하게 생겨 우리나라에서 더플 코트는 떡볶이 코트로 알려졌다. 더플 코트는 원래 벨기에의 작은 도시인 ‘더플’에서 나는 거친 모직물로 만들어진 외투를 말한다. 19세기에 등장한 더플 코트는 북유럽의 추운 바다에서 일하던 어부들이 입던 옷이었다. 추위를 잘 막기 때문에 1890년대 초부터는 영국 해군에 보급되기 시작했다. 제2차 세계대전 당시 노르망디 상륙작전을 성공으로 이끈 영국군의 총사령관이었던 버나드 몽고메리가 영국 해군에 보급된 더플 코트를 착용한 모습이 공개된 뒤에는 그의 이름을 따 ‘몬티 코트’라 불리기도 했다. 전쟁이 끝난 뒤에는 대중적으로 유행하게 됐다.',\n",
              "  'author': '장진희',\n",
              "  'date': '2022-01-09 14:19:00',\n",
              "  'img_path': 'http://kids.donga.com/www/data/article/202201/94f8afc944ebf0d26a0770504956ce74_1641705540_4503.jpg',\n",
              "  'source': '어린이동아',\n",
              "  'title': '군복에서 유래된 패션 아이템… 인싸템 ‘발라클라바’, 전쟁 중에 만들어졌다고?',\n",
              "  'url': 'https://kids.donga.com?ptype=article&no=20220109141936722855&psub=news&gbn=01'},\n",
              " {'article': ' >> 5일 (미국) 라스베이거스에서 열린 *CES 기술 쇼. 사람들이 주된 쇼가 시작되기 전에 복도를 통과해 걷고 있다.  *CES(국제전자제품박람회)는 미국소비자기술협회(CTA) 주관으로 매년 1월 열리는 세계 최대 가전·정보기술(IT) 전시회다. 기술 발전으로 달라질 가까운 미래의 모습을 내다볼 수 있다는 점에서 해마다 큰 관심이 쏠리는 행사다.  지난해는 코로나19 여파로 사상 처음으로 온라인에서 열렸지만 올해는 다시 오프라인으로 열린다. 현지시간으로 5일 개막해 8일까지 열리는 CES 2022의 주제는 ‘미래를 위한 동행(Together for tomorrow)’으로 삼성전자, LG 등 우리나라 기업도 참여했다.',\n",
              "  'author': '김재성',\n",
              "  'date': '2022-01-06 17:54:00',\n",
              "  'img_path': 'http://kids.donga.com/www/data/article/202201/057f90445bb8a0b5c21e7deca2c8afe7_1641459241_4758.jpg',\n",
              "  'source': '어린이동아',\n",
              "  'title': '[월드 뉴스]세계 최대 전자제품 박람회, CES 개막',\n",
              "  'url': 'https://kids.donga.com?ptype=article&no=20220106175417246561&psub=news&gbn=01'},\n",
              " {'article': \"중동 나라 이스라엘의 수도 예루살렘에서 약 2700년 전 사용된 석기(돌로 만든 생활도구) 변기 밑을 조사했더니 장내 기생충 알이 무더기로 발견됐다. 당시에는 호화 시설이었던 화장실을 설치할 만큼 부유한 사람도 장내 기생충이 일으키는 질병으로 고생했을 것이라는 추측이 나온다.  타임 오브 이스라엘 등 외신에 따르면 이스라엘 텔아비브대 연구진이 예루살렘 남부 아르몬 하나치브 공원에서 발굴된 변기 밑 퇴적물 시료(시험, 검사, 분석 등에 쓰는 물질)를 분석한 결과를 ‘국제 고생물병리학 저널’에 최근 발표했다.  연구진이 퇴적물을 현미경으로 관찰했더니 △회충 △촌충 △편충 △요충 등 4종류의 장내 기생충이 발견됐다. 이 기생충들은 배 부위의 통증과 설사, 가려움증, 메스꺼움 같은 증상을 일으키는 것으로 알려졌다. 어린이가 이 같은 기생충에 감염될 경우 영양실조(영양소 부족으로 일어나는 이상 상태)나 발달 지연(늦게 나타남)이 나타날 수 있고 심할 경우 사망에 이른다고 연구진은 설명했다.  당시에는 기생충을 죽이는 효과가 있는 약이 개발되지 않아 한 번 감염되면 평생을 시달리며 살아야 했다는 분석이다. 거주지 근처에 화장실을 둔 사람은 높은 지위나 많은 부를 가진 사람인데도 기생충의 위협으로부터 자유롭지 못했다는 점이 주목할 만하다.  고대인들은 오염된 물이나 음식을 섭취해 기생충에 감염된 것으로 보인다. 손을 씻지 않는 등 위생 수칙을 지키지 않은 것도 영향을 미쳤다.[한 뼘 더] 고대인의 '똥'이 더 훌륭!고대인의 장에 사는 미생물을 분석했더니 미생물이 현대인의 것보다 훨씬 다양했다는 연구결과도 있어요. 장내 미생물이 다양할수록 각종 질병에 걸릴 확률이 낮아요.  미국 하버드대 의대 교수팀은 지난해 국제학술지 ‘네이처’를 통해 기원후 1000년까지 살았던 인류의 대변 화석 8점을 분석한 결과를 발표했어요.  산업화 이후 가공식품을 많이 섭취하게 되어 고대 인류가 가졌던 장내 미생물 중 38%가 현대인의 장에서는 사라진 것으로 나타났습니다. 또 고대 인류의 장내 미생물은 환경에 따라 변화하는 능력이 뛰어났다고 해요.\",\n",
              "  'author': '장진희',\n",
              "  'date': '2022-01-06 15:35:00',\n",
              "  'img_path': 'http://kids.donga.com/www/data/article/202201/4f2c8ecdcb2f53b12034b2e35d92db7e_1641450745_052.jpg',\n",
              "  'source': '어린이동아',\n",
              "  'title': '[오늘의 뉴스]2700년 전 화장실에서 장내 기생충 알 발견',\n",
              "  'url': 'https://kids.donga.com?ptype=article&no=20220106153552423691&psub=news&gbn=01'},\n",
              " {'article': '캐나다 정부가 과거 원주민의 어린이 등을 대상으로 문화 말살(없애 버림)식 교육을 했던 역사에 대한 책임을 통감(마음에 사무치게 느낌)하고 37조 원에 달하는 보상금(피해를 보상하기 위해서 주는 돈)을 내놓기로 했다. 미국 월스트리트저널(WSJ) 등 외신은 캐나다 정부가 원주민 보상금으로 400억 캐나다 달러(약 37조6000억 원)를 支給하는 것을 결정했다고 4일(현지시간) 보도했다. 보상금 중 200억 달러는 원주민들에게 돌아가고, 나머지 200억 달러는 원주민 보육 체계 개선에 쓰일 예정이다. 캐나다는 과거 원주민 문화를 말살하는 교육을 했던 역사에 대한 사죄의 의미로 보상금 支給 결정을 했다. 캐나다 정부는 19∼20세기 15만 명이 넘는 캐나다 본토 원주민, 알래스카 출신 이누이트족 등을 캐나다 사회와 동화(다르던 것이 서로 같게 됨)시키겠다는 목적으로 원주민들을 130곳이 넘는 기숙학교에 수용했다. 당시 원주민 문화를 말살하는 교육을 하며 원주민 어린이들은 부모와 생이별하는 아픔을 겪어야 했다. 캐나다 원주민 단체는 2007년 어린이 인권 침해 등으로 캐나다 정부를 상대로 소송했으나 캐나다 정부는 잘못을 일부 인정하면서도 보상에는 합의하지 않았다. 그런데 지난해 원주민을 수용하던 기숙학교 부지에서 어린이 유해 1000구가 발견되면서 캐나다 정부가 이를 공식 사과하며 정부 차원의 지원을 아끼지 않겠다고 밝힌 바 있다. ',\n",
              "  'author': '권세희',\n",
              "  'date': '2022-01-06 14:36:00',\n",
              "  'img_path': 'http://kids.donga.com/www/data/article/202201/2eac8b159cd8d4c2f4b5650103e70c4c_1641447370_1668.jpg',\n",
              "  'source': '어린이동아',\n",
              "  'title': '[한자뉴스]캐나다 “원주민 문화 말살했던 과거사에 책임진다”',\n",
              "  'url': 'https://kids.donga.com?ptype=article&no=20220106143644409650&psub=news&gbn=01'},\n",
              " {'article': '제임스 웹 우주망원경(JWST)이 차양막(햇볕을 가리기 위해 설치하는 막)을 펼치는 데 성공했다. 우주망원경에 달린 차양막은 태양에너지와 지구, 달에서 반사되는 햇빛을 차단해 망원경의 온도를 영하로 유지하는 데 큰 역할을 한다. 미국 항공우주국(NASA·나사)은 제임스 웹 우주망원경이 차양막을 펼치는 데 성공했으며 이번 주말까지 우주망원경의 반사거울을 펼칠 계획이라고 5일(현지시간) 밝혔다. 제임스 웹 우주망원경은 허블 우주망원경의 뒤를 이어 우주를 관측하기 위해 지난달 25일(현지시간) 발사돼 최종 목적지인 ‘라그랑주점(지구와 태양의 중력이 서로 균형을 이뤄 안정적인 공전이 가능한 지점)’을 향해 이동하고 있다. 이번에 제임스 웹 우주망원경이 펼친 차양막은 가로 14.2m, 세로 21.2m 크기다. 플라스틱 재질이며 두께는 사람의 머리카락 정도로 매우 얇다. 제임스 웹 우주망원경은 적외선(태양이 방출하는 빛을 프리즘으로 분산시켜 봤을 때 적색선의 끝보다 더 바깥쪽에 있는 전자기파)을 통해 우주를 관측하는데, 저온 상태에서 가장 좋은 성능을 발휘한다. 차양막을 성공적으로 펼쳐야 저온을 유지할 수 있는 것. 차양막이 제대로 펼쳐지면서 제임스 웹 우주망원경은 섭씨 영하 235도의 초저온 상태를 유지할 수 있게 돼 우주 관측을 원활히 수행할 가능성이 높아졌다는 평가가 나온다. 나사는 “차양막을 성공적으로 펼치는 것은 우주망원경의 임무를 수행하는데 매우 중요한 단계”라면서 “이 같은 과정을 성공한 것은 매우 놀랍고 멋진 일”이라고 밝혔다.',\n",
              "  'author': '권세희',\n",
              "  'date': '2022-01-06 14:35:00',\n",
              "  'img_path': 'http://kids.donga.com/www/data/article/202201/2eac8b159cd8d4c2f4b5650103e70c4c_1641447276_9417.jpg',\n",
              "  'source': '어린이동아',\n",
              "  'title': '[뉴스 브리핑]제임스 웹 우주망원경, 우주서 차양막 활짝 펼쳤다',\n",
              "  'url': 'https://kids.donga.com?ptype=article&no=20220106143514820499&psub=news&gbn=01'},\n",
              " {'article': '물고기와 비슷한 몸으로 드넓은 바다를 헤엄치는 로봇 물고기. 그간 로봇 물고기들은 주로 해저 탐사(바닷속 깊이 잠겨 있는 물체를 찾아내는 일) 임무를 수행하는 데 활용돼 왔지만 최근 이들의 활동 영역이 넓어지고 있어 주목된다. 해저 구석구석을 탐사하는 것 외에도 외래종(본래 살던 서식지와는 다른 곳에 유입된 생물)의 번식을 막는 등 바닷속 지원군 역할을 톡톡히 하는 것. 점점 발전하며 다양한 역할을 수행하는 로봇 물고기들을 살펴보자. 외래종, 꼼짝 마! 호주 웨스턴 오스트레일리아대 등 국제연구진이 과학저널 ‘아이사이언스’ 최신호에 발표한 논문에 따르면 큰입배스(농어목 검정우럭과의 민물고기)를 닮은 로봇 물고기가 외래종인 모기고기에 공포감을 심어 토종 올챙이를 보호했다. 모기고기는 미국에서 서식하던 종으로 국제자연보전연맹(IUCN)이 정한 세계 100대 침입종(외부에서 들어와 다른 생물의 서식지를 점령한 종)이다. 모기고기는 호주의 토종 물고기와 개구리, 올챙이 등을 공격해 문제가 되고 있다. 연구진은 모기고기가 토착종을 공격하는 것을 막기 위해 실험을 실시했다. 모기고기 6마리, 올챙이 6마리, 모기고기의 천적(잡아먹는 동물)인 큰입배스를 닮은 로봇 물고기를 같은 수조에 넣어 이들의 행동을 관찰한 것. 이때 모기고기가 올챙이에 접근하면 로봇 물고기가 모기고기를 공격하도록 했다. 실험 결과 모기고기들은 로봇 물고기와 마주친 후 공포감과 스트레스를 느껴 번식률이 떨어지는 등의 영향을 받는 것으로 나타났다. 또 수조의 곳곳을 자유롭게 헤엄치기보다 한 곳에 모여 있는 소극적인 모습을 보였다. 반면 올챙이들은 모기고기의 공격이 줄어들자 이전보다 더 멀리 돌아다니는 등 활발한 모습을 보였다. 연구진은 “로봇 물고기를 활용한 방법이 악성 외래종을 막는 효과적인 통제 수단이 될 것으로 보인다”고 밝혔다. 더 빨리, 더 느리게! 속도에 다양한 변화를 줄 수 있는 로봇 물고기도 등장했다. 기존의 로봇 물고기나 수중 드론 등 수중이동장치들은 동일한 속도로 움직여 해양 수질 탐사 등의 임무를 원활히 수행하기 어려웠는데, 이런 한계를 극복하게 된 것. 미국 버지니아공대 등 국제 연구진이 개발한 로봇 물고기인 ‘튜너봇’은 수중에서 원하는 대로 속도를 조절할 수 있다. 연구진에게 힌트를 제공한 것은 다름 아닌 참치. 참치는 몸 전체에 힘줄이 있는데, 이 힘줄에 힘을 가하거나 힘을 빼는 방식으로 속도를 조절한다. 힘줄에 힘을 줘 꼬리를 뻣뻣하게 만들어 빠른 속도로 헤엄치는 식. 연구진은 로봇에 인공 힘줄을 부착해 로봇의 꼬리지느러미를 뻣뻣하게 하거나 느슨하게 하는 방식으로 속도를 조절했다. 이를 통해 로봇 물고기가 빠르게 이동해야 할 때는 속도를 높이고, 보다 면밀한 탐사가 필요할 때는 천천히 헤엄칠 수 있게 됐다. 이 기술이 발전하면 로봇 물고기가 기름 유출로 오염된 해역에 빠르게 접근한 뒤 해당 해역에선 느리게 이동하며 수질 탐사를 체계적으로 하는 임무도 수행할 수 있을 것으로 기대된다. 세계에서 가장 깊은 바다인 태평양의 ‘마리아나 해구(깊은 해저에서 움푹 들어간 좁고 긴 곳)’에서 헤엄칠 수 있는 로봇 물고기도 나왔다. 중국 저장대 연구진은 국제학술지 ‘네이처’에 심해 물고기를 모방한 로봇이 수심 3000m에 이르는 바닷속에서 리튬이온 배터리로 구동해 헤엄쳤다고 밝혔다. 몸길이 22㎝의 이 로봇 물고기는 일반 로봇 물고기처럼 금속이나 플라스틱 재질로만 만들어진 것이 아니라 몸에 말랑말랑한 고무를 덧입은 것이 특징. 깊은 바다에서 발생하는 수압(물의 압력)을 견디기 위해 이렇게 설계됐다. 연구진은 수심 8000m에서 사는 심해 물고기인 ‘심해 꼼치’의 몸 구조를 살펴보고 아이디어를 얻었다고. 심해 꼼치는 수압을 견디기 위해 골격이 분산돼 있는데, 연구진이 개발한 로봇 물고기 역시 내부 부품을 분산 배치해 압력을 견딜 수 있게 했다.',\n",
              "  'author': '권세희',\n",
              "  'date': '2022-01-06 14:33:00',\n",
              "  'img_path': 'http://kids.donga.com/www/data/article/202201/2eac8b159cd8d4c2f4b5650103e70c4c_1641447000_2434.jpg',\n",
              "  'source': '어린이동아',\n",
              "  'title': '외래종 억제까지 척척… 로봇 물고기의 진화 “우리도 ‘레벨 업’ 하고 있다고!”',\n",
              "  'url': 'https://kids.donga.com?ptype=article&no=20220106143341996341&psub=news&gbn=01'},\n",
              " {'article': ' 2월 4일 개막하는 2022년 베이징 겨울 올림픽에서 메달을 딴 메달리스트들은 시들지 않는 ‘뜨개질 꽃’을 받게 된다.영국 야후스포츠는 “2022 베이징 올림픽에서 시상대에 오르는選手들은 오래 지속되는 뜨개질 꽃다발을 받게 된다”고 최근 보도했다. 베이징올림픽조직위원회는 최근 시상식 리허설을 진행하며 뜨개질 꽃다발을 공개했다. 이 꽃다발은 캐시미어(산양의 털로 짠 섬유) 소재로 제작됐다.뜨개질 꽃다발은 장미, 중국 장미, 은방울꽃, 수국, 월계수, 올리브 나무 등을 포함하며 실제 식물의 모습을 그대로 본떠 만들어졌다. 식물은 각각 우정, 끈기, 행복, 화합, 승리, 평화를 상징한다. 꽃다발에 개최국을 상징하는 식물을 포함시키는 올림픽의 전통을 따르면서도 환경에 부담을 주지 않는 방식으로 제작됐다는 평가가 나온다. 뜨개질 꽃다발은 시들지 않아 쉽게 버려질 걱정이 없어 지속가능한 대안이라는 것이다.',\n",
              "  'author': '장진희',\n",
              "  'date': '2022-01-05 14:29:00',\n",
              "  'img_path': 'http://kids.donga.com/www/data/article/202201/c83c49f362cecf944810c134b858ec2d_1641360475_9323.jpg',\n",
              "  'source': '어린이동아',\n",
              "  'title': '[뉴스 브리핑]2022 베이징 올림픽 메달 따면 ‘뜨개질 꽃’ 받아',\n",
              "  'url': 'https://kids.donga.com?ptype=article&no=20220105142952173404&psub=news&gbn=01'},\n",
              " {'article': '뉴욕타임스(NYT)는 미국의 장난감 기업인 마텔의 인형 브랜드 ‘아메리칸 걸’이 올해의 인형으로 미국의 스키 휴양 도시인 콜로라도 주 아스펜에 사는 아시아계 소녀를 선정했다고 최근 보도했다. 아메리칸 걸은 지난 2001년부터 매년 ‘올해의 소녀’라는 한정판 제품을 출시해왔다. 2022년 올해의 소녀의 이름은 코린 탠이며 산골마을인 아스펜에 산다. 코린 탠은 인종차별적 발언을 하는 사람에 맞설 줄 아는 용기를 가졌다는 설정이다. 겨울철 높은 산을 성큼성큼 오르는 씩씩한 기상을 가진 코린 탠은 두꺼운 스웨터와 털모자, 인조털이 들어간 부츠를 착용한 차림이다. 아메리칸 걸은 “코린 탠은 인종차별을 경험한 어린이들을 대변한다”며 “어린이들이 인종차별에 맞서는 데 이 제품이 도움이 되길 바란다”고 밝혔다.',\n",
              "  'author': '장진희',\n",
              "  'date': '2022-01-05 14:27:00',\n",
              "  'img_path': 'http://kids.donga.com/www/data/article/202201/c83c49f362cecf944810c134b858ec2d_1641360293_1249.jpg',\n",
              "  'source': '어린이동아',\n",
              "  'title': '[뉴스 브리핑]미국 인형업체, 아시아계 어린이 모델로 ‘올해의 인형’ 출시',\n",
              "  'url': 'https://kids.donga.com?ptype=article&no=20220105142702211092&psub=news&gbn=01'},\n",
              " {'article': '밤하늘에 별 대신 할인코드 쏟아질까?앞으로는 밤하늘에 별 대신 기업의 로고가 반짝일지도 모르겠다. 우주에서 광고를 하려는 시도가 포착되고 있다고 중동 유력매체인 알자지라가 최근 보도했다.  밤하늘에 대형 광고판을 띄워 밤이 되면 빛나게 하는 방안도 추진 중이다. 러시아의 우주 스타트업인 ‘스타트 로켓’은 큐브샛 여러 개를 모아 붙여 기업 로고 모양 등을 만든 뒤 상공 450㎞에 띄우는 광고 사업을 제시했다. 큐브샛이 우주에서 태양 빛을 반사시키며 반짝여 지구에서 기업의 로고나 문구를 감상할 수 있다. 인공위성 광고 경계하는 목소리도인공위성을 이용한 광고를 경계해야 한다는 주장도 나온다. 미국 하버드 스미소니언 천체물리학연구소에 따르면 지난해 말을 기준으로 지구 궤도에서 가동 중인 인공위성은 5000개에 달한다. 2010년에 비해 5배나 많아진 것. 우주 광고 산업이 본격화되면 지구 궤도를 도는 인공위성이 많아지면서 우주 교통사고가 빈번해질 것이라는 지적이다. 우주 교통사고는 인공위성끼리 부딪치거나 위성이 국제우주정거장(ISS)에 부딪치는 등 우주에서 일어나는 충돌 사고를 말한다. 충돌로 생겨난 위성과 우주선 잔해를 비롯한 우주 쓰레기가 총알보다 빠른 속도로 돌며 우주 탐사를 방해해 문제다. 태양광을 반사시키는 인공위성이 빛 공해를 일으켜 천문학자들이 우주 현상을 관측하는 데 어려움을 겪게 된다는 문제도 제기된다. 제프리 홀 미국 로웰천문대 소장은 “인공위성이 방출하는 강렬한 빛 때문에 천문학자들이 촬영한 별이나 행성의 사진에 줄무늬가 생겨 이미 관측에 방해를 받고 있다”고 알자지라에 밝혔다. 광고가 단 몇 분간만 비춰진다고 해도 인공위성의 숫자가 많아지면 관측에 부정적 영향을 미칠 것이라고 경고했다. ',\n",
              "  'author': '장진희',\n",
              "  'date': '2022-01-05 14:22:00',\n",
              "  'img_path': 'http://kids.donga.com/www/data/article/202201/c83c49f362cecf944810c134b858ec2d_1641359712_8747.jpg',\n",
              "  'source': '어린이동아',\n",
              "  'title': '밤하늘에 기업 로고가 둥둥… 우주 광고 본격화되나?',\n",
              "  'url': 'https://kids.donga.com?ptype=article&no=20220105142212630898&psub=news&gbn=01'},\n",
              " {'article': ' Drivers wait for the traffic to be cleared as cars and trucks are stranded on sections of Interstate 95 Tuesday Jan. 4, 2022, in Carmel Church, Va. Close to 48 miles of the Interstate was closed due to ice and snow. Carmel Church=AP뉴시스  >> 4일 (미국) 버지니아 주 카멜 처치. 95번 주간고속도로 구간에서 차와 트럭들이 오가지 못하게 되면서 운전자들이 교통량이 정리되기를 기다리고 있다. 48마일(약 77㎞)에 가까운 고속도로가 *얼음과 눈으로 인해 폐쇄됐다  *최근 미국 동부에 적설량(땅 위에 쌓여 있는 눈의 양)이 40㎝에 달하는 폭설이 내려 미국 95번 고속도로를 마비시켰다. 이 고속도로는 미국 남부 플로리다 주를 출발해 워싱턴, 뉴욕, 보스턴을 거쳐 캐나다까지 이어지는 미국 동부 물류망의 중심이다. 눈의 무게를 이기지 못한 나무가 쓰러져 교통사고가 발생하는 등의 사고가 잇따르면서 고속도로가 꽉 막힌 것. 현지 매체의 보도에 따르면 운전자들은 도로의 차 안에서 밤을 지새우기도 했다.',\n",
              "  'author': '김재성',\n",
              "  'date': '2022-01-05 14:14:00',\n",
              "  'img_path': 'http://kids.donga.com/www/data/article/202201/56d820abf31d4a9261205e11cf7364c5_1641359656_9131.jpg',\n",
              "  'source': '어린이동아',\n",
              "  'title': '[월드 뉴스]폭설로 꽉 막힌 도로',\n",
              "  'url': 'https://kids.donga.com?ptype=article&no=20220105141436564596&psub=news&gbn=01'},\n",
              " {'article': '[오늘의 키워드] 자가격리 자가격리는 코로나19에 감염된 확진자가 자신의 집에 머무르며 외출을 하지 않고 외부와 접촉을 하지 않는 경우를 뜻한다. 자가격리를 하는 경우 가족과도 접촉을 피하고 얼굴을 맞대고 대화나 식사 등을 삼가는 것이 권유된다. 최근 미국이 코로나19에 감염됐으나 증상이 없는 ‘무증상 감염자’의 자가격리 기간을 10일에서 5일로 줄이는 결정을 내리면서 논란이 인다. 미국 질병통제예방센터(CDC)는 코로나19 감염자의 격리 기간을 절반으로 줄이면서 증상이 없는 감염자의 경우 격리 6일 째에는 PCR(유전자증폭) 검사를 통해 음성을 증명하지 않아도 격리를 해제하겠다는 방침을 지난달 27일 발표했다. 다만 타인에게 바이러스를 전파할 가능성을 최소화하기 위해 격리 해제 후 5일간은 마스크를 착용해야 한다고 밝혔다. CDC에 따르면 코로나19 전염은 증상이 나타나기 이전 1, 2일과 증상이 나타난 이후 2, 3일에 발생한다. 이에 격리 기간을 줄여도 바이러스가 확산될 가능성이 낮다고 판단한 것. 그런데 최근 미국의 코로나19 감염자가 급증(크게 늘어남)하면서 CDC의 지침을 두고 논란이다. 자가격리 기간을 줄이면 바이러스가 전파될 위험성이 더 커진다는 지적이 이어진다. 이에 지난 2일(현지시간) 앤서니 파우치 미국 국립 알레르기전염병연구소장은 미국 CNN 방송에 출연해 “무증상 감염자가 격리해제 전 검사를 통해 코로나19 음성을 확인하는 방안을 추가하는 것을 고려하고 있다”고 밝혔다. 코로나19 감염자에 대한 격리 완화를 결정하는 국가들은 계속 늘고 있다. 지난 2일(현지시간) 올리비에 베랑 프랑스 보건부 장관은 백신 접종을 완료한 사람이 코로나19에 확진될 경우 격리 기간을 기존 10일에서 7일로 단축한다고 밝혔다. 코로나19에 감염된 감염자의 격리 완화에 대해선 찬반 의견이 갈린다. 코로나19로 인해 인력난(노동력이 부족하여 겪는 어려움)을 겪고 있는 기업계는 긍정적인 입장이다. 격리 기간이 단축되면 격리 기간이 길 때보다 인력난(노동력이 부족해 겪는 어려움)이 완화될 것으로 내다보고 있어서다. 반면 격리 완화에 반대하는 측은 “전파의 위험이 있을 수도 있는 확진자의 격리를 완화하는 것은 오히려 감염 확산 위험성을 더 높이는 것”이라고 비판한다.  ▶어동이: 나는 코로나19 감염자의 격리 기간을 줄이는 것에 찬성해. 코로나19가 장기화되면서 기업들은 인력난을 겪고 있잖아. 코로나19 감염자가 긴 시간 자리를 비우게 되면서 업무를 처리하는 속도가 느려져 업무상에 문제가 일어나는 경우도 많아. 이런 상태가 계속된다면 각국의 경제가 침체될 수도 있어. 격리 기간을 단축하면 코로나19에 감염됐던 이들도 보다 빨리 일상에 복귀해 업무를 할 수 있으므로 얼어붙은 세계 경제가 회복하는 데 큰 도움이 될 거야.▶어솜이: 나는 코로나19 감염자의 격리 기간을 줄이는 것에 반대해. 인력난을 겪고 있는 기업들이 많은 건 사실이지만 섣불리 격리 기간을 완화하면 코로나19의 확산세를 키울 수도 있어. 증상이 없어서 자가격리를 끝내고 다른 사람들과 어울렸는데 전파력이 남아 있다면 또 다른 확진자가 생길 수 있잖아. 격리 기간을 줄이는 것은 장기적으로 확진자를 더 급증시키는 결과를 초래할 수 있어. 급하게 격리 기간을 단축하기보다는 바이러스가 전파될 가능성이 완전히 없어질 때까지 충분히 시간을 두는 것이 필요해. ※ 어동이와 어솜이의 주장 중 누구의 주장에 동의하나요? 내 생각을 1월 20일(목)까지 어린이동아 온라인 카페(cafe.naver.com/kidsdonga)의 ‘어동 찬반토론’ 게시판에 올려주세요. 가장 논리적으로 주장을 편 어린이들의 의견을 뽑아 지면에 소개합니다. ',\n",
              "  'author': '권세희',\n",
              "  'date': '2022-01-05 12:27:00',\n",
              "  'img_path': 'http://kids.donga.com/www/data/article/202201/be8bcd0f156bfa94dcb9186497d451a7_1641353130_1296.jpg',\n",
              "  'source': '어린이동아',\n",
              "  'title': '[뉴스쏙 시사쑥]미국 ‘무증상 감염자 격리 단축’ 논란 “인력난에 도움 될 것” vs “코로나19 전파 위험성 커져”',\n",
              "  'url': 'https://kids.donga.com?ptype=article&no=20220105122738515156&psub=news&gbn=01'},\n",
              " {'article': '코로나19 확산을 막기 위해 학원과 독서실 등에 방역패스를 적용하는 정부 방침에 법원이 제동(멈추게 함)을 걸었다. 서울행정법원 행정 8부는 함께하는사교육연합·전국학부모단체연합 등이 질병관리청장과 보건복지부 장관을 상대로 낸 집행정지(앞선 처분의 효력 등을 정지함) 신청을 지난 4일 일부 받아들였다. 함께하는사교육연합 등은 “방역패스 정책은 청소년 백신접종을 사실상 의무화해 청소년의 신체적 자유와 행동 자유권, 학습권 등을 침해한다”는 이유로 지난달 법원에 집행정지를 신청한 바 있다. 법원의 이번 결정에 따라 지난달 3일 정부가 학원과 독서실, 스터디카페 등을 방역패스 적용 시설로 포함한 것에 대한 효력이 정지된다. 단 청소년의 경우 3월 1일부터 방역패스가 적용될 예정이어서 이번 결정의 영향을 받진 않고, 해당 시설을 이용하는 성인들만 집행정지의 영향을 받는다. 이 같은 집행정지는 1심 판결이 선고(재판장이 판결을 알리는 일)될 때까지 유지된다. 법원은 “학원·독서실 등에 대한 방역패스 정책은 사실상 백신 미접종자 집단에 대해서만 시설 이용에 제한을 두는 차별적 조치”라면서 “백신 접종자 돌파 감염도 일어나고 있어 시설 이용을 제한할 정도로 백신 미접종자가 코로나19를 확산시킬 위험이 현저히 크다고 할 순 없다. 청소년의 경우 위중증(위중하고 중한 병의 상태)률도 낮다”고 밝혔다. 법원은 또 “청소년에게 학원과 독서실 이용을 제한하는 방식으로 코로나 백신을 사실상 강제하는 것은 청소년 신체에 관한 자기결정권(스스로 결정할 수 있는 권리)과 학습권을 침해하는 것”이라면서 “학원과 독서실 등을 이용하는 이들은 마스크를 착용하고 이 시설의 운영자들도 방역 수칙을 준수하려는 노력을 할 것으로 보인다”고 덧붙였다. 법원의 이 같은 결정에 정부는 “미접종자의 건강을 보호하면서 의료체계를 확보하고 유지하기 위해서는 방역패스 적용이 필요하다”는 방침을 재차 밝히면서 법원의 이번 결정에 대해 항고(법원의 결정에 불복해 상급 법원에 취소나 변경을 구하는 일)하겠다는 입장을 밝혔다. [나는 토론왕] 법원의 결정에 대한 내 생각은? 법원은 학생의 학습권과 자기결정권 등을 침해한다는 이유로 학원과 독서실 등에 적용됐던 방역패스의 효력을 정지하는 결정을 내렸습니다. 반면 정부는 현재 코로나19가 확산되고 있는 상황이라 방역패스는 유지해야 한다는 입장이지요. 법원의 이번 결정에 대해 어떻게 생각하나요? 자신의 생각을 논리적인 근거를 들어 자유롭게 써보세요! ※자신의 의견을 어린이동아 온라인 카페(cafe.naver.com/kidsdonga) ‘나는 토론왕’ 게시판에 댓글로 달아 주세요. 논리적인 댓글은 지면에 소개됩니다.',\n",
              "  'author': '권세희',\n",
              "  'date': '2022-01-05 16:08:00',\n",
              "  'img_path': 'http://kids.donga.com/www/data/article/202201/be8bcd0f156bfa94dcb9186497d451a7_1641353037_3265.jpg',\n",
              "  'source': '어린이동아',\n",
              "  'title': '[오늘의 뉴스]법원, 학원·독서실 등에 대한 방역패스 제동 “학습권 침해하는 조치”',\n",
              "  'url': 'https://kids.donga.com?ptype=article&no=20220105122420218849&psub=news&gbn=01'},\n",
              " {'article': ' >> 2일 (미국) 필라델피아. 시청 앞에서 열린 *머머스 퍼레이드에서 ‘더 투 스트리트 스톰퍼’가 공연할 때 의료진에게 경의를 표하고 있다. 그 행진은 비로 인해 새해 첫날에서 하루 연기됐다.  *머머스(mummers)는 대사 없이 표정과 몸짓만으로 내용을 전달하는 연극인 ‘무언극’의 배우를 뜻한다. 머머스 퍼레이드는 100여 년 전부터 미국 필라델피아에서 매년 1월 1일 열리는 새해 기념행사로 사람들은 각자 의상을 준비해 입고 행진에 참가한다.  지난해 머머스 퍼레이드는 코로나19로 취소됐고, 올해는 비가 내려 하루 연기 돼 2일에 열렸다. 이날 참가자들은 코로나19 의료진이 착용하는 옷을 입고 코로나19와 사투를 벌이는 의료진에 경의를 표하는 퍼포먼스를 선보였다.  ',\n",
              "  'author': '김재성',\n",
              "  'date': '2022-01-04 17:35:00',\n",
              "  'img_path': 'http://kids.donga.com/www/data/article/202201/a8ac70ea964485f42b2427bfe967320b_1641285320_0906.jpg',\n",
              "  'source': '어린이동아',\n",
              "  'title': '[월드 뉴스]코로나19 의료진에 경의를!',\n",
              "  'url': 'https://kids.donga.com?ptype=article&no=20220104173538384541&psub=news&gbn=01'},\n",
              " {'article': '호랑이의 해가 밝았지만 전 세계 호랑이 5마리 중 1마리는 수력발전용 댐 건설로 멸종위기에 처했다는 연구결과가 나왔다. 댐은 높은 곳에서 물을 한꺼번에 흘려보낼 때 생기는 힘으로 전기를 생산하는 시설이다. 루크 깁슨 중국 남방과학기술대 환경과학공학부 교수팀은 수력발전용 댐이 호랑이 서식지에 미치는 영향을 분석해 과학저널 네이처의 자매지인 ‘커뮤니케이션스 바이올로지’에 지난달 발표했다. 연구진은 인도, 인도네시아, 베트남, 말레이시아 등과 같이 야생 호랑이가 사는 나라에 댐이 421개가 있다는 것을 확인하고 댐이 호랑이 서식지에 미친 영향을 분석했다. 그 결과 전체 호랑이 서식지 1만3750㎢ 중에서 6139㎢가 댐 건설로 인한 범람(큰물이 흘러넘침)의 영향을 받아 호랑이를 멸종에 이르게 할 수 있는 환경이라는 것을 밝혀냈다. 개체 수로 따지면 전 세계에 남아있는 3600여 마리의 호랑이 중 5분의 1가량인 729마리가 서식지 파괴로 멸종될 위기에 처한 것으로 추정된다. 댐을 지으면서 흘러넘친 물 때문에 호랑이의 서식지가 잠기고 있다고 연구진은 설명했다. 서식지가 줄어들면서 호랑이의 개체 수도 감소할 것으로 보인다. [한 뼘 더] 자연에 사는 검은 호랑이‘임인년’인 2022년을 ‘검은 호랑이의 해’라고 부르기도 하지요. 인도에서는 검은색 줄무늬가 촘촘하고 넓어서 검게 보이는 ‘흑호랑이’가 종종 포착됩니다. 유전적으로 매우 가까운 개체끼리 짝짓기를 하면 돌연변이(어버이의 계통에 없던 새로운 형질이 나타나 유전하는 현상)가 일어나 흑호랑이가 태어나는 경우가 있다고 해요. 야생 호랑이의 개체 수가 줄어들다보니 유전적으로 가까운 개체끼리 교배하는 경우가 흔해졌어요. ',\n",
              "  'author': '장진희',\n",
              "  'date': '2022-01-04 13:31:00',\n",
              "  'img_path': 'http://kids.donga.com/www/data/article/202201/c39fb5d832782acd5423ea049109aaeb_1641270643_6784.jpg',\n",
              "  'source': '어린이동아',\n",
              "  'title': '[오늘의 뉴스]세계 호랑이 20%, 서식지 파괴로 멸종위기',\n",
              "  'url': 'https://kids.donga.com?ptype=article&no=20220104133154393141&psub=news&gbn=01'}]"
            ]
          },
          "metadata": {},
          "execution_count": 277
        }
      ]
    },
    {
      "cell_type": "code",
      "source": [
        "data[50][\"article\"]"
      ],
      "metadata": {
        "colab": {
          "base_uri": "https://localhost:8080/",
          "height": 157
        },
        "id": "z6XnYpilLELj",
        "outputId": "7a7047eb-f5f2-4974-c5a0-63f8071d4283"
      },
      "execution_count": 279,
      "outputs": [
        {
          "output_type": "execute_result",
          "data": {
            "application/vnd.google.colaboratory.intrinsic+json": {
              "type": "string"
            },
            "text/plain": [
              "'[오늘의 키워드] 펀슈머(funsumer) 펀슈머는 재미를 뜻하는 영어단어 ‘펀(fun)’과 소비자를 뜻하는 ‘컨슈머(consumer)’를 합성한 단어로 물건을 구매할 때 상품에 대한 재미를 소비하는 것을 중요하게 생각하는 소비자를 의미한다. 특히 펀슈머는 소셜네트워크서비스(SNS)나 유튜브 등에 자신이 소비한 제품에 대한 내용을 공유하는 등 소비 경험을 재생산하는 것이 특징이다. 펀슈머들이 공유한 제품 소비경험은 SNS를 타고 빠르게 전파돼 소비 업계에 큰 영향을 주고 있다.  말랑말랑한 젤리처럼 생긴 세제, 마카롱처럼 생긴 방향제…. 시중에 나온 식품들과 겉모습만으로는 구별하기 어려운 제품이 소비자들에게 혼동을 준다는 지적이 나온다. 이에 소비자가 오용(잘못 사용함)할 우려가 있는 생활화학제 품의 안전·표시 기준을 마련해야 한다는 권고가 나왔다.  소비자정책위원회는 최근 회의를 열고 ‘소비자 지향적 제도개선 과제’ 등 6개 안건(토의해야 할 사항)을 최근 심의(심사하고 토의함)하고 의결(의논해 결정함)했다. 특히 식품을 모방(다른 것을 본뜨거나 본받음)한 생활화학제품에 대한 안전·표시 기준을 마련해야 한다며 환경부에 권고한 내용도 담겼다. 소비자정책위원회에 따르면 식품을 모방한 생활화학제품을 오인(잘못 보거나 잘못 생각함)해 섭취하는 사례는 매년 증가하는 추세다. 유아(만 1세~ 6세 어린이)가 섭취해 신고한 사례는 전체 사례 중 절반이 넘는다. 상황이 이렇지만 이런 제품에 대한 안전관리 규정은 없는 상황. 이에 소비자정책위원회는 소비자가 잘못 사용할 우려가 있는 제품의 제 조와 유통에 대한 적절한 표시 기준을 정해야 한다고 권고한 것이다.  식품을 모방한 제품들은 실제 식품과 닮은 겉모습으로 관심을 끌어 ‘펀슈머’들이 소비하는 경우가 많다. 하지만 일 반 소비자 중 어린이나 노약자 등은 실제 식품과 이를 모방해 만든 제품을 쉽게 구분할 수 없어 제품을 식품으로 오인해 섭취할 가능성이 높은 게 문제. 특히 세제 등을 오인해 섭취하면 건강에 문제를 일으킬 수 있어 각별한 주의가 필요하다는 것이 전문가들의 의견이다.  ▶지난해에는 우리가 흔히 먹는 우유의 겉모습과 똑닮은 포장지의 바디워시가 시중에 등장해 논란이 되기도 했어요. 제품의 겉면은 식품인데, 실제로는 화장품인 제품은 많은 소비자들의 혼동을 불러올 수 있어요. 실제로 이런 제품에 대해 “식품인 줄 알고 구매했는데, 알고 보니 먹을 수 없는 화장품이었다”는 소비자들의 의견이 소셜네트워크서비스(SNS)에 올라오기도 했지요. 이 같은 여론이 확산되자 식품의약품안전처는 화장품을 식품으로 오해해 섭취하는 안전사고가 발생하지 않도록 식품 모양을 모방한 화장품의 판매를 제한하는 내용을 담은 ‘화장품법’을 지난해 8월 개정·공포(일반 대중에게 널리 알림)했어요. 식품의 형태나 용기 포장 등을 모방한 화장품의 △제조 △수입 △진열 △판매 등을 금지해 안전사고를 줄이고자 한 것입니다.재미있는 제품을 만들고 이를 구매하는 것은 자유지만 위험한 상황을 불러일으킬 수 있는 제품을 만들고 소비하는 것은 지양해야 하지 않을까요? [나는 토론왕] 식품 모방 제품에 대한 내 생각은? 식품을 모방한 제품들이 속속 등장하고 있지요. 이 제품들은 마치 먹을 수 있는 것처럼 생겨 흥미를 끌지만 이를 오인해 섭취하는 일도 종종 발생해 문제가 되고 있습니다. 이 같은 식품 모방 제품에 대해서 어떻게 생각하나요? 논리적인 근거를 바탕으로 자신의 의견을 써보세요. ※ 자신의 의견을 어린이동아 온라인 카페(cafe.naver.com/kidsdonga) ‘나는 토론왕’ 게시판에 댓글로 달아 주세요. 논리적인 댓글은 지면 소개됩니다.  '"
            ]
          },
          "metadata": {},
          "execution_count": 279
        }
      ]
    },
    {
      "cell_type": "code",
      "source": [
        "# json 파일로 저장\n",
        "import json\n",
        "with open(\"donga_crawling.json\", \"w\", encoding=\"utf-8\") as json_file:\n",
        "    json.dump(data, json_file,  ensure_ascii=False)"
      ],
      "metadata": {
        "id": "oTa1zZkMAPpw"
      },
      "execution_count": 285,
      "outputs": []
    },
    {
      "cell_type": "markdown",
      "source": [
        "## 해결 과제\n",
        "1. ~~이미지 참조 글과 기사가 붙음~~\n",
        "2. ~~unicode 공백 문자~~\n",
        "3. ~~날짜 별/페이지 별 크롤링 자동화~~"
      ],
      "metadata": {
        "id": "O4dxFUBGRrDq"
      }
    },
    {
      "cell_type": "markdown",
      "source": [
        "### 날짜 별/페이지 별 크롤링 자동화"
      ],
      "metadata": {
        "id": "SORkrru4Wuqp"
      }
    },
    {
      "cell_type": "code",
      "source": [
        "article_titles"
      ],
      "metadata": {
        "colab": {
          "base_uri": "https://localhost:8080/"
        },
        "id": "vPPlKQSYSrrQ",
        "outputId": "180ca482-f785-4164-cad9-4f55cce1e5fd"
      },
      "execution_count": 370,
      "outputs": [
        {
          "output_type": "execute_result",
          "data": {
            "text/plain": [
              "[<a href=\"https://kids.donga.com?ptype=article&amp;no=20220202124700920857&amp;psub=news&amp;gbn=01\">2022 베이징 올림픽의 타임키퍼 ‘오메가’의 기술은?...</a>,\n",
              " <a href=\"https://kids.donga.com?ptype=article&amp;no=20220202123848709079&amp;psub=news&amp;gbn=01\">[뉴스쏙 시사쑥] 영국에서 SNS 사진 ‘보정 유무 표...</a>,\n",
              " <a href=\"https://kids.donga.com?ptype=article&amp;no=20220202123358514117&amp;psub=news&amp;gbn=01\">[뉴스 브리핑] 일본, ‘사도광산’ 세계유산 추천 결정</a>,\n",
              " <a href=\"https://kids.donga.com?ptype=article&amp;no=20220202120934178503&amp;psub=news&amp;gbn=01\">[오늘의 뉴스] 한국 축구, 10회 연속 월드컵 본선 ...</a>,\n",
              " <a href=\"https://kids.donga.com?ptype=article&amp;no=20220202120612605158&amp;psub=news&amp;gbn=01\">[월드 뉴스] 미얀마 쿠데타 1년… 여전히 이어지는 시...</a>,\n",
              " <a href=\"https://kids.donga.com?ptype=article&amp;no=20220202120507717054&amp;psub=news&amp;gbn=01\">[한자뉴스] 하늘을 나는 요트… 약 7465억 원</a>,\n",
              " <a href=\"https://kids.donga.com?ptype=article&amp;no=20220127140638502004&amp;psub=news&amp;gbn=01\">[오늘의 뉴스] 낙서한다고 혼났던 영국 소년, 나이키 ...</a>,\n",
              " <a href=\"https://kids.donga.com?ptype=article&amp;no=20220127140401622425&amp;psub=news&amp;gbn=01\">‘띵동~!’ 세뱃돈도 메시지로… 코로나가 바꾼 ‘세뱃돈...</a>,\n",
              " <a href=\"https://kids.donga.com?ptype=article&amp;no=20220127124809984229&amp;psub=news&amp;gbn=01\">[월드 뉴스] 인도 공화국의 날, 코로나 종식 기원 퍼...</a>,\n",
              " <a href=\"https://kids.donga.com?ptype=article&amp;no=20220127124637361652&amp;psub=news&amp;gbn=01\">[뉴스 브리핑] 곰 사육, 40년 만에 끝… 2026년...</a>]"
            ]
          },
          "metadata": {},
          "execution_count": 370
        }
      ]
    },
    {
      "cell_type": "code",
      "source": [
        "from datetime import datetime\n",
        "\n",
        "today = datetime.today().strftime(\"%Y%m%d\")\n",
        "today"
      ],
      "metadata": {
        "colab": {
          "base_uri": "https://localhost:8080/",
          "height": 227
        },
        "id": "BBIkXCzmVuja",
        "outputId": "42b9b936-b366-447b-e12a-424216b21600"
      },
      "execution_count": 371,
      "outputs": [
        {
          "output_type": "execute_result",
          "data": {
            "application/vnd.google.colaboratory.intrinsic+json": {
              "type": "string"
            },
            "text/plain": [
              "'20220202'"
            ]
          },
          "metadata": {},
          "execution_count": 371
        }
      ]
    },
    {
      "cell_type": "code",
      "source": [
        "today_article = [i for i in article_titles if today in i.get(\"href\")]\n",
        "today_article"
      ],
      "metadata": {
        "colab": {
          "base_uri": "https://localhost:8080/"
        },
        "id": "LmSgz0MKV96e",
        "outputId": "65d0679e-d464-45c6-a7f3-e79e082fe854"
      },
      "execution_count": 372,
      "outputs": [
        {
          "output_type": "execute_result",
          "data": {
            "text/plain": [
              "[<a href=\"https://kids.donga.com?ptype=article&amp;no=20220202124700920857&amp;psub=news&amp;gbn=01\">2022 베이징 올림픽의 타임키퍼 ‘오메가’의 기술은?...</a>,\n",
              " <a href=\"https://kids.donga.com?ptype=article&amp;no=20220202123848709079&amp;psub=news&amp;gbn=01\">[뉴스쏙 시사쑥] 영국에서 SNS 사진 ‘보정 유무 표...</a>,\n",
              " <a href=\"https://kids.donga.com?ptype=article&amp;no=20220202123358514117&amp;psub=news&amp;gbn=01\">[뉴스 브리핑] 일본, ‘사도광산’ 세계유산 추천 결정</a>,\n",
              " <a href=\"https://kids.donga.com?ptype=article&amp;no=20220202120934178503&amp;psub=news&amp;gbn=01\">[오늘의 뉴스] 한국 축구, 10회 연속 월드컵 본선 ...</a>,\n",
              " <a href=\"https://kids.donga.com?ptype=article&amp;no=20220202120612605158&amp;psub=news&amp;gbn=01\">[월드 뉴스] 미얀마 쿠데타 1년… 여전히 이어지는 시...</a>,\n",
              " <a href=\"https://kids.donga.com?ptype=article&amp;no=20220202120507717054&amp;psub=news&amp;gbn=01\">[한자뉴스] 하늘을 나는 요트… 약 7465억 원</a>]"
            ]
          },
          "metadata": {},
          "execution_count": 372
        }
      ]
    }
  ],
  "metadata": {
    "colab": {
      "collapsed_sections": [],
      "name": "Colaboratory에 오신 것을 환영합니다",
      "provenance": [],
      "include_colab_link": true
    },
    "kernelspec": {
      "display_name": "Python 3",
      "name": "python3"
    }
  },
  "nbformat": 4,
  "nbformat_minor": 0
}