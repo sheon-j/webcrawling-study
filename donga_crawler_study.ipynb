{
  "cells": [
    {
      "cell_type": "markdown",
      "metadata": {
        "id": "view-in-github",
        "colab_type": "text"
      },
      "source": [
        "<a href=\"https://colab.research.google.com/github/sheon-j/webcrawling-study/blob/main/donga_crawler_study.ipynb\" target=\"_parent\"><img src=\"https://colab.research.google.com/assets/colab-badge.svg\" alt=\"Open In Colab\"/></a>"
      ]
    },
    {
      "cell_type": "markdown",
      "source": [
        "# Webcrawling Study\n",
        "* 참고: [나만의 웹 크롤러 만들기 시리즈](https://beomi.github.io/gb-crawling/)\n",
        "* 타겟: [어린이동아](http://kids.donga.com)"
      ],
      "metadata": {
        "id": "-XUBlXXymrTQ"
      }
    },
    {
      "cell_type": "markdown",
      "source": [
        "## Requests\n",
        "html의 request를 python으로 받아온다."
      ],
      "metadata": {
        "id": "EHhcAsvtm2PG"
      }
    },
    {
      "cell_type": "code",
      "source": [
        "# !pip install requests\n",
        "import requests\n",
        "\n",
        "# HTTP GET Request\n",
        "## 어린이 동아 뉴스 리스트\n",
        "req = requests.get(\"http://kids.donga.com/?ptype=article&psub=news\")\n",
        "\n",
        "html = req.text           # HTML (use this source!)\n",
        "header = req.headers      # header\n",
        "status = req.status_code  # status\n",
        "is_ok = req.ok            # status boolean"
      ],
      "metadata": {
        "id": "sMK7zNDEm1zx"
      },
      "execution_count": 1,
      "outputs": []
    },
    {
      "cell_type": "code",
      "source": [
        "print(\"done:\", is_ok)\n",
        "print(\"status:\", status)\n",
        "print(\"header:\", header)"
      ],
      "metadata": {
        "colab": {
          "base_uri": "https://localhost:8080/"
        },
        "id": "GrPl6D5qZ1te",
        "outputId": "31cafaaf-d3e6-4354-9d63-ac63745ca91e"
      },
      "execution_count": 11,
      "outputs": [
        {
          "output_type": "stream",
          "name": "stdout",
          "text": [
            "done: True\n",
            "status: 200\n",
            "header: {'Date': 'Wed, 02 Feb 2022 12:23:55 GMT', 'Server': 'Apache', 'Set-Cookie': 'PHPSESSID=hjqbttc0j40na15oeog2jhi716; path=/; domain=http://kids.donga.com, kd_visit_ip=34.125.249.32; expires=Thu, 03-Feb-2022 12:23:55 GMT; path=/', 'Keep-Alive': 'timeout=5, max=100', 'Connection': 'Keep-Alive', 'Transfer-Encoding': 'chunked', 'Content-Type': 'text/html; charset=UTF-8'}\n"
          ]
        }
      ]
    },
    {
      "cell_type": "markdown",
      "source": [
        "## BeautifulSoup\n",
        "\n",
        "받아온 데이터는 거대한 String 뭉치이다. 이것을 html의 객체처럼 처리할 수 있게하는 parsing 라이브러리가 **BeautifulSoup**이다."
      ],
      "metadata": {
        "id": "Dig-PGIWnbBs"
      }
    },
    {
      "cell_type": "code",
      "source": [
        "# !pip install bs4\n",
        "from bs4 import BeautifulSoup\n",
        "\n",
        "# convert HTML source to pythob object\n",
        "## BeautifulSoup({html}, {parser})\n",
        "soup = BeautifulSoup(html, \"html.parser\")"
      ],
      "metadata": {
        "id": "qQZFthGCnjJO"
      },
      "execution_count": 12,
      "outputs": []
    },
    {
      "cell_type": "markdown",
      "source": [
        "CSS 선택자를 통해 crawling 할 요소를 설정한다.\n",
        "\n",
        "**CSS Selector**\n",
        "\n",
        "* **full selector**: \n",
        "body > div.wrap_all > div.content > div.page_area > div.article_list > ul > li:nth-child(1) > dl > dt > a\n",
        "\n",
        "* **target selector**: \n",
        "dt > a"
      ],
      "metadata": {
        "id": "Wpm9G3k5oHuj"
      }
    },
    {
      "cell_type": "code",
      "source": [
        "# CSS Selector\n",
        "article_titles = soup.select(\"dt > a\")\n",
        "article_titles"
      ],
      "metadata": {
        "colab": {
          "base_uri": "https://localhost:8080/"
        },
        "id": "cTwjzQnroRqe",
        "outputId": "9ac80c78-40af-423e-c54e-1c1e407421a5"
      },
      "execution_count": 44,
      "outputs": [
        {
          "output_type": "execute_result",
          "data": {
            "text/plain": [
              "[<a href=\"https://kids.donga.com?ptype=article&amp;no=20220202124700920857&amp;psub=news&amp;gbn=01\">2022 베이징 올림픽의 타임키퍼 ‘오메가’의 기술은?...</a>,\n",
              " <a href=\"https://kids.donga.com?ptype=article&amp;no=20220202123848709079&amp;psub=news&amp;gbn=01\">[뉴스쏙 시사쑥] 영국에서 SNS 사진 ‘보정 유무 표기’ 법안...</a>,\n",
              " <a href=\"https://kids.donga.com?ptype=article&amp;no=20220202123358514117&amp;psub=news&amp;gbn=01\">[뉴스 브리핑] 일본, ‘사도광산’ 세계유산 추천 결정</a>,\n",
              " <a href=\"https://kids.donga.com?ptype=article&amp;no=20220202120934178503&amp;psub=news&amp;gbn=01\">[오늘의 뉴스] 한국 축구, 10회 연속 월드컵 본선 진출 위...</a>,\n",
              " <a href=\"https://kids.donga.com?ptype=article&amp;no=20220202120612605158&amp;psub=news&amp;gbn=01\">[월드 뉴스] 미얀마 쿠데타 1년… 여전히 이어지는 시위</a>,\n",
              " <a href=\"https://kids.donga.com?ptype=article&amp;no=20220202120507717054&amp;psub=news&amp;gbn=01\">[한자뉴스] 하늘을 나는 요트… 약 7465억 원</a>,\n",
              " <a href=\"https://kids.donga.com?ptype=article&amp;no=20220127140638502004&amp;psub=news&amp;gbn=01\">[오늘의 뉴스] 낙서한다고 혼났던 영국 소년, 나이키 디자이너...</a>,\n",
              " <a href=\"https://kids.donga.com?ptype=article&amp;no=20220127140401622425&amp;psub=news&amp;gbn=01\">‘띵동~!’ 세뱃돈도 메시지로… 코로나가 바꾼 ‘세뱃돈...</a>,\n",
              " <a href=\"https://kids.donga.com?ptype=article&amp;no=20220127124809984229&amp;psub=news&amp;gbn=01\">[월드 뉴스] 인도 공화국의 날, 코로나 종식 기원 퍼포먼스</a>,\n",
              " <a href=\"https://kids.donga.com?ptype=article&amp;no=20220127124637361652&amp;psub=news&amp;gbn=01\">[뉴스 브리핑] 곰 사육, 40년 만에 끝… 2026년부터 금...</a>]"
            ]
          },
          "metadata": {},
          "execution_count": 44
        }
      ]
    },
    {
      "cell_type": "markdown",
      "source": [
        "최종적으로 원하는 객체 값을 parsing한다"
      ],
      "metadata": {
        "id": "pyB0S9bTcElm"
      }
    },
    {
      "cell_type": "code",
      "source": [
        "# selector elements\n",
        "print(\"text: \", article_titles[0].text)\n",
        "print(\"href: \", article_titles[0].get(\"href\"))"
      ],
      "metadata": {
        "colab": {
          "base_uri": "https://localhost:8080/"
        },
        "id": "Ialmw14_qLO-",
        "outputId": "2e818c7c-20fa-4e9e-e6ac-cb7af73aa688"
      },
      "execution_count": 57,
      "outputs": [
        {
          "output_type": "stream",
          "name": "stdout",
          "text": [
            "text:  2022 베이징 올림픽의 타임키퍼 ‘오메가’의 기술은?...\n",
            "href:  https://kids.donga.com?ptype=article&no=20220202124700920857&psub=news&gbn=01\n"
          ]
        }
      ]
    },
    {
      "cell_type": "markdown",
      "source": [
        "**Sub Crawling**\n",
        "\n",
        "```\n",
        "url: 기사 원문 URL\n",
        "title: 제목\n",
        "subtitle: 부제목(어린이동아는 부제 없음!)\n",
        "author: 기자\n",
        "date: 날짜\n",
        "article: 기사 내용\n",
        "img_path: 기사 img 경로\n",
        "source: 신문사\n",
        "```\n",
        "* **title**: body > div.wrap_all > div.content > div.page_area > div.at_cont > div.at_cont_title > div.at_info > ul > **li.title**\n",
        "\n",
        "* **author**: \n",
        "body > div.wrap_all > div.content > div.page_area > div.at_cont > div.at_cont_title > div.at_info > ul > **li.writer**\n",
        "\n",
        "* **date**: \n",
        "body > div.wrap_all > div.content > div.page_area > div.at_cont > div.at_cont_title > div.at_info > ul > **li.upload_date**\n",
        "\n",
        "* **article**:\n",
        "body > div.wrap_all > div.content > div.page_area > div.at_cont > **div.cont_view** > div > p:nth-child(4) > span\n",
        "\n",
        "* **img_path**: body > div.wrap_all > div.content > div.page_area > div.at_cont > div.cont_view > div > p:nth-child(1) > span > **img**"
      ],
      "metadata": {
        "id": "xDAboqC4vcEm"
      }
    },
    {
      "cell_type": "code",
      "source": [
        "# sub crawling\n",
        "href = article_titles[4].get(\"href\")\n",
        "sub_req = requests.get(href)\n",
        "sub_html = sub_req.text\n",
        "sub_soup = BeautifulSoup(sub_html, \"html.parser\")"
      ],
      "metadata": {
        "id": "ct0MDbfBuu3E"
      },
      "execution_count": 269,
      "outputs": []
    },
    {
      "cell_type": "code",
      "source": [
        "# title\n",
        "\n",
        "## title = sub_soup.select_one(\"li.title\").text\n",
        "title = \"\\xa02022 베이징 올림픽의 타임키퍼 ‘오메가’의 기술은? 생동감 넘치는 경기 전달해요!\"  # 유니코드 공백문자\n",
        "print(\"처리 전:\", title)\n",
        "\n",
        "## regex\n",
        "pattern = re.compile(\"[\\xa0\\u200b\\n\\r\\t]\")  # regex 패턴 설정 \n",
        "title = re.sub(pattern, \"\", title)\n",
        "print(\"처리 후:\", title)"
      ],
      "metadata": {
        "colab": {
          "base_uri": "https://localhost:8080/"
        },
        "id": "5bPHQCCkhnqt",
        "outputId": "3903a7cd-e6de-4af0-9fab-46aa87892036"
      },
      "execution_count": 71,
      "outputs": [
        {
          "output_type": "stream",
          "name": "stdout",
          "text": [
            "처리 전:  2022 베이징 올림픽의 타임키퍼 ‘오메가’의 기술은? 생동감 넘치는 경기 전달해요!\n",
            "처리 후: 2022 베이징 올림픽의 타임키퍼 ‘오메가’의 기술은? 생동감 넘치는 경기 전달해요!\n"
          ]
        }
      ]
    },
    {
      "cell_type": "code",
      "source": [
        "# author\n",
        "\n",
        "## author = sub_soup.select_one(\"li.writer\").text\n",
        "writer = \"\\r\\n\\t\\t\\t\\t\\t김철수 기자\\t\\t\\t\\t\\t\"\n",
        "print(\"처리 전:\", writer)\n",
        "\n",
        "## regex\n",
        "import re\n",
        "writer = re.sub(pattern, \"\", writer.split(\" \")[0])\n",
        "print(\"처리 후:\", writer)"
      ],
      "metadata": {
        "colab": {
          "base_uri": "https://localhost:8080/"
        },
        "id": "f7IGXOd-yANQ",
        "outputId": "9517a082-aa58-4c5a-caaf-f4a66bba0190"
      },
      "execution_count": 72,
      "outputs": [
        {
          "output_type": "stream",
          "name": "stdout",
          "text": [
            "처리 전: \r\n",
            "\t\t\t\t\t김철수 기자\t\t\t\t\t\n",
            "처리 후: 김철수\n"
          ]
        }
      ]
    },
    {
      "cell_type": "code",
      "source": [
        "# date\n",
        "date = sub_soup.select_one(\"li.upload_date\").text\n",
        "date"
      ],
      "metadata": {
        "colab": {
          "base_uri": "https://localhost:8080/",
          "height": 37
        },
        "id": "uKgQv5wnvkN4",
        "outputId": "51a88d01-a0d0-4e40-a149-3acfdd544af5"
      },
      "execution_count": 74,
      "outputs": [
        {
          "output_type": "execute_result",
          "data": {
            "application/vnd.google.colaboratory.intrinsic+json": {
              "type": "string"
            },
            "text/plain": [
              "'2022-02-02 12:47:00'"
            ]
          },
          "metadata": {},
          "execution_count": 74
        }
      ]
    },
    {
      "cell_type": "code",
      "source": [
        "# article             \n",
        "article = sub_soup.select(\"div.at_content > p\")   # 파싱\n",
        "article = [\n",
        "    p.text for p in article \n",
        "    if not p.img                                  # img 태그 제거\n",
        "    if not \"위 기사의 법적인 책임과 권한은\" in p.text    # 법적 고지 제거\n",
        "    if not \"< 저작권자 ⓒ 어린이동아\" in p.text        # 법적 고지 제거\n",
        "    if not (\"▶어린이동아\" and \"기자\") in p.text      # 기자 제거\n",
        "]\n",
        "article = \" \".join(article)\n",
        "article = re.sub(pattern, \"\", article)\n",
        "article"
      ],
      "metadata": {
        "colab": {
          "base_uri": "https://localhost:8080/",
          "height": 157
        },
        "id": "-_KoUzAEAnGG",
        "outputId": "1d8f14a1-cdd7-47f5-c4f0-8dd90a46e5ed"
      },
      "execution_count": 214,
      "outputs": [
        {
          "output_type": "execute_result",
          "data": {
            "application/vnd.google.colaboratory.intrinsic+json": {
              "type": "string"
            },
            "text/plain": [
              "'올림픽 경기 중계를 유심히 보다 보면 곳곳에서 ‘OMEGA(Ω)’라는 글자와 로고를 찾아볼 수 있다. 0.001초 차이로 승부가 결정되곤 하는 올림픽의 세계에서 오메가는 90년간 정밀한 시계 기술로 선수들의 기록을 측정해왔다. 이제 오메가는 단순히 기록을 재는 것을 넘어 경기력까지 분석하는 스마트 시스템을 갖췄다. 2022 베이징 올림픽에서도 타임키퍼로 나서는 오메가는 어떤 기술을 선보일까. 고난도의 점프 기술과 섬세한 연기력을 모두 갖춰야 높은 점수를 받는 스포츠인 피겨스케이팅은 겨울올림픽의 ‘꽃’으로 불린다. 베이징 올림픽에서는 피겨스케이팅 선수들의 점프 기술을 낱낱이 뜯어 볼 수 있게 됐다. 오메가는 선수들의 움직임과 위치를 파악하는 ‘모션 센서 및 포지셔닝 감지 시스템’을 피겨스케이팅에도 도입한다고 최근 밝혔다. 2018 평창 겨울올림픽에서 공식적으로 처음 도입된 모션 센서 및 포지셔닝 감지 시스템은 선수의 몸이나 운동기기 등에 부착해 움직임을 데이터화하는 기술을 말한다. 이와 더불어 오메가는 빙상 경기장 주변에 설치한 6대의 카메라로 피겨스케이팅 싱글 경기 중 선수들의 점프 높이와 비거리, 체공(공중에 머물러 있음) 시간 같은 데이터를 실시간으로 측정한다. 데이터를 바탕으로 선수들은 자신의 경기방식을 다른 선수와 비교·분석할 수 있게 되고, 시청자들도 선수들의 동작을 자세히 이해하게 될 것으로 보인다. 아이스하키는 빙판 위에서 긴 스틱으로 ‘퍽’이라고 불리는 고무로 된 납작한 원판을 쳐서 상대방의 골문에 넣어 점수를 올리는 종목이다. 최대 시속 170㎞로 빠르게 날아가는 퍽은 보는 이에게 박진감(생동감 있고 활기차서 현실적으로 느껴지는 것)을 선사한다. 베이징 올림픽의 아이스하키 경기장에는 그동안 볼 수 없었던 한 면이 투명한 특수 디스플레이가 설치된다. 오메가는 링크 주변에 발광다이오드(LED)로 빛나는 디스플레이를 설치해 선수들이 경기 중에 경과 시간 및 페널티(심판이 규칙을 어긴 선수에 내리는 벌칙) 시간을 확인하게 한다고 밝혔다. 디스플레이는 두 개의 페널티 박스(아이스하키에서 반칙한 선수들의 대기 장소) 사이에 적용될 예정이다. 오메가는 2022 베이징 대회를 포함하여 총 30회의 올림픽에 타임키퍼로 참여해왔다. 300여 명의 타임키퍼와 200t(톤)에 달하는 최첨단 장비를 중국 베이징으로 보낸 것으로 알려졌다. 지난해 도쿄 올림픽에서 오메가는 체조 선수의 관절의 움직임까지 포착할 수 있는 포즈 감지 기술을 도입했다. 심사위원들이 빠르게 지나가 놓쳤던 선수들의 동작과 기술을 빠짐없이 화면을 통해 다시 볼 수 있어 객관적 평가를 가능하게 했다는 평가를 받는다. 이처럼 인간의 눈이 아니라 발전한 과학 기술로 선수들의 기록을 측정하는 오메가는 2032년까지 타임키퍼로 활동하기로 국제올림픽위원회(IOC)와 계약했다. 향후 10년간 오메가가 보다 정확한 올림픽을 만들기 위해 어떤 신기술을 내놓을지 기대를 모은다. 2022 베이징 겨울올림픽의 개막이 하루 앞으로 다가왔다. 세계인이 주목하는 스포츠 축제인 올림픽에서는 각국의 선수들이 뛰어난 기량을 겨룰 뿐 아니라 개최국과 참가국이 기술력을 과시하기도 한다.'"
            ]
          },
          "metadata": {},
          "execution_count": 214
        }
      ]
    },
    {
      "cell_type": "code",
      "source": [
        "# image path (두 가지 경우의 수)\n",
        "try: \n",
        "    img_path = sub_soup.select_one(\"div.at_content > p > img\").get(\"src\")\n",
        "except:\n",
        "    img_path = sub_soup.select_one(\"div.at_content > p > span > img\").get(\"src\")\n",
        "img_path"
      ],
      "metadata": {
        "colab": {
          "base_uri": "https://localhost:8080/",
          "height": 37
        },
        "id": "Snmw0jwvjskh",
        "outputId": "96d4eaab-4fe0-4a71-d778-eb1434c4bf4a"
      },
      "execution_count": 170,
      "outputs": [
        {
          "output_type": "execute_result",
          "data": {
            "application/vnd.google.colaboratory.intrinsic+json": {
              "type": "string"
            },
            "text/plain": [
              "'http://kids.donga.com/www/data/article/202202/2819e89f3d3bf24e29d5163f47290123_1643773091_0741.jpg'"
            ]
          },
          "metadata": {},
          "execution_count": 170
        }
      ]
    },
    {
      "cell_type": "markdown",
      "source": [
        "## Full Web Crawler"
      ],
      "metadata": {
        "id": "U7SHSPRRDUju"
      }
    },
    {
      "cell_type": "code",
      "source": [
        "# 크롤링 타겟 설정\n",
        "# %%time\n",
        "# news_titles = []\n",
        "# pages = list(range(1, 11))\n",
        "\n",
        "# for num in pages: \n",
        "#     url = f\"https://kids.donga.com/?page_no={num}&ptype=article&psub=news&gbn=01\"\n",
        "#     req = requests.get(url)\n",
        "#     html = req.text\n",
        "#     soup = BeautifulSoup(html, \"html.parser\")\n",
        "#     news_titles += soup.select(\"dt > a\")\n",
        "\n",
        "# print(\"크롤링 타겟 수:\", len(news_titles))"
      ],
      "metadata": {
        "colab": {
          "base_uri": "https://localhost:8080/"
        },
        "id": "eYZmDYGu47SQ",
        "outputId": "518d8609-7b85-40d2-d048-cfd76fe06c6d"
      },
      "execution_count": 275,
      "outputs": [
        {
          "output_type": "stream",
          "name": "stdout",
          "text": [
            "크롤링 타겟 수: 100\n",
            "CPU times: user 470 ms, sys: 6.85 ms, total: 477 ms\n",
            "Wall time: 12.3 s\n"
          ]
        }
      ]
    },
    {
      "cell_type": "code",
      "source": [
        "%%time\n",
        "\n",
        "num = 1\n",
        "url = f\"https://kids.donga.com/?page_no={num}&ptype=article&psub=news&gbn=01\"\n",
        "req = requests.get(url)\n",
        "html = req.text\n",
        "soup = BeautifulSoup(html, \"html.parser\")\n",
        "news_titles = soup.select(\"dt > a\")\n",
        "\n",
        "print(\"크롤링 타겟 수:\", len(news_titles))"
      ],
      "metadata": {
        "id": "i1UMJfAQELKb",
        "outputId": "3b39fad8-e309-4d88-b173-39713951542a",
        "colab": {
          "base_uri": "https://localhost:8080/"
        }
      },
      "execution_count": 294,
      "outputs": [
        {
          "output_type": "stream",
          "name": "stdout",
          "text": [
            "크롤링 타겟 수: 10\n",
            "CPU times: user 38.4 ms, sys: 2.12 ms, total: 40.5 ms\n",
            "Wall time: 1.64 s\n"
          ]
        }
      ]
    },
    {
      "cell_type": "code",
      "source": [
        "%%time\n",
        "\n",
        "import requests\n",
        "from bs4 import BeautifulSoup\n",
        "import re\n",
        "\n",
        "pattern = re.compile(\"[\\xa0\\u200b\\n\\r\\t]\") # regex pattern\n",
        "data = []\n",
        "for title in news_titles:\n",
        "    json_data = {}\n",
        "    \n",
        "    # sub crawling\n",
        "    sub_url = title.get(\"href\")\n",
        "    sub_req = requests.get(sub_url)\n",
        "    sub_html = sub_req.text\n",
        "    sub_soup = BeautifulSoup(sub_html, \"html.parser\")\n",
        "    \n",
        "    # url\n",
        "    json_data[\"url\"] = sub_url\n",
        "    \n",
        "    # title\n",
        "    title = sub_soup.select_one(\"li.title\").text\n",
        "    title = re.sub(pattern, \"\", title)\n",
        "    json_data[\"title\"] = title\n",
        "\n",
        "    # author\n",
        "    author = sub_soup.select_one(\"li.writer\").text\n",
        "    author = re.sub(pattern, \"\", author.split(\" \")[0])\n",
        "    json_data[\"author\"] = author\n",
        "\n",
        "    # date\n",
        "    date = sub_soup.select_one(\"li.upload_date\").text\n",
        "    json_data[\"date\"] = date\n",
        "\n",
        "    # article\n",
        "    article = sub_soup.select(\"div.at_content > p\")\n",
        "    article = [\n",
        "        p.text for p in article \n",
        "        if not p.img \n",
        "        if not \"위 기사의 법적인 책임과 권한은\" in p.text \n",
        "        if not \"< 저작권자 ⓒ 어린이동아\" in p.text \n",
        "        if not (\"▶어린이동아\" and \"기자\") in p.text\n",
        "    ]\n",
        "    article = \" \".join(article)\n",
        "    article = re.sub(pattern, \"\", article)\n",
        "    article\n",
        "    json_data[\"article\"] = article\n",
        "\n",
        "    # img_path\n",
        "    img_path = sub_soup.select_one(\"div.at_content img\").get(\"src\")\n",
        "    json_data[\"img_path\"] = img_path\n",
        "\n",
        "    # source\n",
        "    json_data[\"source\"] = \"어린이동아\"\n",
        "    \n",
        "    data.append(json_data)\n",
        "print(\"크롤링 데이터 수:\", len(data))"
      ],
      "metadata": {
        "colab": {
          "base_uri": "https://localhost:8080/"
        },
        "id": "AkleIF3EDXvo",
        "outputId": "1889ecbd-759a-4ab9-f66b-578e8eba1d53"
      },
      "execution_count": 303,
      "outputs": [
        {
          "output_type": "stream",
          "name": "stdout",
          "text": [
            "크롤링 데이터 수: 10\n",
            "CPU times: user 474 ms, sys: 10.6 ms, total: 485 ms\n",
            "Wall time: 8.62 s\n"
          ]
        }
      ]
    },
    {
      "cell_type": "code",
      "source": [
        "data[:3]"
      ],
      "metadata": {
        "id": "Ig7iLnk7FN7p",
        "outputId": "4d68849e-5c59-44bf-8116-a3abc84a624b",
        "colab": {
          "base_uri": "https://localhost:8080/"
        }
      },
      "execution_count": 304,
      "outputs": [
        {
          "output_type": "execute_result",
          "data": {
            "text/plain": [
              "[{'article': '올림픽 경기 중계를 유심히 보다 보면 곳곳에서 ‘OMEGA(Ω)’라는 글자와 로고를 찾아볼 수 있다. 0.001초 차이로 승부가 결정되곤 하는 올림픽의 세계에서 오메가는 90년간 정밀한 시계 기술로 선수들의 기록을 측정해왔다. 이제 오메가는 단순히 기록을 재는 것을 넘어 경기력까지 분석하는 스마트 시스템을 갖췄다. 2022 베이징 올림픽에서도 타임키퍼로 나서는 오메가는 어떤 기술을 선보일까. 고난도의 점프 기술과 섬세한 연기력을 모두 갖춰야 높은 점수를 받는 스포츠인 피겨스케이팅은 겨울올림픽의 ‘꽃’으로 불린다. 베이징 올림픽에서는 피겨스케이팅 선수들의 점프 기술을 낱낱이 뜯어 볼 수 있게 됐다. 오메가는 선수들의 움직임과 위치를 파악하는 ‘모션 센서 및 포지셔닝 감지 시스템’을 피겨스케이팅에도 도입한다고 최근 밝혔다. 2018 평창 겨울올림픽에서 공식적으로 처음 도입된 모션 센서 및 포지셔닝 감지 시스템은 선수의 몸이나 운동기기 등에 부착해 움직임을 데이터화하는 기술을 말한다. 이와 더불어 오메가는 빙상 경기장 주변에 설치한 6대의 카메라로 피겨스케이팅 싱글 경기 중 선수들의 점프 높이와 비거리, 체공(공중에 머물러 있음) 시간 같은 데이터를 실시간으로 측정한다. 데이터를 바탕으로 선수들은 자신의 경기방식을 다른 선수와 비교·분석할 수 있게 되고, 시청자들도 선수들의 동작을 자세히 이해하게 될 것으로 보인다. 아이스하키는 빙판 위에서 긴 스틱으로 ‘퍽’이라고 불리는 고무로 된 납작한 원판을 쳐서 상대방의 골문에 넣어 점수를 올리는 종목이다. 최대 시속 170㎞로 빠르게 날아가는 퍽은 보는 이에게 박진감(생동감 있고 활기차서 현실적으로 느껴지는 것)을 선사한다. 베이징 올림픽의 아이스하키 경기장에는 그동안 볼 수 없었던 한 면이 투명한 특수 디스플레이가 설치된다. 오메가는 링크 주변에 발광다이오드(LED)로 빛나는 디스플레이를 설치해 선수들이 경기 중에 경과 시간 및 페널티(심판이 규칙을 어긴 선수에 내리는 벌칙) 시간을 확인하게 한다고 밝혔다. 디스플레이는 두 개의 페널티 박스(아이스하키에서 반칙한 선수들의 대기 장소) 사이에 적용될 예정이다. 오메가는 2022 베이징 대회를 포함하여 총 30회의 올림픽에 타임키퍼로 참여해왔다. 300여 명의 타임키퍼와 200t(톤)에 달하는 최첨단 장비를 중국 베이징으로 보낸 것으로 알려졌다. 지난해 도쿄 올림픽에서 오메가는 체조 선수의 관절의 움직임까지 포착할 수 있는 포즈 감지 기술을 도입했다. 심사위원들이 빠르게 지나가 놓쳤던 선수들의 동작과 기술을 빠짐없이 화면을 통해 다시 볼 수 있어 객관적 평가를 가능하게 했다는 평가를 받는다. 이처럼 인간의 눈이 아니라 발전한 과학 기술로 선수들의 기록을 측정하는 오메가는 2032년까지 타임키퍼로 활동하기로 국제올림픽위원회(IOC)와 계약했다. 향후 10년간 오메가가 보다 정확한 올림픽을 만들기 위해 어떤 신기술을 내놓을지 기대를 모은다. 2022 베이징 겨울올림픽의 개막이 하루 앞으로 다가왔다. 세계인이 주목하는 스포츠 축제인 올림픽에서는 각국의 선수들이 뛰어난 기량을 겨룰 뿐 아니라 개최국과 참가국이 기술력을 과시하기도 한다.',\n",
              "  'author': '장진희',\n",
              "  'date': '2022-02-02 12:47:00',\n",
              "  'img_path': 'http://kids.donga.com/www/data/article/202202/2819e89f3d3bf24e29d5163f47290123_1643773437_274.jpg',\n",
              "  'source': '어린이동아',\n",
              "  'title': '2022 베이징 올림픽의 타임키퍼 ‘오메가’의 기술은? 생동감 넘치는 경기 전달해요!',\n",
              "  'url': 'https://kids.donga.com?ptype=article&no=20220202124700920857&psub=news&gbn=01'},\n",
              " {'article': '[오늘의 키워드] 소셜네트워크서비스(SNS) 인터넷상에서 이용자들이 인적 네트워크를 형성해 서로 소통할 수 있도록 하는 서비스를 뜻한다. 트위터, 페이스북, 인스타그램이 대표적이다. 최근에는 SNS를 통해 자신의 일상을 공유하고 다른 이들과 원활한 소통을 하며 사회적 관계를 맺는 이들이 많다. 영국에서 소셜네트워크서비스(SNS)에 신체 사진을 올릴 때 보정한 사진일 경우 보정 유무를 의무적으로 고지하는 법안이 발의됐다. 영국 BBC 등 외신은 루크 에반스 영국 보수당 하원 의원이 ‘디지털상 변형된 신체 이미지(Digitally Altered Images Bill)’ 법안을 발의했다고 최근 보도했다. 이 법안은 인플루언서(SNS에서 대중에게 영향을 미치는 이들)들이 SNS에 게재하는 광고 사진 가운데 신체가 드러나는 사진에 적용된다. 신체가 보이는 사진에 보정 애플리케이션(앱) 등을 이용해 사진 보정을 했다면 SNS에 올릴 때 보정 사실을 의무적으로 알려야 한다는 것이 핵심이다. 의사 출신인 루크 에반스 의원은 “비현실적인 몸을 원하고 이에 이르지 못하면 불안과 우울을 겪는 젊은이들이 많다”면서 “보정된 사진 등을 보며 섭식 장애(비정상적으로 음식을 섭취하는 증상)를 겪는 이들도 늘어나고 있어 이를 막기 위해 법안을 마련했다”고 밝혔다. 외모지상주의(외모에 가치의 중심을 두는 사고방식) 등을 제재할 조치가 필요하다는 것. 앞서 지난해 노르웨이에서도 인플루언서들의 광고글에는 보정 사실을 알려야 한다는 내용을 담은 마케팅법 개정안이 통과된 바 있다. 해당 법안이 발의된 것을 두고 찬반 의견이 나온다. 이 법안을 찬성하는 측은 SNS 상에서 보이는 완벽한 외모를 기준으로 하는 이들의 외모 강박(심리적으로 심하게 압박을 느낌)을 해소하는 데 법안이 도움이 된다는 주장이다. 보정 유무를 표시하면 허위 광고 등을 잡아낼 수 있다는 것이다. 반면 이 법안에 반대하는 이들은 개인이 운영하는 SNS에서 보정 유무를 의무적으로 고지하는 것은 개인의 자유를 해친다고 지적한다. 보정 유무의 판단 기준 역시 명확한 기준이 없어 법의 실효성(실제로 효과를 나타내는 성질)도 떨어진다는 지적이다.  ▶어동이 나는 ‘디지털상 변형된 신체 이미지’ 법에 찬성해. 최근에는 SNS를 이용하는 사람들이 많고 이를 통해 필요한 물건 등을 구매하는 이들도 많아. 상황이 이런 만큼 SNS에서 유명한 인플루언서들은 영향력도 엄청나지. 그런데 이들이 과하게 보정된 신체 사진으로 어떠한 물건을 광고하게 되면 이들을 선망하는 사람들은 그 물건을 무분별하게 구매하게 될 거야. 또 비현실적인 외모에 대한 환상이 커져 무리한 다이어트를 할 가능성도 높아져. 보정 유무를 의무적으로 알리면 합리적인 소비를 도울 뿐만 아니라 외모에 대한 강박도 줄어들 것으로 보여. ▶어솜이 나는 ‘디지털상 변형된 신체 이미지’ 법에 반대해. SNS는 개인이 원하는 사진을 자유롭게 올릴 수 있는 공간이야. 어떤 사진을 올리든 그건 올리는 사람의 자유 아닐까? 이를 제재하는 법안을 만드는 것은 개인의 자유를 해치는 행위와 같아. 그리고 모든 사람들은 자신의 모습을 아름답게 보이게 하고 싶은 욕구가 있는데, 이를 막는 것은 바람직하지 못하다고 생각해. 또 보정을 했는지, 하지 않았는지 확인할 수 있는 기준이 모호해. 이 법이 시행되면 혼란을 불러일으킬 가능성이 커. ※ 어동이와 어솜이의 주장 중 누구의 주장에 동의하나요? 내 생각을 2월 17일(목)까지 어린이동아 온라인 카페(cafe.naver.com/kidsdonga)의 ‘어동 찬반토론’ 게시판에 올려주세요. 가장 논리적으로 주장을 편 어린이들의 의견을 뽑아 지면에 소개합니다.',\n",
              "  'author': '권세희',\n",
              "  'date': '2022-02-02 12:38:00',\n",
              "  'img_path': 'http://kids.donga.com/www/data/article/202202/2819e89f3d3bf24e29d5163f47290123_1643773091_0741.jpg',\n",
              "  'source': '어린이동아',\n",
              "  'title': '[뉴스쏙 시사쑥]영국에서 SNS 사진 ‘보정 유무 표기’ 법안 발의 “외모에 대한 강박 줄일 수 있어” vs “개인의 자유 존중해야”',\n",
              "  'url': 'https://kids.donga.com?ptype=article&no=20220202123848709079&psub=news&gbn=01'},\n",
              " {'article': '일본 정부가 일제강점기(일제가 1910년 우리나라의 국권을 강탈한 이후 1945년 우리나라가 해방되기까지 35년간의 시대) 조선인 강제 노역(몹시 괴롭고 힘들게 일함) 현장이었던 ‘사도광산’을 유네스코(UNESCO) 세계문화유산으로 추천하기로 결정하면서 우리나라와 일본 사이에 격렬한 갈등이 이어질 것으로 보인다. 사도광산은 일본 중부 니가타현 사도시에 있는 광산으로 과거 일본의 대표적인 금 생산지였다. 교도통신 등 외신은 일본 정부가 1일 열린 각의(내각회의)에서 사도광산을 유네스코 세계문화유산으로 추천한다는 방침을 결정했다고 최근 보도했다. 앞서 기시다 후미오 일본 총리는 사도광산을 2023년 유네스코 세계문화유산에 등재(일정한 사항을 장부나 대장에 올림)하는 것을 목표로 사도광산을 세계유산으로 추천한다는 방침을 지난달 28일 발표한 바 있다. 일본이 사도광산을 세계유산으로 추천하면서 이를 둘러싸고 우리나라와의 역사 논쟁이 벌어질 것으로 보인다. 사도광산은 일제강점기 다수의 조선인 노동자가 동원돼 가혹한 노역을 하도록 강요받은 곳이기 때문. 일본은 이 사실을 인정하지 않고 일제강점기 역사를 제외하고 ‘에도시대(1603년∼1867년)’로만 한정해 세계유산으로 등재하려 하고 있다. 이에 우리나라 외교부는 “강제 노역 피해 현장인 ‘사도광산’을 유네스코 세계유산으로 등재하고 추진키로 결정한 데 대해 강한 유감을 표명한다”면서 “이러한 시도를 중단할 것을 엄중히 촉구한다”고 밝혔다. 사도광산의 세계유산 등재 여부는 유네스코 자문기관인 국제기념물유적회의(ICOMOS) 등이 현지 조사 등을 실시하고 심사를 거쳐 내년 6∼7월 결정될 예정이다.',\n",
              "  'author': '권세희',\n",
              "  'date': '2022-02-02 12:33:00',\n",
              "  'img_path': 'http://kids.donga.com/www/data/article/202202/2819e89f3d3bf24e29d5163f47290123_1643772810_0669.jpg',\n",
              "  'source': '어린이동아',\n",
              "  'title': '[뉴스 브리핑]일본, ‘사도광산’ 세계유산 추천 결정',\n",
              "  'url': 'https://kids.donga.com?ptype=article&no=20220202123358514117&psub=news&gbn=01'}]"
            ]
          },
          "metadata": {},
          "execution_count": 304
        }
      ]
    },
    {
      "cell_type": "code",
      "source": [
        "data[1][\"article\"]"
      ],
      "metadata": {
        "colab": {
          "base_uri": "https://localhost:8080/",
          "height": 157
        },
        "id": "z6XnYpilLELj",
        "outputId": "9eaf2484-bc64-4465-f4bd-ed68947ae153"
      },
      "execution_count": 302,
      "outputs": [
        {
          "output_type": "execute_result",
          "data": {
            "application/vnd.google.colaboratory.intrinsic+json": {
              "type": "string"
            },
            "text/plain": [
              "'[오늘의 키워드] 소셜네트워크서비스(SNS) 인터넷상에서 이용자들이 인적 네트워크를 형성해 서로 소통할 수 있도록 하는 서비스를 뜻한다. 트위터, 페이스북, 인스타그램이 대표적이다. 최근에는 SNS를 통해 자신의 일상을 공유하고 다른 이들과 원활한 소통을 하며 사회적 관계를 맺는 이들이 많다. 영국에서 소셜네트워크서비스(SNS)에 신체 사진을 올릴 때 보정한 사진일 경우 보정 유무를 의무적으로 고지하는 법안이 발의됐다. 영국 BBC 등 외신은 루크 에반스 영국 보수당 하원 의원이 ‘디지털상 변형된 신체 이미지(Digitally Altered Images Bill)’ 법안을 발의했다고 최근 보도했다. 이 법안은 인플루언서(SNS에서 대중에게 영향을 미치는 이들)들이 SNS에 게재하는 광고 사진 가운데 신체가 드러나는 사진에 적용된다. 신체가 보이는 사진에 보정 애플리케이션(앱) 등을 이용해 사진 보정을 했다면 SNS에 올릴 때 보정 사실을 의무적으로 알려야 한다는 것이 핵심이다. 의사 출신인 루크 에반스 의원은 “비현실적인 몸을 원하고 이에 이르지 못하면 불안과 우울을 겪는 젊은이들이 많다”면서 “보정된 사진 등을 보며 섭식 장애(비정상적으로 음식을 섭취하는 증상)를 겪는 이들도 늘어나고 있어 이를 막기 위해 법안을 마련했다”고 밝혔다. 외모지상주의(외모에 가치의 중심을 두는 사고방식) 등을 제재할 조치가 필요하다는 것. 앞서 지난해 노르웨이에서도 인플루언서들의 광고글에는 보정 사실을 알려야 한다는 내용을 담은 마케팅법 개정안이 통과된 바 있다. 해당 법안이 발의된 것을 두고 찬반 의견이 나온다. 이 법안을 찬성하는 측은 SNS 상에서 보이는 완벽한 외모를 기준으로 하는 이들의 외모 강박(심리적으로 심하게 압박을 느낌)을 해소하는 데 법안이 도움이 된다는 주장이다. 보정 유무를 표시하면 허위 광고 등을 잡아낼 수 있다는 것이다. 반면 이 법안에 반대하는 이들은 개인이 운영하는 SNS에서 보정 유무를 의무적으로 고지하는 것은 개인의 자유를 해친다고 지적한다. 보정 유무의 판단 기준 역시 명확한 기준이 없어 법의 실효성(실제로 효과를 나타내는 성질)도 떨어진다는 지적이다.  ▶어동이 나는 ‘디지털상 변형된 신체 이미지’ 법에 찬성해. 최근에는 SNS를 이용하는 사람들이 많고 이를 통해 필요한 물건 등을 구매하는 이들도 많아. 상황이 이런 만큼 SNS에서 유명한 인플루언서들은 영향력도 엄청나지. 그런데 이들이 과하게 보정된 신체 사진으로 어떠한 물건을 광고하게 되면 이들을 선망하는 사람들은 그 물건을 무분별하게 구매하게 될 거야. 또 비현실적인 외모에 대한 환상이 커져 무리한 다이어트를 할 가능성도 높아져. 보정 유무를 의무적으로 알리면 합리적인 소비를 도울 뿐만 아니라 외모에 대한 강박도 줄어들 것으로 보여. ▶어솜이 나는 ‘디지털상 변형된 신체 이미지’ 법에 반대해. SNS는 개인이 원하는 사진을 자유롭게 올릴 수 있는 공간이야. 어떤 사진을 올리든 그건 올리는 사람의 자유 아닐까? 이를 제재하는 법안을 만드는 것은 개인의 자유를 해치는 행위와 같아. 그리고 모든 사람들은 자신의 모습을 아름답게 보이게 하고 싶은 욕구가 있는데, 이를 막는 것은 바람직하지 못하다고 생각해. 또 보정을 했는지, 하지 않았는지 확인할 수 있는 기준이 모호해. 이 법이 시행되면 혼란을 불러일으킬 가능성이 커. ※ 어동이와 어솜이의 주장 중 누구의 주장에 동의하나요? 내 생각을 2월 17일(목)까지 어린이동아 온라인 카페(cafe.naver.com/kidsdonga)의 ‘어동 찬반토론’ 게시판에 올려주세요. 가장 논리적으로 주장을 편 어린이들의 의견을 뽑아 지면에 소개합니다.'"
            ]
          },
          "metadata": {},
          "execution_count": 302
        }
      ]
    },
    {
      "cell_type": "code",
      "source": [
        "# json 파일로 저장\n",
        "# import json\n",
        "# with open(\"donga_crawling.json\", \"w\", encoding=\"utf-8\") as json_file:\n",
        "#     json.dump(data, json_file,  ensure_ascii=False)"
      ],
      "metadata": {
        "id": "oTa1zZkMAPpw"
      },
      "execution_count": 285,
      "outputs": []
    },
    {
      "cell_type": "markdown",
      "source": [
        "## 해결 과제\n",
        "1. ~~이미지 참조 글과 기사가 붙음~~\n",
        "2. ~~unicode 공백 문자~~\n",
        "3. ~~날짜 별/페이지 별 크롤링 자동화~~"
      ],
      "metadata": {
        "id": "O4dxFUBGRrDq"
      }
    },
    {
      "cell_type": "markdown",
      "source": [
        "### 날짜 별/페이지 별 크롤링 자동화"
      ],
      "metadata": {
        "id": "SORkrru4Wuqp"
      }
    },
    {
      "cell_type": "code",
      "source": [
        "article_titles"
      ],
      "metadata": {
        "colab": {
          "base_uri": "https://localhost:8080/"
        },
        "id": "vPPlKQSYSrrQ",
        "outputId": "180ca482-f785-4164-cad9-4f55cce1e5fd"
      },
      "execution_count": 370,
      "outputs": [
        {
          "output_type": "execute_result",
          "data": {
            "text/plain": [
              "[<a href=\"https://kids.donga.com?ptype=article&amp;no=20220202124700920857&amp;psub=news&amp;gbn=01\">2022 베이징 올림픽의 타임키퍼 ‘오메가’의 기술은?...</a>,\n",
              " <a href=\"https://kids.donga.com?ptype=article&amp;no=20220202123848709079&amp;psub=news&amp;gbn=01\">[뉴스쏙 시사쑥] 영국에서 SNS 사진 ‘보정 유무 표...</a>,\n",
              " <a href=\"https://kids.donga.com?ptype=article&amp;no=20220202123358514117&amp;psub=news&amp;gbn=01\">[뉴스 브리핑] 일본, ‘사도광산’ 세계유산 추천 결정</a>,\n",
              " <a href=\"https://kids.donga.com?ptype=article&amp;no=20220202120934178503&amp;psub=news&amp;gbn=01\">[오늘의 뉴스] 한국 축구, 10회 연속 월드컵 본선 ...</a>,\n",
              " <a href=\"https://kids.donga.com?ptype=article&amp;no=20220202120612605158&amp;psub=news&amp;gbn=01\">[월드 뉴스] 미얀마 쿠데타 1년… 여전히 이어지는 시...</a>,\n",
              " <a href=\"https://kids.donga.com?ptype=article&amp;no=20220202120507717054&amp;psub=news&amp;gbn=01\">[한자뉴스] 하늘을 나는 요트… 약 7465억 원</a>,\n",
              " <a href=\"https://kids.donga.com?ptype=article&amp;no=20220127140638502004&amp;psub=news&amp;gbn=01\">[오늘의 뉴스] 낙서한다고 혼났던 영국 소년, 나이키 ...</a>,\n",
              " <a href=\"https://kids.donga.com?ptype=article&amp;no=20220127140401622425&amp;psub=news&amp;gbn=01\">‘띵동~!’ 세뱃돈도 메시지로… 코로나가 바꾼 ‘세뱃돈...</a>,\n",
              " <a href=\"https://kids.donga.com?ptype=article&amp;no=20220127124809984229&amp;psub=news&amp;gbn=01\">[월드 뉴스] 인도 공화국의 날, 코로나 종식 기원 퍼...</a>,\n",
              " <a href=\"https://kids.donga.com?ptype=article&amp;no=20220127124637361652&amp;psub=news&amp;gbn=01\">[뉴스 브리핑] 곰 사육, 40년 만에 끝… 2026년...</a>]"
            ]
          },
          "metadata": {},
          "execution_count": 370
        }
      ]
    },
    {
      "cell_type": "code",
      "source": [
        "from datetime import datetime\n",
        "\n",
        "today = datetime.today().strftime(\"%Y%m%d\")\n",
        "today"
      ],
      "metadata": {
        "colab": {
          "base_uri": "https://localhost:8080/",
          "height": 227
        },
        "id": "BBIkXCzmVuja",
        "outputId": "42b9b936-b366-447b-e12a-424216b21600"
      },
      "execution_count": 371,
      "outputs": [
        {
          "output_type": "execute_result",
          "data": {
            "application/vnd.google.colaboratory.intrinsic+json": {
              "type": "string"
            },
            "text/plain": [
              "'20220202'"
            ]
          },
          "metadata": {},
          "execution_count": 371
        }
      ]
    },
    {
      "cell_type": "code",
      "source": [
        "today_article = [i for i in article_titles if today in i.get(\"href\")]\n",
        "today_article"
      ],
      "metadata": {
        "colab": {
          "base_uri": "https://localhost:8080/"
        },
        "id": "LmSgz0MKV96e",
        "outputId": "65d0679e-d464-45c6-a7f3-e79e082fe854"
      },
      "execution_count": 372,
      "outputs": [
        {
          "output_type": "execute_result",
          "data": {
            "text/plain": [
              "[<a href=\"https://kids.donga.com?ptype=article&amp;no=20220202124700920857&amp;psub=news&amp;gbn=01\">2022 베이징 올림픽의 타임키퍼 ‘오메가’의 기술은?...</a>,\n",
              " <a href=\"https://kids.donga.com?ptype=article&amp;no=20220202123848709079&amp;psub=news&amp;gbn=01\">[뉴스쏙 시사쑥] 영국에서 SNS 사진 ‘보정 유무 표...</a>,\n",
              " <a href=\"https://kids.donga.com?ptype=article&amp;no=20220202123358514117&amp;psub=news&amp;gbn=01\">[뉴스 브리핑] 일본, ‘사도광산’ 세계유산 추천 결정</a>,\n",
              " <a href=\"https://kids.donga.com?ptype=article&amp;no=20220202120934178503&amp;psub=news&amp;gbn=01\">[오늘의 뉴스] 한국 축구, 10회 연속 월드컵 본선 ...</a>,\n",
              " <a href=\"https://kids.donga.com?ptype=article&amp;no=20220202120612605158&amp;psub=news&amp;gbn=01\">[월드 뉴스] 미얀마 쿠데타 1년… 여전히 이어지는 시...</a>,\n",
              " <a href=\"https://kids.donga.com?ptype=article&amp;no=20220202120507717054&amp;psub=news&amp;gbn=01\">[한자뉴스] 하늘을 나는 요트… 약 7465억 원</a>]"
            ]
          },
          "metadata": {},
          "execution_count": 372
        }
      ]
    }
  ],
  "metadata": {
    "colab": {
      "collapsed_sections": [],
      "name": "Colaboratory에 오신 것을 환영합니다",
      "provenance": [],
      "include_colab_link": true
    },
    "kernelspec": {
      "display_name": "Python 3",
      "name": "python3"
    }
  },
  "nbformat": 4,
  "nbformat_minor": 0
}