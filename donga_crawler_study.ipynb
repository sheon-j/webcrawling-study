{
  "cells": [
    {
      "cell_type": "markdown",
      "source": [
        "# Webcrawling Study\n",
        "* 참고: [나만의 웹 크롤러러 만들기 시리즈](https://beomi.github.io/gb-crawling/)\n",
        "* 타겟: [어린이동아](http://kids.donga.com)"
      ],
      "metadata": {
        "id": "-XUBlXXymrTQ"
      }
    },
    {
      "cell_type": "markdown",
      "source": [
        "## Requests"
      ],
      "metadata": {
        "id": "EHhcAsvtm2PG"
      }
    },
    {
      "cell_type": "code",
      "source": [
        "# !pip install requests\n",
        "import requests\n",
        "\n",
        "# HTTP GET Request\n",
        "## 어린이 동아 뉴스 리스트\n",
        "req = requests.get(\"http://kids.donga.com/?ptype=article&psub=news\")\n",
        "\n",
        "html = req.text           # HTML (use this source!)\n",
        "header = req.headers      # header\n",
        "status = req.status_code  # status\n",
        "is_ok = req.ok            # status boolean"
      ],
      "metadata": {
        "id": "sMK7zNDEm1zx"
      },
      "execution_count": 314,
      "outputs": []
    },
    {
      "cell_type": "markdown",
      "source": [
        "## BeautifulSoup"
      ],
      "metadata": {
        "id": "Dig-PGIWnbBs"
      }
    },
    {
      "cell_type": "code",
      "source": [
        "# !pip install bs4\n",
        "from bs4 import BeautifulSoup\n",
        "\n",
        "# convert HTML source to pythob object\n",
        "## BeautifulSoup({html}, {parser})\n",
        "soup = BeautifulSoup(html, \"html.parser\")"
      ],
      "metadata": {
        "id": "qQZFthGCnjJO"
      },
      "execution_count": 19,
      "outputs": []
    },
    {
      "cell_type": "markdown",
      "source": [
        "**CSS Selector**\n",
        "\n",
        "* **full selector**: \n",
        "body > div.wrap_all > div.content > div.page_area > div.article_list > ul > li:nth-child(1) > dl > dt > a\n",
        "\n",
        "* **target selector**: \n",
        "dt > a"
      ],
      "metadata": {
        "id": "Wpm9G3k5oHuj"
      }
    },
    {
      "cell_type": "code",
      "source": [
        "# CSS Selector\n",
        "article_titles = soup.select(\"dt > a\")\n",
        "article_titles"
      ],
      "metadata": {
        "colab": {
          "base_uri": "https://localhost:8080/"
        },
        "id": "cTwjzQnroRqe",
        "outputId": "bbe20aae-3e2f-492f-e3b3-bb1e51973a7e"
      },
      "execution_count": 26,
      "outputs": [
        {
          "output_type": "execute_result",
          "data": {
            "text/plain": [
              "[<a href=\"https://kids.donga.com?ptype=article&amp;no=20220202124700920857&amp;psub=news&amp;gbn=01\">2022 베이징 올림픽의 타임키퍼 ‘오메가’의 기술은?...</a>,\n",
              " <a href=\"https://kids.donga.com?ptype=article&amp;no=20220202123848709079&amp;psub=news&amp;gbn=01\">[뉴스쏙 시사쑥] 영국에서 SNS 사진 ‘보정 유무 표기’ 법안...</a>,\n",
              " <a href=\"https://kids.donga.com?ptype=article&amp;no=20220202123358514117&amp;psub=news&amp;gbn=01\">[뉴스 브리핑] 일본, ‘사도광산’ 세계유산 추천 결정</a>,\n",
              " <a href=\"https://kids.donga.com?ptype=article&amp;no=20220202120934178503&amp;psub=news&amp;gbn=01\">[오늘의 뉴스] 한국 축구, 10회 연속 월드컵 본선 진출 위...</a>,\n",
              " <a href=\"https://kids.donga.com?ptype=article&amp;no=20220202120612605158&amp;psub=news&amp;gbn=01\">[월드 뉴스] 미얀마 쿠데타 1년… 여전히 이어지는 시위</a>,\n",
              " <a href=\"https://kids.donga.com?ptype=article&amp;no=20220202120507717054&amp;psub=news&amp;gbn=01\">[한자뉴스] 하늘을 나는 요트… 약 7465억 원</a>,\n",
              " <a href=\"https://kids.donga.com?ptype=article&amp;no=20220127140638502004&amp;psub=news&amp;gbn=01\">[오늘의 뉴스] 낙서한다고 혼났던 영국 소년, 나이키 디자이너...</a>,\n",
              " <a href=\"https://kids.donga.com?ptype=article&amp;no=20220127140401622425&amp;psub=news&amp;gbn=01\">‘띵동~!’ 세뱃돈도 메시지로… 코로나가 바꾼 ‘세뱃돈...</a>,\n",
              " <a href=\"https://kids.donga.com?ptype=article&amp;no=20220127124809984229&amp;psub=news&amp;gbn=01\">[월드 뉴스] 인도 공화국의 날, 코로나 종식 기원 퍼포먼스</a>,\n",
              " <a href=\"https://kids.donga.com?ptype=article&amp;no=20220127124637361652&amp;psub=news&amp;gbn=01\">[뉴스 브리핑] 곰 사육, 40년 만에 끝… 2026년부터 금...</a>]"
            ]
          },
          "metadata": {},
          "execution_count": 26
        }
      ]
    },
    {
      "cell_type": "code",
      "source": [
        "# selector elements\n",
        "print(\"text: \", article_titles[0].text)\n",
        "print(\"href: \", article_titles[0].get(\"href\"))"
      ],
      "metadata": {
        "colab": {
          "base_uri": "https://localhost:8080/"
        },
        "id": "Ialmw14_qLO-",
        "outputId": "2e818c7c-20fa-4e9e-e6ac-cb7af73aa688"
      },
      "execution_count": 57,
      "outputs": [
        {
          "output_type": "stream",
          "name": "stdout",
          "text": [
            "text:  2022 베이징 올림픽의 타임키퍼 ‘오메가’의 기술은?...\n",
            "href:  https://kids.donga.com?ptype=article&no=20220202124700920857&psub=news&gbn=01\n"
          ]
        }
      ]
    },
    {
      "cell_type": "markdown",
      "source": [
        "**Sub Crawling**\n",
        "\n",
        "* **Writer**: \n",
        "body > div.wrap_all > div.content > div.page_area > div.at_cont > div.at_cont_title > div.at_info > **ul > li.writer**\n",
        "\n",
        "* **Upload Date**: \n",
        "body > div.wrap_all > div.content > div.page_area > div.at_cont > div.at_cont_title > div.at_info > **ul > li.upload_date**\n",
        "\n",
        "* **Contents**:\n",
        "body > div.wrap_all > div.content > div.page_area > div.at_cont > **div.cont_view** > div > p:nth-child(4) > span"
      ],
      "metadata": {
        "id": "xDAboqC4vcEm"
      }
    },
    {
      "cell_type": "code",
      "source": [
        "# sub crawling\n",
        "href = article_titles[0].get(\"href\")\n",
        "sub_req = requests.get(href)\n",
        "sub_html = sub_req.text\n",
        "sub_soup = BeautifulSoup(sub_html, \"html.parser\")"
      ],
      "metadata": {
        "id": "ct0MDbfBuu3E"
      },
      "execution_count": 257,
      "outputs": []
    },
    {
      "cell_type": "code",
      "source": [
        "# Writer\n",
        "## writer = sub_soup.select_one(\"li.writer\").text\n",
        "writer = \"\\r\\n\\t\\t\\t\\t\\t홍길동 기자\\t\\t\\t\\t\\t\"\n",
        "writer"
      ],
      "metadata": {
        "colab": {
          "base_uri": "https://localhost:8080/",
          "height": 37
        },
        "id": "f7IGXOd-yANQ",
        "outputId": "3b67c006-c4fa-4cb5-c640-b078cdef32ce"
      },
      "execution_count": 197,
      "outputs": [
        {
          "output_type": "execute_result",
          "data": {
            "application/vnd.google.colaboratory.intrinsic+json": {
              "type": "string"
            },
            "text/plain": [
              "'\\r\\n\\t\\t\\t\\t\\t홍길동 기자\\t\\t\\t\\t\\t'"
            ]
          },
          "metadata": {},
          "execution_count": 197
        }
      ]
    },
    {
      "cell_type": "code",
      "source": [
        "## writer regex\n",
        "import re\n",
        "writer = re.sub(\"\\W\", \"\", writer.split(\" \")[0])\n",
        "writer"
      ],
      "metadata": {
        "colab": {
          "base_uri": "https://localhost:8080/",
          "height": 37
        },
        "id": "iBE-vo9MyMtM",
        "outputId": "ed750289-9fa2-4c8d-f94f-fbb158e3c3eb"
      },
      "execution_count": 198,
      "outputs": [
        {
          "output_type": "execute_result",
          "data": {
            "application/vnd.google.colaboratory.intrinsic+json": {
              "type": "string"
            },
            "text/plain": [
              "'홍길동'"
            ]
          },
          "metadata": {},
          "execution_count": 198
        }
      ]
    },
    {
      "cell_type": "code",
      "source": [
        "# Upload Date\n",
        "upload_date = sub_soup.select_one(\"li.upload_date\").text\n",
        "upload_date"
      ],
      "metadata": {
        "colab": {
          "base_uri": "https://localhost:8080/",
          "height": 37
        },
        "id": "uKgQv5wnvkN4",
        "outputId": "eb6090e2-9657-40f1-ddfb-eb7b67b89d32"
      },
      "execution_count": 199,
      "outputs": [
        {
          "output_type": "execute_result",
          "data": {
            "application/vnd.google.colaboratory.intrinsic+json": {
              "type": "string"
            },
            "text/plain": [
              "'2022-02-02 12:47:00'"
            ]
          },
          "metadata": {},
          "execution_count": 199
        }
      ]
    },
    {
      "cell_type": "code",
      "source": [
        "# Upload Date\n",
        "content = sub_soup.select_one(\"div.at_content\").text\n",
        "content"
      ],
      "metadata": {
        "colab": {
          "base_uri": "https://localhost:8080/",
          "height": 344
        },
        "id": "-_KoUzAEAnGG",
        "outputId": "ac2c58cf-74d1-4a32-d56b-613c6912b8b3"
      },
      "execution_count": 258,
      "outputs": [
        {
          "output_type": "execute_result",
          "data": {
            "application/vnd.google.colaboratory.intrinsic+json": {
              "type": "string"
            },
            "text/plain": [
              "\"\\n스키점프대 옆에 선수의 기록을 알리는 오메가의 전광판이 설치된 모습. 오메가 홈페이지 캡처지난해 2020 도쿄 올림픽에서는 사상 최초로 육상 선수의 몸에 모션 센서(동작감지기)를 부착해 실시간 위치, 속도, 가속도(점점 더해지는 속도), 감속도(점점 줄어드는 속도)를 측정했다. 모션 센서를 개발한 것은 1932년부터 올림픽의 타임키퍼(시간 기록원)를 맡고 있는 스위스의 시계 브랜드인 ‘오메가’다.올림픽 경기 중계를 유심히 보다 보면 곳곳에서 ‘OMEGA(Ω)’라는 글자와 로고를 찾아볼 수 있다. 0.001초 차이로 승부가 결정되곤 하는 올림픽의 세계에서 오메가는 90년간 정밀한 시계 기술로 선수들의 기록을 측정해왔다. 이제 오메가는 단순히 기록을 재는 것을 넘어 경기력까지 분석하는 스마트 시스템을 갖췄다. 2022 베이징 올림픽에서도 타임키퍼로 나서는 오메가는 어떤 기술을 선보일까.피겨 선수 점프 높이 측정 ‘OK’오메가가 2022 베이징 겨울올림픽 피겨스케이팅 경기장에 카메라를 설치한 모습을 그린 그림고난도의 점프 기술과 섬세한 연기력을 모두 갖춰야 높은 점수를 받는 스포츠인 피겨스케이팅은 겨울올림픽의 ‘꽃’으로 불린다.베이징 올림픽에서는 피겨스케이팅 선수들의 점프 기술을 낱낱이 뜯어 볼 수 있게 됐다. 오메가는 선수들의 움직임과 위치를 파악하는 ‘모션 센서 및 포지셔닝 감지 시스템’을 피겨스케이팅에도 도입한다고 최근 밝혔다. 2018 평창 겨울올림픽에서 공식적으로 처음 도입된 모션 센서 및 포지셔닝 감지 시스템은 선수의 몸이나 운동기기 등에 부착해 움직임을 데이터화하는 기술을 말한다.이와 더불어 오메가는 빙상 경기장 주변에 설치한 6대의 카메라로 피겨스케이팅 싱글 경기 중 선수들의 점프 높이와 비거리, 체공(공중에 머물러 있음) 시간 같은 데이터를 실시간으로 측정한다. 데이터를 바탕으로 선수들은 자신의 경기방식을 다른 선수와 비교·분석할 수 있게 되고, 시청자들도 선수들의 동작을 자세히 이해하게 될 것으로 보인다.하키에선 특수 디스플레이 도입아이스하키 경기장에 설치될 특수 디스플레이에 시간이 표시된 모습을 그린 그림아이스하키는 빙판 위에서 긴 스틱으로 ‘퍽’이라고 불리는 고무로 된 납작한 원판을 쳐서 상대방의 골문에 넣어 점수를 올리는 종목이다. 최대 시속 170㎞로 빠르게 날아가는 퍽은 보는 이에게 박진감(생동감 있고 활기차서 현실적으로 느껴지는 것)을 선사한다.베이징 올림픽의 아이스하키 경기장에는 그동안 볼 수 없었던 한 면이 투명한 특수 디스플레이가 설치된다. 오메가는 링크 주변에 발광다이오드(LED)로 빛나는 디스플레이를 설치해 선수들이 경기 중에 경과 시간 및 페널티(심판이 규칙을 어긴 선수에 내리는 벌칙) 시간을 확인하게 한다고 밝혔다. 디스플레이는 두 개의 페널티 박스(아이스하키에서 반칙한 선수들의 대기 장소) 사이에 적용될 예정이다.올림픽 역사와 함께 해온 오메가오메가가 정확한 기록을 측정하기 위해 결승선에 도입한 최첨단 카메라오메가는 2022 베이징 대회를 포함하여 총 30회의 올림픽에 타임키퍼로 참여해왔다. 300여 명의 타임키퍼와 200t(톤)에 달하는 최첨단 장비를 중국 베이징으로 보낸 것으로 알려졌다.지난해 도쿄 올림픽에서 오메가는 체조 선수의 관절의 움직임까지 포착할 수 있는 포즈 감지 기술을 도입했다. 심사위원들이 빠르게 지나가 놓쳤던 선수들의 동작과 기술을 빠짐없이 화면을 통해 다시 볼 수 있어 객관적 평가를 가능하게 했다는 평가를 받는다.이처럼 인간의 눈이 아니라 발전한 과학 기술로 선수들의 기록을 측정하는 오메가는 2032년까지 타임키퍼로 활동하기로 국제올림픽위원회(IOC)와 계약했다. 향후 10년간 오메가가 보다 정확한 올림픽을 만들기 위해 어떤 신기술을 내놓을지 기대를 모은다.2022 베이징 겨울올림픽의 개막이 하루 앞으로 다가왔다. 세계인이 주목하는 스포츠 축제인 올림픽에서는 각국의 선수들이 뛰어난 기량을 겨룰 뿐 아니라 개최국과 참가국이 기술력을 과시하기도 한다. ▶어린이동아 \\r\\n\\t\\t\\t\\t\\t장진희 기자 cjh0629@donga.com\\t\\t\\t\\t\\n위 기사의 법적인 책임과 권한은 어린이동아에 있습니다. \\n< 저작권자 ⓒ 어린이동아, 무단 전재 및 재배포 금지 >\\n\\n\\n\\n\\n\\n\\n\\n\\n\\n\\n\\n\\n\\n\\n \\n\\n\\n\\r\\n\\t\\t\\t\\t(function(d,a,b,l,e,_) {\\r\\n\\t\\t\\t\\tif(d[b]&&d[b].q)return;d[b]=function(){(d[b].q=d[b].q||[]).push(arguments)};e=a.createElement(l);\\r\\n\\t\\t\\t\\te.async=1;e.charset='utf-8';e.src='//static.dable.io/dist/plugin.min.js';\\r\\n\\t\\t\\t\\t_=a.getElementsByTagName(l)[0];_.parentNode.insertBefore(e,_);\\r\\n\\t\\t\\t\\t})(window,document,'dable','script');\\r\\n\\t\\t\\t\\tdable('setService', 'kids.donga.com/enliple');\\r\\n\\t\\t\\t\\tdable('sendLogOnce');\\r\\n\\t\\t\\t\\tdable('renderWidget', 'dablewidget_OoRJvZoy', {ignore_items: true});\\r\\n\\t\\t\\t\\t\\n\\n\\n\\n\\n\\n\\n\\n\\n\\n\\n\\n\\r\\n\\t\\t\\t\\t\\t\\t\\t (adsbygoogle = window.adsbygoogle || []).push({});\\r\\n\\t\\t\\t\\t\\t\\t\\n\\n\\n\\n\\n\\n\\n\\n\\r\\n\\t\\t\\t\\t\\t\\t\\t (adsbygoogle = window.adsbygoogle || []).push({});\\r\\n\\t\\t\\t\\t\\t\\t\\n\\n\\n\\n\\n\""
            ]
          },
          "metadata": {},
          "execution_count": 258
        }
      ]
    },
    {
      "cell_type": "code",
      "source": [
        "content = content.split(\"▶어린이동아\")[0]\n",
        "re.sub(\"[\\xa0\\u200b\\n]\", \"\", content)"
      ],
      "metadata": {
        "colab": {
          "base_uri": "https://localhost:8080/",
          "height": 259
        },
        "id": "ogpmyqrkHiCn",
        "outputId": "a2fa4df5-af90-4e2d-9ca0-e837158213ee"
      },
      "execution_count": 259,
      "outputs": [
        {
          "output_type": "execute_result",
          "data": {
            "application/vnd.google.colaboratory.intrinsic+json": {
              "type": "string"
            },
            "text/plain": [
              "'스키점프대 옆에 선수의 기록을 알리는 오메가의 전광판이 설치된 모습. 오메가 홈페이지 캡처지난해 2020 도쿄 올림픽에서는 사상 최초로 육상 선수의 몸에 모션 센서(동작감지기)를 부착해 실시간 위치, 속도, 가속도(점점 더해지는 속도), 감속도(점점 줄어드는 속도)를 측정했다. 모션 센서를 개발한 것은 1932년부터 올림픽의 타임키퍼(시간 기록원)를 맡고 있는 스위스의 시계 브랜드인 ‘오메가’다.올림픽 경기 중계를 유심히 보다 보면 곳곳에서 ‘OMEGA(Ω)’라는 글자와 로고를 찾아볼 수 있다. 0.001초 차이로 승부가 결정되곤 하는 올림픽의 세계에서 오메가는 90년간 정밀한 시계 기술로 선수들의 기록을 측정해왔다. 이제 오메가는 단순히 기록을 재는 것을 넘어 경기력까지 분석하는 스마트 시스템을 갖췄다. 2022 베이징 올림픽에서도 타임키퍼로 나서는 오메가는 어떤 기술을 선보일까.피겨 선수 점프 높이 측정 ‘OK’오메가가 2022 베이징 겨울올림픽 피겨스케이팅 경기장에 카메라를 설치한 모습을 그린 그림고난도의 점프 기술과 섬세한 연기력을 모두 갖춰야 높은 점수를 받는 스포츠인 피겨스케이팅은 겨울올림픽의 ‘꽃’으로 불린다.베이징 올림픽에서는 피겨스케이팅 선수들의 점프 기술을 낱낱이 뜯어 볼 수 있게 됐다. 오메가는 선수들의 움직임과 위치를 파악하는 ‘모션 센서 및 포지셔닝 감지 시스템’을 피겨스케이팅에도 도입한다고 최근 밝혔다. 2018 평창 겨울올림픽에서 공식적으로 처음 도입된 모션 센서 및 포지셔닝 감지 시스템은 선수의 몸이나 운동기기 등에 부착해 움직임을 데이터화하는 기술을 말한다.이와 더불어 오메가는 빙상 경기장 주변에 설치한 6대의 카메라로 피겨스케이팅 싱글 경기 중 선수들의 점프 높이와 비거리, 체공(공중에 머물러 있음) 시간 같은 데이터를 실시간으로 측정한다. 데이터를 바탕으로 선수들은 자신의 경기방식을 다른 선수와 비교·분석할 수 있게 되고, 시청자들도 선수들의 동작을 자세히 이해하게 될 것으로 보인다.하키에선 특수 디스플레이 도입아이스하키 경기장에 설치될 특수 디스플레이에 시간이 표시된 모습을 그린 그림아이스하키는 빙판 위에서 긴 스틱으로 ‘퍽’이라고 불리는 고무로 된 납작한 원판을 쳐서 상대방의 골문에 넣어 점수를 올리는 종목이다. 최대 시속 170㎞로 빠르게 날아가는 퍽은 보는 이에게 박진감(생동감 있고 활기차서 현실적으로 느껴지는 것)을 선사한다.베이징 올림픽의 아이스하키 경기장에는 그동안 볼 수 없었던 한 면이 투명한 특수 디스플레이가 설치된다. 오메가는 링크 주변에 발광다이오드(LED)로 빛나는 디스플레이를 설치해 선수들이 경기 중에 경과 시간 및 페널티(심판이 규칙을 어긴 선수에 내리는 벌칙) 시간을 확인하게 한다고 밝혔다. 디스플레이는 두 개의 페널티 박스(아이스하키에서 반칙한 선수들의 대기 장소) 사이에 적용될 예정이다.올림픽 역사와 함께 해온 오메가오메가가 정확한 기록을 측정하기 위해 결승선에 도입한 최첨단 카메라오메가는 2022 베이징 대회를 포함하여 총 30회의 올림픽에 타임키퍼로 참여해왔다. 300여 명의 타임키퍼와 200t(톤)에 달하는 최첨단 장비를 중국 베이징으로 보낸 것으로 알려졌다.지난해 도쿄 올림픽에서 오메가는 체조 선수의 관절의 움직임까지 포착할 수 있는 포즈 감지 기술을 도입했다. 심사위원들이 빠르게 지나가 놓쳤던 선수들의 동작과 기술을 빠짐없이 화면을 통해 다시 볼 수 있어 객관적 평가를 가능하게 했다는 평가를 받는다.이처럼 인간의 눈이 아니라 발전한 과학 기술로 선수들의 기록을 측정하는 오메가는 2032년까지 타임키퍼로 활동하기로 국제올림픽위원회(IOC)와 계약했다. 향후 10년간 오메가가 보다 정확한 올림픽을 만들기 위해 어떤 신기술을 내놓을지 기대를 모은다.2022 베이징 겨울올림픽의 개막이 하루 앞으로 다가왔다. 세계인이 주목하는 스포츠 축제인 올림픽에서는 각국의 선수들이 뛰어난 기량을 겨룰 뿐 아니라 개최국과 참가국이 기술력을 과시하기도 한다. '"
            ]
          },
          "metadata": {},
          "execution_count": 259
        }
      ]
    },
    {
      "cell_type": "markdown",
      "source": [
        "## Full Web Crawler"
      ],
      "metadata": {
        "id": "U7SHSPRRDUju"
      }
    },
    {
      "cell_type": "code",
      "source": [
        "%%time\n",
        "\n",
        "import requests\n",
        "from bs4 import BeautifulSoup\n",
        "import re\n",
        "\n",
        "req = requests.get(\"http://kids.donga.com/?ptype=article&psub=news\")\n",
        "html = req.text\n",
        "soup = BeautifulSoup(html, \"html.parser\")\n",
        "\n",
        "article_titles = soup.select(\"dt > a\")\n",
        "\n",
        "data = []\n",
        "for title in article_titles:\n",
        "    json_data = {}\n",
        "    json_data[\"title\"] = title.text\n",
        "    json_data[\"href\"] = title.get(\"href\")\n",
        "\n",
        "    sub_req = requests.get(json_data[\"href\"])\n",
        "    sub_html = sub_req.text\n",
        "    sub_soup = BeautifulSoup(sub_html, \"html.parser\")\n",
        "    \n",
        "    writer = sub_soup.select_one(\"li.writer\").text\n",
        "    json_data[\"writer\"] = re.sub(\"\\W\", \"\", writer.split(\" \")[0])\n",
        "\n",
        "    json_data[\"upload_date\"] = sub_soup.select_one(\"li.upload_date\").text\n",
        "\n",
        "    content = sub_soup.select_one(\"div.at_content\").text\n",
        "    content = content.split(\"▶어린이동아\")[0]\n",
        "    content = re.sub(\"[\\xa0\\u200b\\n]\", \"\", content)\n",
        "    json_data[\"content\"] = content\n",
        "    \n",
        "    data.append(json_data)"
      ],
      "metadata": {
        "colab": {
          "base_uri": "https://localhost:8080/"
        },
        "id": "AkleIF3EDXvo",
        "outputId": "63b353c7-3406-4a7a-b000-354e2d0ae2cd"
      },
      "execution_count": 310,
      "outputs": [
        {
          "output_type": "stream",
          "name": "stdout",
          "text": [
            "CPU times: user 663 ms, sys: 17.4 ms, total: 680 ms\n",
            "Wall time: 10.3 s\n"
          ]
        }
      ]
    },
    {
      "cell_type": "code",
      "source": [
        "data"
      ],
      "metadata": {
        "colab": {
          "base_uri": "https://localhost:8080/"
        },
        "id": "LPtlL6XWHIg4",
        "outputId": "85a51c01-c40d-4533-f209-bd0b31039463"
      },
      "execution_count": 311,
      "outputs": [
        {
          "output_type": "execute_result",
          "data": {
            "text/plain": [
              "[{'content': '스키점프대 옆에 선수의 기록을 알리는 오메가의 전광판이 설치된 모습. 오메가 홈페이지 캡처지난해 2020 도쿄 올림픽에서는 사상 최초로 육상 선수의 몸에 모션 센서(동작감지기)를 부착해 실시간 위치, 속도, 가속도(점점 더해지는 속도), 감속도(점점 줄어드는 속도)를 측정했다. 모션 센서를 개발한 것은 1932년부터 올림픽의 타임키퍼(시간 기록원)를 맡고 있는 스위스의 시계 브랜드인 ‘오메가’다.올림픽 경기 중계를 유심히 보다 보면 곳곳에서 ‘OMEGA(Ω)’라는 글자와 로고를 찾아볼 수 있다. 0.001초 차이로 승부가 결정되곤 하는 올림픽의 세계에서 오메가는 90년간 정밀한 시계 기술로 선수들의 기록을 측정해왔다. 이제 오메가는 단순히 기록을 재는 것을 넘어 경기력까지 분석하는 스마트 시스템을 갖췄다. 2022 베이징 올림픽에서도 타임키퍼로 나서는 오메가는 어떤 기술을 선보일까.피겨 선수 점프 높이 측정 ‘OK’오메가가 2022 베이징 겨울올림픽 피겨스케이팅 경기장에 카메라를 설치한 모습을 그린 그림고난도의 점프 기술과 섬세한 연기력을 모두 갖춰야 높은 점수를 받는 스포츠인 피겨스케이팅은 겨울올림픽의 ‘꽃’으로 불린다.베이징 올림픽에서는 피겨스케이팅 선수들의 점프 기술을 낱낱이 뜯어 볼 수 있게 됐다. 오메가는 선수들의 움직임과 위치를 파악하는 ‘모션 센서 및 포지셔닝 감지 시스템’을 피겨스케이팅에도 도입한다고 최근 밝혔다. 2018 평창 겨울올림픽에서 공식적으로 처음 도입된 모션 센서 및 포지셔닝 감지 시스템은 선수의 몸이나 운동기기 등에 부착해 움직임을 데이터화하는 기술을 말한다.이와 더불어 오메가는 빙상 경기장 주변에 설치한 6대의 카메라로 피겨스케이팅 싱글 경기 중 선수들의 점프 높이와 비거리, 체공(공중에 머물러 있음) 시간 같은 데이터를 실시간으로 측정한다. 데이터를 바탕으로 선수들은 자신의 경기방식을 다른 선수와 비교·분석할 수 있게 되고, 시청자들도 선수들의 동작을 자세히 이해하게 될 것으로 보인다.하키에선 특수 디스플레이 도입아이스하키 경기장에 설치될 특수 디스플레이에 시간이 표시된 모습을 그린 그림아이스하키는 빙판 위에서 긴 스틱으로 ‘퍽’이라고 불리는 고무로 된 납작한 원판을 쳐서 상대방의 골문에 넣어 점수를 올리는 종목이다. 최대 시속 170㎞로 빠르게 날아가는 퍽은 보는 이에게 박진감(생동감 있고 활기차서 현실적으로 느껴지는 것)을 선사한다.베이징 올림픽의 아이스하키 경기장에는 그동안 볼 수 없었던 한 면이 투명한 특수 디스플레이가 설치된다. 오메가는 링크 주변에 발광다이오드(LED)로 빛나는 디스플레이를 설치해 선수들이 경기 중에 경과 시간 및 페널티(심판이 규칙을 어긴 선수에 내리는 벌칙) 시간을 확인하게 한다고 밝혔다. 디스플레이는 두 개의 페널티 박스(아이스하키에서 반칙한 선수들의 대기 장소) 사이에 적용될 예정이다.올림픽 역사와 함께 해온 오메가오메가가 정확한 기록을 측정하기 위해 결승선에 도입한 최첨단 카메라오메가는 2022 베이징 대회를 포함하여 총 30회의 올림픽에 타임키퍼로 참여해왔다. 300여 명의 타임키퍼와 200t(톤)에 달하는 최첨단 장비를 중국 베이징으로 보낸 것으로 알려졌다.지난해 도쿄 올림픽에서 오메가는 체조 선수의 관절의 움직임까지 포착할 수 있는 포즈 감지 기술을 도입했다. 심사위원들이 빠르게 지나가 놓쳤던 선수들의 동작과 기술을 빠짐없이 화면을 통해 다시 볼 수 있어 객관적 평가를 가능하게 했다는 평가를 받는다.이처럼 인간의 눈이 아니라 발전한 과학 기술로 선수들의 기록을 측정하는 오메가는 2032년까지 타임키퍼로 활동하기로 국제올림픽위원회(IOC)와 계약했다. 향후 10년간 오메가가 보다 정확한 올림픽을 만들기 위해 어떤 신기술을 내놓을지 기대를 모은다.2022 베이징 겨울올림픽의 개막이 하루 앞으로 다가왔다. 세계인이 주목하는 스포츠 축제인 올림픽에서는 각국의 선수들이 뛰어난 기량을 겨룰 뿐 아니라 개최국과 참가국이 기술력을 과시하기도 한다. ',\n",
              "  'href': 'https://kids.donga.com?ptype=article&no=20220202124700920857&psub=news&gbn=01',\n",
              "  'title': '2022 베이징 올림픽의 타임키퍼 ‘오메가’의 기술은?...',\n",
              "  'upload_date': '2022-02-02 12:47:00',\n",
              "  'writer': '장진희'},\n",
              " {'content': '사진 보정 앱을 사용하고 있는 모습. BBC 홈페이지 캡처[오늘의 키워드] 소셜네트워크서비스(SNS)인터넷상에서 이용자들이 인적 네트워크를 형성해 서로 소통할 수 있도록 하는 서비스를 뜻한다. 트위터, 페이스북, 인스타그램이 대표적이다. 최근에는 SNS를 통해 자신의 일상을 공유하고 다른 이들과 원활한 소통을 하며 사회적 관계를 맺는 이들이 많다.영국에서 소셜네트워크서비스(SNS)에 신체 사진을 올릴 때 보정한 사진일 경우 보정 유무를 의무적으로 고지하는 법안이 발의됐다.영국 BBC 등 외신은 루크 에반스 영국 보수당 하원 의원이 ‘디지털상 변형된 신체 이미지(Digitally Altered Images Bill)’ 법안을 발의했다고 최근 보도했다. 이 법안은 인플루언서(SNS에서 대중에게 영향을 미치는 이들)들이 SNS에 게재하는 광고 사진 가운데 신체가 드러나는 사진에 적용된다. 신체가 보이는 사진에 보정 애플리케이션(앱) 등을 이용해 사진 보정을 했다면 SNS에 올릴 때 보정 사실을 의무적으로 알려야 한다는 것이 핵심이다.의사 출신인 루크 에반스 의원은 “비현실적인 몸을 원하고 이에 이르지 못하면 불안과 우울을 겪는 젊은이들이 많다”면서 “보정된 사진 등을 보며 섭식 장애(비정상적으로 음식을 섭취하는 증상)를 겪는 이들도 늘어나고 있어 이를 막기 위해 법안을 마련했다”고 밝혔다. 외모지상주의(외모에 가치의 중심을 두는 사고방식) 등을 제재할 조치가 필요하다는 것. 앞서 지난해 노르웨이에서도 인플루언서들의 광고글에는 보정 사실을 알려야 한다는 내용을 담은 마케팅법 개정안이 통과된 바 있다.해당 법안이 발의된 것을 두고 찬반 의견이 나온다. 이 법안을 찬성하는 측은 SNS 상에서 보이는 완벽한 외모를 기준으로 하는 이들의 외모 강박(심리적으로 심하게 압박을 느낌)을 해소하는 데 법안이 도움이 된다는 주장이다. 보정 유무를 표시하면 허위 광고 등을 잡아낼 수 있다는 것이다.반면 이 법안에 반대하는 이들은 개인이 운영하는 SNS에서 보정 유무를 의무적으로 고지하는 것은 개인의 자유를 해친다고 지적한다. 보정 유무의 판단 기준 역시 명확한 기준이 없어 법의 실효성(실제로 효과를 나타내는 성질)도 떨어진다는 지적이다. ▶어동이 나는 ‘디지털상 변형된 신체 이미지’ 법에 찬성해. 최근에는 SNS를 이용하는 사람들이 많고 이를 통해 필요한 물건 등을 구매하는 이들도 많아. 상황이 이런 만큼 SNS에서 유명한 인플루언서들은 영향력도 엄청나지. 그런데 이들이 과하게 보정된 신체 사진으로 어떠한 물건을 광고하게 되면 이들을 선망하는 사람들은 그 물건을 무분별하게 구매하게 될 거야. 또 비현실적인 외모에 대한 환상이 커져 무리한 다이어트를 할 가능성도 높아져. 보정 유무를 의무적으로 알리면 합리적인 소비를 도울 뿐만 아니라 외모에 대한 강박도 줄어들 것으로 보여.▶어솜이 나는 ‘디지털상 변형된 신체 이미지’ 법에 반대해. SNS는 개인이 원하는 사진을 자유롭게 올릴 수 있는 공간이야. 어떤 사진을 올리든 그건 올리는 사람의 자유 아닐까? 이를 제재하는 법안을 만드는 것은 개인의 자유를 해치는 행위와 같아. 그리고 모든 사람들은 자신의 모습을 아름답게 보이게 하고 싶은 욕구가 있는데, 이를 막는 것은 바람직하지 못하다고 생각해. 또 보정을 했는지, 하지 않았는지 확인할 수 있는 기준이 모호해. 이 법이 시행되면 혼란을 불러일으킬 가능성이 커.※ 어동이와 어솜이의 주장 중 누구의 주장에 동의하나요? 내 생각을 2월 17일(목)까지 어린이동아 온라인 카페(cafe.naver.com/kidsdonga)의 ‘어동 찬반토론’ 게시판에 올려주세요. 가장 논리적으로 주장을 편 어린이들의 의견을 뽑아 지면에 소개합니다. ',\n",
              "  'href': 'https://kids.donga.com?ptype=article&no=20220202123848709079&psub=news&gbn=01',\n",
              "  'title': '[뉴스쏙 시사쑥] 영국에서 SNS 사진 ‘보정 유무 표기’ 법안...',\n",
              "  'upload_date': '2022-02-02 12:38:00',\n",
              "  'writer': '권세희'},\n",
              " {'content': '일본 니가타현 사도시 ‘아이카와 금은산’의 에도시대 갱도(광산의 갱 안에 뚫어 놓은 길) 내부를 재현한 전시물. 동아일보 자료사진일본 정부가 일제강점기(일제가 1910년 우리나라의 국권을 강탈한 이후 1945년 우리나라가 해방되기까지 35년간의 시대) 조선인 강제 노역(몹시 괴롭고 힘들게 일함) 현장이었던 ‘사도광산’을 유네스코(UNESCO) 세계문화유산으로 추천하기로 결정하면서 우리나라와 일본 사이에 격렬한 갈등이 이어질 것으로 보인다. 사도광산은 일본 중부 니가타현 사도시에 있는 광산으로 과거 일본의 대표적인 금 생산지였다.교도통신 등 외신은 일본 정부가 1일 열린 각의(내각회의)에서 사도광산을 유네스코 세계문화유산으로 추천한다는 방침을 결정했다고 최근 보도했다. 앞서 기시다 후미오 일본 총리는 사도광산을 2023년 유네스코 세계문화유산에 등재(일정한 사항을 장부나 대장에 올림)하는 것을 목표로 사도광산을 세계유산으로 추천한다는 방침을 지난달 28일 발표한 바 있다.일본이 사도광산을 세계유산으로 추천하면서 이를 둘러싸고 우리나라와의 역사 논쟁이 벌어질 것으로 보인다. 사도광산은 일제강점기 다수의 조선인 노동자가 동원돼 가혹한 노역을 하도록 강요받은 곳이기 때문. 일본은 이 사실을 인정하지 않고 일제강점기 역사를 제외하고 ‘에도시대(1603년∼1867년)’로만 한정해 세계유산으로 등재하려 하고 있다.이에 우리나라 외교부는 “강제 노역 피해 현장인 ‘사도광산’을 유네스코 세계유산으로 등재하고 추진키로 결정한 데 대해 강한 유감을 표명한다”면서 “이러한 시도를 중단할 것을 엄중히 촉구한다”고 밝혔다.사도광산의 세계유산 등재 여부는 유네스코 자문기관인 국제기념물유적회의(ICOMOS) 등이 현지 조사 등을 실시하고 심사를 거쳐 내년 6∼7월 결정될 예정이다. ',\n",
              "  'href': 'https://kids.donga.com?ptype=article&no=20220202123358514117&psub=news&gbn=01',\n",
              "  'title': '[뉴스 브리핑] 일본, ‘사도광산’ 세계유산 추천 결정',\n",
              "  'upload_date': '2022-02-02 12:33:00',\n",
              "  'writer': '권세희'},\n",
              " {'content': '월드컵 10회 연속 진출을 확정한 우리나라 대표팀 선수들과 코칭 스태프가 기념촬영을 하고 있다. 두바이=뉴시스1일 열린 시리아와의 경기에서 추가골을 터뜨린 권창훈(맨 왼쪽)이 엄지를 치켜세우며 동료들과 기뻐하고 있다우리나라 축구가 10회 연속 월드컵 본선 진출이라는 위업(위대한 업적)을 달성했다. 올해로 22회째를 맞는 월드컵에서 10회 연속으로 월드컵 본선 진출을 이룬 나라는 우리나라를 포함해 세계에서 6개 나라뿐이다.파울루 벤투(포르투갈) 감독이 이끄는 우리나라 축구대표팀은 1일(현지시간) 아랍에미리트(UAE) 두바이의 라시드 스타디움에서 열린 2022 국제축구연맹(FIFA) 카타르 월드컵 아시아 지역 최종예선 8차전 시리아와의 경기에서 김진수(30·전북 현대)와 권창훈(28·김천 상무)의 연속골에 힘입어 2대0으로 승리했다. 이로써 최종예선에서 패배 없이 6승 2무를 기록한 우리나라는 남은 예선 2경기 결과에 상관없이 월드컵 본선 진출을 확정지었다. 2개조로 나뉘어 치러지는 아시아 지역 최종예선에선 각 조의 1, 2위 국가가 본선에 직행(바로 감)하는데, 우리나라는 현재 A조 2위에 올라있다.우리나라는 1986년 멕시코에서 열린 월드컵 본선 대회부터 시작해 올해 카타르에서 열릴 월드컵까지 10회 연속으로 본선 무대를 밟는다. 월드컵 본선 대회에 10회 연속 이상 진출한 나라는 우리나라를 제외하고 전 세계에서 브라질, 독일, 이탈리아, 아르헨티나, 스페인뿐이다.아울러 우리나라는 카타르 월드컵 본선 진출을 확정한 15번째 국가가 됐다. 개최국 카타르를 비롯해 스페인, 프랑스, 네덜란드, 잉글랜드, 독일, 브라질, 아르헨티나 등이 우리나라보다 앞서 카타르 월드컵 본선 진출을 확정지었다.[한 뼘 더] 11월, 카타르를 달굴 축구 열기!2022 FIFA 카타르 월드컵은 아랍권에서 처음 열리는 월드컵! 올해 11월 21일부터 12월 18일까지 카타르의 수도 도하를 비롯한 5개 도시에서 열려요. 월드컵이 11월에 개막하는 것은 이번이 처음. 과거엔 6월에 열렸지만 이 시기 카타르의 기온이 40도를 넘어 11월로 개최 시기가 변경됐지요.본선에는 전 세계 32개국이 참가해 실력을 겨루는데요. 본선 조 추첨은 4월 1일 카타르 도하에서 진행될 예정이랍니다. ',\n",
              "  'href': 'https://kids.donga.com?ptype=article&no=20220202120934178503&psub=news&gbn=01',\n",
              "  'title': '[오늘의 뉴스] 한국 축구, 10회 연속 월드컵 본선 진출 위...',\n",
              "  'upload_date': '2022-02-02 12:09:00',\n",
              "  'writer': '김재성'},\n",
              " {'content': 'Youth activists and Buddhist monks participate in an anti-military government protest rally while holding a banner that reads in Burmese, \"Who dares to stay on the opposite side of the people\\'s will,\" on Tuesday, Feb. 1, 2022, in Mandalay, Myanmar. Mandalay=AP뉴시스>> 1일 *미얀마 만달레이. 청년 활동가와 불교 승려들이 “누가 감히 민중의 뜻에 반대하는 편에 설 수 있는가”라고 버마어로 적힌 현수막을 들고 군부 정부에 반대하는 시위에 참가하고 있다.*미얀마 쿠데타(무력으로 정권을 빼앗는 일)가 발발(큰 사건이 갑자기 일어남) 1년을 맞았다. 지난해 2월 1일 미얀마 군부(군사에 관한 일을 총괄하는 군의 핵심 세력)는 쿠데타를 일으키고, 미얀마의 민주화를 이끈 인물인 아웅산 수지 국가고문을 감금했다. 미얀마 국민들은 이에 굴하지 않고 민주화를 열망하며 쿠데타에 저항하는 시위를 목숨을 걸고 1년째 이어가고 있다.이날 미얀마 쿠데타 발발 1주년을 맞아 미얀마 곳곳에서는 기습적인 반 군정(국가의 실권을 장악한 군부) 시위가 진행됐고, 국제사회는 폭력을 중단하라고 미얀마 군정에 촉구했다. ',\n",
              "  'href': 'https://kids.donga.com?ptype=article&no=20220202120612605158&psub=news&gbn=01',\n",
              "  'title': '[월드 뉴스] 미얀마 쿠데타 1년… 여전히 이어지는 시위',\n",
              "  'upload_date': '2022-02-02 12:06:00',\n",
              "  'writer': '김재성'},\n",
              " {'content': '에어요트가 물 위에 떠 있는 모습(위)과 하늘을 날고 있는 모습을 그린 가상도. CNN 홈페이지 캡처바다에 둥둥 떠다니다가 하늘을 향해 날아오를 수 있는 요트. 영화에서나 볼 법한 요트를 현실에서 볼 수 있을지도 모른다.최근 미국 CNN 방송 등 외신은 “이탈리아의 라자리니 디자인 스튜디오가 하늘을 나는 요트인 ‘에어요트(Air Yacht)’의 이미지를 공개했다”고 보도했다. 가벼우면서도 튼튼한 탄소 섬유 소재로 만들어진 에어요트는 가운데 船體가 있고, 80m 길이의 船體 양쪽에 방망이 모양의 150m 길이 구조물을 갖춘 모습이 특징. 양쪽 구조물에는 공기보다 가벼운 가스인 헬륨이 압축돼 있어 거대한 船體 가 뜰 수 있도록 돕는다. CNN은 “태양광 에너지와 초경량 배터리를 동력으로 삼아 비행선은 시속 약 110㎞로 48시간 동안 하늘을 날 수 있고, 물 위에서는 시속 약 10㎞로 이동한다”고 밝혔다.비행선 중앙 船體 에 식당, 수영장 등의 시설이 있으며 승객들은 船體 와 양쪽의 구조물 사이를 연결하는 4개의 다리를 통해 내부를 자유롭게 오갈 수 있다.개발사는 이 비행선을 대중교통이나 관광 목적으로 개발하기보다는 개인적으로 소유하고 싶은 사람들을 대상으로 판매하고자 한다. 판매 가격은 5억5000만 유로(약 7465억 원)로 추정하고 있다. 라자리니 측 관계자는 “실제로 개발하는 데 5년이 걸릴 것으로 예상되지만 한 개인 투자자의 지원으로 24m 길이의 시제품을 개발 중”이라고 밝혔다.  ',\n",
              "  'href': 'https://kids.donga.com?ptype=article&no=20220202120507717054&psub=news&gbn=01',\n",
              "  'title': '[한자뉴스] 하늘을 나는 요트… 약 7465억 원',\n",
              "  'upload_date': '2022-02-02 12:05:00',\n",
              "  'writer': '김재성'},\n",
              " {'content': '나이키의 디자이너가 된 영국의 조 웨일이 자신의 그림 앞에서 포즈를 취하고 있다.인스타그램 캡처수업 시간에 낙서를 한다고 선생님께 혼났던 영국의 어린이가 세계적 스포츠 브랜드인 나이키의 디자이너가 됐다.영국 BBC, 미국 CNN 등에 따르면 라인 드로잉 작품을 소셜네트워크서비스(SNS)에서 선보여 온 12세 영국 소년인 조 웨일이 최근 나이키와 계약을 맺고 공동 크리에이터로 활동하게 됐다. 라인 드로잉은 주로 선을 이용해 형태를 표현하는 기법을 말한다. 웨일은 온라인에서 나이키를 홍보하며 어린이의 창의적인 활동을 격려할 예정이다.웨일은 ‘the doodle boy(낙서하는 소년)’이라는 인스타그램 계정을 통해 자신의 작품을 게시해왔다. 주로 외계인, 괴물, 음식을 주제로 한 그림을 그린다고 웨일은 밝혔다. 현재 12만 명가량의 팔로워를 가진 웨일은 지난해 그가 태어나고 자란 마을인 영국의 슈루즈베리에 있는 미술관에서 첫 개인전을 열기도 했다. 올해 말에는 어린이를 위한 그림책도 출간한다.어엿한 작가로 활발히 활동 중인 웨일이 처음부터 칭찬을 받은 것은 아니었다. 수업에 집중하지 못하고 낙서를 많이 한다고 꾸중을 듣기도 했던 것. 방과 후 교실에서 만난 선생님의 제안으로 온라인에 그림을 올리며 관심을 모으기 시작한 웨일은 영국 윌리엄 왕자 부부의 기차 여행을 그림으로 기록해 인정받았다.웨일은 나이키와의 계약에 대해 “내 꿈 중 하나가 이뤄졌다”면서 “이제껏 스스로에게 좋아하는 일을 하라고 말해왔는데 그게 낙서였다”고 말했다.[한 뼘 더] 운동화 디자이너가 돼보자!웨일은 나이키 운동화에 그림을 그려 세상에 하나뿐인 자신만의 신발을 만들어 주목받았어요. 내가 운동화 디자이너라면 어떤 신발을 만들고 싶은지 아래에 그려보아요. ',\n",
              "  'href': 'https://kids.donga.com?ptype=article&no=20220127140638502004&psub=news&gbn=01',\n",
              "  'title': '[오늘의 뉴스] 낙서한다고 혼났던 영국 소년, 나이키 디자이너...',\n",
              "  'upload_date': '2022-01-27 14:06:00',\n",
              "  'writer': '장진희'},\n",
              " {'content': '“설날에 만나지 못해 계좌 이체로 미리 세뱃돈을 받았어요.”경기 하남시에 거주하는 초등 3학년 A 양은 설 연휴를 앞두고 외숙모에게 세뱃돈을 비대면 방식으로 송금 받았다. A 양은 “용돈 말고도 외숙모가 온라인 쇼핑몰에서 주문하신 선물을 배송받기도 했다”며 “코로나19 확산으로 친척들을 만나지 못하는 것은 아쉽지만 새해 인사를 전하고 간편하게 세뱃돈을 받을 수 있어서 다행”이라고 말했다.전파력이 높은 코로나19 오미크론 변이의 유행으로 일일 신규 확진자가 급증하면서 올해 설 연휴도 가족 모임 및 고향 방문을 자제해야 하는 분위기다. 만날 순 없지만 계좌 이체 또는 모바일 애플리케이션(앱)을 통한 간편 송금 등의 방식으로 세뱃돈을 주고받는 문화가 활성화되고 있다.만날 순 없어도 세뱃돈은 ‘간편 송금’설날 아침, 설빔(설에 입는 새 옷)을 차려 입은 어린이들이 어른에 세배를 한 뒤 세뱃돈을 받는 문화는 약 100년 전부터 시작됐다. ‘세배에 대한 답례로 돈을 줬다’는 기록은 최영년의 시집 ‘해동죽지’(1925)에 처음 나온다.코로나19 확산으로 세뱃돈을 주고받는 풍경도 바뀌었다. 직접 만나긴 어렵지만 필요한 물건을 사거나 저축하라고 세뱃돈을 송금하는 경우가 늘고 있는 것. 카카오톡 채팅방에서 메시지를 보내듯 간편하게 현금을 주고받는 송금 서비스를 운영하는 카카오페이에 따르면 지난해 설 연휴 기간(2월 10일~2월 14일) 카카오페이 송금 서비스 이용량은 코로나19 이전과 비교해 급증했다. 지난해 2월 10일~2월 14일 ‘설날’ 송금봉투로 송금된 금액은 코로나19 확산 전인 2019년 설 연휴(2월 2일~2월 6일) 대비 442.4% 증가했고, ‘설날’ 송금봉투 이용량은 271% 증가했다.올해 카카오페이는 설날에 어른들이 정갈한 봉투에 지폐를 넣어서 어린이에게 나눠주는 상황을 온라인에서도 연출하기 위해 ‘세배돈많이’ ‘새해복많이’ 등이 적힌 세뱃돈 전용 봉투가 보이게 하는 서비스를 운영한다.지난 24일 서울 한국은행 강남본부에서 관계자들이 설 명절을 앞두고 방출되는 자금을 호송차에 싣고 있다.뉴시스코로나19로 화폐공급 감소 전망설날이나 추석 같은 명절에는 세뱃돈 지급 등으로 현금 사용량이 늘어난다. 이에 우리나라의 중앙은행인 한국은행은 일반적으로 명절 전에 평소보다 더 많은 화폐를 금융기관에 공급해왔다. 하지만 코로나19 확산 이후 대면해서 세뱃돈을 받는 경우보다 계좌이체나 간편 송금으로 받는 사례가 늘어나는 추세다. 25일 한국은행 발권기획팀에 따르면 올해 설 연휴 전에는 화폐공급 규모가 코로나19 확산 전에 비해 줄어들 것으로 보인다.화폐를 한꺼번에 많이 공급하기 위해 한국은행은 신권을 추가로 발행하거나 회수된 화폐 중 지저분한 것을 세척하고 훼손된 것은 폐기하는 과정을 거친다. 그런데 돈을 만들기 위해서도 돈이 든다. 한국은행에 따르면 2016~2020년 새로운 지폐를 제조하는 데 매년 평균 800억 원 이상이 들었다. 빳빳한 신권을 세뱃돈으로 주고받기를 선호하는 사람이 많을수록 사회적 비용이 증가하게 되는 것.지난해 상반기에 폐기된 2억2310만 장의 화폐를 쌓아 올리면 에베레스트 산의 11배 높이에 이른다. 세뱃돈을 현금으로 받았다면 꼬깃꼬깃 접거나 구기지 말고 지갑에 넣어 보관해야 하고, 지폐에 낙서를 해서도 안 된다.주식 투자 한다면, 장기적으로손주나 자녀에 세뱃돈을 주는 대신 주식을 선물하는 방식에 관심을 갖는 부모님과 조부모님이 늘어나는 추세다. 주식 투자를 교육하기 위한 목적이 크다. A 양은 “외할머니께 주식을 받기 위해 부모님의 동의를 받아 최근에 주식 계좌를 개설했다”며 “주식을 보유하면 주주가 되어 특정 회사의 주인이 되는 것이라고 배웠다”고 말했다.이창민 KB증권 WM스타자문단 차장은 세뱃돈으로 주식 구매를 하려는 어린이들에게 “적은 돈으로 큰 돈을 만들겠다는 생각으로 접근하기보다는 장기적으로 투자해 ‘복리효과’를 노려보는 것이 바람직하다”고 조언했다. 복리효과란 투자 기간이 늘수록 작은 투자금에 가속도가 생겨 빠르게 돈이 불어나는 효과를 말한다.미성년자는 부모님과 함께 증권사 지점에 직접 방문해야 주식 계좌를 개설할 수 있다. 증권사들은 만 19세 미만의 경우 △부모님 신분증 △가족관계증명서 △기본증명서 △본인 도장을 모두 갖춰 영업점에 방문해야 주식 계좌를 개설할 수 있다고 안내한다. ',\n",
              "  'href': 'https://kids.donga.com?ptype=article&no=20220127140401622425&psub=news&gbn=01',\n",
              "  'title': '‘띵동~!’ 세뱃돈도 메시지로… 코로나가 바꾼 ‘세뱃돈...',\n",
              "  'upload_date': '2022-01-27 14:04:00',\n",
              "  'writer': '장진희'},\n",
              " {'content': \"School children perform with a model of the coronavirus during India's Republic Day celebrations in Jammu, India, Wednesday, Jan. 26, 2022. The day marks the anniversary of the adoption of the country's constitution in 1950. Jammu=AP뉴시스>> 26일 인도 잠무. *인도 공화국의 날 기념 행사가 진행되는 동안 학교 아이들이 코로나바이러스 모형과 함께 공연하고 있다. 이 날은 1950년 국가의 헌법이 채택된 것을 기념한다.*인도의 헌법을 채택하고 공화국이 된 1950년 1월 26일을 기념하는 날로 인도 최대의 국경일이다. 이날 인도에선 대규모 행진이 벌어지는 등 축하 행사가 열린다. 군인들이 행진하고, 첨단 무기가 선보이는 한편 인도 내 문화와 역사를 상징하는 다양한 군무(무리지어 추는 춤)도 펼쳐진다. \",\n",
              "  'href': 'https://kids.donga.com?ptype=article&no=20220127124809984229&psub=news&gbn=01',\n",
              "  'title': '[월드 뉴스] 인도 공화국의 날, 코로나 종식 기원 퍼포먼스',\n",
              "  'upload_date': '2022-01-27 12:48:00',\n",
              "  'writer': '김재성'},\n",
              " {'content': '지난해 7월 경기 용인시에 있는 곰 사육 농가 사육장의 곰. 뉴시스 자료사진1980년대부터 熊膽 채취 등을 목적으로 국내에서 행해지던 ‘곰 사육’이 2026년부터 전면 금지된다. 환경부는 사육곰협회, 4개 시민단체, 전남 구례군, 충남 서천군과 함께 2026년부터 곰 사육을 전면 금지하는 협약을 체결했다고 26일 밝혔다. 곰 사육 종식(끝나거나 없어짐)은 우리나라가 국제적인 멸종위기종 보호에 책임과 역할을 다한다는 점에서 의미가 크다. 환경부는 이날 협약을 바탕으로 국회와 협의해 ‘곰 사육 금지 및 보호에 관한 특별법(가칭)’ 제정도 추진한다.사육 곰은 1981년부터 1985년까지 농가 소득을 높일 목적으로 수입되기 시작했다. 지난 40년간 국제적 멸종위기종인 곰의 熊膽을 채취하기 위해 곰을 열악한 사육환경에서 방치하는 등의 행위로 국제동물보호단체 등의 비난이 끊이지 않았다.그간 사육 곰을 불법으로 증식(늘어서 많아짐)하는 행위에 대한 처벌을 강화하는 등의 노력에도 불구하고, 사육 곰이 사유재산인 관계로 정부의 개입을 통한 문제 해결에는 한계가 있었다. 지난해 12월 31일 기준으로 총 24개 농가에서 곰 360마리가 사육되고 있는 것으로 파악됐다. 이에 환경부는 지난해 8월부터 정부, 농가, 시민사회, 전문가가 참여하는 민관협의체를 구성해 곰 사육을 끝내는 방안에 대해 논의했으며 결국 종식에 합의한 것.환경부는 “좁은 철창 안에서 사육되던 사육 곰의 고통을 더 이상 외면할 수 없다는 데 모두 공감하고, 민간이 함께 노력한 결과”라고 밝혔다.  ',\n",
              "  'href': 'https://kids.donga.com?ptype=article&no=20220127124637361652&psub=news&gbn=01',\n",
              "  'title': '[뉴스 브리핑] 곰 사육, 40년 만에 끝… 2026년부터 금...',\n",
              "  'upload_date': '2022-01-27 12:46:00',\n",
              "  'writer': '김재성'}]"
            ]
          },
          "metadata": {},
          "execution_count": 311
        }
      ]
    },
    {
      "cell_type": "code",
      "source": [
        "data[3][\"content\"]"
      ],
      "metadata": {
        "colab": {
          "base_uri": "https://localhost:8080/",
          "height": 157
        },
        "id": "z6XnYpilLELj",
        "outputId": "b302cf7e-63b5-466a-924e-6366e793f23d"
      },
      "execution_count": 313,
      "outputs": [
        {
          "output_type": "execute_result",
          "data": {
            "application/vnd.google.colaboratory.intrinsic+json": {
              "type": "string"
            },
            "text/plain": [
              "'월드컵 10회 연속 진출을 확정한 우리나라 대표팀 선수들과 코칭 스태프가 기념촬영을 하고 있다. 두바이=뉴시스1일 열린 시리아와의 경기에서 추가골을 터뜨린 권창훈(맨 왼쪽)이 엄지를 치켜세우며 동료들과 기뻐하고 있다우리나라 축구가 10회 연속 월드컵 본선 진출이라는 위업(위대한 업적)을 달성했다. 올해로 22회째를 맞는 월드컵에서 10회 연속으로 월드컵 본선 진출을 이룬 나라는 우리나라를 포함해 세계에서 6개 나라뿐이다.파울루 벤투(포르투갈) 감독이 이끄는 우리나라 축구대표팀은 1일(현지시간) 아랍에미리트(UAE) 두바이의 라시드 스타디움에서 열린 2022 국제축구연맹(FIFA) 카타르 월드컵 아시아 지역 최종예선 8차전 시리아와의 경기에서 김진수(30·전북 현대)와 권창훈(28·김천 상무)의 연속골에 힘입어 2대0으로 승리했다. 이로써 최종예선에서 패배 없이 6승 2무를 기록한 우리나라는 남은 예선 2경기 결과에 상관없이 월드컵 본선 진출을 확정지었다. 2개조로 나뉘어 치러지는 아시아 지역 최종예선에선 각 조의 1, 2위 국가가 본선에 직행(바로 감)하는데, 우리나라는 현재 A조 2위에 올라있다.우리나라는 1986년 멕시코에서 열린 월드컵 본선 대회부터 시작해 올해 카타르에서 열릴 월드컵까지 10회 연속으로 본선 무대를 밟는다. 월드컵 본선 대회에 10회 연속 이상 진출한 나라는 우리나라를 제외하고 전 세계에서 브라질, 독일, 이탈리아, 아르헨티나, 스페인뿐이다.아울러 우리나라는 카타르 월드컵 본선 진출을 확정한 15번째 국가가 됐다. 개최국 카타르를 비롯해 스페인, 프랑스, 네덜란드, 잉글랜드, 독일, 브라질, 아르헨티나 등이 우리나라보다 앞서 카타르 월드컵 본선 진출을 확정지었다.[한 뼘 더] 11월, 카타르를 달굴 축구 열기!2022 FIFA 카타르 월드컵은 아랍권에서 처음 열리는 월드컵! 올해 11월 21일부터 12월 18일까지 카타르의 수도 도하를 비롯한 5개 도시에서 열려요. 월드컵이 11월에 개막하는 것은 이번이 처음. 과거엔 6월에 열렸지만 이 시기 카타르의 기온이 40도를 넘어 11월로 개최 시기가 변경됐지요.본선에는 전 세계 32개국이 참가해 실력을 겨루는데요. 본선 조 추첨은 4월 1일 카타르 도하에서 진행될 예정이랍니다. '"
            ]
          },
          "metadata": {},
          "execution_count": 313
        }
      ]
    },
    {
      "cell_type": "markdown",
      "source": [
        "## 해결 과제\n",
        "1. 이미지 참조 글과 기사가 붙음\n",
        "2. unicode 공백 문자\n",
        "3. 날짜 별/페이지 별 크롤링 자동화"
      ],
      "metadata": {
        "id": "O4dxFUBGRrDq"
      }
    },
    {
      "cell_type": "markdown",
      "source": [
        "body > div.wrap_all > div.content > div.page_area > div.article_list > ul > li:nth-child(5) > dl > dd:nth-child(3)"
      ],
      "metadata": {
        "id": "ytIpzsQNTrD0"
      }
    },
    {
      "cell_type": "markdown",
      "source": [
        "### 날짜 별/페이지 별 크롤링 자동화"
      ],
      "metadata": {
        "id": "SORkrru4Wuqp"
      }
    },
    {
      "cell_type": "code",
      "source": [
        "article_titles"
      ],
      "metadata": {
        "colab": {
          "base_uri": "https://localhost:8080/"
        },
        "id": "vPPlKQSYSrrQ",
        "outputId": "baaeb74b-5d5c-4333-fb59-38153402d2bf"
      },
      "execution_count": 348,
      "outputs": [
        {
          "output_type": "execute_result",
          "data": {
            "text/plain": [
              "[<a href=\"https://kids.donga.com?ptype=article&amp;no=20220202124700920857&amp;psub=news&amp;gbn=01\">2022 베이징 올림픽의 타임키퍼 ‘오메가’의 기술은?...</a>,\n",
              " <a href=\"https://kids.donga.com?ptype=article&amp;no=20220202123848709079&amp;psub=news&amp;gbn=01\">[뉴스쏙 시사쑥] 영국에서 SNS 사진 ‘보정 유무 표기’ 법안...</a>,\n",
              " <a href=\"https://kids.donga.com?ptype=article&amp;no=20220202123358514117&amp;psub=news&amp;gbn=01\">[뉴스 브리핑] 일본, ‘사도광산’ 세계유산 추천 결정</a>,\n",
              " <a href=\"https://kids.donga.com?ptype=article&amp;no=20220202120934178503&amp;psub=news&amp;gbn=01\">[오늘의 뉴스] 한국 축구, 10회 연속 월드컵 본선 진출 위...</a>,\n",
              " <a href=\"https://kids.donga.com?ptype=article&amp;no=20220202120612605158&amp;psub=news&amp;gbn=01\">[월드 뉴스] 미얀마 쿠데타 1년… 여전히 이어지는 시위</a>,\n",
              " <a href=\"https://kids.donga.com?ptype=article&amp;no=20220202120507717054&amp;psub=news&amp;gbn=01\">[한자뉴스] 하늘을 나는 요트… 약 7465억 원</a>,\n",
              " <a href=\"https://kids.donga.com?ptype=article&amp;no=20220127140638502004&amp;psub=news&amp;gbn=01\">[오늘의 뉴스] 낙서한다고 혼났던 영국 소년, 나이키 디자이너...</a>,\n",
              " <a href=\"https://kids.donga.com?ptype=article&amp;no=20220127140401622425&amp;psub=news&amp;gbn=01\">‘띵동~!’ 세뱃돈도 메시지로… 코로나가 바꾼 ‘세뱃돈...</a>,\n",
              " <a href=\"https://kids.donga.com?ptype=article&amp;no=20220127124809984229&amp;psub=news&amp;gbn=01\">[월드 뉴스] 인도 공화국의 날, 코로나 종식 기원 퍼포먼스</a>,\n",
              " <a href=\"https://kids.donga.com?ptype=article&amp;no=20220127124637361652&amp;psub=news&amp;gbn=01\">[뉴스 브리핑] 곰 사육, 40년 만에 끝… 2026년부터 금...</a>]"
            ]
          },
          "metadata": {},
          "execution_count": 348
        }
      ]
    },
    {
      "cell_type": "code",
      "source": [
        "from datetime import datetime\n",
        "\n",
        "today = datetime.today().strftime(\"%Y%m%d\")\n",
        "today"
      ],
      "metadata": {
        "id": "BBIkXCzmVuja",
        "outputId": "96dc5e06-d9af-41f3-a598-5c2d425c0c7b",
        "colab": {
          "base_uri": "https://localhost:8080/",
          "height": 37
        }
      },
      "execution_count": 356,
      "outputs": [
        {
          "output_type": "execute_result",
          "data": {
            "application/vnd.google.colaboratory.intrinsic+json": {
              "type": "string"
            },
            "text/plain": [
              "'20220202'"
            ]
          },
          "metadata": {},
          "execution_count": 356
        }
      ]
    },
    {
      "cell_type": "code",
      "source": [
        "today_article = [i for i in article_titles if today in i.get(\"href\")]\n",
        "today_article"
      ],
      "metadata": {
        "id": "LmSgz0MKV96e",
        "outputId": "1def5feb-6119-4a0e-9b20-f44c12b9a500",
        "colab": {
          "base_uri": "https://localhost:8080/"
        }
      },
      "execution_count": 366,
      "outputs": [
        {
          "output_type": "execute_result",
          "data": {
            "text/plain": [
              "[<a href=\"https://kids.donga.com?ptype=article&amp;no=20220202124700920857&amp;psub=news&amp;gbn=01\">2022 베이징 올림픽의 타임키퍼 ‘오메가’의 기술은?...</a>,\n",
              " <a href=\"https://kids.donga.com?ptype=article&amp;no=20220202123848709079&amp;psub=news&amp;gbn=01\">[뉴스쏙 시사쑥] 영국에서 SNS 사진 ‘보정 유무 표기’ 법안...</a>,\n",
              " <a href=\"https://kids.donga.com?ptype=article&amp;no=20220202123358514117&amp;psub=news&amp;gbn=01\">[뉴스 브리핑] 일본, ‘사도광산’ 세계유산 추천 결정</a>,\n",
              " <a href=\"https://kids.donga.com?ptype=article&amp;no=20220202120934178503&amp;psub=news&amp;gbn=01\">[오늘의 뉴스] 한국 축구, 10회 연속 월드컵 본선 진출 위...</a>,\n",
              " <a href=\"https://kids.donga.com?ptype=article&amp;no=20220202120612605158&amp;psub=news&amp;gbn=01\">[월드 뉴스] 미얀마 쿠데타 1년… 여전히 이어지는 시위</a>,\n",
              " <a href=\"https://kids.donga.com?ptype=article&amp;no=20220202120507717054&amp;psub=news&amp;gbn=01\">[한자뉴스] 하늘을 나는 요트… 약 7465억 원</a>]"
            ]
          },
          "metadata": {},
          "execution_count": 366
        }
      ]
    }
  ],
  "metadata": {
    "colab": {
      "collapsed_sections": [],
      "name": "Colaboratory에 오신 것을 환영합니다",
      "provenance": []
    },
    "kernelspec": {
      "display_name": "Python 3",
      "name": "python3"
    }
  },
  "nbformat": 4,
  "nbformat_minor": 0
}